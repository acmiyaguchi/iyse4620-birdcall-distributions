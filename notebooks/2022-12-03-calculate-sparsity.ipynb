{
 "cells": [
  {
   "cell_type": "code",
   "execution_count": 1,
   "metadata": {},
   "outputs": [],
   "source": [
    "from birdcall_distribution.data import prepare_dataframe\n",
    "import pandas as pd\n",
    "\n",
    "taxonomy_df = pd.read_csv(\n",
    "    \"https://storage.googleapis.com/birdclef-eda-f22/data/raw/birdclef-2022/eBird_Taxonomy_v2021.csv\"\n",
    ")\n",
    "taxonomy_df.columns = taxonomy_df.columns.str.lower()\n",
    "species_mapper = taxonomy_df.set_index(\"species_code\")[\"primary_com_name\"].to_dict()"
   ]
  },
  {
   "cell_type": "code",
   "execution_count": 3,
   "metadata": {},
   "outputs": [
    {
     "data": {
      "text/plain": [
       "(211, 173, (384,), array([0.54947917]))"
      ]
     },
     "execution_count": 3,
     "metadata": {},
     "output_type": "execute_result"
    }
   ],
   "source": [
    "prep_df, _ = prepare_dataframe(\n",
    "    \"../data/ee_v3_western_us_2.parquet\",\n",
    "    \"../data/raw/birdclef-2022/train_metadata.csv\",\n",
    "    n_species=3,\n",
    ")\n",
    "a = prep_df.y.isnull().sum()\n",
    "b = prep_df.y.notnull().sum()\n",
    "c = (prep_df.shape[0],)\n",
    "a, b, c, a / c"
   ]
  },
  {
   "cell_type": "code",
   "execution_count": 4,
   "metadata": {},
   "outputs": [
    {
     "data": {
      "text/plain": [
       "(1178, 358, (1536,), array([0.76692708]))"
      ]
     },
     "execution_count": 4,
     "metadata": {},
     "output_type": "execute_result"
    }
   ],
   "source": [
    "prep_df, _ = prepare_dataframe(\n",
    "    \"../data/ee_v3_western_us_2.parquet\",\n",
    "    \"../data/raw/birdclef-2022/train_metadata.csv\",\n",
    "    n_species=15,\n",
    ")\n",
    "a = prep_df.y.isnull().sum()\n",
    "b = prep_df.y.notnull().sum()\n",
    "c = (prep_df.shape[0],)\n",
    "a, b, c, a / c"
   ]
  },
  {
   "cell_type": "code",
   "execution_count": 5,
   "metadata": {},
   "outputs": [
    {
     "data": {
      "text/plain": [
       "(6661, 635, (7296,), array([0.91296601]))"
      ]
     },
     "execution_count": 5,
     "metadata": {},
     "output_type": "execute_result"
    }
   ],
   "source": [
    "prep_df, _ = prepare_dataframe(\n",
    "    \"../data/ee_v3_western_us_2.parquet\",\n",
    "    \"../data/raw/birdclef-2022/train_metadata.csv\",\n",
    "    n_species=None,\n",
    ")\n",
    "a = prep_df.y.isnull().sum()\n",
    "b = prep_df.y.notnull().sum()\n",
    "c = (prep_df.shape[0],)\n",
    "a, b, c, a / c"
   ]
  }
 ],
 "metadata": {
  "kernelspec": {
   "display_name": "Python 3.10.5 ('.venv': poetry)",
   "language": "python",
   "name": "python3"
  },
  "language_info": {
   "codemirror_mode": {
    "name": "ipython",
    "version": 3
   },
   "file_extension": ".py",
   "mimetype": "text/x-python",
   "name": "python",
   "nbconvert_exporter": "python",
   "pygments_lexer": "ipython3",
   "version": "3.10.5"
  },
  "orig_nbformat": 4,
  "vscode": {
   "interpreter": {
    "hash": "1e3f4cc7afa41f62524600cad2bf1c6f097926341060aea3d2038353a3356c41"
   }
  }
 },
 "nbformat": 4,
 "nbformat_minor": 2
}
