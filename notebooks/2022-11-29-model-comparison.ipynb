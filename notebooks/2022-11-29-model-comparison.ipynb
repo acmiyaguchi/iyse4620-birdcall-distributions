{
 "cells": [
  {
   "cell_type": "code",
   "execution_count": 1,
   "metadata": {},
   "outputs": [],
   "source": [
    "%load_ext autoreload\n",
    "%autoreload 2"
   ]
  },
  {
   "cell_type": "code",
   "execution_count": 2,
   "metadata": {},
   "outputs": [],
   "source": [
    "# ignore imputation warnings from pymc\n",
    "# ImputationWarning: Data in y contains missing values and will be automatically imputed from the sampling distribution.\n",
    "import warnings\n",
    "from pymc import ImputationWarning\n",
    "\n",
    "warnings.filterwarnings(\"ignore\", category=ImputationWarning)\n",
    "warnings.filterwarnings(\"ignore\", category=UserWarning)"
   ]
  },
  {
   "cell_type": "code",
   "execution_count": 3,
   "metadata": {},
   "outputs": [
    {
     "data": {
      "text/html": [
       "<div>\n",
       "<style scoped>\n",
       "    .dataframe tbody tr th:only-of-type {\n",
       "        vertical-align: middle;\n",
       "    }\n",
       "\n",
       "    .dataframe tbody tr th {\n",
       "        vertical-align: top;\n",
       "    }\n",
       "\n",
       "    .dataframe thead th {\n",
       "        text-align: right;\n",
       "    }\n",
       "</style>\n",
       "<table border=\"1\" class=\"dataframe\">\n",
       "  <thead>\n",
       "    <tr style=\"text-align: right;\">\n",
       "      <th></th>\n",
       "      <th>primary_label</th>\n",
       "      <th>grid_id</th>\n",
       "      <th>y</th>\n",
       "      <th>region</th>\n",
       "      <th>grid_size</th>\n",
       "      <th>population_density</th>\n",
       "      <th>elevation_p5</th>\n",
       "      <th>elevation_p50</th>\n",
       "      <th>elevation_p95</th>\n",
       "      <th>LST_Day_1km_p5</th>\n",
       "      <th>...</th>\n",
       "      <th>land_cover_08</th>\n",
       "      <th>land_cover_09</th>\n",
       "      <th>land_cover_10</th>\n",
       "      <th>land_cover_11</th>\n",
       "      <th>land_cover_12</th>\n",
       "      <th>land_cover_13</th>\n",
       "      <th>land_cover_14</th>\n",
       "      <th>land_cover_15</th>\n",
       "      <th>land_cover_16</th>\n",
       "      <th>land_cover_17</th>\n",
       "    </tr>\n",
       "    <tr>\n",
       "      <th>adjacency_idx</th>\n",
       "      <th></th>\n",
       "      <th></th>\n",
       "      <th></th>\n",
       "      <th></th>\n",
       "      <th></th>\n",
       "      <th></th>\n",
       "      <th></th>\n",
       "      <th></th>\n",
       "      <th></th>\n",
       "      <th></th>\n",
       "      <th></th>\n",
       "      <th></th>\n",
       "      <th></th>\n",
       "      <th></th>\n",
       "      <th></th>\n",
       "      <th></th>\n",
       "      <th></th>\n",
       "      <th></th>\n",
       "      <th></th>\n",
       "      <th></th>\n",
       "      <th></th>\n",
       "    </tr>\n",
       "  </thead>\n",
       "  <tbody>\n",
       "    <tr>\n",
       "      <th>0</th>\n",
       "      <td>other</td>\n",
       "      <td>-103_37</td>\n",
       "      <td>9.0</td>\n",
       "      <td>western_us</td>\n",
       "      <td>2</td>\n",
       "      <td>59513.489132</td>\n",
       "      <td>917.473286</td>\n",
       "      <td>1113.467367</td>\n",
       "      <td>1389.580957</td>\n",
       "      <td>25.930530</td>\n",
       "      <td>...</td>\n",
       "      <td>0</td>\n",
       "      <td>0</td>\n",
       "      <td>25124</td>\n",
       "      <td>0</td>\n",
       "      <td>13749</td>\n",
       "      <td>9</td>\n",
       "      <td>0</td>\n",
       "      <td>0</td>\n",
       "      <td>10</td>\n",
       "      <td>10</td>\n",
       "    </tr>\n",
       "    <tr>\n",
       "      <th>0</th>\n",
       "      <td>normoc</td>\n",
       "      <td>-103_37</td>\n",
       "      <td>3.0</td>\n",
       "      <td>western_us</td>\n",
       "      <td>2</td>\n",
       "      <td>59513.489132</td>\n",
       "      <td>917.473286</td>\n",
       "      <td>1113.467367</td>\n",
       "      <td>1389.580957</td>\n",
       "      <td>25.930530</td>\n",
       "      <td>...</td>\n",
       "      <td>0</td>\n",
       "      <td>0</td>\n",
       "      <td>25124</td>\n",
       "      <td>0</td>\n",
       "      <td>13749</td>\n",
       "      <td>9</td>\n",
       "      <td>0</td>\n",
       "      <td>0</td>\n",
       "      <td>10</td>\n",
       "      <td>10</td>\n",
       "    </tr>\n",
       "    <tr>\n",
       "      <th>0</th>\n",
       "      <td>wesmea</td>\n",
       "      <td>-103_37</td>\n",
       "      <td>2.0</td>\n",
       "      <td>western_us</td>\n",
       "      <td>2</td>\n",
       "      <td>59513.489132</td>\n",
       "      <td>917.473286</td>\n",
       "      <td>1113.467367</td>\n",
       "      <td>1389.580957</td>\n",
       "      <td>25.930530</td>\n",
       "      <td>...</td>\n",
       "      <td>0</td>\n",
       "      <td>0</td>\n",
       "      <td>25124</td>\n",
       "      <td>0</td>\n",
       "      <td>13749</td>\n",
       "      <td>9</td>\n",
       "      <td>0</td>\n",
       "      <td>0</td>\n",
       "      <td>10</td>\n",
       "      <td>10</td>\n",
       "    </tr>\n",
       "    <tr>\n",
       "      <th>0</th>\n",
       "      <td>houfin</td>\n",
       "      <td>-103_37</td>\n",
       "      <td>NaN</td>\n",
       "      <td>western_us</td>\n",
       "      <td>2</td>\n",
       "      <td>59513.489132</td>\n",
       "      <td>917.473286</td>\n",
       "      <td>1113.467367</td>\n",
       "      <td>1389.580957</td>\n",
       "      <td>25.930530</td>\n",
       "      <td>...</td>\n",
       "      <td>0</td>\n",
       "      <td>0</td>\n",
       "      <td>25124</td>\n",
       "      <td>0</td>\n",
       "      <td>13749</td>\n",
       "      <td>9</td>\n",
       "      <td>0</td>\n",
       "      <td>0</td>\n",
       "      <td>10</td>\n",
       "      <td>10</td>\n",
       "    </tr>\n",
       "    <tr>\n",
       "      <th>1</th>\n",
       "      <td>normoc</td>\n",
       "      <td>-103_39</td>\n",
       "      <td>NaN</td>\n",
       "      <td>western_us</td>\n",
       "      <td>2</td>\n",
       "      <td>72311.465983</td>\n",
       "      <td>933.400010</td>\n",
       "      <td>1109.527419</td>\n",
       "      <td>1373.500000</td>\n",
       "      <td>23.530828</td>\n",
       "      <td>...</td>\n",
       "      <td>0</td>\n",
       "      <td>0</td>\n",
       "      <td>26593</td>\n",
       "      <td>1</td>\n",
       "      <td>11191</td>\n",
       "      <td>14</td>\n",
       "      <td>0</td>\n",
       "      <td>0</td>\n",
       "      <td>5</td>\n",
       "      <td>5</td>\n",
       "    </tr>\n",
       "  </tbody>\n",
       "</table>\n",
       "<p>5 rows × 32 columns</p>\n",
       "</div>"
      ],
      "text/plain": [
       "              primary_label  grid_id    y      region  grid_size  \\\n",
       "adjacency_idx                                                      \n",
       "0                     other  -103_37  9.0  western_us          2   \n",
       "0                    normoc  -103_37  3.0  western_us          2   \n",
       "0                    wesmea  -103_37  2.0  western_us          2   \n",
       "0                    houfin  -103_37  NaN  western_us          2   \n",
       "1                    normoc  -103_39  NaN  western_us          2   \n",
       "\n",
       "               population_density  elevation_p5  elevation_p50  elevation_p95  \\\n",
       "adjacency_idx                                                                   \n",
       "0                    59513.489132    917.473286    1113.467367    1389.580957   \n",
       "0                    59513.489132    917.473286    1113.467367    1389.580957   \n",
       "0                    59513.489132    917.473286    1113.467367    1389.580957   \n",
       "0                    59513.489132    917.473286    1113.467367    1389.580957   \n",
       "1                    72311.465983    933.400010    1109.527419    1373.500000   \n",
       "\n",
       "               LST_Day_1km_p5  ...  land_cover_08  land_cover_09  \\\n",
       "adjacency_idx                  ...                                 \n",
       "0                   25.930530  ...              0              0   \n",
       "0                   25.930530  ...              0              0   \n",
       "0                   25.930530  ...              0              0   \n",
       "0                   25.930530  ...              0              0   \n",
       "1                   23.530828  ...              0              0   \n",
       "\n",
       "               land_cover_10  land_cover_11  land_cover_12  land_cover_13  \\\n",
       "adjacency_idx                                                               \n",
       "0                      25124              0          13749              9   \n",
       "0                      25124              0          13749              9   \n",
       "0                      25124              0          13749              9   \n",
       "0                      25124              0          13749              9   \n",
       "1                      26593              1          11191             14   \n",
       "\n",
       "               land_cover_14  land_cover_15  land_cover_16  land_cover_17  \n",
       "adjacency_idx                                                              \n",
       "0                          0              0             10             10  \n",
       "0                          0              0             10             10  \n",
       "0                          0              0             10             10  \n",
       "0                          0              0             10             10  \n",
       "1                          0              0              5              5  \n",
       "\n",
       "[5 rows x 32 columns]"
      ]
     },
     "execution_count": 3,
     "metadata": {},
     "output_type": "execute_result"
    }
   ],
   "source": [
    "from birdcall_distribution.data import prepare_dataframe\n",
    "\n",
    "prep_df, W = prepare_dataframe(\n",
    "    \"../data/ee_v3_western_us_2.parquet\",\n",
    "    \"../data/raw/birdclef-2022/train_metadata.csv\",\n",
    "    n_species=3,\n",
    ")\n",
    "prep_df.head()"
   ]
  },
  {
   "cell_type": "code",
   "execution_count": 6,
   "metadata": {},
   "outputs": [
    {
     "name": "stdout",
     "output_type": "stream",
     "text": [
      "varying_intercept_model\n"
     ]
    },
    {
     "data": {
      "image/svg+xml": "<?xml version=\"1.0\" encoding=\"UTF-8\" standalone=\"no\"?>\n<!DOCTYPE svg PUBLIC \"-//W3C//DTD SVG 1.1//EN\"\n \"http://www.w3.org/Graphics/SVG/1.1/DTD/svg11.dtd\">\n<!-- Generated by graphviz version 2.38.0 (20140413.2041)\n -->\n<!-- Title: %3 Pages: 1 -->\n<svg width=\"392pt\" height=\"352pt\"\n viewBox=\"0.00 0.00 392.00 351.91\" xmlns=\"http://www.w3.org/2000/svg\" xmlns:xlink=\"http://www.w3.org/1999/xlink\">\n<g id=\"graph0\" class=\"graph\" transform=\"scale(1 1) rotate(0) translate(4 347.907)\">\n<title>%3</title>\n<polygon fill=\"white\" stroke=\"none\" points=\"-4,4 -4,-347.907 388,-347.907 388,4 -4,4\"/>\n<g id=\"clust1\" class=\"cluster\"><title>clusterobs_idx (384)</title>\n<path fill=\"none\" stroke=\"black\" d=\"M56,-129.953C56,-129.953 248,-129.953 248,-129.953 254,-129.953 260,-135.953 260,-141.953 260,-141.953 260,-312.93 260,-312.93 260,-318.93 254,-324.93 248,-324.93 248,-324.93 56,-324.93 56,-324.93 50,-324.93 44,-318.93 44,-312.93 44,-312.93 44,-141.953 44,-141.953 44,-135.953 50,-129.953 56,-129.953\"/>\n<text text-anchor=\"middle\" x=\"212.5\" y=\"-137.753\" font-family=\"Times New Roman,serif\" font-size=\"14.00\">obs_idx (384)</text>\n</g>\n<g id=\"clust3\" class=\"cluster\"><title>cluster211</title>\n<path fill=\"none\" stroke=\"black\" d=\"M162,-8C162,-8 258,-8 258,-8 264,-8 270,-14 270,-20 270,-20 270,-109.953 270,-109.953 270,-115.953 264,-121.953 258,-121.953 258,-121.953 162,-121.953 162,-121.953 156,-121.953 150,-115.953 150,-109.953 150,-109.953 150,-20 150,-20 150,-14 156,-8 162,-8\"/>\n<text text-anchor=\"middle\" x=\"251.5\" y=\"-15.8\" font-family=\"Times New Roman,serif\" font-size=\"14.00\">211</text>\n</g>\n<g id=\"clust4\" class=\"cluster\"><title>cluster173</title>\n<path fill=\"none\" stroke=\"black\" d=\"M20,-8C20,-8 130,-8 130,-8 136,-8 142,-14 142,-20 142,-20 142,-109.953 142,-109.953 142,-115.953 136,-121.953 130,-121.953 130,-121.953 20,-121.953 20,-121.953 14,-121.953 8,-115.953 8,-109.953 8,-109.953 8,-20 8,-20 8,-14 14,-8 20,-8\"/>\n<text text-anchor=\"middle\" x=\"123.5\" y=\"-15.8\" font-family=\"Times New Roman,serif\" font-size=\"14.00\">173</text>\n</g>\n<g id=\"clust2\" class=\"cluster\"><title>clusterspecies_idx (4)</title>\n<path fill=\"none\" stroke=\"black\" d=\"M280,-221.953C280,-221.953 364,-221.953 364,-221.953 370,-221.953 376,-227.953 376,-233.953 376,-233.953 376,-323.907 376,-323.907 376,-329.907 370,-335.907 364,-335.907 364,-335.907 280,-335.907 280,-335.907 274,-335.907 268,-329.907 268,-323.907 268,-323.907 268,-233.953 268,-233.953 268,-227.953 274,-221.953 280,-221.953\"/>\n<text text-anchor=\"middle\" x=\"325\" y=\"-229.753\" font-family=\"Times New Roman,serif\" font-size=\"14.00\">species_idx (4)</text>\n</g>\n<!-- species_idx -->\n<g id=\"node1\" class=\"node\"><title>species_idx</title>\n<path fill=\"lightgrey\" stroke=\"black\" d=\"M240,-316.93C240,-316.93 172,-316.93 172,-316.93 166,-316.93 160,-310.93 160,-304.93 160,-304.93 160,-275.93 160,-275.93 160,-269.93 166,-263.93 172,-263.93 172,-263.93 240,-263.93 240,-263.93 246,-263.93 252,-269.93 252,-275.93 252,-275.93 252,-304.93 252,-304.93 252,-310.93 246,-316.93 240,-316.93\"/>\n<text text-anchor=\"middle\" x=\"206\" y=\"-301.73\" font-family=\"Times New Roman,serif\" font-size=\"14.00\">species_idx</text>\n<text text-anchor=\"middle\" x=\"206\" y=\"-286.73\" font-family=\"Times New Roman,serif\" font-size=\"14.00\">~</text>\n<text text-anchor=\"middle\" x=\"206\" y=\"-271.73\" font-family=\"Times New Roman,serif\" font-size=\"14.00\">ConstantData</text>\n</g>\n<!-- mu -->\n<g id=\"node3\" class=\"node\"><title>mu</title>\n<polygon fill=\"none\" stroke=\"black\" points=\"251.5,-213.953 162.5,-213.953 162.5,-160.953 251.5,-160.953 251.5,-213.953\"/>\n<text text-anchor=\"middle\" x=\"207\" y=\"-198.753\" font-family=\"Times New Roman,serif\" font-size=\"14.00\">mu</text>\n<text text-anchor=\"middle\" x=\"207\" y=\"-183.753\" font-family=\"Times New Roman,serif\" font-size=\"14.00\">~</text>\n<text text-anchor=\"middle\" x=\"207\" y=\"-168.753\" font-family=\"Times New Roman,serif\" font-size=\"14.00\">Deterministic</text>\n</g>\n<!-- species_idx&#45;&gt;mu -->\n<g id=\"edge1\" class=\"edge\"><title>species_idx&#45;&gt;mu</title>\n<path fill=\"none\" stroke=\"black\" d=\"M206.255,-263.688C206.374,-251.7 206.517,-237.24 206.646,-224.213\"/>\n<polygon fill=\"black\" stroke=\"black\" points=\"210.146,-224.182 206.746,-214.148 203.147,-224.113 210.146,-224.182\"/>\n</g>\n<!-- y -->\n<g id=\"node2\" class=\"node\"><title>y</title>\n<polygon fill=\"none\" stroke=\"black\" points=\"141.5,-316.93 52.5,-316.93 52.5,-263.93 141.5,-263.93 141.5,-316.93\"/>\n<text text-anchor=\"middle\" x=\"97\" y=\"-301.73\" font-family=\"Times New Roman,serif\" font-size=\"14.00\">y</text>\n<text text-anchor=\"middle\" x=\"97\" y=\"-286.73\" font-family=\"Times New Roman,serif\" font-size=\"14.00\">~</text>\n<text text-anchor=\"middle\" x=\"97\" y=\"-271.73\" font-family=\"Times New Roman,serif\" font-size=\"14.00\">Deterministic</text>\n</g>\n<!-- y_missing -->\n<g id=\"node5\" class=\"node\"><title>y_missing</title>\n<ellipse fill=\"none\" stroke=\"black\" cx=\"210\" cy=\"-76.4767\" rx=\"51.7379\" ry=\"37.4533\"/>\n<text text-anchor=\"middle\" x=\"210\" y=\"-87.7767\" font-family=\"Times New Roman,serif\" font-size=\"14.00\">y_missing</text>\n<text text-anchor=\"middle\" x=\"210\" y=\"-72.7767\" font-family=\"Times New Roman,serif\" font-size=\"14.00\">~</text>\n<text text-anchor=\"middle\" x=\"210\" y=\"-57.7767\" font-family=\"Times New Roman,serif\" font-size=\"14.00\">Poisson</text>\n</g>\n<!-- mu&#45;&gt;y_missing -->\n<g id=\"edge3\" class=\"edge\"><title>mu&#45;&gt;y_missing</title>\n<path fill=\"none\" stroke=\"black\" d=\"M207.703,-160.903C208.004,-149.992 208.364,-136.9 208.709,-124.357\"/>\n<polygon fill=\"black\" stroke=\"black\" points=\"212.218,-124.102 208.994,-114.009 205.22,-123.909 212.218,-124.102\"/>\n</g>\n<!-- y_observed -->\n<g id=\"node6\" class=\"node\"><title>y_observed</title>\n<ellipse fill=\"lightgrey\" stroke=\"black\" cx=\"75\" cy=\"-76.4767\" rx=\"58.8803\" ry=\"37.4533\"/>\n<text text-anchor=\"middle\" x=\"75\" y=\"-87.7767\" font-family=\"Times New Roman,serif\" font-size=\"14.00\">y_observed</text>\n<text text-anchor=\"middle\" x=\"75\" y=\"-72.7767\" font-family=\"Times New Roman,serif\" font-size=\"14.00\">~</text>\n<text text-anchor=\"middle\" x=\"75\" y=\"-57.7767\" font-family=\"Times New Roman,serif\" font-size=\"14.00\">Poisson</text>\n</g>\n<!-- mu&#45;&gt;y_observed -->\n<g id=\"edge4\" class=\"edge\"><title>mu&#45;&gt;y_observed</title>\n<path fill=\"none\" stroke=\"black\" d=\"M176.052,-160.903C158.849,-146.701 137.171,-128.804 118.309,-113.231\"/>\n<polygon fill=\"black\" stroke=\"black\" points=\"120.358,-110.385 110.418,-106.717 115.902,-115.783 120.358,-110.385\"/>\n</g>\n<!-- intercept -->\n<g id=\"node4\" class=\"node\"><title>intercept</title>\n<ellipse fill=\"none\" stroke=\"black\" cx=\"322\" cy=\"-290.43\" rx=\"45.9239\" ry=\"37.4533\"/>\n<text text-anchor=\"middle\" x=\"322\" y=\"-301.73\" font-family=\"Times New Roman,serif\" font-size=\"14.00\">intercept</text>\n<text text-anchor=\"middle\" x=\"322\" y=\"-286.73\" font-family=\"Times New Roman,serif\" font-size=\"14.00\">~</text>\n<text text-anchor=\"middle\" x=\"322\" y=\"-271.73\" font-family=\"Times New Roman,serif\" font-size=\"14.00\">Normal</text>\n</g>\n<!-- intercept&#45;&gt;mu -->\n<g id=\"edge2\" class=\"edge\"><title>intercept&#45;&gt;mu</title>\n<path fill=\"none\" stroke=\"black\" d=\"M298.539,-257.893C288.669,-245.826 276.565,-232.453 264,-221.953 262.668,-220.84 261.294,-219.742 259.888,-218.66\"/>\n<polygon fill=\"black\" stroke=\"black\" points=\"261.715,-215.662 251.554,-212.662 257.626,-221.344 261.715,-215.662\"/>\n</g>\n<!-- y_missing&#45;&gt;y -->\n<g id=\"edge5\" class=\"edge\"><title>y_missing&#45;&gt;y</title>\n<path fill=\"none\" stroke=\"black\" d=\"M175.861,-104.589C167.892,-112.151 159.993,-120.818 154,-129.953 128.643,-168.609 112.932,-219.941 104.583,-253.795\"/>\n<polygon fill=\"black\" stroke=\"black\" points=\"101.134,-253.169 102.226,-263.707 107.945,-254.788 101.134,-253.169\"/>\n</g>\n<!-- y_observed&#45;&gt;y -->\n<g id=\"edge6\" class=\"edge\"><title>y_observed&#45;&gt;y</title>\n<path fill=\"none\" stroke=\"black\" d=\"M78.8067,-114.151C82.8654,-153.254 89.2508,-214.772 93.2771,-253.563\"/>\n<polygon fill=\"black\" stroke=\"black\" points=\"89.8325,-254.278 94.3463,-263.863 96.7951,-253.556 89.8325,-254.278\"/>\n</g>\n</g>\n</svg>\n",
      "text/plain": [
       "<graphviz.graphs.Digraph at 0x230c67cd720>"
      ]
     },
     "metadata": {},
     "output_type": "display_data"
    },
    {
     "name": "stdout",
     "output_type": "stream",
     "text": [
      "pooled_intercept_pooled_covariate_model\n"
     ]
    },
    {
     "data": {
      "image/svg+xml": "<?xml version=\"1.0\" encoding=\"UTF-8\" standalone=\"no\"?>\n<!DOCTYPE svg PUBLIC \"-//W3C//DTD SVG 1.1//EN\"\n \"http://www.w3.org/Graphics/SVG/1.1/DTD/svg11.dtd\">\n<!-- Generated by graphviz version 2.38.0 (20140413.2041)\n -->\n<!-- Title: %3 Pages: 1 -->\n<svg width=\"704pt\" height=\"333pt\"\n viewBox=\"0.00 0.00 704.00 332.91\" xmlns=\"http://www.w3.org/2000/svg\" xmlns:xlink=\"http://www.w3.org/1999/xlink\">\n<g id=\"graph0\" class=\"graph\" transform=\"scale(1 1) rotate(0) translate(4 328.907)\">\n<title>%3</title>\n<polygon fill=\"white\" stroke=\"none\" points=\"-4,4 -4,-328.907 700,-328.907 700,4 -4,4\"/>\n<g id=\"clust5\" class=\"cluster\"><title>cluster173</title>\n<path fill=\"none\" stroke=\"black\" d=\"M566,-108C566,-108 676,-108 676,-108 682,-108 688,-114 688,-120 688,-120 688,-209.953 688,-209.953 688,-215.953 682,-221.953 676,-221.953 676,-221.953 566,-221.953 566,-221.953 560,-221.953 554,-215.953 554,-209.953 554,-209.953 554,-120 554,-120 554,-114 560,-108 566,-108\"/>\n<text text-anchor=\"middle\" x=\"669.5\" y=\"-115.8\" font-family=\"Times New Roman,serif\" font-size=\"14.00\">173</text>\n</g>\n<g id=\"clust4\" class=\"cluster\"><title>cluster211</title>\n<path fill=\"none\" stroke=\"black\" d=\"M438,-108C438,-108 534,-108 534,-108 540,-108 546,-114 546,-120 546,-120 546,-209.953 546,-209.953 546,-215.953 540,-221.953 534,-221.953 534,-221.953 438,-221.953 438,-221.953 432,-221.953 426,-215.953 426,-209.953 426,-209.953 426,-120 426,-120 426,-114 432,-108 438,-108\"/>\n<text text-anchor=\"middle\" x=\"527.5\" y=\"-115.8\" font-family=\"Times New Roman,serif\" font-size=\"14.00\">211</text>\n</g>\n<g id=\"clust1\" class=\"cluster\"><title>clusterobs_idx (384) x features_idx (9)</title>\n<path fill=\"none\" stroke=\"black\" d=\"M20,-118.977C20,-118.977 193,-118.977 193,-118.977 199,-118.977 205,-124.977 205,-130.977 205,-130.977 205,-198.977 205,-198.977 205,-204.977 199,-210.977 193,-210.977 193,-210.977 20,-210.977 20,-210.977 14,-210.977 8,-204.977 8,-198.977 8,-198.977 8,-130.977 8,-130.977 8,-124.977 14,-118.977 20,-118.977\"/>\n<text text-anchor=\"middle\" x=\"106.5\" y=\"-126.777\" font-family=\"Times New Roman,serif\" font-size=\"14.00\">obs_idx (384) x features_idx (9)</text>\n</g>\n<g id=\"clust3\" class=\"cluster\"><title>clusterobs_idx (384)</title>\n<path fill=\"none\" stroke=\"black\" d=\"M338,-8C338,-8 527,-8 527,-8 533,-8 539,-14 539,-20 539,-20 539,-88 539,-88 539,-94 533,-100 527,-100 527,-100 338,-100 338,-100 332,-100 326,-94 326,-88 326,-88 326,-20 326,-20 326,-14 332,-8 338,-8\"/>\n<text text-anchor=\"middle\" x=\"491.5\" y=\"-15.8\" font-family=\"Times New Roman,serif\" font-size=\"14.00\">obs_idx (384)</text>\n</g>\n<g id=\"clust2\" class=\"cluster\"><title>clusterfeatures_idx (9)</title>\n<path fill=\"none\" stroke=\"black\" d=\"M326,-108C326,-108 406,-108 406,-108 412,-108 418,-114 418,-120 418,-120 418,-209.953 418,-209.953 418,-215.953 412,-221.953 406,-221.953 406,-221.953 326,-221.953 326,-221.953 320,-221.953 314,-215.953 314,-209.953 314,-209.953 314,-120 314,-120 314,-114 320,-108 326,-108\"/>\n<text text-anchor=\"middle\" x=\"366\" y=\"-115.8\" font-family=\"Times New Roman,serif\" font-size=\"14.00\">features_idx (9)</text>\n</g>\n<!-- X -->\n<g id=\"node1\" class=\"node\"><title>X</title>\n<path fill=\"lightgrey\" stroke=\"black\" d=\"M184,-202.977C184,-202.977 116,-202.977 116,-202.977 110,-202.977 104,-196.977 104,-190.977 104,-190.977 104,-161.977 104,-161.977 104,-155.977 110,-149.977 116,-149.977 116,-149.977 184,-149.977 184,-149.977 190,-149.977 196,-155.977 196,-161.977 196,-161.977 196,-190.977 196,-190.977 196,-196.977 190,-202.977 184,-202.977\"/>\n<text text-anchor=\"middle\" x=\"150\" y=\"-187.777\" font-family=\"Times New Roman,serif\" font-size=\"14.00\">X</text>\n<text text-anchor=\"middle\" x=\"150\" y=\"-172.777\" font-family=\"Times New Roman,serif\" font-size=\"14.00\">~</text>\n<text text-anchor=\"middle\" x=\"150\" y=\"-157.777\" font-family=\"Times New Roman,serif\" font-size=\"14.00\">ConstantData</text>\n</g>\n<!-- mu -->\n<g id=\"node7\" class=\"node\"><title>mu</title>\n<polygon fill=\"none\" stroke=\"black\" points=\"423.5,-92 334.5,-92 334.5,-39 423.5,-39 423.5,-92\"/>\n<text text-anchor=\"middle\" x=\"379\" y=\"-76.8\" font-family=\"Times New Roman,serif\" font-size=\"14.00\">mu</text>\n<text text-anchor=\"middle\" x=\"379\" y=\"-61.8\" font-family=\"Times New Roman,serif\" font-size=\"14.00\">~</text>\n<text text-anchor=\"middle\" x=\"379\" y=\"-46.8\" font-family=\"Times New Roman,serif\" font-size=\"14.00\">Deterministic</text>\n</g>\n<!-- X&#45;&gt;mu -->\n<g id=\"edge3\" class=\"edge\"><title>X&#45;&gt;mu</title>\n<path fill=\"none\" stroke=\"black\" d=\"M164.986,-149.786C174.651,-135.418 188.487,-118.365 205,-108 240.791,-85.5349 287.691,-75.2268 323.781,-70.499\"/>\n<polygon fill=\"black\" stroke=\"black\" points=\"324.62,-73.9235 334.131,-69.2557 323.785,-66.9734 324.62,-73.9235\"/>\n</g>\n<!-- betas_bar -->\n<g id=\"node2\" class=\"node\"><title>betas_bar</title>\n<ellipse fill=\"none\" stroke=\"black\" cx=\"305\" cy=\"-287.43\" rx=\"50.41\" ry=\"37.4533\"/>\n<text text-anchor=\"middle\" x=\"305\" y=\"-298.73\" font-family=\"Times New Roman,serif\" font-size=\"14.00\">betas_bar</text>\n<text text-anchor=\"middle\" x=\"305\" y=\"-283.73\" font-family=\"Times New Roman,serif\" font-size=\"14.00\">~</text>\n<text text-anchor=\"middle\" x=\"305\" y=\"-268.73\" font-family=\"Times New Roman,serif\" font-size=\"14.00\">Normal</text>\n</g>\n<!-- betas -->\n<g id=\"node5\" class=\"node\"><title>betas</title>\n<ellipse fill=\"none\" stroke=\"black\" cx=\"369\" cy=\"-176.477\" rx=\"41.0244\" ry=\"37.4533\"/>\n<text text-anchor=\"middle\" x=\"369\" y=\"-187.777\" font-family=\"Times New Roman,serif\" font-size=\"14.00\">betas</text>\n<text text-anchor=\"middle\" x=\"369\" y=\"-172.777\" font-family=\"Times New Roman,serif\" font-size=\"14.00\">~</text>\n<text text-anchor=\"middle\" x=\"369\" y=\"-157.777\" font-family=\"Times New Roman,serif\" font-size=\"14.00\">Normal</text>\n</g>\n<!-- betas_bar&#45;&gt;betas -->\n<g id=\"edge1\" class=\"edge\"><title>betas_bar&#45;&gt;betas</title>\n<path fill=\"none\" stroke=\"black\" d=\"M324.724,-252.851C331.042,-242.096 338.112,-230.06 344.716,-218.817\"/>\n<polygon fill=\"black\" stroke=\"black\" points=\"347.842,-220.406 349.889,-210.011 341.807,-216.86 347.842,-220.406\"/>\n</g>\n<!-- betas_sigma -->\n<g id=\"node3\" class=\"node\"><title>betas_sigma</title>\n<ellipse fill=\"none\" stroke=\"black\" cx=\"434\" cy=\"-287.43\" rx=\"60.623\" ry=\"37.4533\"/>\n<text text-anchor=\"middle\" x=\"434\" y=\"-298.73\" font-family=\"Times New Roman,serif\" font-size=\"14.00\">betas_sigma</text>\n<text text-anchor=\"middle\" x=\"434\" y=\"-283.73\" font-family=\"Times New Roman,serif\" font-size=\"14.00\">~</text>\n<text text-anchor=\"middle\" x=\"434\" y=\"-268.73\" font-family=\"Times New Roman,serif\" font-size=\"14.00\">Exponential</text>\n</g>\n<!-- betas_sigma&#45;&gt;betas -->\n<g id=\"edge2\" class=\"edge\"><title>betas_sigma&#45;&gt;betas</title>\n<path fill=\"none\" stroke=\"black\" d=\"M413.434,-251.956C407.094,-241.331 400.052,-229.526 393.477,-218.505\"/>\n<polygon fill=\"black\" stroke=\"black\" points=\"396.455,-216.666 388.326,-209.871 390.444,-220.252 396.455,-216.666\"/>\n</g>\n<!-- intercept -->\n<g id=\"node4\" class=\"node\"><title>intercept</title>\n<ellipse fill=\"none\" stroke=\"black\" cx=\"260\" cy=\"-176.477\" rx=\"45.9239\" ry=\"37.4533\"/>\n<text text-anchor=\"middle\" x=\"260\" y=\"-187.777\" font-family=\"Times New Roman,serif\" font-size=\"14.00\">intercept</text>\n<text text-anchor=\"middle\" x=\"260\" y=\"-172.777\" font-family=\"Times New Roman,serif\" font-size=\"14.00\">~</text>\n<text text-anchor=\"middle\" x=\"260\" y=\"-157.777\" font-family=\"Times New Roman,serif\" font-size=\"14.00\">Normal</text>\n</g>\n<!-- intercept&#45;&gt;mu -->\n<g id=\"edge4\" class=\"edge\"><title>intercept&#45;&gt;mu</title>\n<path fill=\"none\" stroke=\"black\" d=\"M280.318,-142.799C288.617,-130.991 298.882,-118.096 310,-108 314.937,-103.517 320.429,-99.2637 326.099,-95.3102\"/>\n<polygon fill=\"black\" stroke=\"black\" points=\"328.094,-98.1872 334.49,-89.7405 324.222,-92.3552 328.094,-98.1872\"/>\n</g>\n<!-- betas&#45;&gt;mu -->\n<g id=\"edge5\" class=\"edge\"><title>betas&#45;&gt;mu</title>\n<path fill=\"none\" stroke=\"black\" d=\"M372.358,-138.886C373.435,-127.145 374.627,-114.157 375.7,-102.462\"/>\n<polygon fill=\"black\" stroke=\"black\" points=\"379.217,-102.436 376.646,-92.1578 372.246,-101.796 379.217,-102.436\"/>\n</g>\n<!-- y -->\n<g id=\"node6\" class=\"node\"><title>y</title>\n<polygon fill=\"none\" stroke=\"black\" points=\"530.5,-92 441.5,-92 441.5,-39 530.5,-39 530.5,-92\"/>\n<text text-anchor=\"middle\" x=\"486\" y=\"-76.8\" font-family=\"Times New Roman,serif\" font-size=\"14.00\">y</text>\n<text text-anchor=\"middle\" x=\"486\" y=\"-61.8\" font-family=\"Times New Roman,serif\" font-size=\"14.00\">~</text>\n<text text-anchor=\"middle\" x=\"486\" y=\"-46.8\" font-family=\"Times New Roman,serif\" font-size=\"14.00\">Deterministic</text>\n</g>\n<!-- y_missing -->\n<g id=\"node8\" class=\"node\"><title>y_missing</title>\n<ellipse fill=\"none\" stroke=\"black\" cx=\"486\" cy=\"-176.477\" rx=\"51.7379\" ry=\"37.4533\"/>\n<text text-anchor=\"middle\" x=\"486\" y=\"-187.777\" font-family=\"Times New Roman,serif\" font-size=\"14.00\">y_missing</text>\n<text text-anchor=\"middle\" x=\"486\" y=\"-172.777\" font-family=\"Times New Roman,serif\" font-size=\"14.00\">~</text>\n<text text-anchor=\"middle\" x=\"486\" y=\"-157.777\" font-family=\"Times New Roman,serif\" font-size=\"14.00\">Poisson</text>\n</g>\n<!-- mu&#45;&gt;y_missing -->\n<g id=\"edge6\" class=\"edge\"><title>mu&#45;&gt;y_missing</title>\n<path fill=\"none\" stroke=\"black\" d=\"M406.016,-92.2203C411.355,-97.4025 416.887,-102.842 422,-108 431.421,-117.503 441.449,-127.925 450.704,-137.674\"/>\n<polygon fill=\"black\" stroke=\"black\" points=\"448.194,-140.113 457.608,-144.973 453.279,-135.303 448.194,-140.113\"/>\n</g>\n<!-- y_observed -->\n<g id=\"node9\" class=\"node\"><title>y_observed</title>\n<ellipse fill=\"lightgrey\" stroke=\"black\" cx=\"621\" cy=\"-176.477\" rx=\"58.8803\" ry=\"37.4533\"/>\n<text text-anchor=\"middle\" x=\"621\" y=\"-187.777\" font-family=\"Times New Roman,serif\" font-size=\"14.00\">y_observed</text>\n<text text-anchor=\"middle\" x=\"621\" y=\"-172.777\" font-family=\"Times New Roman,serif\" font-size=\"14.00\">~</text>\n<text text-anchor=\"middle\" x=\"621\" y=\"-157.777\" font-family=\"Times New Roman,serif\" font-size=\"14.00\">Poisson</text>\n</g>\n<!-- mu&#45;&gt;y_observed -->\n<g id=\"edge7\" class=\"edge\"><title>mu&#45;&gt;y_observed</title>\n<path fill=\"none\" stroke=\"black\" d=\"M415.011,-92.098C420.807,-95.2442 426.91,-98.0372 433,-100 482.609,-115.988 502.284,-87.0274 550,-108 564.167,-114.227 577.233,-124.553 588.191,-135.277\"/>\n<polygon fill=\"black\" stroke=\"black\" points=\"585.948,-137.991 595.429,-142.72 590.967,-133.11 585.948,-137.991\"/>\n</g>\n<!-- y_missing&#45;&gt;y -->\n<g id=\"edge8\" class=\"edge\"><title>y_missing&#45;&gt;y</title>\n<path fill=\"none\" stroke=\"black\" d=\"M486,-138.886C486,-127.145 486,-114.157 486,-102.462\"/>\n<polygon fill=\"black\" stroke=\"black\" points=\"489.5,-102.158 486,-92.1578 482.5,-102.158 489.5,-102.158\"/>\n</g>\n<!-- y_observed&#45;&gt;y -->\n<g id=\"edge9\" class=\"edge\"><title>y_observed&#45;&gt;y</title>\n<path fill=\"none\" stroke=\"black\" d=\"M590.67,-144.281C578.486,-132.392 564.022,-119.055 550,-108 545.71,-104.618 541.141,-101.248 536.494,-97.9751\"/>\n<polygon fill=\"black\" stroke=\"black\" points=\"538.315,-94.9793 528.089,-92.205 534.353,-100.75 538.315,-94.9793\"/>\n</g>\n</g>\n</svg>\n",
      "text/plain": [
       "<graphviz.graphs.Digraph at 0x230c67f45e0>"
      ]
     },
     "metadata": {},
     "output_type": "display_data"
    },
    {
     "name": "stdout",
     "output_type": "stream",
     "text": [
      "pooled_intercept_varying_covariate_model\n"
     ]
    },
    {
     "data": {
      "image/svg+xml": "<?xml version=\"1.0\" encoding=\"UTF-8\" standalone=\"no\"?>\n<!DOCTYPE svg PUBLIC \"-//W3C//DTD SVG 1.1//EN\"\n \"http://www.w3.org/Graphics/SVG/1.1/DTD/svg11.dtd\">\n<!-- Generated by graphviz version 2.38.0 (20140413.2041)\n -->\n<!-- Title: %3 Pages: 1 -->\n<svg width=\"787pt\" height=\"447pt\"\n viewBox=\"0.00 0.00 787.00 446.86\" xmlns=\"http://www.w3.org/2000/svg\" xmlns:xlink=\"http://www.w3.org/1999/xlink\">\n<g id=\"graph0\" class=\"graph\" transform=\"scale(1 1) rotate(0) translate(4 442.86)\">\n<title>%3</title>\n<polygon fill=\"white\" stroke=\"none\" points=\"-4,4 -4,-442.86 783,-442.86 783,4 -4,4\"/>\n<g id=\"clust1\" class=\"cluster\"><title>clusterobs_idx (384)</title>\n<path fill=\"none\" stroke=\"black\" d=\"M538,-129.953C538,-129.953 730,-129.953 730,-129.953 736,-129.953 742,-135.953 742,-141.953 742,-141.953 742,-312.93 742,-312.93 742,-318.93 736,-324.93 730,-324.93 730,-324.93 538,-324.93 538,-324.93 532,-324.93 526,-318.93 526,-312.93 526,-312.93 526,-141.953 526,-141.953 526,-135.953 532,-129.953 538,-129.953\"/>\n<text text-anchor=\"middle\" x=\"694.5\" y=\"-137.753\" font-family=\"Times New Roman,serif\" font-size=\"14.00\">obs_idx (384)</text>\n</g>\n<g id=\"clust5\" class=\"cluster\"><title>cluster173</title>\n<path fill=\"none\" stroke=\"black\" d=\"M521,-8C521,-8 631,-8 631,-8 637,-8 643,-14 643,-20 643,-20 643,-109.953 643,-109.953 643,-115.953 637,-121.953 631,-121.953 631,-121.953 521,-121.953 521,-121.953 515,-121.953 509,-115.953 509,-109.953 509,-109.953 509,-20 509,-20 509,-14 515,-8 521,-8\"/>\n<text text-anchor=\"middle\" x=\"624.5\" y=\"-15.8\" font-family=\"Times New Roman,serif\" font-size=\"14.00\">173</text>\n</g>\n<g id=\"clust4\" class=\"cluster\"><title>cluster211</title>\n<path fill=\"none\" stroke=\"black\" d=\"M663,-8C663,-8 759,-8 759,-8 765,-8 771,-14 771,-20 771,-20 771,-109.953 771,-109.953 771,-115.953 765,-121.953 759,-121.953 759,-121.953 663,-121.953 663,-121.953 657,-121.953 651,-115.953 651,-109.953 651,-109.953 651,-20 651,-20 651,-14 657,-8 663,-8\"/>\n<text text-anchor=\"middle\" x=\"752.5\" y=\"-15.8\" font-family=\"Times New Roman,serif\" font-size=\"14.00\">211</text>\n</g>\n<g id=\"clust2\" class=\"cluster\"><title>clusterobs_idx (384) x features_idx (9)</title>\n<path fill=\"none\" stroke=\"black\" d=\"M20,-232.93C20,-232.93 193,-232.93 193,-232.93 199,-232.93 205,-238.93 205,-244.93 205,-244.93 205,-312.93 205,-312.93 205,-318.93 199,-324.93 193,-324.93 193,-324.93 20,-324.93 20,-324.93 14,-324.93 8,-318.93 8,-312.93 8,-312.93 8,-244.93 8,-244.93 8,-238.93 14,-232.93 20,-232.93\"/>\n<text text-anchor=\"middle\" x=\"106.5\" y=\"-240.73\" font-family=\"Times New Roman,serif\" font-size=\"14.00\">obs_idx (384) x features_idx (9)</text>\n</g>\n<g id=\"clust3\" class=\"cluster\"><title>clusterspecies_idx (4) x features_idx (9)</title>\n<path fill=\"none\" stroke=\"black\" d=\"M326,-221.953C326,-221.953 506,-221.953 506,-221.953 512,-221.953 518,-227.953 518,-233.953 518,-233.953 518,-323.907 518,-323.907 518,-329.907 512,-335.907 506,-335.907 506,-335.907 326,-335.907 326,-335.907 320,-335.907 314,-329.907 314,-323.907 314,-323.907 314,-233.953 314,-233.953 314,-227.953 320,-221.953 326,-221.953\"/>\n<text text-anchor=\"middle\" x=\"416\" y=\"-229.753\" font-family=\"Times New Roman,serif\" font-size=\"14.00\">species_idx (4) x features_idx (9)</text>\n</g>\n<!-- species_idx -->\n<g id=\"node1\" class=\"node\"><title>species_idx</title>\n<path fill=\"lightgrey\" stroke=\"black\" d=\"M614,-316.93C614,-316.93 546,-316.93 546,-316.93 540,-316.93 534,-310.93 534,-304.93 534,-304.93 534,-275.93 534,-275.93 534,-269.93 540,-263.93 546,-263.93 546,-263.93 614,-263.93 614,-263.93 620,-263.93 626,-269.93 626,-275.93 626,-275.93 626,-304.93 626,-304.93 626,-310.93 620,-316.93 614,-316.93\"/>\n<text text-anchor=\"middle\" x=\"580\" y=\"-301.73\" font-family=\"Times New Roman,serif\" font-size=\"14.00\">species_idx</text>\n<text text-anchor=\"middle\" x=\"580\" y=\"-286.73\" font-family=\"Times New Roman,serif\" font-size=\"14.00\">~</text>\n<text text-anchor=\"middle\" x=\"580\" y=\"-271.73\" font-family=\"Times New Roman,serif\" font-size=\"14.00\">ConstantData</text>\n</g>\n<!-- mu -->\n<g id=\"node3\" class=\"node\"><title>mu</title>\n<polygon fill=\"none\" stroke=\"black\" points=\"623.5,-213.953 534.5,-213.953 534.5,-160.953 623.5,-160.953 623.5,-213.953\"/>\n<text text-anchor=\"middle\" x=\"579\" y=\"-198.753\" font-family=\"Times New Roman,serif\" font-size=\"14.00\">mu</text>\n<text text-anchor=\"middle\" x=\"579\" y=\"-183.753\" font-family=\"Times New Roman,serif\" font-size=\"14.00\">~</text>\n<text text-anchor=\"middle\" x=\"579\" y=\"-168.753\" font-family=\"Times New Roman,serif\" font-size=\"14.00\">Deterministic</text>\n</g>\n<!-- species_idx&#45;&gt;mu -->\n<g id=\"edge4\" class=\"edge\"><title>species_idx&#45;&gt;mu</title>\n<path fill=\"none\" stroke=\"black\" d=\"M579.745,-263.688C579.626,-251.7 579.483,-237.24 579.354,-224.213\"/>\n<polygon fill=\"black\" stroke=\"black\" points=\"582.853,-224.113 579.254,-214.148 575.854,-224.182 582.853,-224.113\"/>\n</g>\n<!-- y -->\n<g id=\"node2\" class=\"node\"><title>y</title>\n<polygon fill=\"none\" stroke=\"black\" points=\"733.5,-316.93 644.5,-316.93 644.5,-263.93 733.5,-263.93 733.5,-316.93\"/>\n<text text-anchor=\"middle\" x=\"689\" y=\"-301.73\" font-family=\"Times New Roman,serif\" font-size=\"14.00\">y</text>\n<text text-anchor=\"middle\" x=\"689\" y=\"-286.73\" font-family=\"Times New Roman,serif\" font-size=\"14.00\">~</text>\n<text text-anchor=\"middle\" x=\"689\" y=\"-271.73\" font-family=\"Times New Roman,serif\" font-size=\"14.00\">Deterministic</text>\n</g>\n<!-- y_missing -->\n<g id=\"node9\" class=\"node\"><title>y_missing</title>\n<ellipse fill=\"none\" stroke=\"black\" cx=\"711\" cy=\"-76.4767\" rx=\"51.7379\" ry=\"37.4533\"/>\n<text text-anchor=\"middle\" x=\"711\" y=\"-87.7767\" font-family=\"Times New Roman,serif\" font-size=\"14.00\">y_missing</text>\n<text text-anchor=\"middle\" x=\"711\" y=\"-72.7767\" font-family=\"Times New Roman,serif\" font-size=\"14.00\">~</text>\n<text text-anchor=\"middle\" x=\"711\" y=\"-57.7767\" font-family=\"Times New Roman,serif\" font-size=\"14.00\">Poisson</text>\n</g>\n<!-- mu&#45;&gt;y_missing -->\n<g id=\"edge7\" class=\"edge\"><title>mu&#45;&gt;y_missing</title>\n<path fill=\"none\" stroke=\"black\" d=\"M609.948,-160.903C627.763,-146.195 650.378,-127.525 669.695,-111.577\"/>\n<polygon fill=\"black\" stroke=\"black\" points=\"671.988,-114.223 677.471,-105.158 667.531,-108.825 671.988,-114.223\"/>\n</g>\n<!-- y_observed -->\n<g id=\"node10\" class=\"node\"><title>y_observed</title>\n<ellipse fill=\"lightgrey\" stroke=\"black\" cx=\"576\" cy=\"-76.4767\" rx=\"58.8803\" ry=\"37.4533\"/>\n<text text-anchor=\"middle\" x=\"576\" y=\"-87.7767\" font-family=\"Times New Roman,serif\" font-size=\"14.00\">y_observed</text>\n<text text-anchor=\"middle\" x=\"576\" y=\"-72.7767\" font-family=\"Times New Roman,serif\" font-size=\"14.00\">~</text>\n<text text-anchor=\"middle\" x=\"576\" y=\"-57.7767\" font-family=\"Times New Roman,serif\" font-size=\"14.00\">Poisson</text>\n</g>\n<!-- mu&#45;&gt;y_observed -->\n<g id=\"edge8\" class=\"edge\"><title>mu&#45;&gt;y_observed</title>\n<path fill=\"none\" stroke=\"black\" d=\"M578.297,-160.903C577.996,-149.992 577.636,-136.9 577.291,-124.357\"/>\n<polygon fill=\"black\" stroke=\"black\" points=\"580.78,-123.909 577.006,-114.009 573.782,-124.102 580.78,-123.909\"/>\n</g>\n<!-- X -->\n<g id=\"node4\" class=\"node\"><title>X</title>\n<path fill=\"lightgrey\" stroke=\"black\" d=\"M184,-316.93C184,-316.93 116,-316.93 116,-316.93 110,-316.93 104,-310.93 104,-304.93 104,-304.93 104,-275.93 104,-275.93 104,-269.93 110,-263.93 116,-263.93 116,-263.93 184,-263.93 184,-263.93 190,-263.93 196,-269.93 196,-275.93 196,-275.93 196,-304.93 196,-304.93 196,-310.93 190,-316.93 184,-316.93\"/>\n<text text-anchor=\"middle\" x=\"150\" y=\"-301.73\" font-family=\"Times New Roman,serif\" font-size=\"14.00\">X</text>\n<text text-anchor=\"middle\" x=\"150\" y=\"-286.73\" font-family=\"Times New Roman,serif\" font-size=\"14.00\">~</text>\n<text text-anchor=\"middle\" x=\"150\" y=\"-271.73\" font-family=\"Times New Roman,serif\" font-size=\"14.00\">ConstantData</text>\n</g>\n<!-- X&#45;&gt;mu -->\n<g id=\"edge3\" class=\"edge\"><title>X&#45;&gt;mu</title>\n<path fill=\"none\" stroke=\"black\" d=\"M163.81,-263.858C173.308,-248.957 187.38,-231.309 205,-221.953 258.916,-193.325 434.109,-188.655 524.277,-188.21\"/>\n<polygon fill=\"black\" stroke=\"black\" points=\"524.324,-191.71 534.312,-188.177 524.3,-184.711 524.324,-191.71\"/>\n</g>\n<!-- betas_bar -->\n<g id=\"node5\" class=\"node\"><title>betas_bar</title>\n<ellipse fill=\"none\" stroke=\"black\" cx=\"405\" cy=\"-401.383\" rx=\"50.41\" ry=\"37.4533\"/>\n<text text-anchor=\"middle\" x=\"405\" y=\"-412.683\" font-family=\"Times New Roman,serif\" font-size=\"14.00\">betas_bar</text>\n<text text-anchor=\"middle\" x=\"405\" y=\"-397.683\" font-family=\"Times New Roman,serif\" font-size=\"14.00\">~</text>\n<text text-anchor=\"middle\" x=\"405\" y=\"-382.683\" font-family=\"Times New Roman,serif\" font-size=\"14.00\">Normal</text>\n</g>\n<!-- betas -->\n<g id=\"node8\" class=\"node\"><title>betas</title>\n<ellipse fill=\"none\" stroke=\"black\" cx=\"469\" cy=\"-290.43\" rx=\"41.0244\" ry=\"37.4533\"/>\n<text text-anchor=\"middle\" x=\"469\" y=\"-301.73\" font-family=\"Times New Roman,serif\" font-size=\"14.00\">betas</text>\n<text text-anchor=\"middle\" x=\"469\" y=\"-286.73\" font-family=\"Times New Roman,serif\" font-size=\"14.00\">~</text>\n<text text-anchor=\"middle\" x=\"469\" y=\"-271.73\" font-family=\"Times New Roman,serif\" font-size=\"14.00\">Normal</text>\n</g>\n<!-- betas_bar&#45;&gt;betas -->\n<g id=\"edge1\" class=\"edge\"><title>betas_bar&#45;&gt;betas</title>\n<path fill=\"none\" stroke=\"black\" d=\"M424.724,-366.805C431.042,-356.049 438.112,-344.013 444.716,-332.77\"/>\n<polygon fill=\"black\" stroke=\"black\" points=\"447.842,-334.359 449.889,-323.964 441.807,-330.814 447.842,-334.359\"/>\n</g>\n<!-- betas_sigma -->\n<g id=\"node6\" class=\"node\"><title>betas_sigma</title>\n<ellipse fill=\"none\" stroke=\"black\" cx=\"534\" cy=\"-401.383\" rx=\"60.623\" ry=\"37.4533\"/>\n<text text-anchor=\"middle\" x=\"534\" y=\"-412.683\" font-family=\"Times New Roman,serif\" font-size=\"14.00\">betas_sigma</text>\n<text text-anchor=\"middle\" x=\"534\" y=\"-397.683\" font-family=\"Times New Roman,serif\" font-size=\"14.00\">~</text>\n<text text-anchor=\"middle\" x=\"534\" y=\"-382.683\" font-family=\"Times New Roman,serif\" font-size=\"14.00\">Exponential</text>\n</g>\n<!-- betas_sigma&#45;&gt;betas -->\n<g id=\"edge2\" class=\"edge\"><title>betas_sigma&#45;&gt;betas</title>\n<path fill=\"none\" stroke=\"black\" d=\"M513.434,-365.91C507.094,-355.284 500.052,-343.479 493.477,-332.458\"/>\n<polygon fill=\"black\" stroke=\"black\" points=\"496.455,-330.619 488.326,-323.825 490.444,-334.206 496.455,-330.619\"/>\n</g>\n<!-- intercept -->\n<g id=\"node7\" class=\"node\"><title>intercept</title>\n<ellipse fill=\"none\" stroke=\"black\" cx=\"260\" cy=\"-290.43\" rx=\"45.9239\" ry=\"37.4533\"/>\n<text text-anchor=\"middle\" x=\"260\" y=\"-301.73\" font-family=\"Times New Roman,serif\" font-size=\"14.00\">intercept</text>\n<text text-anchor=\"middle\" x=\"260\" y=\"-286.73\" font-family=\"Times New Roman,serif\" font-size=\"14.00\">~</text>\n<text text-anchor=\"middle\" x=\"260\" y=\"-271.73\" font-family=\"Times New Roman,serif\" font-size=\"14.00\">Normal</text>\n</g>\n<!-- intercept&#45;&gt;mu -->\n<g id=\"edge5\" class=\"edge\"><title>intercept&#45;&gt;mu</title>\n<path fill=\"none\" stroke=\"black\" d=\"M277.405,-255.458C285.582,-242.898 296.527,-229.82 310,-221.953 345.275,-201.357 456.396,-193.289 524.284,-190.23\"/>\n<polygon fill=\"black\" stroke=\"black\" points=\"524.54,-193.722 534.381,-189.797 524.241,-186.729 524.54,-193.722\"/>\n</g>\n<!-- betas&#45;&gt;mu -->\n<g id=\"edge6\" class=\"edge\"><title>betas&#45;&gt;mu</title>\n<path fill=\"none\" stroke=\"black\" d=\"M490.018,-257.78C498.979,-245.698 510.11,-232.343 522,-221.953 523.307,-220.811 524.659,-219.687 526.046,-218.582\"/>\n<polygon fill=\"black\" stroke=\"black\" points=\"528.333,-221.244 534.297,-212.487 524.174,-215.614 528.333,-221.244\"/>\n</g>\n<!-- y_missing&#45;&gt;y -->\n<g id=\"edge9\" class=\"edge\"><title>y_missing&#45;&gt;y</title>\n<path fill=\"none\" stroke=\"black\" d=\"M707.193,-114.151C703.135,-153.254 696.749,-214.772 692.723,-253.563\"/>\n<polygon fill=\"black\" stroke=\"black\" points=\"689.205,-253.556 691.654,-263.863 696.168,-254.278 689.205,-253.556\"/>\n</g>\n<!-- y_observed&#45;&gt;y -->\n<g id=\"edge10\" class=\"edge\"><title>y_observed&#45;&gt;y</title>\n<path fill=\"none\" stroke=\"black\" d=\"M611.886,-106.267C619.254,-113.422 626.446,-121.486 632,-129.953 657.357,-168.609 673.068,-219.941 681.417,-253.795\"/>\n<polygon fill=\"black\" stroke=\"black\" points=\"678.055,-254.788 683.774,-263.707 684.866,-253.169 678.055,-254.788\"/>\n</g>\n</g>\n</svg>\n",
      "text/plain": [
       "<graphviz.graphs.Digraph at 0x230c67ea110>"
      ]
     },
     "metadata": {},
     "output_type": "display_data"
    },
    {
     "name": "stdout",
     "output_type": "stream",
     "text": [
      "varying_intercept_pooled_covariate_model\n"
     ]
    },
    {
     "data": {
      "image/svg+xml": "<?xml version=\"1.0\" encoding=\"UTF-8\" standalone=\"no\"?>\n<!DOCTYPE svg PUBLIC \"-//W3C//DTD SVG 1.1//EN\"\n \"http://www.w3.org/Graphics/SVG/1.1/DTD/svg11.dtd\">\n<!-- Generated by graphviz version 2.38.0 (20140413.2041)\n -->\n<!-- Title: %3 Pages: 1 -->\n<svg width=\"714pt\" height=\"447pt\"\n viewBox=\"0.00 0.00 714.00 446.86\" xmlns=\"http://www.w3.org/2000/svg\" xmlns:xlink=\"http://www.w3.org/1999/xlink\">\n<g id=\"graph0\" class=\"graph\" transform=\"scale(1 1) rotate(0) translate(4 442.86)\">\n<title>%3</title>\n<polygon fill=\"white\" stroke=\"none\" points=\"-4,4 -4,-442.86 710,-442.86 710,4 -4,4\"/>\n<g id=\"clust1\" class=\"cluster\"><title>clusterobs_idx (384)</title>\n<path fill=\"none\" stroke=\"black\" d=\"M465,-129.953C465,-129.953 657,-129.953 657,-129.953 663,-129.953 669,-135.953 669,-141.953 669,-141.953 669,-312.93 669,-312.93 669,-318.93 663,-324.93 657,-324.93 657,-324.93 465,-324.93 465,-324.93 459,-324.93 453,-318.93 453,-312.93 453,-312.93 453,-141.953 453,-141.953 453,-135.953 459,-129.953 465,-129.953\"/>\n<text text-anchor=\"middle\" x=\"621.5\" y=\"-137.753\" font-family=\"Times New Roman,serif\" font-size=\"14.00\">obs_idx (384)</text>\n</g>\n<g id=\"clust5\" class=\"cluster\"><title>cluster211</title>\n<path fill=\"none\" stroke=\"black\" d=\"M590,-8C590,-8 686,-8 686,-8 692,-8 698,-14 698,-20 698,-20 698,-109.953 698,-109.953 698,-115.953 692,-121.953 686,-121.953 686,-121.953 590,-121.953 590,-121.953 584,-121.953 578,-115.953 578,-109.953 578,-109.953 578,-20 578,-20 578,-14 584,-8 590,-8\"/>\n<text text-anchor=\"middle\" x=\"679.5\" y=\"-15.8\" font-family=\"Times New Roman,serif\" font-size=\"14.00\">211</text>\n</g>\n<g id=\"clust6\" class=\"cluster\"><title>cluster173</title>\n<path fill=\"none\" stroke=\"black\" d=\"M448,-8C448,-8 558,-8 558,-8 564,-8 570,-14 570,-20 570,-20 570,-109.953 570,-109.953 570,-115.953 564,-121.953 558,-121.953 558,-121.953 448,-121.953 448,-121.953 442,-121.953 436,-115.953 436,-109.953 436,-109.953 436,-20 436,-20 436,-14 442,-8 448,-8\"/>\n<text text-anchor=\"middle\" x=\"551.5\" y=\"-15.8\" font-family=\"Times New Roman,serif\" font-size=\"14.00\">173</text>\n</g>\n<g id=\"clust2\" class=\"cluster\"><title>clusterobs_idx (384) x features_idx (9)</title>\n<path fill=\"none\" stroke=\"black\" d=\"M20,-232.93C20,-232.93 193,-232.93 193,-232.93 199,-232.93 205,-238.93 205,-244.93 205,-244.93 205,-312.93 205,-312.93 205,-318.93 199,-324.93 193,-324.93 193,-324.93 20,-324.93 20,-324.93 14,-324.93 8,-318.93 8,-312.93 8,-312.93 8,-244.93 8,-244.93 8,-238.93 14,-232.93 20,-232.93\"/>\n<text text-anchor=\"middle\" x=\"106.5\" y=\"-240.73\" font-family=\"Times New Roman,serif\" font-size=\"14.00\">obs_idx (384) x features_idx (9)</text>\n</g>\n<g id=\"clust4\" class=\"cluster\"><title>clusterfeatures_idx (9)</title>\n<path fill=\"none\" stroke=\"black\" d=\"M353,-221.953C353,-221.953 433,-221.953 433,-221.953 439,-221.953 445,-227.953 445,-233.953 445,-233.953 445,-323.907 445,-323.907 445,-329.907 439,-335.907 433,-335.907 433,-335.907 353,-335.907 353,-335.907 347,-335.907 341,-329.907 341,-323.907 341,-323.907 341,-233.953 341,-233.953 341,-227.953 347,-221.953 353,-221.953\"/>\n<text text-anchor=\"middle\" x=\"393\" y=\"-229.753\" font-family=\"Times New Roman,serif\" font-size=\"14.00\">features_idx (9)</text>\n</g>\n<g id=\"clust3\" class=\"cluster\"><title>clusterspecies_idx (4)</title>\n<path fill=\"none\" stroke=\"black\" d=\"M225,-221.953C225,-221.953 309,-221.953 309,-221.953 315,-221.953 321,-227.953 321,-233.953 321,-233.953 321,-323.907 321,-323.907 321,-329.907 315,-335.907 309,-335.907 309,-335.907 225,-335.907 225,-335.907 219,-335.907 213,-329.907 213,-323.907 213,-323.907 213,-233.953 213,-233.953 213,-227.953 219,-221.953 225,-221.953\"/>\n<text text-anchor=\"middle\" x=\"270\" y=\"-229.753\" font-family=\"Times New Roman,serif\" font-size=\"14.00\">species_idx (4)</text>\n</g>\n<!-- species_idx -->\n<g id=\"node1\" class=\"node\"><title>species_idx</title>\n<path fill=\"lightgrey\" stroke=\"black\" d=\"M541,-316.93C541,-316.93 473,-316.93 473,-316.93 467,-316.93 461,-310.93 461,-304.93 461,-304.93 461,-275.93 461,-275.93 461,-269.93 467,-263.93 473,-263.93 473,-263.93 541,-263.93 541,-263.93 547,-263.93 553,-269.93 553,-275.93 553,-275.93 553,-304.93 553,-304.93 553,-310.93 547,-316.93 541,-316.93\"/>\n<text text-anchor=\"middle\" x=\"507\" y=\"-301.73\" font-family=\"Times New Roman,serif\" font-size=\"14.00\">species_idx</text>\n<text text-anchor=\"middle\" x=\"507\" y=\"-286.73\" font-family=\"Times New Roman,serif\" font-size=\"14.00\">~</text>\n<text text-anchor=\"middle\" x=\"507\" y=\"-271.73\" font-family=\"Times New Roman,serif\" font-size=\"14.00\">ConstantData</text>\n</g>\n<!-- mu -->\n<g id=\"node3\" class=\"node\"><title>mu</title>\n<polygon fill=\"none\" stroke=\"black\" points=\"550.5,-213.953 461.5,-213.953 461.5,-160.953 550.5,-160.953 550.5,-213.953\"/>\n<text text-anchor=\"middle\" x=\"506\" y=\"-198.753\" font-family=\"Times New Roman,serif\" font-size=\"14.00\">mu</text>\n<text text-anchor=\"middle\" x=\"506\" y=\"-183.753\" font-family=\"Times New Roman,serif\" font-size=\"14.00\">~</text>\n<text text-anchor=\"middle\" x=\"506\" y=\"-168.753\" font-family=\"Times New Roman,serif\" font-size=\"14.00\">Deterministic</text>\n</g>\n<!-- species_idx&#45;&gt;mu -->\n<g id=\"edge6\" class=\"edge\"><title>species_idx&#45;&gt;mu</title>\n<path fill=\"none\" stroke=\"black\" d=\"M506.745,-263.688C506.626,-251.7 506.483,-237.24 506.354,-224.213\"/>\n<polygon fill=\"black\" stroke=\"black\" points=\"509.853,-224.113 506.254,-214.148 502.854,-224.182 509.853,-224.113\"/>\n</g>\n<!-- y -->\n<g id=\"node2\" class=\"node\"><title>y</title>\n<polygon fill=\"none\" stroke=\"black\" points=\"660.5,-316.93 571.5,-316.93 571.5,-263.93 660.5,-263.93 660.5,-316.93\"/>\n<text text-anchor=\"middle\" x=\"616\" y=\"-301.73\" font-family=\"Times New Roman,serif\" font-size=\"14.00\">y</text>\n<text text-anchor=\"middle\" x=\"616\" y=\"-286.73\" font-family=\"Times New Roman,serif\" font-size=\"14.00\">~</text>\n<text text-anchor=\"middle\" x=\"616\" y=\"-271.73\" font-family=\"Times New Roman,serif\" font-size=\"14.00\">Deterministic</text>\n</g>\n<!-- y_missing -->\n<g id=\"node11\" class=\"node\"><title>y_missing</title>\n<ellipse fill=\"none\" stroke=\"black\" cx=\"638\" cy=\"-76.4767\" rx=\"51.7379\" ry=\"37.4533\"/>\n<text text-anchor=\"middle\" x=\"638\" y=\"-87.7767\" font-family=\"Times New Roman,serif\" font-size=\"14.00\">y_missing</text>\n<text text-anchor=\"middle\" x=\"638\" y=\"-72.7767\" font-family=\"Times New Roman,serif\" font-size=\"14.00\">~</text>\n<text text-anchor=\"middle\" x=\"638\" y=\"-57.7767\" font-family=\"Times New Roman,serif\" font-size=\"14.00\">Poisson</text>\n</g>\n<!-- mu&#45;&gt;y_missing -->\n<g id=\"edge9\" class=\"edge\"><title>mu&#45;&gt;y_missing</title>\n<path fill=\"none\" stroke=\"black\" d=\"M536.948,-160.903C554.763,-146.195 577.378,-127.525 596.695,-111.577\"/>\n<polygon fill=\"black\" stroke=\"black\" points=\"598.988,-114.223 604.471,-105.158 594.531,-108.825 598.988,-114.223\"/>\n</g>\n<!-- y_observed -->\n<g id=\"node12\" class=\"node\"><title>y_observed</title>\n<ellipse fill=\"lightgrey\" stroke=\"black\" cx=\"503\" cy=\"-76.4767\" rx=\"58.8803\" ry=\"37.4533\"/>\n<text text-anchor=\"middle\" x=\"503\" y=\"-87.7767\" font-family=\"Times New Roman,serif\" font-size=\"14.00\">y_observed</text>\n<text text-anchor=\"middle\" x=\"503\" y=\"-72.7767\" font-family=\"Times New Roman,serif\" font-size=\"14.00\">~</text>\n<text text-anchor=\"middle\" x=\"503\" y=\"-57.7767\" font-family=\"Times New Roman,serif\" font-size=\"14.00\">Poisson</text>\n</g>\n<!-- mu&#45;&gt;y_observed -->\n<g id=\"edge10\" class=\"edge\"><title>mu&#45;&gt;y_observed</title>\n<path fill=\"none\" stroke=\"black\" d=\"M505.297,-160.903C504.996,-149.992 504.636,-136.9 504.291,-124.357\"/>\n<polygon fill=\"black\" stroke=\"black\" points=\"507.78,-123.909 504.006,-114.009 500.782,-124.102 507.78,-123.909\"/>\n</g>\n<!-- X -->\n<g id=\"node4\" class=\"node\"><title>X</title>\n<path fill=\"lightgrey\" stroke=\"black\" d=\"M185,-316.93C185,-316.93 117,-316.93 117,-316.93 111,-316.93 105,-310.93 105,-304.93 105,-304.93 105,-275.93 105,-275.93 105,-269.93 111,-263.93 117,-263.93 117,-263.93 185,-263.93 185,-263.93 191,-263.93 197,-269.93 197,-275.93 197,-275.93 197,-304.93 197,-304.93 197,-310.93 191,-316.93 185,-316.93\"/>\n<text text-anchor=\"middle\" x=\"151\" y=\"-301.73\" font-family=\"Times New Roman,serif\" font-size=\"14.00\">X</text>\n<text text-anchor=\"middle\" x=\"151\" y=\"-286.73\" font-family=\"Times New Roman,serif\" font-size=\"14.00\">~</text>\n<text text-anchor=\"middle\" x=\"151\" y=\"-271.73\" font-family=\"Times New Roman,serif\" font-size=\"14.00\">ConstantData</text>\n</g>\n<!-- X&#45;&gt;mu -->\n<g id=\"edge5\" class=\"edge\"><title>X&#45;&gt;mu</title>\n<path fill=\"none\" stroke=\"black\" d=\"M166.186,-263.645C176.344,-248.863 191.112,-231.415 209,-221.953 249.796,-200.374 377.296,-192.609 451.31,-189.88\"/>\n<polygon fill=\"black\" stroke=\"black\" points=\"451.512,-193.375 461.384,-189.527 451.267,-186.379 451.512,-193.375\"/>\n</g>\n<!-- intercept_bar -->\n<g id=\"node5\" class=\"node\"><title>intercept_bar</title>\n<ellipse fill=\"none\" stroke=\"black\" cx=\"106\" cy=\"-401.383\" rx=\"63.7795\" ry=\"37.4533\"/>\n<text text-anchor=\"middle\" x=\"106\" y=\"-412.683\" font-family=\"Times New Roman,serif\" font-size=\"14.00\">intercept_bar</text>\n<text text-anchor=\"middle\" x=\"106\" y=\"-397.683\" font-family=\"Times New Roman,serif\" font-size=\"14.00\">~</text>\n<text text-anchor=\"middle\" x=\"106\" y=\"-382.683\" font-family=\"Times New Roman,serif\" font-size=\"14.00\">Normal</text>\n</g>\n<!-- intercept -->\n<g id=\"node9\" class=\"node\"><title>intercept</title>\n<ellipse fill=\"none\" stroke=\"black\" cx=\"267\" cy=\"-290.43\" rx=\"45.9239\" ry=\"37.4533\"/>\n<text text-anchor=\"middle\" x=\"267\" y=\"-301.73\" font-family=\"Times New Roman,serif\" font-size=\"14.00\">intercept</text>\n<text text-anchor=\"middle\" x=\"267\" y=\"-286.73\" font-family=\"Times New Roman,serif\" font-size=\"14.00\">~</text>\n<text text-anchor=\"middle\" x=\"267\" y=\"-271.73\" font-family=\"Times New Roman,serif\" font-size=\"14.00\">Normal</text>\n</g>\n<!-- intercept_bar&#45;&gt;intercept -->\n<g id=\"edge1\" class=\"edge\"><title>intercept_bar&#45;&gt;intercept</title>\n<path fill=\"none\" stroke=\"black\" d=\"M149.943,-374.146C168.435,-362.779 190.023,-349.079 209,-335.907 214.673,-331.969 220.555,-327.695 226.301,-323.407\"/>\n<polygon fill=\"black\" stroke=\"black\" points=\"228.714,-325.971 234.582,-317.15 224.494,-320.386 228.714,-325.971\"/>\n</g>\n<!-- betas_bar -->\n<g id=\"node6\" class=\"node\"><title>betas_bar</title>\n<ellipse fill=\"none\" stroke=\"black\" cx=\"403\" cy=\"-401.383\" rx=\"50.41\" ry=\"37.4533\"/>\n<text text-anchor=\"middle\" x=\"403\" y=\"-412.683\" font-family=\"Times New Roman,serif\" font-size=\"14.00\">betas_bar</text>\n<text text-anchor=\"middle\" x=\"403\" y=\"-397.683\" font-family=\"Times New Roman,serif\" font-size=\"14.00\">~</text>\n<text text-anchor=\"middle\" x=\"403\" y=\"-382.683\" font-family=\"Times New Roman,serif\" font-size=\"14.00\">Normal</text>\n</g>\n<!-- betas -->\n<g id=\"node10\" class=\"node\"><title>betas</title>\n<ellipse fill=\"none\" stroke=\"black\" cx=\"396\" cy=\"-290.43\" rx=\"41.0244\" ry=\"37.4533\"/>\n<text text-anchor=\"middle\" x=\"396\" y=\"-301.73\" font-family=\"Times New Roman,serif\" font-size=\"14.00\">betas</text>\n<text text-anchor=\"middle\" x=\"396\" y=\"-286.73\" font-family=\"Times New Roman,serif\" font-size=\"14.00\">~</text>\n<text text-anchor=\"middle\" x=\"396\" y=\"-271.73\" font-family=\"Times New Roman,serif\" font-size=\"14.00\">Normal</text>\n</g>\n<!-- betas_bar&#45;&gt;betas -->\n<g id=\"edge3\" class=\"edge\"><title>betas_bar&#45;&gt;betas</title>\n<path fill=\"none\" stroke=\"black\" d=\"M400.65,-363.8C400.124,-355.626 399.56,-346.846 399.013,-338.319\"/>\n<polygon fill=\"black\" stroke=\"black\" points=\"402.49,-337.857 398.356,-328.102 395.505,-338.306 402.49,-337.857\"/>\n</g>\n<!-- betas_sigma -->\n<g id=\"node7\" class=\"node\"><title>betas_sigma</title>\n<ellipse fill=\"none\" stroke=\"black\" cx=\"532\" cy=\"-401.383\" rx=\"60.623\" ry=\"37.4533\"/>\n<text text-anchor=\"middle\" x=\"532\" y=\"-412.683\" font-family=\"Times New Roman,serif\" font-size=\"14.00\">betas_sigma</text>\n<text text-anchor=\"middle\" x=\"532\" y=\"-397.683\" font-family=\"Times New Roman,serif\" font-size=\"14.00\">~</text>\n<text text-anchor=\"middle\" x=\"532\" y=\"-382.683\" font-family=\"Times New Roman,serif\" font-size=\"14.00\">Exponential</text>\n</g>\n<!-- betas_sigma&#45;&gt;betas -->\n<g id=\"edge4\" class=\"edge\"><title>betas_sigma&#45;&gt;betas</title>\n<path fill=\"none\" stroke=\"black\" d=\"M494.579,-371.793C480.23,-360.705 463.764,-347.829 449,-335.907 443.971,-331.846 438.714,-327.527 433.548,-323.238\"/>\n<polygon fill=\"black\" stroke=\"black\" points=\"435.47,-320.283 425.55,-316.564 430.985,-325.658 435.47,-320.283\"/>\n</g>\n<!-- intercept_sigma -->\n<g id=\"node8\" class=\"node\"><title>intercept_sigma</title>\n<ellipse fill=\"none\" stroke=\"black\" cx=\"261\" cy=\"-401.383\" rx=\"73.5782\" ry=\"37.4533\"/>\n<text text-anchor=\"middle\" x=\"261\" y=\"-412.683\" font-family=\"Times New Roman,serif\" font-size=\"14.00\">intercept_sigma</text>\n<text text-anchor=\"middle\" x=\"261\" y=\"-397.683\" font-family=\"Times New Roman,serif\" font-size=\"14.00\">~</text>\n<text text-anchor=\"middle\" x=\"261\" y=\"-382.683\" font-family=\"Times New Roman,serif\" font-size=\"14.00\">Exponential</text>\n</g>\n<!-- intercept_sigma&#45;&gt;intercept -->\n<g id=\"edge2\" class=\"edge\"><title>intercept_sigma&#45;&gt;intercept</title>\n<path fill=\"none\" stroke=\"black\" d=\"M263.015,-363.8C263.465,-355.626 263.948,-346.846 264.418,-338.319\"/>\n<polygon fill=\"black\" stroke=\"black\" points=\"267.925,-338.279 264.98,-328.102 260.936,-337.894 267.925,-338.279\"/>\n</g>\n<!-- intercept&#45;&gt;mu -->\n<g id=\"edge7\" class=\"edge\"><title>intercept&#45;&gt;mu</title>\n<path fill=\"none\" stroke=\"black\" d=\"M291.655,-258.749C303.921,-245.47 319.794,-230.941 337,-221.953 372.319,-203.504 416.645,-195.185 451.038,-191.448\"/>\n<polygon fill=\"black\" stroke=\"black\" points=\"451.764,-194.894 461.372,-190.429 451.077,-187.927 451.764,-194.894\"/>\n</g>\n<!-- betas&#45;&gt;mu -->\n<g id=\"edge8\" class=\"edge\"><title>betas&#45;&gt;mu</title>\n<path fill=\"none\" stroke=\"black\" d=\"M417.018,-257.78C425.979,-245.698 437.11,-232.343 449,-221.953 450.307,-220.811 451.659,-219.687 453.046,-218.582\"/>\n<polygon fill=\"black\" stroke=\"black\" points=\"455.333,-221.244 461.297,-212.487 451.174,-215.614 455.333,-221.244\"/>\n</g>\n<!-- y_missing&#45;&gt;y -->\n<g id=\"edge11\" class=\"edge\"><title>y_missing&#45;&gt;y</title>\n<path fill=\"none\" stroke=\"black\" d=\"M634.193,-114.151C630.135,-153.254 623.749,-214.772 619.723,-253.563\"/>\n<polygon fill=\"black\" stroke=\"black\" points=\"616.205,-253.556 618.654,-263.863 623.168,-254.278 616.205,-253.556\"/>\n</g>\n<!-- y_observed&#45;&gt;y -->\n<g id=\"edge12\" class=\"edge\"><title>y_observed&#45;&gt;y</title>\n<path fill=\"none\" stroke=\"black\" d=\"M538.886,-106.267C546.254,-113.422 553.446,-121.486 559,-129.953 584.357,-168.609 600.068,-219.941 608.417,-253.795\"/>\n<polygon fill=\"black\" stroke=\"black\" points=\"605.055,-254.788 610.774,-263.707 611.866,-253.169 605.055,-254.788\"/>\n</g>\n</g>\n</svg>\n",
      "text/plain": [
       "<graphviz.graphs.Digraph at 0x230c65ed000>"
      ]
     },
     "metadata": {},
     "output_type": "display_data"
    },
    {
     "name": "stdout",
     "output_type": "stream",
     "text": [
      "varying_intercept_varying_covariate_model\n"
     ]
    },
    {
     "data": {
      "image/svg+xml": "<?xml version=\"1.0\" encoding=\"UTF-8\" standalone=\"no\"?>\n<!DOCTYPE svg PUBLIC \"-//W3C//DTD SVG 1.1//EN\"\n \"http://www.w3.org/Graphics/SVG/1.1/DTD/svg11.dtd\">\n<!-- Generated by graphviz version 2.38.0 (20140413.2041)\n -->\n<!-- Title: %3 Pages: 1 -->\n<svg width=\"802pt\" height=\"447pt\"\n viewBox=\"0.00 0.00 802.00 446.86\" xmlns=\"http://www.w3.org/2000/svg\" xmlns:xlink=\"http://www.w3.org/1999/xlink\">\n<g id=\"graph0\" class=\"graph\" transform=\"scale(1 1) rotate(0) translate(4 442.86)\">\n<title>%3</title>\n<polygon fill=\"white\" stroke=\"none\" points=\"-4,4 -4,-442.86 798,-442.86 798,4 -4,4\"/>\n<g id=\"clust1\" class=\"cluster\"><title>clusterobs_idx (384)</title>\n<path fill=\"none\" stroke=\"black\" d=\"M553,-129.953C553,-129.953 745,-129.953 745,-129.953 751,-129.953 757,-135.953 757,-141.953 757,-141.953 757,-312.93 757,-312.93 757,-318.93 751,-324.93 745,-324.93 745,-324.93 553,-324.93 553,-324.93 547,-324.93 541,-318.93 541,-312.93 541,-312.93 541,-141.953 541,-141.953 541,-135.953 547,-129.953 553,-129.953\"/>\n<text text-anchor=\"middle\" x=\"709.5\" y=\"-137.753\" font-family=\"Times New Roman,serif\" font-size=\"14.00\">obs_idx (384)</text>\n</g>\n<g id=\"clust5\" class=\"cluster\"><title>cluster211</title>\n<path fill=\"none\" stroke=\"black\" d=\"M678,-8C678,-8 774,-8 774,-8 780,-8 786,-14 786,-20 786,-20 786,-109.953 786,-109.953 786,-115.953 780,-121.953 774,-121.953 774,-121.953 678,-121.953 678,-121.953 672,-121.953 666,-115.953 666,-109.953 666,-109.953 666,-20 666,-20 666,-14 672,-8 678,-8\"/>\n<text text-anchor=\"middle\" x=\"767.5\" y=\"-15.8\" font-family=\"Times New Roman,serif\" font-size=\"14.00\">211</text>\n</g>\n<g id=\"clust6\" class=\"cluster\"><title>cluster173</title>\n<path fill=\"none\" stroke=\"black\" d=\"M536,-8C536,-8 646,-8 646,-8 652,-8 658,-14 658,-20 658,-20 658,-109.953 658,-109.953 658,-115.953 652,-121.953 646,-121.953 646,-121.953 536,-121.953 536,-121.953 530,-121.953 524,-115.953 524,-109.953 524,-109.953 524,-20 524,-20 524,-14 530,-8 536,-8\"/>\n<text text-anchor=\"middle\" x=\"639.5\" y=\"-15.8\" font-family=\"Times New Roman,serif\" font-size=\"14.00\">173</text>\n</g>\n<g id=\"clust2\" class=\"cluster\"><title>clusterobs_idx (384) x features_idx (9)</title>\n<path fill=\"none\" stroke=\"black\" d=\"M20,-232.93C20,-232.93 193,-232.93 193,-232.93 199,-232.93 205,-238.93 205,-244.93 205,-244.93 205,-312.93 205,-312.93 205,-318.93 199,-324.93 193,-324.93 193,-324.93 20,-324.93 20,-324.93 14,-324.93 8,-318.93 8,-312.93 8,-312.93 8,-244.93 8,-244.93 8,-238.93 14,-232.93 20,-232.93\"/>\n<text text-anchor=\"middle\" x=\"106.5\" y=\"-240.73\" font-family=\"Times New Roman,serif\" font-size=\"14.00\">obs_idx (384) x features_idx (9)</text>\n</g>\n<g id=\"clust3\" class=\"cluster\"><title>clusterspecies_idx (4)</title>\n<path fill=\"none\" stroke=\"black\" d=\"M225,-221.953C225,-221.953 309,-221.953 309,-221.953 315,-221.953 321,-227.953 321,-233.953 321,-233.953 321,-323.907 321,-323.907 321,-329.907 315,-335.907 309,-335.907 309,-335.907 225,-335.907 225,-335.907 219,-335.907 213,-329.907 213,-323.907 213,-323.907 213,-233.953 213,-233.953 213,-227.953 219,-221.953 225,-221.953\"/>\n<text text-anchor=\"middle\" x=\"270\" y=\"-229.753\" font-family=\"Times New Roman,serif\" font-size=\"14.00\">species_idx (4)</text>\n</g>\n<g id=\"clust4\" class=\"cluster\"><title>clusterspecies_idx (4) x features_idx (9)</title>\n<path fill=\"none\" stroke=\"black\" d=\"M341,-221.953C341,-221.953 521,-221.953 521,-221.953 527,-221.953 533,-227.953 533,-233.953 533,-233.953 533,-323.907 533,-323.907 533,-329.907 527,-335.907 521,-335.907 521,-335.907 341,-335.907 341,-335.907 335,-335.907 329,-329.907 329,-323.907 329,-323.907 329,-233.953 329,-233.953 329,-227.953 335,-221.953 341,-221.953\"/>\n<text text-anchor=\"middle\" x=\"431\" y=\"-229.753\" font-family=\"Times New Roman,serif\" font-size=\"14.00\">species_idx (4) x features_idx (9)</text>\n</g>\n<!-- species_idx -->\n<g id=\"node1\" class=\"node\"><title>species_idx</title>\n<path fill=\"lightgrey\" stroke=\"black\" d=\"M629,-316.93C629,-316.93 561,-316.93 561,-316.93 555,-316.93 549,-310.93 549,-304.93 549,-304.93 549,-275.93 549,-275.93 549,-269.93 555,-263.93 561,-263.93 561,-263.93 629,-263.93 629,-263.93 635,-263.93 641,-269.93 641,-275.93 641,-275.93 641,-304.93 641,-304.93 641,-310.93 635,-316.93 629,-316.93\"/>\n<text text-anchor=\"middle\" x=\"595\" y=\"-301.73\" font-family=\"Times New Roman,serif\" font-size=\"14.00\">species_idx</text>\n<text text-anchor=\"middle\" x=\"595\" y=\"-286.73\" font-family=\"Times New Roman,serif\" font-size=\"14.00\">~</text>\n<text text-anchor=\"middle\" x=\"595\" y=\"-271.73\" font-family=\"Times New Roman,serif\" font-size=\"14.00\">ConstantData</text>\n</g>\n<!-- mu -->\n<g id=\"node3\" class=\"node\"><title>mu</title>\n<polygon fill=\"none\" stroke=\"black\" points=\"638.5,-213.953 549.5,-213.953 549.5,-160.953 638.5,-160.953 638.5,-213.953\"/>\n<text text-anchor=\"middle\" x=\"594\" y=\"-198.753\" font-family=\"Times New Roman,serif\" font-size=\"14.00\">mu</text>\n<text text-anchor=\"middle\" x=\"594\" y=\"-183.753\" font-family=\"Times New Roman,serif\" font-size=\"14.00\">~</text>\n<text text-anchor=\"middle\" x=\"594\" y=\"-168.753\" font-family=\"Times New Roman,serif\" font-size=\"14.00\">Deterministic</text>\n</g>\n<!-- species_idx&#45;&gt;mu -->\n<g id=\"edge6\" class=\"edge\"><title>species_idx&#45;&gt;mu</title>\n<path fill=\"none\" stroke=\"black\" d=\"M594.745,-263.688C594.626,-251.7 594.483,-237.24 594.354,-224.213\"/>\n<polygon fill=\"black\" stroke=\"black\" points=\"597.853,-224.113 594.254,-214.148 590.854,-224.182 597.853,-224.113\"/>\n</g>\n<!-- y -->\n<g id=\"node2\" class=\"node\"><title>y</title>\n<polygon fill=\"none\" stroke=\"black\" points=\"748.5,-316.93 659.5,-316.93 659.5,-263.93 748.5,-263.93 748.5,-316.93\"/>\n<text text-anchor=\"middle\" x=\"704\" y=\"-301.73\" font-family=\"Times New Roman,serif\" font-size=\"14.00\">y</text>\n<text text-anchor=\"middle\" x=\"704\" y=\"-286.73\" font-family=\"Times New Roman,serif\" font-size=\"14.00\">~</text>\n<text text-anchor=\"middle\" x=\"704\" y=\"-271.73\" font-family=\"Times New Roman,serif\" font-size=\"14.00\">Deterministic</text>\n</g>\n<!-- y_missing -->\n<g id=\"node11\" class=\"node\"><title>y_missing</title>\n<ellipse fill=\"none\" stroke=\"black\" cx=\"726\" cy=\"-76.4767\" rx=\"51.7379\" ry=\"37.4533\"/>\n<text text-anchor=\"middle\" x=\"726\" y=\"-87.7767\" font-family=\"Times New Roman,serif\" font-size=\"14.00\">y_missing</text>\n<text text-anchor=\"middle\" x=\"726\" y=\"-72.7767\" font-family=\"Times New Roman,serif\" font-size=\"14.00\">~</text>\n<text text-anchor=\"middle\" x=\"726\" y=\"-57.7767\" font-family=\"Times New Roman,serif\" font-size=\"14.00\">Poisson</text>\n</g>\n<!-- mu&#45;&gt;y_missing -->\n<g id=\"edge9\" class=\"edge\"><title>mu&#45;&gt;y_missing</title>\n<path fill=\"none\" stroke=\"black\" d=\"M624.948,-160.903C642.763,-146.195 665.378,-127.525 684.695,-111.577\"/>\n<polygon fill=\"black\" stroke=\"black\" points=\"686.988,-114.223 692.471,-105.158 682.531,-108.825 686.988,-114.223\"/>\n</g>\n<!-- y_observed -->\n<g id=\"node12\" class=\"node\"><title>y_observed</title>\n<ellipse fill=\"lightgrey\" stroke=\"black\" cx=\"591\" cy=\"-76.4767\" rx=\"58.8803\" ry=\"37.4533\"/>\n<text text-anchor=\"middle\" x=\"591\" y=\"-87.7767\" font-family=\"Times New Roman,serif\" font-size=\"14.00\">y_observed</text>\n<text text-anchor=\"middle\" x=\"591\" y=\"-72.7767\" font-family=\"Times New Roman,serif\" font-size=\"14.00\">~</text>\n<text text-anchor=\"middle\" x=\"591\" y=\"-57.7767\" font-family=\"Times New Roman,serif\" font-size=\"14.00\">Poisson</text>\n</g>\n<!-- mu&#45;&gt;y_observed -->\n<g id=\"edge10\" class=\"edge\"><title>mu&#45;&gt;y_observed</title>\n<path fill=\"none\" stroke=\"black\" d=\"M593.297,-160.903C592.996,-149.992 592.636,-136.9 592.291,-124.357\"/>\n<polygon fill=\"black\" stroke=\"black\" points=\"595.78,-123.909 592.006,-114.009 588.782,-124.102 595.78,-123.909\"/>\n</g>\n<!-- X -->\n<g id=\"node4\" class=\"node\"><title>X</title>\n<path fill=\"lightgrey\" stroke=\"black\" d=\"M185,-316.93C185,-316.93 117,-316.93 117,-316.93 111,-316.93 105,-310.93 105,-304.93 105,-304.93 105,-275.93 105,-275.93 105,-269.93 111,-263.93 117,-263.93 117,-263.93 185,-263.93 185,-263.93 191,-263.93 197,-269.93 197,-275.93 197,-275.93 197,-304.93 197,-304.93 197,-310.93 191,-316.93 185,-316.93\"/>\n<text text-anchor=\"middle\" x=\"151\" y=\"-301.73\" font-family=\"Times New Roman,serif\" font-size=\"14.00\">X</text>\n<text text-anchor=\"middle\" x=\"151\" y=\"-286.73\" font-family=\"Times New Roman,serif\" font-size=\"14.00\">~</text>\n<text text-anchor=\"middle\" x=\"151\" y=\"-271.73\" font-family=\"Times New Roman,serif\" font-size=\"14.00\">ConstantData</text>\n</g>\n<!-- X&#45;&gt;mu -->\n<g id=\"edge5\" class=\"edge\"><title>X&#45;&gt;mu</title>\n<path fill=\"none\" stroke=\"black\" d=\"M165.87,-263.821C176.002,-248.906 190.855,-231.257 209,-221.953 265.193,-193.141 446.92,-188.588 539.178,-188.196\"/>\n<polygon fill=\"black\" stroke=\"black\" points=\"539.443,-191.696 549.434,-188.168 539.424,-184.696 539.443,-191.696\"/>\n</g>\n<!-- intercept_bar -->\n<g id=\"node5\" class=\"node\"><title>intercept_bar</title>\n<ellipse fill=\"none\" stroke=\"black\" cx=\"131\" cy=\"-401.383\" rx=\"63.7795\" ry=\"37.4533\"/>\n<text text-anchor=\"middle\" x=\"131\" y=\"-412.683\" font-family=\"Times New Roman,serif\" font-size=\"14.00\">intercept_bar</text>\n<text text-anchor=\"middle\" x=\"131\" y=\"-397.683\" font-family=\"Times New Roman,serif\" font-size=\"14.00\">~</text>\n<text text-anchor=\"middle\" x=\"131\" y=\"-382.683\" font-family=\"Times New Roman,serif\" font-size=\"14.00\">Normal</text>\n</g>\n<!-- intercept -->\n<g id=\"node9\" class=\"node\"><title>intercept</title>\n<ellipse fill=\"none\" stroke=\"black\" cx=\"267\" cy=\"-290.43\" rx=\"45.9239\" ry=\"37.4533\"/>\n<text text-anchor=\"middle\" x=\"267\" y=\"-301.73\" font-family=\"Times New Roman,serif\" font-size=\"14.00\">intercept</text>\n<text text-anchor=\"middle\" x=\"267\" y=\"-286.73\" font-family=\"Times New Roman,serif\" font-size=\"14.00\">~</text>\n<text text-anchor=\"middle\" x=\"267\" y=\"-271.73\" font-family=\"Times New Roman,serif\" font-size=\"14.00\">Normal</text>\n</g>\n<!-- intercept_bar&#45;&gt;intercept -->\n<g id=\"edge1\" class=\"edge\"><title>intercept_bar&#45;&gt;intercept</title>\n<path fill=\"none\" stroke=\"black\" d=\"M168.163,-370.611C186.168,-356.187 207.832,-338.831 226.284,-324.049\"/>\n<polygon fill=\"black\" stroke=\"black\" points=\"228.895,-326.442 234.511,-317.458 224.518,-320.979 228.895,-326.442\"/>\n</g>\n<!-- betas_bar -->\n<g id=\"node6\" class=\"node\"><title>betas_bar</title>\n<ellipse fill=\"none\" stroke=\"black\" cx=\"447\" cy=\"-401.383\" rx=\"50.41\" ry=\"37.4533\"/>\n<text text-anchor=\"middle\" x=\"447\" y=\"-412.683\" font-family=\"Times New Roman,serif\" font-size=\"14.00\">betas_bar</text>\n<text text-anchor=\"middle\" x=\"447\" y=\"-397.683\" font-family=\"Times New Roman,serif\" font-size=\"14.00\">~</text>\n<text text-anchor=\"middle\" x=\"447\" y=\"-382.683\" font-family=\"Times New Roman,serif\" font-size=\"14.00\">Normal</text>\n</g>\n<!-- betas -->\n<g id=\"node10\" class=\"node\"><title>betas</title>\n<ellipse fill=\"none\" stroke=\"black\" cx=\"484\" cy=\"-290.43\" rx=\"41.0244\" ry=\"37.4533\"/>\n<text text-anchor=\"middle\" x=\"484\" y=\"-301.73\" font-family=\"Times New Roman,serif\" font-size=\"14.00\">betas</text>\n<text text-anchor=\"middle\" x=\"484\" y=\"-286.73\" font-family=\"Times New Roman,serif\" font-size=\"14.00\">~</text>\n<text text-anchor=\"middle\" x=\"484\" y=\"-271.73\" font-family=\"Times New Roman,serif\" font-size=\"14.00\">Normal</text>\n</g>\n<!-- betas_bar&#45;&gt;betas -->\n<g id=\"edge3\" class=\"edge\"><title>betas_bar&#45;&gt;betas</title>\n<path fill=\"none\" stroke=\"black\" d=\"M459.115,-364.708C462.212,-355.588 465.582,-345.666 468.812,-336.155\"/>\n<polygon fill=\"black\" stroke=\"black\" points=\"472.208,-337.037 472.11,-326.442 465.58,-334.786 472.208,-337.037\"/>\n</g>\n<!-- betas_sigma -->\n<g id=\"node7\" class=\"node\"><title>betas_sigma</title>\n<ellipse fill=\"none\" stroke=\"black\" cx=\"576\" cy=\"-401.383\" rx=\"60.623\" ry=\"37.4533\"/>\n<text text-anchor=\"middle\" x=\"576\" y=\"-412.683\" font-family=\"Times New Roman,serif\" font-size=\"14.00\">betas_sigma</text>\n<text text-anchor=\"middle\" x=\"576\" y=\"-397.683\" font-family=\"Times New Roman,serif\" font-size=\"14.00\">~</text>\n<text text-anchor=\"middle\" x=\"576\" y=\"-382.683\" font-family=\"Times New Roman,serif\" font-size=\"14.00\">Exponential</text>\n</g>\n<!-- betas_sigma&#45;&gt;betas -->\n<g id=\"edge4\" class=\"edge\"><title>betas_sigma&#45;&gt;betas</title>\n<path fill=\"none\" stroke=\"black\" d=\"M548.397,-367.694C537.965,-355.34 526.022,-341.196 515.277,-328.471\"/>\n<polygon fill=\"black\" stroke=\"black\" points=\"517.892,-326.142 508.766,-320.76 512.543,-330.658 517.892,-326.142\"/>\n</g>\n<!-- intercept_sigma -->\n<g id=\"node8\" class=\"node\"><title>intercept_sigma</title>\n<ellipse fill=\"none\" stroke=\"black\" cx=\"286\" cy=\"-401.383\" rx=\"73.5782\" ry=\"37.4533\"/>\n<text text-anchor=\"middle\" x=\"286\" y=\"-412.683\" font-family=\"Times New Roman,serif\" font-size=\"14.00\">intercept_sigma</text>\n<text text-anchor=\"middle\" x=\"286\" y=\"-397.683\" font-family=\"Times New Roman,serif\" font-size=\"14.00\">~</text>\n<text text-anchor=\"middle\" x=\"286\" y=\"-382.683\" font-family=\"Times New Roman,serif\" font-size=\"14.00\">Exponential</text>\n</g>\n<!-- intercept_sigma&#45;&gt;intercept -->\n<g id=\"edge2\" class=\"edge\"><title>intercept_sigma&#45;&gt;intercept</title>\n<path fill=\"none\" stroke=\"black\" d=\"M279.62,-363.8C278.164,-355.447 276.597,-346.462 275.079,-337.761\"/>\n<polygon fill=\"black\" stroke=\"black\" points=\"278.496,-336.981 273.33,-327.731 271.6,-338.184 278.496,-336.981\"/>\n</g>\n<!-- intercept&#45;&gt;mu -->\n<g id=\"edge7\" class=\"edge\"><title>intercept&#45;&gt;mu</title>\n<path fill=\"none\" stroke=\"black\" d=\"M287.466,-256.459C297.211,-243.573 310.026,-229.985 325,-221.953 360.947,-202.672 471.557,-194.142 539.23,-190.645\"/>\n<polygon fill=\"black\" stroke=\"black\" points=\"539.483,-194.137 549.297,-190.145 539.136,-187.145 539.483,-194.137\"/>\n</g>\n<!-- betas&#45;&gt;mu -->\n<g id=\"edge8\" class=\"edge\"><title>betas&#45;&gt;mu</title>\n<path fill=\"none\" stroke=\"black\" d=\"M505.018,-257.78C513.979,-245.698 525.11,-232.343 537,-221.953 538.307,-220.811 539.659,-219.687 541.046,-218.582\"/>\n<polygon fill=\"black\" stroke=\"black\" points=\"543.333,-221.244 549.297,-212.487 539.174,-215.614 543.333,-221.244\"/>\n</g>\n<!-- y_missing&#45;&gt;y -->\n<g id=\"edge11\" class=\"edge\"><title>y_missing&#45;&gt;y</title>\n<path fill=\"none\" stroke=\"black\" d=\"M722.193,-114.151C718.135,-153.254 711.749,-214.772 707.723,-253.563\"/>\n<polygon fill=\"black\" stroke=\"black\" points=\"704.205,-253.556 706.654,-263.863 711.168,-254.278 704.205,-253.556\"/>\n</g>\n<!-- y_observed&#45;&gt;y -->\n<g id=\"edge12\" class=\"edge\"><title>y_observed&#45;&gt;y</title>\n<path fill=\"none\" stroke=\"black\" d=\"M626.886,-106.267C634.254,-113.422 641.446,-121.486 647,-129.953 672.357,-168.609 688.068,-219.941 696.417,-253.795\"/>\n<polygon fill=\"black\" stroke=\"black\" points=\"693.055,-254.788 698.774,-263.707 699.866,-253.169 693.055,-254.788\"/>\n</g>\n</g>\n</svg>\n",
      "text/plain": [
       "<graphviz.graphs.Digraph at 0x230c6937d00>"
      ]
     },
     "metadata": {},
     "output_type": "display_data"
    },
    {
     "name": "stdout",
     "output_type": "stream",
     "text": [
      "varying_intercept_car_model\n"
     ]
    },
    {
     "data": {
      "image/svg+xml": "<?xml version=\"1.0\" encoding=\"UTF-8\" standalone=\"no\"?>\n<!DOCTYPE svg PUBLIC \"-//W3C//DTD SVG 1.1//EN\"\n \"http://www.w3.org/Graphics/SVG/1.1/DTD/svg11.dtd\">\n<!-- Generated by graphviz version 2.38.0 (20140413.2041)\n -->\n<!-- Title: %3 Pages: 1 -->\n<svg width=\"674pt\" height=\"447pt\"\n viewBox=\"0.00 0.00 673.53 446.86\" xmlns=\"http://www.w3.org/2000/svg\" xmlns:xlink=\"http://www.w3.org/1999/xlink\">\n<g id=\"graph0\" class=\"graph\" transform=\"scale(1 1) rotate(0) translate(4 442.86)\">\n<title>%3</title>\n<polygon fill=\"white\" stroke=\"none\" points=\"-4,4 -4,-442.86 669.527,-442.86 669.527,4 -4,4\"/>\n<g id=\"clust1\" class=\"cluster\"><title>clusterobs_idx (384)</title>\n<path fill=\"none\" stroke=\"black\" d=\"M343.527,-129.953C343.527,-129.953 645.527,-129.953 645.527,-129.953 651.527,-129.953 657.527,-135.953 657.527,-141.953 657.527,-141.953 657.527,-312.93 657.527,-312.93 657.527,-318.93 651.527,-324.93 645.527,-324.93 645.527,-324.93 343.527,-324.93 343.527,-324.93 337.527,-324.93 331.527,-318.93 331.527,-312.93 331.527,-312.93 331.527,-141.953 331.527,-141.953 331.527,-135.953 337.527,-129.953 343.527,-129.953\"/>\n<text text-anchor=\"middle\" x=\"610.027\" y=\"-137.753\" font-family=\"Times New Roman,serif\" font-size=\"14.00\">obs_idx (384)</text>\n</g>\n<g id=\"clust4\" class=\"cluster\"><title>cluster211</title>\n<path fill=\"none\" stroke=\"black\" d=\"M380.527,-8C380.527,-8 476.527,-8 476.527,-8 482.527,-8 488.527,-14 488.527,-20 488.527,-20 488.527,-109.953 488.527,-109.953 488.527,-115.953 482.527,-121.953 476.527,-121.953 476.527,-121.953 380.527,-121.953 380.527,-121.953 374.527,-121.953 368.527,-115.953 368.527,-109.953 368.527,-109.953 368.527,-20 368.527,-20 368.527,-14 374.527,-8 380.527,-8\"/>\n<text text-anchor=\"middle\" x=\"470.027\" y=\"-15.8\" font-family=\"Times New Roman,serif\" font-size=\"14.00\">211</text>\n</g>\n<g id=\"clust5\" class=\"cluster\"><title>cluster173</title>\n<path fill=\"none\" stroke=\"black\" d=\"M525.527,-8C525.527,-8 635.527,-8 635.527,-8 641.527,-8 647.527,-14 647.527,-20 647.527,-20 647.527,-109.953 647.527,-109.953 647.527,-115.953 641.527,-121.953 635.527,-121.953 635.527,-121.953 525.527,-121.953 525.527,-121.953 519.527,-121.953 513.527,-115.953 513.527,-109.953 513.527,-109.953 513.527,-20 513.527,-20 513.527,-14 519.527,-8 525.527,-8\"/>\n<text text-anchor=\"middle\" x=\"629.027\" y=\"-15.8\" font-family=\"Times New Roman,serif\" font-size=\"14.00\">173</text>\n</g>\n<g id=\"clust2\" class=\"cluster\"><title>clusteradj_idx (96)</title>\n<path fill=\"none\" stroke=\"black\" d=\"M105.527,-221.953C105.527,-221.953 165.527,-221.953 165.527,-221.953 171.527,-221.953 177.527,-227.953 177.527,-233.953 177.527,-233.953 177.527,-323.907 177.527,-323.907 177.527,-329.907 171.527,-335.907 165.527,-335.907 165.527,-335.907 105.527,-335.907 105.527,-335.907 99.5269,-335.907 93.5269,-329.907 93.5269,-323.907 93.5269,-323.907 93.5269,-233.953 93.5269,-233.953 93.5269,-227.953 99.5269,-221.953 105.527,-221.953\"/>\n<text text-anchor=\"middle\" x=\"135.527\" y=\"-229.753\" font-family=\"Times New Roman,serif\" font-size=\"14.00\">adj_idx (96)</text>\n</g>\n<g id=\"clust3\" class=\"cluster\"><title>clusterspecies_idx (4)</title>\n<path fill=\"none\" stroke=\"black\" d=\"M227.527,-221.953C227.527,-221.953 311.527,-221.953 311.527,-221.953 317.527,-221.953 323.527,-227.953 323.527,-233.953 323.527,-233.953 323.527,-323.907 323.527,-323.907 323.527,-329.907 317.527,-335.907 311.527,-335.907 311.527,-335.907 227.527,-335.907 227.527,-335.907 221.527,-335.907 215.527,-329.907 215.527,-323.907 215.527,-323.907 215.527,-233.953 215.527,-233.953 215.527,-227.953 221.527,-221.953 227.527,-221.953\"/>\n<text text-anchor=\"middle\" x=\"272.527\" y=\"-229.753\" font-family=\"Times New Roman,serif\" font-size=\"14.00\">species_idx (4)</text>\n</g>\n<!-- adj_idx -->\n<g id=\"node1\" class=\"node\"><title>adj_idx</title>\n<path fill=\"lightgrey\" stroke=\"black\" d=\"M529.527,-316.93C529.527,-316.93 461.527,-316.93 461.527,-316.93 455.527,-316.93 449.527,-310.93 449.527,-304.93 449.527,-304.93 449.527,-275.93 449.527,-275.93 449.527,-269.93 455.527,-263.93 461.527,-263.93 461.527,-263.93 529.527,-263.93 529.527,-263.93 535.527,-263.93 541.527,-269.93 541.527,-275.93 541.527,-275.93 541.527,-304.93 541.527,-304.93 541.527,-310.93 535.527,-316.93 529.527,-316.93\"/>\n<text text-anchor=\"middle\" x=\"495.527\" y=\"-301.73\" font-family=\"Times New Roman,serif\" font-size=\"14.00\">adj_idx</text>\n<text text-anchor=\"middle\" x=\"495.527\" y=\"-286.73\" font-family=\"Times New Roman,serif\" font-size=\"14.00\">~</text>\n<text text-anchor=\"middle\" x=\"495.527\" y=\"-271.73\" font-family=\"Times New Roman,serif\" font-size=\"14.00\">ConstantData</text>\n</g>\n<!-- mu -->\n<g id=\"node4\" class=\"node\"><title>mu</title>\n<polygon fill=\"none\" stroke=\"black\" points=\"465.027,-213.953 376.027,-213.953 376.027,-160.953 465.027,-160.953 465.027,-213.953\"/>\n<text text-anchor=\"middle\" x=\"420.527\" y=\"-198.753\" font-family=\"Times New Roman,serif\" font-size=\"14.00\">mu</text>\n<text text-anchor=\"middle\" x=\"420.527\" y=\"-183.753\" font-family=\"Times New Roman,serif\" font-size=\"14.00\">~</text>\n<text text-anchor=\"middle\" x=\"420.527\" y=\"-168.753\" font-family=\"Times New Roman,serif\" font-size=\"14.00\">Deterministic</text>\n</g>\n<!-- adj_idx&#45;&gt;mu -->\n<g id=\"edge6\" class=\"edge\"><title>adj_idx&#45;&gt;mu</title>\n<path fill=\"none\" stroke=\"black\" d=\"M476.407,-263.688C467.063,-251.107 455.695,-235.802 445.659,-222.29\"/>\n<polygon fill=\"black\" stroke=\"black\" points=\"448.384,-220.089 439.612,-214.148 442.765,-224.263 448.384,-220.089\"/>\n</g>\n<!-- species_idx -->\n<g id=\"node2\" class=\"node\"><title>species_idx</title>\n<path fill=\"lightgrey\" stroke=\"black\" d=\"M419.527,-316.93C419.527,-316.93 351.527,-316.93 351.527,-316.93 345.527,-316.93 339.527,-310.93 339.527,-304.93 339.527,-304.93 339.527,-275.93 339.527,-275.93 339.527,-269.93 345.527,-263.93 351.527,-263.93 351.527,-263.93 419.527,-263.93 419.527,-263.93 425.527,-263.93 431.527,-269.93 431.527,-275.93 431.527,-275.93 431.527,-304.93 431.527,-304.93 431.527,-310.93 425.527,-316.93 419.527,-316.93\"/>\n<text text-anchor=\"middle\" x=\"385.527\" y=\"-301.73\" font-family=\"Times New Roman,serif\" font-size=\"14.00\">species_idx</text>\n<text text-anchor=\"middle\" x=\"385.527\" y=\"-286.73\" font-family=\"Times New Roman,serif\" font-size=\"14.00\">~</text>\n<text text-anchor=\"middle\" x=\"385.527\" y=\"-271.73\" font-family=\"Times New Roman,serif\" font-size=\"14.00\">ConstantData</text>\n</g>\n<!-- species_idx&#45;&gt;mu -->\n<g id=\"edge7\" class=\"edge\"><title>species_idx&#45;&gt;mu</title>\n<path fill=\"none\" stroke=\"black\" d=\"M394.449,-263.688C398.646,-251.582 403.716,-236.954 408.266,-223.827\"/>\n<polygon fill=\"black\" stroke=\"black\" points=\"411.653,-224.743 411.621,-214.148 405.039,-222.451 411.653,-224.743\"/>\n</g>\n<!-- y -->\n<g id=\"node3\" class=\"node\"><title>y</title>\n<polygon fill=\"none\" stroke=\"black\" points=\"649.027,-316.93 560.027,-316.93 560.027,-263.93 649.027,-263.93 649.027,-316.93\"/>\n<text text-anchor=\"middle\" x=\"604.527\" y=\"-301.73\" font-family=\"Times New Roman,serif\" font-size=\"14.00\">y</text>\n<text text-anchor=\"middle\" x=\"604.527\" y=\"-286.73\" font-family=\"Times New Roman,serif\" font-size=\"14.00\">~</text>\n<text text-anchor=\"middle\" x=\"604.527\" y=\"-271.73\" font-family=\"Times New Roman,serif\" font-size=\"14.00\">Deterministic</text>\n</g>\n<!-- y_missing -->\n<g id=\"node11\" class=\"node\"><title>y_missing</title>\n<ellipse fill=\"none\" stroke=\"black\" cx=\"428.527\" cy=\"-76.4767\" rx=\"51.7379\" ry=\"37.4533\"/>\n<text text-anchor=\"middle\" x=\"428.527\" y=\"-87.7767\" font-family=\"Times New Roman,serif\" font-size=\"14.00\">y_missing</text>\n<text text-anchor=\"middle\" x=\"428.527\" y=\"-72.7767\" font-family=\"Times New Roman,serif\" font-size=\"14.00\">~</text>\n<text text-anchor=\"middle\" x=\"428.527\" y=\"-57.7767\" font-family=\"Times New Roman,serif\" font-size=\"14.00\">Poisson</text>\n</g>\n<!-- mu&#45;&gt;y_missing -->\n<g id=\"edge9\" class=\"edge\"><title>mu&#45;&gt;y_missing</title>\n<path fill=\"none\" stroke=\"black\" d=\"M422.403,-160.903C423.204,-149.992 424.165,-136.9 425.085,-124.357\"/>\n<polygon fill=\"black\" stroke=\"black\" points=\"428.603,-124.239 425.845,-114.009 421.622,-123.726 428.603,-124.239\"/>\n</g>\n<!-- y_observed -->\n<g id=\"node12\" class=\"node\"><title>y_observed</title>\n<ellipse fill=\"lightgrey\" stroke=\"black\" cx=\"580.527\" cy=\"-76.4767\" rx=\"58.8803\" ry=\"37.4533\"/>\n<text text-anchor=\"middle\" x=\"580.527\" y=\"-87.7767\" font-family=\"Times New Roman,serif\" font-size=\"14.00\">y_observed</text>\n<text text-anchor=\"middle\" x=\"580.527\" y=\"-72.7767\" font-family=\"Times New Roman,serif\" font-size=\"14.00\">~</text>\n<text text-anchor=\"middle\" x=\"580.527\" y=\"-57.7767\" font-family=\"Times New Roman,serif\" font-size=\"14.00\">Poisson</text>\n</g>\n<!-- mu&#45;&gt;y_observed -->\n<g id=\"edge10\" class=\"edge\"><title>mu&#45;&gt;y_observed</title>\n<path fill=\"none\" stroke=\"black\" d=\"M458.04,-160.903C480.251,-145.775 508.617,-126.455 532.458,-110.217\"/>\n<polygon fill=\"black\" stroke=\"black\" points=\"534.722,-112.91 541.016,-104.387 530.781,-107.124 534.722,-112.91\"/>\n</g>\n<!-- intercept_bar -->\n<g id=\"node5\" class=\"node\"><title>intercept_bar</title>\n<ellipse fill=\"none\" stroke=\"black\" cx=\"269.527\" cy=\"-401.383\" rx=\"63.7795\" ry=\"37.4533\"/>\n<text text-anchor=\"middle\" x=\"269.527\" y=\"-412.683\" font-family=\"Times New Roman,serif\" font-size=\"14.00\">intercept_bar</text>\n<text text-anchor=\"middle\" x=\"269.527\" y=\"-397.683\" font-family=\"Times New Roman,serif\" font-size=\"14.00\">~</text>\n<text text-anchor=\"middle\" x=\"269.527\" y=\"-382.683\" font-family=\"Times New Roman,serif\" font-size=\"14.00\">Normal</text>\n</g>\n<!-- intercept -->\n<g id=\"node10\" class=\"node\"><title>intercept</title>\n<ellipse fill=\"none\" stroke=\"black\" cx=\"269.527\" cy=\"-290.43\" rx=\"45.9239\" ry=\"37.4533\"/>\n<text text-anchor=\"middle\" x=\"269.527\" y=\"-301.73\" font-family=\"Times New Roman,serif\" font-size=\"14.00\">intercept</text>\n<text text-anchor=\"middle\" x=\"269.527\" y=\"-286.73\" font-family=\"Times New Roman,serif\" font-size=\"14.00\">~</text>\n<text text-anchor=\"middle\" x=\"269.527\" y=\"-271.73\" font-family=\"Times New Roman,serif\" font-size=\"14.00\">Normal</text>\n</g>\n<!-- intercept_bar&#45;&gt;intercept -->\n<g id=\"edge3\" class=\"edge\"><title>intercept_bar&#45;&gt;intercept</title>\n<path fill=\"none\" stroke=\"black\" d=\"M269.527,-363.8C269.527,-355.626 269.527,-346.846 269.527,-338.319\"/>\n<polygon fill=\"black\" stroke=\"black\" points=\"273.027,-338.102 269.527,-328.102 266.027,-338.102 273.027,-338.102\"/>\n</g>\n<!-- intercept_sigma -->\n<g id=\"node6\" class=\"node\"><title>intercept_sigma</title>\n<ellipse fill=\"none\" stroke=\"black\" cx=\"424.527\" cy=\"-401.383\" rx=\"73.5782\" ry=\"37.4533\"/>\n<text text-anchor=\"middle\" x=\"424.527\" y=\"-412.683\" font-family=\"Times New Roman,serif\" font-size=\"14.00\">intercept_sigma</text>\n<text text-anchor=\"middle\" x=\"424.527\" y=\"-397.683\" font-family=\"Times New Roman,serif\" font-size=\"14.00\">~</text>\n<text text-anchor=\"middle\" x=\"424.527\" y=\"-382.683\" font-family=\"Times New Roman,serif\" font-size=\"14.00\">Exponential</text>\n</g>\n<!-- intercept_sigma&#45;&gt;intercept -->\n<g id=\"edge4\" class=\"edge\"><title>intercept_sigma&#45;&gt;intercept</title>\n<path fill=\"none\" stroke=\"black\" d=\"M379.672,-371.476C363.116,-360.569 344.309,-347.898 327.527,-335.907 321.908,-331.892 316.057,-327.574 310.327,-323.263\"/>\n<polygon fill=\"black\" stroke=\"black\" points=\"312.14,-320.246 302.058,-316.989 307.909,-325.822 312.14,-320.246\"/>\n</g>\n<!-- alpha -->\n<g id=\"node7\" class=\"node\"><title>alpha</title>\n<ellipse fill=\"none\" stroke=\"black\" cx=\"32.5269\" cy=\"-401.383\" rx=\"32.5538\" ry=\"37.4533\"/>\n<text text-anchor=\"middle\" x=\"32.5269\" y=\"-412.683\" font-family=\"Times New Roman,serif\" font-size=\"14.00\">alpha</text>\n<text text-anchor=\"middle\" x=\"32.5269\" y=\"-397.683\" font-family=\"Times New Roman,serif\" font-size=\"14.00\">~</text>\n<text text-anchor=\"middle\" x=\"32.5269\" y=\"-382.683\" font-family=\"Times New Roman,serif\" font-size=\"14.00\">Beta</text>\n</g>\n<!-- phi -->\n<g id=\"node9\" class=\"node\"><title>phi</title>\n<ellipse fill=\"none\" stroke=\"black\" cx=\"135.527\" cy=\"-290.43\" rx=\"32.5538\" ry=\"37.4533\"/>\n<text text-anchor=\"middle\" x=\"135.527\" y=\"-301.73\" font-family=\"Times New Roman,serif\" font-size=\"14.00\">phi</text>\n<text text-anchor=\"middle\" x=\"135.527\" y=\"-286.73\" font-family=\"Times New Roman,serif\" font-size=\"14.00\">~</text>\n<text text-anchor=\"middle\" x=\"135.527\" y=\"-271.73\" font-family=\"Times New Roman,serif\" font-size=\"14.00\">CAR</text>\n</g>\n<!-- alpha&#45;&gt;phi -->\n<g id=\"edge1\" class=\"edge\"><title>alpha&#45;&gt;phi</title>\n<path fill=\"none\" stroke=\"black\" d=\"M56.1572,-375.387C70.5785,-360.132 89.1722,-340.464 104.737,-323.999\"/>\n<polygon fill=\"black\" stroke=\"black\" points=\"107.324,-326.358 111.65,-316.687 102.237,-321.549 107.324,-326.358\"/>\n</g>\n<!-- sigma_phi -->\n<g id=\"node8\" class=\"node\"><title>sigma_phi</title>\n<ellipse fill=\"none\" stroke=\"black\" cx=\"135.527\" cy=\"-401.383\" rx=\"52.1524\" ry=\"37.4533\"/>\n<text text-anchor=\"middle\" x=\"135.527\" y=\"-412.683\" font-family=\"Times New Roman,serif\" font-size=\"14.00\">sigma_phi</text>\n<text text-anchor=\"middle\" x=\"135.527\" y=\"-397.683\" font-family=\"Times New Roman,serif\" font-size=\"14.00\">~</text>\n<text text-anchor=\"middle\" x=\"135.527\" y=\"-382.683\" font-family=\"Times New Roman,serif\" font-size=\"14.00\">Uniform</text>\n</g>\n<!-- sigma_phi&#45;&gt;phi -->\n<g id=\"edge2\" class=\"edge\"><title>sigma_phi&#45;&gt;phi</title>\n<path fill=\"none\" stroke=\"black\" d=\"M135.527,-363.8C135.527,-355.626 135.527,-346.846 135.527,-338.319\"/>\n<polygon fill=\"black\" stroke=\"black\" points=\"139.027,-338.102 135.527,-328.102 132.027,-338.102 139.027,-338.102\"/>\n</g>\n<!-- phi&#45;&gt;mu -->\n<g id=\"edge8\" class=\"edge\"><title>phi&#45;&gt;mu</title>\n<path fill=\"none\" stroke=\"black\" d=\"M158.22,-262.945C172.117,-248.493 191.117,-231.624 211.527,-221.953 260.41,-198.791 322.177,-191.189 365.851,-188.912\"/>\n<polygon fill=\"black\" stroke=\"black\" points=\"366.155,-192.402 375.99,-188.461 365.844,-185.409 366.155,-192.402\"/>\n</g>\n<!-- intercept&#45;&gt;mu -->\n<g id=\"edge5\" class=\"edge\"><title>intercept&#45;&gt;mu</title>\n<path fill=\"none\" stroke=\"black\" d=\"M291.493,-257.339C301.319,-244.907 313.788,-231.418 327.527,-221.953 339.126,-213.962 352.848,-207.651 366.138,-202.765\"/>\n<polygon fill=\"black\" stroke=\"black\" points=\"367.397,-206.033 375.703,-199.455 365.108,-199.418 367.397,-206.033\"/>\n</g>\n<!-- y_missing&#45;&gt;y -->\n<g id=\"edge11\" class=\"edge\"><title>y_missing&#45;&gt;y</title>\n<path fill=\"none\" stroke=\"black\" d=\"M455.477,-108.781C461.437,-115.738 467.709,-123.085 473.527,-129.953 507.993,-170.637 516.756,-180.691 550.527,-221.953 559.463,-232.871 569.12,-244.872 577.762,-255.688\"/>\n<polygon fill=\"black\" stroke=\"black\" points=\"575.173,-258.055 584.145,-263.69 580.645,-253.69 575.173,-258.055\"/>\n</g>\n<!-- y_observed&#45;&gt;y -->\n<g id=\"edge12\" class=\"edge\"><title>y_observed&#45;&gt;y</title>\n<path fill=\"none\" stroke=\"black\" d=\"M584.68,-114.151C589.107,-153.254 596.073,-214.772 600.466,-253.563\"/>\n<polygon fill=\"black\" stroke=\"black\" points=\"597.029,-254.321 601.632,-263.863 603.985,-253.533 597.029,-254.321\"/>\n</g>\n</g>\n</svg>\n",
      "text/plain": [
       "<graphviz.graphs.Digraph at 0x230c6935cf0>"
      ]
     },
     "metadata": {},
     "output_type": "display_data"
    },
    {
     "name": "stdout",
     "output_type": "stream",
     "text": [
      "pooled_intercept_car_model\n"
     ]
    },
    {
     "data": {
      "image/svg+xml": "<?xml version=\"1.0\" encoding=\"UTF-8\" standalone=\"no\"?>\n<!DOCTYPE svg PUBLIC \"-//W3C//DTD SVG 1.1//EN\"\n \"http://www.w3.org/Graphics/SVG/1.1/DTD/svg11.dtd\">\n<!-- Generated by graphviz version 2.38.0 (20140413.2041)\n -->\n<!-- Title: %3 Pages: 1 -->\n<svg width=\"460pt\" height=\"447pt\"\n viewBox=\"0.00 0.00 459.96 446.86\" xmlns=\"http://www.w3.org/2000/svg\" xmlns:xlink=\"http://www.w3.org/1999/xlink\">\n<g id=\"graph0\" class=\"graph\" transform=\"scale(1 1) rotate(0) translate(4 442.86)\">\n<title>%3</title>\n<polygon fill=\"white\" stroke=\"none\" points=\"-4,4 -4,-442.86 455.962,-442.86 455.962,4 -4,4\"/>\n<g id=\"clust1\" class=\"cluster\"><title>clusterobs_idx (384)</title>\n<path fill=\"none\" stroke=\"black\" d=\"M203.962,-129.953C203.962,-129.953 395.962,-129.953 395.962,-129.953 401.962,-129.953 407.962,-135.953 407.962,-141.953 407.962,-141.953 407.962,-312.93 407.962,-312.93 407.962,-318.93 401.962,-324.93 395.962,-324.93 395.962,-324.93 203.962,-324.93 203.962,-324.93 197.962,-324.93 191.962,-318.93 191.962,-312.93 191.962,-312.93 191.962,-141.953 191.962,-141.953 191.962,-135.953 197.962,-129.953 203.962,-129.953\"/>\n<text text-anchor=\"middle\" x=\"360.462\" y=\"-137.753\" font-family=\"Times New Roman,serif\" font-size=\"14.00\">obs_idx (384)</text>\n</g>\n<g id=\"clust4\" class=\"cluster\"><title>cluster173</title>\n<path fill=\"none\" stroke=\"black\" d=\"M321.962,-8C321.962,-8 431.962,-8 431.962,-8 437.962,-8 443.962,-14 443.962,-20 443.962,-20 443.962,-109.953 443.962,-109.953 443.962,-115.953 437.962,-121.953 431.962,-121.953 431.962,-121.953 321.962,-121.953 321.962,-121.953 315.962,-121.953 309.962,-115.953 309.962,-109.953 309.962,-109.953 309.962,-20 309.962,-20 309.962,-14 315.962,-8 321.962,-8\"/>\n<text text-anchor=\"middle\" x=\"425.462\" y=\"-15.8\" font-family=\"Times New Roman,serif\" font-size=\"14.00\">173</text>\n</g>\n<g id=\"clust3\" class=\"cluster\"><title>cluster211</title>\n<path fill=\"none\" stroke=\"black\" d=\"M193.962,-8C193.962,-8 289.962,-8 289.962,-8 295.962,-8 301.962,-14 301.962,-20 301.962,-20 301.962,-109.953 301.962,-109.953 301.962,-115.953 295.962,-121.953 289.962,-121.953 289.962,-121.953 193.962,-121.953 193.962,-121.953 187.962,-121.953 181.962,-115.953 181.962,-109.953 181.962,-109.953 181.962,-20 181.962,-20 181.962,-14 187.962,-8 193.962,-8\"/>\n<text text-anchor=\"middle\" x=\"283.462\" y=\"-15.8\" font-family=\"Times New Roman,serif\" font-size=\"14.00\">211</text>\n</g>\n<g id=\"clust2\" class=\"cluster\"><title>clusteradj_idx (96)</title>\n<path fill=\"none\" stroke=\"black\" d=\"M111.962,-221.953C111.962,-221.953 171.962,-221.953 171.962,-221.953 177.962,-221.953 183.962,-227.953 183.962,-233.953 183.962,-233.953 183.962,-323.907 183.962,-323.907 183.962,-329.907 177.962,-335.907 171.962,-335.907 171.962,-335.907 111.962,-335.907 111.962,-335.907 105.962,-335.907 99.9619,-329.907 99.9619,-323.907 99.9619,-323.907 99.9619,-233.953 99.9619,-233.953 99.9619,-227.953 105.962,-221.953 111.962,-221.953\"/>\n<text text-anchor=\"middle\" x=\"141.962\" y=\"-229.753\" font-family=\"Times New Roman,serif\" font-size=\"14.00\">adj_idx (96)</text>\n</g>\n<!-- adj_idx -->\n<g id=\"node1\" class=\"node\"><title>adj_idx</title>\n<path fill=\"lightgrey\" stroke=\"black\" d=\"M279.962,-316.93C279.962,-316.93 211.962,-316.93 211.962,-316.93 205.962,-316.93 199.962,-310.93 199.962,-304.93 199.962,-304.93 199.962,-275.93 199.962,-275.93 199.962,-269.93 205.962,-263.93 211.962,-263.93 211.962,-263.93 279.962,-263.93 279.962,-263.93 285.962,-263.93 291.962,-269.93 291.962,-275.93 291.962,-275.93 291.962,-304.93 291.962,-304.93 291.962,-310.93 285.962,-316.93 279.962,-316.93\"/>\n<text text-anchor=\"middle\" x=\"245.962\" y=\"-301.73\" font-family=\"Times New Roman,serif\" font-size=\"14.00\">adj_idx</text>\n<text text-anchor=\"middle\" x=\"245.962\" y=\"-286.73\" font-family=\"Times New Roman,serif\" font-size=\"14.00\">~</text>\n<text text-anchor=\"middle\" x=\"245.962\" y=\"-271.73\" font-family=\"Times New Roman,serif\" font-size=\"14.00\">ConstantData</text>\n</g>\n<!-- mu -->\n<g id=\"node3\" class=\"node\"><title>mu</title>\n<polygon fill=\"none\" stroke=\"black\" points=\"289.462,-213.953 200.462,-213.953 200.462,-160.953 289.462,-160.953 289.462,-213.953\"/>\n<text text-anchor=\"middle\" x=\"244.962\" y=\"-198.753\" font-family=\"Times New Roman,serif\" font-size=\"14.00\">mu</text>\n<text text-anchor=\"middle\" x=\"244.962\" y=\"-183.753\" font-family=\"Times New Roman,serif\" font-size=\"14.00\">~</text>\n<text text-anchor=\"middle\" x=\"244.962\" y=\"-168.753\" font-family=\"Times New Roman,serif\" font-size=\"14.00\">Deterministic</text>\n</g>\n<!-- adj_idx&#45;&gt;mu -->\n<g id=\"edge4\" class=\"edge\"><title>adj_idx&#45;&gt;mu</title>\n<path fill=\"none\" stroke=\"black\" d=\"M245.707,-263.688C245.588,-251.7 245.445,-237.24 245.316,-224.213\"/>\n<polygon fill=\"black\" stroke=\"black\" points=\"248.815,-224.113 245.216,-214.148 241.816,-224.182 248.815,-224.113\"/>\n</g>\n<!-- y -->\n<g id=\"node2\" class=\"node\"><title>y</title>\n<polygon fill=\"none\" stroke=\"black\" points=\"399.462,-316.93 310.462,-316.93 310.462,-263.93 399.462,-263.93 399.462,-316.93\"/>\n<text text-anchor=\"middle\" x=\"354.962\" y=\"-301.73\" font-family=\"Times New Roman,serif\" font-size=\"14.00\">y</text>\n<text text-anchor=\"middle\" x=\"354.962\" y=\"-286.73\" font-family=\"Times New Roman,serif\" font-size=\"14.00\">~</text>\n<text text-anchor=\"middle\" x=\"354.962\" y=\"-271.73\" font-family=\"Times New Roman,serif\" font-size=\"14.00\">Deterministic</text>\n</g>\n<!-- y_missing -->\n<g id=\"node8\" class=\"node\"><title>y_missing</title>\n<ellipse fill=\"none\" stroke=\"black\" cx=\"241.962\" cy=\"-76.4767\" rx=\"51.7379\" ry=\"37.4533\"/>\n<text text-anchor=\"middle\" x=\"241.962\" y=\"-87.7767\" font-family=\"Times New Roman,serif\" font-size=\"14.00\">y_missing</text>\n<text text-anchor=\"middle\" x=\"241.962\" y=\"-72.7767\" font-family=\"Times New Roman,serif\" font-size=\"14.00\">~</text>\n<text text-anchor=\"middle\" x=\"241.962\" y=\"-57.7767\" font-family=\"Times New Roman,serif\" font-size=\"14.00\">Poisson</text>\n</g>\n<!-- mu&#45;&gt;y_missing -->\n<g id=\"edge6\" class=\"edge\"><title>mu&#45;&gt;y_missing</title>\n<path fill=\"none\" stroke=\"black\" d=\"M244.259,-160.903C243.958,-149.992 243.598,-136.9 243.252,-124.357\"/>\n<polygon fill=\"black\" stroke=\"black\" points=\"246.742,-123.909 242.968,-114.009 239.744,-124.102 246.742,-123.909\"/>\n</g>\n<!-- y_observed -->\n<g id=\"node9\" class=\"node\"><title>y_observed</title>\n<ellipse fill=\"lightgrey\" stroke=\"black\" cx=\"376.962\" cy=\"-76.4767\" rx=\"58.8803\" ry=\"37.4533\"/>\n<text text-anchor=\"middle\" x=\"376.962\" y=\"-87.7767\" font-family=\"Times New Roman,serif\" font-size=\"14.00\">y_observed</text>\n<text text-anchor=\"middle\" x=\"376.962\" y=\"-72.7767\" font-family=\"Times New Roman,serif\" font-size=\"14.00\">~</text>\n<text text-anchor=\"middle\" x=\"376.962\" y=\"-57.7767\" font-family=\"Times New Roman,serif\" font-size=\"14.00\">Poisson</text>\n</g>\n<!-- mu&#45;&gt;y_observed -->\n<g id=\"edge7\" class=\"edge\"><title>mu&#45;&gt;y_observed</title>\n<path fill=\"none\" stroke=\"black\" d=\"M275.91,-160.903C293.113,-146.701 314.791,-128.804 333.653,-113.231\"/>\n<polygon fill=\"black\" stroke=\"black\" points=\"336.06,-115.783 341.544,-106.717 331.604,-110.385 336.06,-115.783\"/>\n</g>\n<!-- intercept -->\n<g id=\"node4\" class=\"node\"><title>intercept</title>\n<ellipse fill=\"none\" stroke=\"black\" cx=\"45.9619\" cy=\"-290.43\" rx=\"45.9239\" ry=\"37.4533\"/>\n<text text-anchor=\"middle\" x=\"45.9619\" y=\"-301.73\" font-family=\"Times New Roman,serif\" font-size=\"14.00\">intercept</text>\n<text text-anchor=\"middle\" x=\"45.9619\" y=\"-286.73\" font-family=\"Times New Roman,serif\" font-size=\"14.00\">~</text>\n<text text-anchor=\"middle\" x=\"45.9619\" y=\"-271.73\" font-family=\"Times New Roman,serif\" font-size=\"14.00\">Normal</text>\n</g>\n<!-- intercept&#45;&gt;mu -->\n<g id=\"edge3\" class=\"edge\"><title>intercept&#45;&gt;mu</title>\n<path fill=\"none\" stroke=\"black\" d=\"M64.0036,-255.764C72.2114,-243.404 83.0099,-230.386 95.9619,-221.953 123.888,-203.772 160.307,-195.368 190.148,-191.524\"/>\n<polygon fill=\"black\" stroke=\"black\" points=\"190.869,-194.964 200.404,-190.346 190.07,-188.01 190.869,-194.964\"/>\n</g>\n<!-- alpha -->\n<g id=\"node5\" class=\"node\"><title>alpha</title>\n<ellipse fill=\"none\" stroke=\"black\" cx=\"91.9619\" cy=\"-401.383\" rx=\"32.5538\" ry=\"37.4533\"/>\n<text text-anchor=\"middle\" x=\"91.9619\" y=\"-412.683\" font-family=\"Times New Roman,serif\" font-size=\"14.00\">alpha</text>\n<text text-anchor=\"middle\" x=\"91.9619\" y=\"-397.683\" font-family=\"Times New Roman,serif\" font-size=\"14.00\">~</text>\n<text text-anchor=\"middle\" x=\"91.9619\" y=\"-382.683\" font-family=\"Times New Roman,serif\" font-size=\"14.00\">Beta</text>\n</g>\n<!-- phi -->\n<g id=\"node7\" class=\"node\"><title>phi</title>\n<ellipse fill=\"none\" stroke=\"black\" cx=\"142.962\" cy=\"-290.43\" rx=\"32.5538\" ry=\"37.4533\"/>\n<text text-anchor=\"middle\" x=\"142.962\" y=\"-301.73\" font-family=\"Times New Roman,serif\" font-size=\"14.00\">phi</text>\n<text text-anchor=\"middle\" x=\"142.962\" y=\"-286.73\" font-family=\"Times New Roman,serif\" font-size=\"14.00\">~</text>\n<text text-anchor=\"middle\" x=\"142.962\" y=\"-271.73\" font-family=\"Times New Roman,serif\" font-size=\"14.00\">CAR</text>\n</g>\n<!-- alpha&#45;&gt;phi -->\n<g id=\"edge1\" class=\"edge\"><title>alpha&#45;&gt;phi</title>\n<path fill=\"none\" stroke=\"black\" d=\"M107.126,-367.989C112.269,-357.001 118.088,-344.57 123.518,-332.97\"/>\n<polygon fill=\"black\" stroke=\"black\" points=\"126.699,-334.429 127.769,-323.888 120.359,-331.461 126.699,-334.429\"/>\n</g>\n<!-- sigma_phi -->\n<g id=\"node6\" class=\"node\"><title>sigma_phi</title>\n<ellipse fill=\"none\" stroke=\"black\" cx=\"194.962\" cy=\"-401.383\" rx=\"52.1524\" ry=\"37.4533\"/>\n<text text-anchor=\"middle\" x=\"194.962\" y=\"-412.683\" font-family=\"Times New Roman,serif\" font-size=\"14.00\">sigma_phi</text>\n<text text-anchor=\"middle\" x=\"194.962\" y=\"-397.683\" font-family=\"Times New Roman,serif\" font-size=\"14.00\">~</text>\n<text text-anchor=\"middle\" x=\"194.962\" y=\"-382.683\" font-family=\"Times New Roman,serif\" font-size=\"14.00\">Uniform</text>\n</g>\n<!-- sigma_phi&#45;&gt;phi -->\n<g id=\"edge2\" class=\"edge\"><title>sigma_phi&#45;&gt;phi</title>\n<path fill=\"none\" stroke=\"black\" d=\"M178.366,-365.61C173.4,-355.206 167.906,-343.694 162.756,-332.904\"/>\n<polygon fill=\"black\" stroke=\"black\" points=\"165.808,-331.172 158.342,-323.654 159.49,-334.187 165.808,-331.172\"/>\n</g>\n<!-- phi&#45;&gt;mu -->\n<g id=\"edge5\" class=\"edge\"><title>phi&#45;&gt;mu</title>\n<path fill=\"none\" stroke=\"black\" d=\"M159.819,-257.978C167.352,-245.786 177.01,-232.3 187.962,-221.953 189.253,-220.734 190.595,-219.54 191.979,-218.372\"/>\n<polygon fill=\"black\" stroke=\"black\" points=\"194.49,-220.856 200.279,-211.983 190.22,-215.31 194.49,-220.856\"/>\n</g>\n<!-- y_missing&#45;&gt;y -->\n<g id=\"edge8\" class=\"edge\"><title>y_missing&#45;&gt;y</title>\n<path fill=\"none\" stroke=\"black\" d=\"M276.101,-104.589C284.07,-112.151 291.969,-120.818 297.962,-129.953 323.319,-168.609 339.03,-219.941 347.379,-253.795\"/>\n<polygon fill=\"black\" stroke=\"black\" points=\"344.017,-254.788 349.736,-263.707 350.827,-253.169 344.017,-254.788\"/>\n</g>\n<!-- y_observed&#45;&gt;y -->\n<g id=\"edge9\" class=\"edge\"><title>y_observed&#45;&gt;y</title>\n<path fill=\"none\" stroke=\"black\" d=\"M373.155,-114.151C369.097,-153.254 362.711,-214.772 358.685,-253.563\"/>\n<polygon fill=\"black\" stroke=\"black\" points=\"355.167,-253.556 357.616,-263.863 362.129,-254.278 355.167,-253.556\"/>\n</g>\n</g>\n</svg>\n",
      "text/plain": [
       "<graphviz.graphs.Digraph at 0x230c6976d70>"
      ]
     },
     "metadata": {},
     "output_type": "display_data"
    },
    {
     "name": "stdout",
     "output_type": "stream",
     "text": [
      "pooled_intercept_varying_covariate_car_model\n"
     ]
    },
    {
     "data": {
      "image/svg+xml": "<?xml version=\"1.0\" encoding=\"UTF-8\" standalone=\"no\"?>\n<!DOCTYPE svg PUBLIC \"-//W3C//DTD SVG 1.1//EN\"\n \"http://www.w3.org/Graphics/SVG/1.1/DTD/svg11.dtd\">\n<!-- Generated by graphviz version 2.38.0 (20140413.2041)\n -->\n<!-- Title: %3 Pages: 1 -->\n<svg width=\"960pt\" height=\"447pt\"\n viewBox=\"0.00 0.00 960.00 446.86\" xmlns=\"http://www.w3.org/2000/svg\" xmlns:xlink=\"http://www.w3.org/1999/xlink\">\n<g id=\"graph0\" class=\"graph\" transform=\"scale(1 1) rotate(0) translate(4 442.86)\">\n<title>%3</title>\n<polygon fill=\"white\" stroke=\"none\" points=\"-4,4 -4,-442.86 956,-442.86 956,4 -4,4\"/>\n<g id=\"clust1\" class=\"cluster\"><title>clusterobs_idx (384)</title>\n<path fill=\"none\" stroke=\"black\" d=\"M630,-129.953C630,-129.953 932,-129.953 932,-129.953 938,-129.953 944,-135.953 944,-141.953 944,-141.953 944,-312.93 944,-312.93 944,-318.93 938,-324.93 932,-324.93 932,-324.93 630,-324.93 630,-324.93 624,-324.93 618,-318.93 618,-312.93 618,-312.93 618,-141.953 618,-141.953 618,-135.953 624,-129.953 630,-129.953\"/>\n<text text-anchor=\"middle\" x=\"896.5\" y=\"-137.753\" font-family=\"Times New Roman,serif\" font-size=\"14.00\">obs_idx (384)</text>\n</g>\n<g id=\"clust5\" class=\"cluster\"><title>cluster211</title>\n<path fill=\"none\" stroke=\"black\" d=\"M808,-8C808,-8 904,-8 904,-8 910,-8 916,-14 916,-20 916,-20 916,-109.953 916,-109.953 916,-115.953 910,-121.953 904,-121.953 904,-121.953 808,-121.953 808,-121.953 802,-121.953 796,-115.953 796,-109.953 796,-109.953 796,-20 796,-20 796,-14 802,-8 808,-8\"/>\n<text text-anchor=\"middle\" x=\"897.5\" y=\"-15.8\" font-family=\"Times New Roman,serif\" font-size=\"14.00\">211</text>\n</g>\n<g id=\"clust6\" class=\"cluster\"><title>cluster173</title>\n<path fill=\"none\" stroke=\"black\" d=\"M627,-8C627,-8 737,-8 737,-8 743,-8 749,-14 749,-20 749,-20 749,-109.953 749,-109.953 749,-115.953 743,-121.953 737,-121.953 737,-121.953 627,-121.953 627,-121.953 621,-121.953 615,-115.953 615,-109.953 615,-109.953 615,-20 615,-20 615,-14 621,-8 627,-8\"/>\n<text text-anchor=\"middle\" x=\"730.5\" y=\"-15.8\" font-family=\"Times New Roman,serif\" font-size=\"14.00\">173</text>\n</g>\n<g id=\"clust3\" class=\"cluster\"><title>clusteradj_idx (96)</title>\n<path fill=\"none\" stroke=\"black\" d=\"M326,-221.953C326,-221.953 386,-221.953 386,-221.953 392,-221.953 398,-227.953 398,-233.953 398,-233.953 398,-323.907 398,-323.907 398,-329.907 392,-335.907 386,-335.907 386,-335.907 326,-335.907 326,-335.907 320,-335.907 314,-329.907 314,-323.907 314,-323.907 314,-233.953 314,-233.953 314,-227.953 320,-221.953 326,-221.953\"/>\n<text text-anchor=\"middle\" x=\"356\" y=\"-229.753\" font-family=\"Times New Roman,serif\" font-size=\"14.00\">adj_idx (96)</text>\n</g>\n<g id=\"clust2\" class=\"cluster\"><title>clusterobs_idx (384) x features_idx (9)</title>\n<path fill=\"none\" stroke=\"black\" d=\"M20,-232.93C20,-232.93 193,-232.93 193,-232.93 199,-232.93 205,-238.93 205,-244.93 205,-244.93 205,-312.93 205,-312.93 205,-318.93 199,-324.93 193,-324.93 193,-324.93 20,-324.93 20,-324.93 14,-324.93 8,-318.93 8,-312.93 8,-312.93 8,-244.93 8,-244.93 8,-238.93 14,-232.93 20,-232.93\"/>\n<text text-anchor=\"middle\" x=\"106.5\" y=\"-240.73\" font-family=\"Times New Roman,serif\" font-size=\"14.00\">obs_idx (384) x features_idx (9)</text>\n</g>\n<g id=\"clust4\" class=\"cluster\"><title>clusterspecies_idx (4) x features_idx (9)</title>\n<path fill=\"none\" stroke=\"black\" d=\"M418,-221.953C418,-221.953 598,-221.953 598,-221.953 604,-221.953 610,-227.953 610,-233.953 610,-233.953 610,-323.907 610,-323.907 610,-329.907 604,-335.907 598,-335.907 598,-335.907 418,-335.907 418,-335.907 412,-335.907 406,-329.907 406,-323.907 406,-323.907 406,-233.953 406,-233.953 406,-227.953 412,-221.953 418,-221.953\"/>\n<text text-anchor=\"middle\" x=\"508\" y=\"-229.753\" font-family=\"Times New Roman,serif\" font-size=\"14.00\">species_idx (4) x features_idx (9)</text>\n</g>\n<!-- adj_idx -->\n<g id=\"node1\" class=\"node\"><title>adj_idx</title>\n<path fill=\"lightgrey\" stroke=\"black\" d=\"M816,-316.93C816,-316.93 748,-316.93 748,-316.93 742,-316.93 736,-310.93 736,-304.93 736,-304.93 736,-275.93 736,-275.93 736,-269.93 742,-263.93 748,-263.93 748,-263.93 816,-263.93 816,-263.93 822,-263.93 828,-269.93 828,-275.93 828,-275.93 828,-304.93 828,-304.93 828,-310.93 822,-316.93 816,-316.93\"/>\n<text text-anchor=\"middle\" x=\"782\" y=\"-301.73\" font-family=\"Times New Roman,serif\" font-size=\"14.00\">adj_idx</text>\n<text text-anchor=\"middle\" x=\"782\" y=\"-286.73\" font-family=\"Times New Roman,serif\" font-size=\"14.00\">~</text>\n<text text-anchor=\"middle\" x=\"782\" y=\"-271.73\" font-family=\"Times New Roman,serif\" font-size=\"14.00\">ConstantData</text>\n</g>\n<!-- mu -->\n<g id=\"node4\" class=\"node\"><title>mu</title>\n<polygon fill=\"none\" stroke=\"black\" points=\"715.5,-213.953 626.5,-213.953 626.5,-160.953 715.5,-160.953 715.5,-213.953\"/>\n<text text-anchor=\"middle\" x=\"671\" y=\"-198.753\" font-family=\"Times New Roman,serif\" font-size=\"14.00\">mu</text>\n<text text-anchor=\"middle\" x=\"671\" y=\"-183.753\" font-family=\"Times New Roman,serif\" font-size=\"14.00\">~</text>\n<text text-anchor=\"middle\" x=\"671\" y=\"-168.753\" font-family=\"Times New Roman,serif\" font-size=\"14.00\">Deterministic</text>\n</g>\n<!-- adj_idx&#45;&gt;mu -->\n<g id=\"edge6\" class=\"edge\"><title>adj_idx&#45;&gt;mu</title>\n<path fill=\"none\" stroke=\"black\" d=\"M764.518,-263.888C754.522,-250.426 741.175,-234.212 727,-221.953 726.012,-221.099 724.999,-220.253 723.966,-219.418\"/>\n<polygon fill=\"black\" stroke=\"black\" points=\"725.814,-216.429 715.717,-213.222 721.61,-222.026 725.814,-216.429\"/>\n</g>\n<!-- species_idx -->\n<g id=\"node2\" class=\"node\"><title>species_idx</title>\n<path fill=\"lightgrey\" stroke=\"black\" d=\"M706,-316.93C706,-316.93 638,-316.93 638,-316.93 632,-316.93 626,-310.93 626,-304.93 626,-304.93 626,-275.93 626,-275.93 626,-269.93 632,-263.93 638,-263.93 638,-263.93 706,-263.93 706,-263.93 712,-263.93 718,-269.93 718,-275.93 718,-275.93 718,-304.93 718,-304.93 718,-310.93 712,-316.93 706,-316.93\"/>\n<text text-anchor=\"middle\" x=\"672\" y=\"-301.73\" font-family=\"Times New Roman,serif\" font-size=\"14.00\">species_idx</text>\n<text text-anchor=\"middle\" x=\"672\" y=\"-286.73\" font-family=\"Times New Roman,serif\" font-size=\"14.00\">~</text>\n<text text-anchor=\"middle\" x=\"672\" y=\"-271.73\" font-family=\"Times New Roman,serif\" font-size=\"14.00\">ConstantData</text>\n</g>\n<!-- species_idx&#45;&gt;mu -->\n<g id=\"edge9\" class=\"edge\"><title>species_idx&#45;&gt;mu</title>\n<path fill=\"none\" stroke=\"black\" d=\"M671.745,-263.688C671.626,-251.7 671.483,-237.24 671.354,-224.213\"/>\n<polygon fill=\"black\" stroke=\"black\" points=\"674.853,-224.113 671.254,-214.148 667.854,-224.182 674.853,-224.113\"/>\n</g>\n<!-- y -->\n<g id=\"node3\" class=\"node\"><title>y</title>\n<polygon fill=\"none\" stroke=\"black\" points=\"935.5,-316.93 846.5,-316.93 846.5,-263.93 935.5,-263.93 935.5,-316.93\"/>\n<text text-anchor=\"middle\" x=\"891\" y=\"-301.73\" font-family=\"Times New Roman,serif\" font-size=\"14.00\">y</text>\n<text text-anchor=\"middle\" x=\"891\" y=\"-286.73\" font-family=\"Times New Roman,serif\" font-size=\"14.00\">~</text>\n<text text-anchor=\"middle\" x=\"891\" y=\"-271.73\" font-family=\"Times New Roman,serif\" font-size=\"14.00\">Deterministic</text>\n</g>\n<!-- y_missing -->\n<g id=\"node13\" class=\"node\"><title>y_missing</title>\n<ellipse fill=\"none\" stroke=\"black\" cx=\"856\" cy=\"-76.4767\" rx=\"51.7379\" ry=\"37.4533\"/>\n<text text-anchor=\"middle\" x=\"856\" y=\"-87.7767\" font-family=\"Times New Roman,serif\" font-size=\"14.00\">y_missing</text>\n<text text-anchor=\"middle\" x=\"856\" y=\"-72.7767\" font-family=\"Times New Roman,serif\" font-size=\"14.00\">~</text>\n<text text-anchor=\"middle\" x=\"856\" y=\"-57.7767\" font-family=\"Times New Roman,serif\" font-size=\"14.00\">Poisson</text>\n</g>\n<!-- mu&#45;&gt;y_missing -->\n<g id=\"edge11\" class=\"edge\"><title>mu&#45;&gt;y_missing</title>\n<path fill=\"none\" stroke=\"black\" d=\"M714.374,-160.903C742.345,-144.426 778.759,-122.976 807.659,-105.953\"/>\n<polygon fill=\"black\" stroke=\"black\" points=\"809.529,-108.913 816.369,-100.822 805.976,-102.882 809.529,-108.913\"/>\n</g>\n<!-- y_observed -->\n<g id=\"node14\" class=\"node\"><title>y_observed</title>\n<ellipse fill=\"lightgrey\" stroke=\"black\" cx=\"682\" cy=\"-76.4767\" rx=\"58.8803\" ry=\"37.4533\"/>\n<text text-anchor=\"middle\" x=\"682\" y=\"-87.7767\" font-family=\"Times New Roman,serif\" font-size=\"14.00\">y_observed</text>\n<text text-anchor=\"middle\" x=\"682\" y=\"-72.7767\" font-family=\"Times New Roman,serif\" font-size=\"14.00\">~</text>\n<text text-anchor=\"middle\" x=\"682\" y=\"-57.7767\" font-family=\"Times New Roman,serif\" font-size=\"14.00\">Poisson</text>\n</g>\n<!-- mu&#45;&gt;y_observed -->\n<g id=\"edge12\" class=\"edge\"><title>mu&#45;&gt;y_observed</title>\n<path fill=\"none\" stroke=\"black\" d=\"M673.579,-160.903C674.691,-149.883 676.028,-136.638 677.306,-123.981\"/>\n<polygon fill=\"black\" stroke=\"black\" points=\"680.79,-124.31 678.312,-114.009 673.826,-123.607 680.79,-124.31\"/>\n</g>\n<!-- X -->\n<g id=\"node5\" class=\"node\"><title>X</title>\n<path fill=\"lightgrey\" stroke=\"black\" d=\"M184,-316.93C184,-316.93 116,-316.93 116,-316.93 110,-316.93 104,-310.93 104,-304.93 104,-304.93 104,-275.93 104,-275.93 104,-269.93 110,-263.93 116,-263.93 116,-263.93 184,-263.93 184,-263.93 190,-263.93 196,-269.93 196,-275.93 196,-275.93 196,-304.93 196,-304.93 196,-310.93 190,-316.93 184,-316.93\"/>\n<text text-anchor=\"middle\" x=\"150\" y=\"-301.73\" font-family=\"Times New Roman,serif\" font-size=\"14.00\">X</text>\n<text text-anchor=\"middle\" x=\"150\" y=\"-286.73\" font-family=\"Times New Roman,serif\" font-size=\"14.00\">~</text>\n<text text-anchor=\"middle\" x=\"150\" y=\"-271.73\" font-family=\"Times New Roman,serif\" font-size=\"14.00\">ConstantData</text>\n</g>\n<!-- X&#45;&gt;mu -->\n<g id=\"edge5\" class=\"edge\"><title>X&#45;&gt;mu</title>\n<path fill=\"none\" stroke=\"black\" d=\"M163.752,-263.749C173.229,-248.806 187.299,-231.154 205,-221.953 240.717,-203.389 501.24,-193.472 616.453,-189.954\"/>\n<polygon fill=\"black\" stroke=\"black\" points=\"616.587,-193.452 626.478,-189.653 616.377,-186.455 616.587,-193.452\"/>\n</g>\n<!-- intercept -->\n<g id=\"node6\" class=\"node\"><title>intercept</title>\n<ellipse fill=\"none\" stroke=\"black\" cx=\"260\" cy=\"-290.43\" rx=\"45.9239\" ry=\"37.4533\"/>\n<text text-anchor=\"middle\" x=\"260\" y=\"-301.73\" font-family=\"Times New Roman,serif\" font-size=\"14.00\">intercept</text>\n<text text-anchor=\"middle\" x=\"260\" y=\"-286.73\" font-family=\"Times New Roman,serif\" font-size=\"14.00\">~</text>\n<text text-anchor=\"middle\" x=\"260\" y=\"-271.73\" font-family=\"Times New Roman,serif\" font-size=\"14.00\">Normal</text>\n</g>\n<!-- intercept&#45;&gt;mu -->\n<g id=\"edge7\" class=\"edge\"><title>intercept&#45;&gt;mu</title>\n<path fill=\"none\" stroke=\"black\" d=\"M277.054,-255.595C285.236,-242.896 296.279,-229.679 310,-221.953 361.043,-193.214 528.699,-188.556 616.413,-188.155\"/>\n<polygon fill=\"black\" stroke=\"black\" points=\"616.453,-191.655 626.443,-188.126 616.433,-184.655 616.453,-191.655\"/>\n</g>\n<!-- alpha -->\n<g id=\"node7\" class=\"node\"><title>alpha</title>\n<ellipse fill=\"none\" stroke=\"black\" cx=\"275\" cy=\"-401.383\" rx=\"32.5538\" ry=\"37.4533\"/>\n<text text-anchor=\"middle\" x=\"275\" y=\"-412.683\" font-family=\"Times New Roman,serif\" font-size=\"14.00\">alpha</text>\n<text text-anchor=\"middle\" x=\"275\" y=\"-397.683\" font-family=\"Times New Roman,serif\" font-size=\"14.00\">~</text>\n<text text-anchor=\"middle\" x=\"275\" y=\"-382.683\" font-family=\"Times New Roman,serif\" font-size=\"14.00\">Beta</text>\n</g>\n<!-- phi -->\n<g id=\"node11\" class=\"node\"><title>phi</title>\n<ellipse fill=\"none\" stroke=\"black\" cx=\"357\" cy=\"-290.43\" rx=\"32.5538\" ry=\"37.4533\"/>\n<text text-anchor=\"middle\" x=\"357\" y=\"-301.73\" font-family=\"Times New Roman,serif\" font-size=\"14.00\">phi</text>\n<text text-anchor=\"middle\" x=\"357\" y=\"-286.73\" font-family=\"Times New Roman,serif\" font-size=\"14.00\">~</text>\n<text text-anchor=\"middle\" x=\"357\" y=\"-271.73\" font-family=\"Times New Roman,serif\" font-size=\"14.00\">CAR</text>\n</g>\n<!-- alpha&#45;&gt;phi -->\n<g id=\"edge1\" class=\"edge\"><title>alpha&#45;&gt;phi</title>\n<path fill=\"none\" stroke=\"black\" d=\"M295.904,-372.608C306.138,-359.01 318.591,-342.464 329.577,-327.866\"/>\n<polygon fill=\"black\" stroke=\"black\" points=\"332.632,-329.628 335.849,-319.534 327.039,-325.419 332.632,-329.628\"/>\n</g>\n<!-- betas_bar -->\n<g id=\"node8\" class=\"node\"><title>betas_bar</title>\n<ellipse fill=\"none\" stroke=\"black\" cx=\"520\" cy=\"-401.383\" rx=\"50.41\" ry=\"37.4533\"/>\n<text text-anchor=\"middle\" x=\"520\" y=\"-412.683\" font-family=\"Times New Roman,serif\" font-size=\"14.00\">betas_bar</text>\n<text text-anchor=\"middle\" x=\"520\" y=\"-397.683\" font-family=\"Times New Roman,serif\" font-size=\"14.00\">~</text>\n<text text-anchor=\"middle\" x=\"520\" y=\"-382.683\" font-family=\"Times New Roman,serif\" font-size=\"14.00\">Normal</text>\n</g>\n<!-- betas -->\n<g id=\"node12\" class=\"node\"><title>betas</title>\n<ellipse fill=\"none\" stroke=\"black\" cx=\"561\" cy=\"-290.43\" rx=\"41.0244\" ry=\"37.4533\"/>\n<text text-anchor=\"middle\" x=\"561\" y=\"-301.73\" font-family=\"Times New Roman,serif\" font-size=\"14.00\">betas</text>\n<text text-anchor=\"middle\" x=\"561\" y=\"-286.73\" font-family=\"Times New Roman,serif\" font-size=\"14.00\">~</text>\n<text text-anchor=\"middle\" x=\"561\" y=\"-271.73\" font-family=\"Times New Roman,serif\" font-size=\"14.00\">Normal</text>\n</g>\n<!-- betas_bar&#45;&gt;betas -->\n<g id=\"edge3\" class=\"edge\"><title>betas_bar&#45;&gt;betas</title>\n<path fill=\"none\" stroke=\"black\" d=\"M533.312,-365.009C536.819,-355.689 540.648,-345.514 544.308,-335.786\"/>\n<polygon fill=\"black\" stroke=\"black\" points=\"547.649,-336.847 547.895,-326.255 541.097,-334.381 547.649,-336.847\"/>\n</g>\n<!-- betas_sigma -->\n<g id=\"node9\" class=\"node\"><title>betas_sigma</title>\n<ellipse fill=\"none\" stroke=\"black\" cx=\"649\" cy=\"-401.383\" rx=\"60.623\" ry=\"37.4533\"/>\n<text text-anchor=\"middle\" x=\"649\" y=\"-412.683\" font-family=\"Times New Roman,serif\" font-size=\"14.00\">betas_sigma</text>\n<text text-anchor=\"middle\" x=\"649\" y=\"-397.683\" font-family=\"Times New Roman,serif\" font-size=\"14.00\">~</text>\n<text text-anchor=\"middle\" x=\"649\" y=\"-382.683\" font-family=\"Times New Roman,serif\" font-size=\"14.00\">Exponential</text>\n</g>\n<!-- betas_sigma&#45;&gt;betas -->\n<g id=\"edge4\" class=\"edge\"><title>betas_sigma&#45;&gt;betas</title>\n<path fill=\"none\" stroke=\"black\" d=\"M622.358,-367.398C612.565,-355.273 601.405,-341.456 591.313,-328.96\"/>\n<polygon fill=\"black\" stroke=\"black\" points=\"593.866,-326.551 584.859,-320.97 588.42,-330.949 593.866,-326.551\"/>\n</g>\n<!-- sigma_phi -->\n<g id=\"node10\" class=\"node\"><title>sigma_phi</title>\n<ellipse fill=\"none\" stroke=\"black\" cx=\"378\" cy=\"-401.383\" rx=\"52.1524\" ry=\"37.4533\"/>\n<text text-anchor=\"middle\" x=\"378\" y=\"-412.683\" font-family=\"Times New Roman,serif\" font-size=\"14.00\">sigma_phi</text>\n<text text-anchor=\"middle\" x=\"378\" y=\"-397.683\" font-family=\"Times New Roman,serif\" font-size=\"14.00\">~</text>\n<text text-anchor=\"middle\" x=\"378\" y=\"-382.683\" font-family=\"Times New Roman,serif\" font-size=\"14.00\">Uniform</text>\n</g>\n<!-- sigma_phi&#45;&gt;phi -->\n<g id=\"edge2\" class=\"edge\"><title>sigma_phi&#45;&gt;phi</title>\n<path fill=\"none\" stroke=\"black\" d=\"M371.007,-364.103C369.343,-355.468 367.546,-346.143 365.811,-337.146\"/>\n<polygon fill=\"black\" stroke=\"black\" points=\"369.22,-336.338 363.891,-327.181 362.347,-337.663 369.22,-336.338\"/>\n</g>\n<!-- phi&#45;&gt;mu -->\n<g id=\"edge10\" class=\"edge\"><title>phi&#45;&gt;mu</title>\n<path fill=\"none\" stroke=\"black\" d=\"M371.356,-256.564C378.66,-243.695 388.822,-230.092 402,-221.953 436.753,-200.489 548.06,-192.731 616.122,-189.96\"/>\n<polygon fill=\"black\" stroke=\"black\" points=\"616.387,-193.453 626.246,-189.572 616.119,-186.458 616.387,-193.453\"/>\n</g>\n<!-- betas&#45;&gt;mu -->\n<g id=\"edge8\" class=\"edge\"><title>betas&#45;&gt;mu</title>\n<path fill=\"none\" stroke=\"black\" d=\"M582.018,-257.78C590.979,-245.698 602.11,-232.343 614,-221.953 615.307,-220.811 616.659,-219.687 618.046,-218.582\"/>\n<polygon fill=\"black\" stroke=\"black\" points=\"620.333,-221.244 626.297,-212.487 616.174,-215.614 620.333,-221.244\"/>\n</g>\n<!-- y_missing&#45;&gt;y -->\n<g id=\"edge13\" class=\"edge\"><title>y_missing&#45;&gt;y</title>\n<path fill=\"none\" stroke=\"black\" d=\"M861.994,-113.773C868.446,-152.846 878.645,-214.613 885.072,-253.531\"/>\n<polygon fill=\"black\" stroke=\"black\" points=\"881.696,-254.567 886.778,-263.863 888.602,-253.427 881.696,-254.567\"/>\n</g>\n<!-- y_observed&#45;&gt;y -->\n<g id=\"edge14\" class=\"edge\"><title>y_observed&#45;&gt;y</title>\n<path fill=\"none\" stroke=\"black\" d=\"M716.613,-107.128C748.957,-135.429 797.978,-179.874 837,-221.953 846.756,-232.474 856.758,-244.55 865.461,-255.551\"/>\n<polygon fill=\"black\" stroke=\"black\" points=\"862.922,-257.986 871.838,-263.711 868.438,-253.676 862.922,-257.986\"/>\n</g>\n</g>\n</svg>\n",
      "text/plain": [
       "<graphviz.graphs.Digraph at 0x230c684fa00>"
      ]
     },
     "metadata": {},
     "output_type": "display_data"
    },
    {
     "name": "stdout",
     "output_type": "stream",
     "text": [
      "varying_intercept_pooled_covariate_car_model\n"
     ]
    },
    {
     "data": {
      "image/svg+xml": "<?xml version=\"1.0\" encoding=\"UTF-8\" standalone=\"no\"?>\n<!DOCTYPE svg PUBLIC \"-//W3C//DTD SVG 1.1//EN\"\n \"http://www.w3.org/Graphics/SVG/1.1/DTD/svg11.dtd\">\n<!-- Generated by graphviz version 2.38.0 (20140413.2041)\n -->\n<!-- Title: %3 Pages: 1 -->\n<svg width=\"928pt\" height=\"447pt\"\n viewBox=\"0.00 0.00 928.00 446.86\" xmlns=\"http://www.w3.org/2000/svg\" xmlns:xlink=\"http://www.w3.org/1999/xlink\">\n<g id=\"graph0\" class=\"graph\" transform=\"scale(1 1) rotate(0) translate(4 442.86)\">\n<title>%3</title>\n<polygon fill=\"white\" stroke=\"none\" points=\"-4,4 -4,-442.86 924,-442.86 924,4 -4,4\"/>\n<g id=\"clust1\" class=\"cluster\"><title>clusterobs_idx (384)</title>\n<path fill=\"none\" stroke=\"black\" d=\"M598,-129.953C598,-129.953 900,-129.953 900,-129.953 906,-129.953 912,-135.953 912,-141.953 912,-141.953 912,-312.93 912,-312.93 912,-318.93 906,-324.93 900,-324.93 900,-324.93 598,-324.93 598,-324.93 592,-324.93 586,-318.93 586,-312.93 586,-312.93 586,-141.953 586,-141.953 586,-135.953 592,-129.953 598,-129.953\"/>\n<text text-anchor=\"middle\" x=\"864.5\" y=\"-137.753\" font-family=\"Times New Roman,serif\" font-size=\"14.00\">obs_idx (384)</text>\n</g>\n<g id=\"clust7\" class=\"cluster\"><title>cluster173</title>\n<path fill=\"none\" stroke=\"black\" d=\"M595,-8C595,-8 705,-8 705,-8 711,-8 717,-14 717,-20 717,-20 717,-109.953 717,-109.953 717,-115.953 711,-121.953 705,-121.953 705,-121.953 595,-121.953 595,-121.953 589,-121.953 583,-115.953 583,-109.953 583,-109.953 583,-20 583,-20 583,-14 589,-8 595,-8\"/>\n<text text-anchor=\"middle\" x=\"698.5\" y=\"-15.8\" font-family=\"Times New Roman,serif\" font-size=\"14.00\">173</text>\n</g>\n<g id=\"clust6\" class=\"cluster\"><title>cluster211</title>\n<path fill=\"none\" stroke=\"black\" d=\"M776,-8C776,-8 872,-8 872,-8 878,-8 884,-14 884,-20 884,-20 884,-109.953 884,-109.953 884,-115.953 878,-121.953 872,-121.953 872,-121.953 776,-121.953 776,-121.953 770,-121.953 764,-115.953 764,-109.953 764,-109.953 764,-20 764,-20 764,-14 770,-8 776,-8\"/>\n<text text-anchor=\"middle\" x=\"865.5\" y=\"-15.8\" font-family=\"Times New Roman,serif\" font-size=\"14.00\">211</text>\n</g>\n<g id=\"clust3\" class=\"cluster\"><title>clusteradj_idx (96)</title>\n<path fill=\"none\" stroke=\"black\" d=\"M225,-221.953C225,-221.953 285,-221.953 285,-221.953 291,-221.953 297,-227.953 297,-233.953 297,-233.953 297,-323.907 297,-323.907 297,-329.907 291,-335.907 285,-335.907 285,-335.907 225,-335.907 225,-335.907 219,-335.907 213,-329.907 213,-323.907 213,-323.907 213,-233.953 213,-233.953 213,-227.953 219,-221.953 225,-221.953\"/>\n<text text-anchor=\"middle\" x=\"255\" y=\"-229.753\" font-family=\"Times New Roman,serif\" font-size=\"14.00\">adj_idx (96)</text>\n</g>\n<g id=\"clust4\" class=\"cluster\"><title>clusterspecies_idx (4)</title>\n<path fill=\"none\" stroke=\"black\" d=\"M370,-221.953C370,-221.953 454,-221.953 454,-221.953 460,-221.953 466,-227.953 466,-233.953 466,-233.953 466,-323.907 466,-323.907 466,-329.907 460,-335.907 454,-335.907 454,-335.907 370,-335.907 370,-335.907 364,-335.907 358,-329.907 358,-323.907 358,-323.907 358,-233.953 358,-233.953 358,-227.953 364,-221.953 370,-221.953\"/>\n<text text-anchor=\"middle\" x=\"415\" y=\"-229.753\" font-family=\"Times New Roman,serif\" font-size=\"14.00\">species_idx (4)</text>\n</g>\n<g id=\"clust5\" class=\"cluster\"><title>clusterfeatures_idx (9)</title>\n<path fill=\"none\" stroke=\"black\" d=\"M486,-221.953C486,-221.953 566,-221.953 566,-221.953 572,-221.953 578,-227.953 578,-233.953 578,-233.953 578,-323.907 578,-323.907 578,-329.907 572,-335.907 566,-335.907 566,-335.907 486,-335.907 486,-335.907 480,-335.907 474,-329.907 474,-323.907 474,-323.907 474,-233.953 474,-233.953 474,-227.953 480,-221.953 486,-221.953\"/>\n<text text-anchor=\"middle\" x=\"526\" y=\"-229.753\" font-family=\"Times New Roman,serif\" font-size=\"14.00\">features_idx (9)</text>\n</g>\n<g id=\"clust2\" class=\"cluster\"><title>clusterobs_idx (384) x features_idx (9)</title>\n<path fill=\"none\" stroke=\"black\" d=\"M20,-232.93C20,-232.93 193,-232.93 193,-232.93 199,-232.93 205,-238.93 205,-244.93 205,-244.93 205,-312.93 205,-312.93 205,-318.93 199,-324.93 193,-324.93 193,-324.93 20,-324.93 20,-324.93 14,-324.93 8,-318.93 8,-312.93 8,-312.93 8,-244.93 8,-244.93 8,-238.93 14,-232.93 20,-232.93\"/>\n<text text-anchor=\"middle\" x=\"106.5\" y=\"-240.73\" font-family=\"Times New Roman,serif\" font-size=\"14.00\">obs_idx (384) x features_idx (9)</text>\n</g>\n<!-- adj_idx -->\n<g id=\"node1\" class=\"node\"><title>adj_idx</title>\n<path fill=\"lightgrey\" stroke=\"black\" d=\"M784,-316.93C784,-316.93 716,-316.93 716,-316.93 710,-316.93 704,-310.93 704,-304.93 704,-304.93 704,-275.93 704,-275.93 704,-269.93 710,-263.93 716,-263.93 716,-263.93 784,-263.93 784,-263.93 790,-263.93 796,-269.93 796,-275.93 796,-275.93 796,-304.93 796,-304.93 796,-310.93 790,-316.93 784,-316.93\"/>\n<text text-anchor=\"middle\" x=\"750\" y=\"-301.73\" font-family=\"Times New Roman,serif\" font-size=\"14.00\">adj_idx</text>\n<text text-anchor=\"middle\" x=\"750\" y=\"-286.73\" font-family=\"Times New Roman,serif\" font-size=\"14.00\">~</text>\n<text text-anchor=\"middle\" x=\"750\" y=\"-271.73\" font-family=\"Times New Roman,serif\" font-size=\"14.00\">ConstantData</text>\n</g>\n<!-- mu -->\n<g id=\"node4\" class=\"node\"><title>mu</title>\n<polygon fill=\"none\" stroke=\"black\" points=\"683.5,-213.953 594.5,-213.953 594.5,-160.953 683.5,-160.953 683.5,-213.953\"/>\n<text text-anchor=\"middle\" x=\"639\" y=\"-198.753\" font-family=\"Times New Roman,serif\" font-size=\"14.00\">mu</text>\n<text text-anchor=\"middle\" x=\"639\" y=\"-183.753\" font-family=\"Times New Roman,serif\" font-size=\"14.00\">~</text>\n<text text-anchor=\"middle\" x=\"639\" y=\"-168.753\" font-family=\"Times New Roman,serif\" font-size=\"14.00\">Deterministic</text>\n</g>\n<!-- adj_idx&#45;&gt;mu -->\n<g id=\"edge8\" class=\"edge\"><title>adj_idx&#45;&gt;mu</title>\n<path fill=\"none\" stroke=\"black\" d=\"M732.518,-263.888C722.522,-250.426 709.175,-234.212 695,-221.953 694.012,-221.099 692.999,-220.253 691.966,-219.418\"/>\n<polygon fill=\"black\" stroke=\"black\" points=\"693.814,-216.429 683.717,-213.222 689.61,-222.026 693.814,-216.429\"/>\n</g>\n<!-- species_idx -->\n<g id=\"node2\" class=\"node\"><title>species_idx</title>\n<path fill=\"lightgrey\" stroke=\"black\" d=\"M674,-316.93C674,-316.93 606,-316.93 606,-316.93 600,-316.93 594,-310.93 594,-304.93 594,-304.93 594,-275.93 594,-275.93 594,-269.93 600,-263.93 606,-263.93 606,-263.93 674,-263.93 674,-263.93 680,-263.93 686,-269.93 686,-275.93 686,-275.93 686,-304.93 686,-304.93 686,-310.93 680,-316.93 674,-316.93\"/>\n<text text-anchor=\"middle\" x=\"640\" y=\"-301.73\" font-family=\"Times New Roman,serif\" font-size=\"14.00\">species_idx</text>\n<text text-anchor=\"middle\" x=\"640\" y=\"-286.73\" font-family=\"Times New Roman,serif\" font-size=\"14.00\">~</text>\n<text text-anchor=\"middle\" x=\"640\" y=\"-271.73\" font-family=\"Times New Roman,serif\" font-size=\"14.00\">ConstantData</text>\n</g>\n<!-- species_idx&#45;&gt;mu -->\n<g id=\"edge11\" class=\"edge\"><title>species_idx&#45;&gt;mu</title>\n<path fill=\"none\" stroke=\"black\" d=\"M639.745,-263.688C639.626,-251.7 639.483,-237.24 639.354,-224.213\"/>\n<polygon fill=\"black\" stroke=\"black\" points=\"642.853,-224.113 639.254,-214.148 635.854,-224.182 642.853,-224.113\"/>\n</g>\n<!-- y -->\n<g id=\"node3\" class=\"node\"><title>y</title>\n<polygon fill=\"none\" stroke=\"black\" points=\"903.5,-316.93 814.5,-316.93 814.5,-263.93 903.5,-263.93 903.5,-316.93\"/>\n<text text-anchor=\"middle\" x=\"859\" y=\"-301.73\" font-family=\"Times New Roman,serif\" font-size=\"14.00\">y</text>\n<text text-anchor=\"middle\" x=\"859\" y=\"-286.73\" font-family=\"Times New Roman,serif\" font-size=\"14.00\">~</text>\n<text text-anchor=\"middle\" x=\"859\" y=\"-271.73\" font-family=\"Times New Roman,serif\" font-size=\"14.00\">Deterministic</text>\n</g>\n<!-- y_missing -->\n<g id=\"node15\" class=\"node\"><title>y_missing</title>\n<ellipse fill=\"none\" stroke=\"black\" cx=\"824\" cy=\"-76.4767\" rx=\"51.7379\" ry=\"37.4533\"/>\n<text text-anchor=\"middle\" x=\"824\" y=\"-87.7767\" font-family=\"Times New Roman,serif\" font-size=\"14.00\">y_missing</text>\n<text text-anchor=\"middle\" x=\"824\" y=\"-72.7767\" font-family=\"Times New Roman,serif\" font-size=\"14.00\">~</text>\n<text text-anchor=\"middle\" x=\"824\" y=\"-57.7767\" font-family=\"Times New Roman,serif\" font-size=\"14.00\">Poisson</text>\n</g>\n<!-- mu&#45;&gt;y_missing -->\n<g id=\"edge13\" class=\"edge\"><title>mu&#45;&gt;y_missing</title>\n<path fill=\"none\" stroke=\"black\" d=\"M682.374,-160.903C710.345,-144.426 746.759,-122.976 775.659,-105.953\"/>\n<polygon fill=\"black\" stroke=\"black\" points=\"777.529,-108.913 784.369,-100.822 773.976,-102.882 777.529,-108.913\"/>\n</g>\n<!-- y_observed -->\n<g id=\"node16\" class=\"node\"><title>y_observed</title>\n<ellipse fill=\"lightgrey\" stroke=\"black\" cx=\"650\" cy=\"-76.4767\" rx=\"58.8803\" ry=\"37.4533\"/>\n<text text-anchor=\"middle\" x=\"650\" y=\"-87.7767\" font-family=\"Times New Roman,serif\" font-size=\"14.00\">y_observed</text>\n<text text-anchor=\"middle\" x=\"650\" y=\"-72.7767\" font-family=\"Times New Roman,serif\" font-size=\"14.00\">~</text>\n<text text-anchor=\"middle\" x=\"650\" y=\"-57.7767\" font-family=\"Times New Roman,serif\" font-size=\"14.00\">Poisson</text>\n</g>\n<!-- mu&#45;&gt;y_observed -->\n<g id=\"edge14\" class=\"edge\"><title>mu&#45;&gt;y_observed</title>\n<path fill=\"none\" stroke=\"black\" d=\"M641.579,-160.903C642.691,-149.883 644.028,-136.638 645.306,-123.981\"/>\n<polygon fill=\"black\" stroke=\"black\" points=\"648.79,-124.31 646.312,-114.009 641.826,-123.607 648.79,-124.31\"/>\n</g>\n<!-- X -->\n<g id=\"node5\" class=\"node\"><title>X</title>\n<path fill=\"lightgrey\" stroke=\"black\" d=\"M185,-316.93C185,-316.93 117,-316.93 117,-316.93 111,-316.93 105,-310.93 105,-304.93 105,-304.93 105,-275.93 105,-275.93 105,-269.93 111,-263.93 117,-263.93 117,-263.93 185,-263.93 185,-263.93 191,-263.93 197,-269.93 197,-275.93 197,-275.93 197,-304.93 197,-304.93 197,-310.93 191,-316.93 185,-316.93\"/>\n<text text-anchor=\"middle\" x=\"151\" y=\"-301.73\" font-family=\"Times New Roman,serif\" font-size=\"14.00\">X</text>\n<text text-anchor=\"middle\" x=\"151\" y=\"-286.73\" font-family=\"Times New Roman,serif\" font-size=\"14.00\">~</text>\n<text text-anchor=\"middle\" x=\"151\" y=\"-271.73\" font-family=\"Times New Roman,serif\" font-size=\"14.00\">ConstantData</text>\n</g>\n<!-- X&#45;&gt;mu -->\n<g id=\"edge7\" class=\"edge\"><title>X&#45;&gt;mu</title>\n<path fill=\"none\" stroke=\"black\" d=\"M165.84,-263.763C175.961,-248.826 190.813,-231.175 209,-221.953 273.179,-189.412 483.365,-186.85 584.146,-187.595\"/>\n<polygon fill=\"black\" stroke=\"black\" points=\"584.393,-191.097 594.423,-187.685 584.454,-184.097 584.393,-191.097\"/>\n</g>\n<!-- alpha -->\n<g id=\"node6\" class=\"node\"><title>alpha</title>\n<ellipse fill=\"none\" stroke=\"black\" cx=\"98\" cy=\"-401.383\" rx=\"32.5538\" ry=\"37.4533\"/>\n<text text-anchor=\"middle\" x=\"98\" y=\"-412.683\" font-family=\"Times New Roman,serif\" font-size=\"14.00\">alpha</text>\n<text text-anchor=\"middle\" x=\"98\" y=\"-397.683\" font-family=\"Times New Roman,serif\" font-size=\"14.00\">~</text>\n<text text-anchor=\"middle\" x=\"98\" y=\"-382.683\" font-family=\"Times New Roman,serif\" font-size=\"14.00\">Beta</text>\n</g>\n<!-- phi -->\n<g id=\"node12\" class=\"node\"><title>phi</title>\n<ellipse fill=\"none\" stroke=\"black\" cx=\"254\" cy=\"-290.43\" rx=\"32.5538\" ry=\"37.4533\"/>\n<text text-anchor=\"middle\" x=\"254\" y=\"-301.73\" font-family=\"Times New Roman,serif\" font-size=\"14.00\">phi</text>\n<text text-anchor=\"middle\" x=\"254\" y=\"-286.73\" font-family=\"Times New Roman,serif\" font-size=\"14.00\">~</text>\n<text text-anchor=\"middle\" x=\"254\" y=\"-271.73\" font-family=\"Times New Roman,serif\" font-size=\"14.00\">CAR</text>\n</g>\n<!-- alpha&#45;&gt;phi -->\n<g id=\"edge1\" class=\"edge\"><title>alpha&#45;&gt;phi</title>\n<path fill=\"none\" stroke=\"black\" d=\"M122.716,-376.575C128.158,-372.019 134.073,-367.543 140,-363.907 168.209,-346.599 181.363,-354.113 209,-335.907 214.054,-332.577 219.016,-328.621 223.693,-324.462\"/>\n<polygon fill=\"black\" stroke=\"black\" points=\"226.373,-326.746 231.259,-317.346 221.577,-321.647 226.373,-326.746\"/>\n</g>\n<!-- betas_bar -->\n<g id=\"node7\" class=\"node\"><title>betas_bar</title>\n<ellipse fill=\"none\" stroke=\"black\" cx=\"632\" cy=\"-401.383\" rx=\"50.41\" ry=\"37.4533\"/>\n<text text-anchor=\"middle\" x=\"632\" y=\"-412.683\" font-family=\"Times New Roman,serif\" font-size=\"14.00\">betas_bar</text>\n<text text-anchor=\"middle\" x=\"632\" y=\"-397.683\" font-family=\"Times New Roman,serif\" font-size=\"14.00\">~</text>\n<text text-anchor=\"middle\" x=\"632\" y=\"-382.683\" font-family=\"Times New Roman,serif\" font-size=\"14.00\">Normal</text>\n</g>\n<!-- betas -->\n<g id=\"node14\" class=\"node\"><title>betas</title>\n<ellipse fill=\"none\" stroke=\"black\" cx=\"529\" cy=\"-290.43\" rx=\"41.0244\" ry=\"37.4533\"/>\n<text text-anchor=\"middle\" x=\"529\" y=\"-301.73\" font-family=\"Times New Roman,serif\" font-size=\"14.00\">betas</text>\n<text text-anchor=\"middle\" x=\"529\" y=\"-286.73\" font-family=\"Times New Roman,serif\" font-size=\"14.00\">~</text>\n<text text-anchor=\"middle\" x=\"529\" y=\"-271.73\" font-family=\"Times New Roman,serif\" font-size=\"14.00\">Normal</text>\n</g>\n<!-- betas_bar&#45;&gt;betas -->\n<g id=\"edge5\" class=\"edge\"><title>betas_bar&#45;&gt;betas</title>\n<path fill=\"none\" stroke=\"black\" d=\"M603.582,-370.323C590.921,-356.93 575.914,-341.055 562.692,-327.069\"/>\n<polygon fill=\"black\" stroke=\"black\" points=\"564.97,-324.384 555.556,-319.521 559.883,-329.193 564.97,-324.384\"/>\n</g>\n<!-- intercept_bar -->\n<g id=\"node8\" class=\"node\"><title>intercept_bar</title>\n<ellipse fill=\"none\" stroke=\"black\" cx=\"335\" cy=\"-401.383\" rx=\"63.7795\" ry=\"37.4533\"/>\n<text text-anchor=\"middle\" x=\"335\" y=\"-412.683\" font-family=\"Times New Roman,serif\" font-size=\"14.00\">intercept_bar</text>\n<text text-anchor=\"middle\" x=\"335\" y=\"-397.683\" font-family=\"Times New Roman,serif\" font-size=\"14.00\">~</text>\n<text text-anchor=\"middle\" x=\"335\" y=\"-382.683\" font-family=\"Times New Roman,serif\" font-size=\"14.00\">Normal</text>\n</g>\n<!-- intercept -->\n<g id=\"node13\" class=\"node\"><title>intercept</title>\n<ellipse fill=\"none\" stroke=\"black\" cx=\"412\" cy=\"-290.43\" rx=\"45.9239\" ry=\"37.4533\"/>\n<text text-anchor=\"middle\" x=\"412\" y=\"-301.73\" font-family=\"Times New Roman,serif\" font-size=\"14.00\">intercept</text>\n<text text-anchor=\"middle\" x=\"412\" y=\"-286.73\" font-family=\"Times New Roman,serif\" font-size=\"14.00\">~</text>\n<text text-anchor=\"middle\" x=\"412\" y=\"-271.73\" font-family=\"Times New Roman,serif\" font-size=\"14.00\">Normal</text>\n</g>\n<!-- intercept_bar&#45;&gt;intercept -->\n<g id=\"edge3\" class=\"edge\"><title>intercept_bar&#45;&gt;intercept</title>\n<path fill=\"none\" stroke=\"black\" d=\"M358.941,-366.507C366.681,-355.556 375.341,-343.302 383.384,-331.921\"/>\n<polygon fill=\"black\" stroke=\"black\" points=\"386.475,-333.611 389.389,-323.425 380.759,-329.571 386.475,-333.611\"/>\n</g>\n<!-- betas_sigma -->\n<g id=\"node9\" class=\"node\"><title>betas_sigma</title>\n<ellipse fill=\"none\" stroke=\"black\" cx=\"761\" cy=\"-401.383\" rx=\"60.623\" ry=\"37.4533\"/>\n<text text-anchor=\"middle\" x=\"761\" y=\"-412.683\" font-family=\"Times New Roman,serif\" font-size=\"14.00\">betas_sigma</text>\n<text text-anchor=\"middle\" x=\"761\" y=\"-397.683\" font-family=\"Times New Roman,serif\" font-size=\"14.00\">~</text>\n<text text-anchor=\"middle\" x=\"761\" y=\"-382.683\" font-family=\"Times New Roman,serif\" font-size=\"14.00\">Exponential</text>\n</g>\n<!-- betas_sigma&#45;&gt;betas -->\n<g id=\"edge6\" class=\"edge\"><title>betas_sigma&#45;&gt;betas</title>\n<path fill=\"none\" stroke=\"black\" d=\"M716.894,-375.466C708.454,-371.256 699.574,-367.192 691,-363.907 644.294,-346.01 626.484,-358.773 582,-335.907 575.971,-332.807 570.024,-328.913 564.416,-324.725\"/>\n<polygon fill=\"black\" stroke=\"black\" points=\"566.486,-321.899 556.473,-318.436 562.141,-327.387 566.486,-321.899\"/>\n</g>\n<!-- intercept_sigma -->\n<g id=\"node10\" class=\"node\"><title>intercept_sigma</title>\n<ellipse fill=\"none\" stroke=\"black\" cx=\"490\" cy=\"-401.383\" rx=\"73.5782\" ry=\"37.4533\"/>\n<text text-anchor=\"middle\" x=\"490\" y=\"-412.683\" font-family=\"Times New Roman,serif\" font-size=\"14.00\">intercept_sigma</text>\n<text text-anchor=\"middle\" x=\"490\" y=\"-397.683\" font-family=\"Times New Roman,serif\" font-size=\"14.00\">~</text>\n<text text-anchor=\"middle\" x=\"490\" y=\"-382.683\" font-family=\"Times New Roman,serif\" font-size=\"14.00\">Exponential</text>\n</g>\n<!-- intercept_sigma&#45;&gt;intercept -->\n<g id=\"edge4\" class=\"edge\"><title>intercept_sigma&#45;&gt;intercept</title>\n<path fill=\"none\" stroke=\"black\" d=\"M465.32,-365.91C457.496,-354.98 448.778,-342.803 440.696,-331.514\"/>\n<polygon fill=\"black\" stroke=\"black\" points=\"443.333,-329.184 434.666,-323.09 437.641,-333.259 443.333,-329.184\"/>\n</g>\n<!-- sigma_phi -->\n<g id=\"node11\" class=\"node\"><title>sigma_phi</title>\n<ellipse fill=\"none\" stroke=\"black\" cx=\"201\" cy=\"-401.383\" rx=\"52.1524\" ry=\"37.4533\"/>\n<text text-anchor=\"middle\" x=\"201\" y=\"-412.683\" font-family=\"Times New Roman,serif\" font-size=\"14.00\">sigma_phi</text>\n<text text-anchor=\"middle\" x=\"201\" y=\"-397.683\" font-family=\"Times New Roman,serif\" font-size=\"14.00\">~</text>\n<text text-anchor=\"middle\" x=\"201\" y=\"-382.683\" font-family=\"Times New Roman,serif\" font-size=\"14.00\">Uniform</text>\n</g>\n<!-- sigma_phi&#45;&gt;phi -->\n<g id=\"edge2\" class=\"edge\"><title>sigma_phi&#45;&gt;phi</title>\n<path fill=\"none\" stroke=\"black\" d=\"M217.915,-365.61C222.976,-355.206 228.576,-343.694 233.825,-332.904\"/>\n<polygon fill=\"black\" stroke=\"black\" points=\"237.098,-334.178 238.325,-323.654 230.803,-331.116 237.098,-334.178\"/>\n</g>\n<!-- phi&#45;&gt;mu -->\n<g id=\"edge12\" class=\"edge\"><title>phi&#45;&gt;mu</title>\n<path fill=\"none\" stroke=\"black\" d=\"M279.648,-267.033C298.79,-251.653 326.314,-232.226 354,-221.953 394.957,-206.756 513.55,-196.659 584.188,-191.807\"/>\n<polygon fill=\"black\" stroke=\"black\" points=\"584.504,-195.293 594.246,-191.129 584.034,-188.309 584.504,-195.293\"/>\n</g>\n<!-- intercept&#45;&gt;mu -->\n<g id=\"edge9\" class=\"edge\"><title>intercept&#45;&gt;mu</title>\n<path fill=\"none\" stroke=\"black\" d=\"M432.756,-256.979C442.551,-244.18 455.324,-230.518 470,-221.953 504.682,-201.715 549.464,-193.49 584.216,-190.245\"/>\n<polygon fill=\"black\" stroke=\"black\" points=\"584.516,-193.732 594.195,-189.422 583.941,-186.756 584.516,-193.732\"/>\n</g>\n<!-- betas&#45;&gt;mu -->\n<g id=\"edge10\" class=\"edge\"><title>betas&#45;&gt;mu</title>\n<path fill=\"none\" stroke=\"black\" d=\"M550.018,-257.78C558.979,-245.698 570.11,-232.343 582,-221.953 583.307,-220.811 584.659,-219.687 586.046,-218.582\"/>\n<polygon fill=\"black\" stroke=\"black\" points=\"588.333,-221.244 594.297,-212.487 584.174,-215.614 588.333,-221.244\"/>\n</g>\n<!-- y_missing&#45;&gt;y -->\n<g id=\"edge15\" class=\"edge\"><title>y_missing&#45;&gt;y</title>\n<path fill=\"none\" stroke=\"black\" d=\"M829.994,-113.773C836.446,-152.846 846.645,-214.613 853.072,-253.531\"/>\n<polygon fill=\"black\" stroke=\"black\" points=\"849.696,-254.567 854.778,-263.863 856.602,-253.427 849.696,-254.567\"/>\n</g>\n<!-- y_observed&#45;&gt;y -->\n<g id=\"edge16\" class=\"edge\"><title>y_observed&#45;&gt;y</title>\n<path fill=\"none\" stroke=\"black\" d=\"M684.613,-107.128C716.957,-135.429 765.978,-179.874 805,-221.953 814.756,-232.474 824.758,-244.55 833.461,-255.551\"/>\n<polygon fill=\"black\" stroke=\"black\" points=\"830.922,-257.986 839.838,-263.711 836.438,-253.676 830.922,-257.986\"/>\n</g>\n</g>\n</svg>\n",
      "text/plain": [
       "<graphviz.graphs.Digraph at 0x230c6b843a0>"
      ]
     },
     "metadata": {},
     "output_type": "display_data"
    },
    {
     "name": "stdout",
     "output_type": "stream",
     "text": [
      "varying_intercept_varying_covariate_car_model\n"
     ]
    },
    {
     "data": {
      "image/svg+xml": "<?xml version=\"1.0\" encoding=\"UTF-8\" standalone=\"no\"?>\n<!DOCTYPE svg PUBLIC \"-//W3C//DTD SVG 1.1//EN\"\n \"http://www.w3.org/Graphics/SVG/1.1/DTD/svg11.dtd\">\n<!-- Generated by graphviz version 2.38.0 (20140413.2041)\n -->\n<!-- Title: %3 Pages: 1 -->\n<svg width=\"1010pt\" height=\"447pt\"\n viewBox=\"0.00 0.00 1010.00 446.86\" xmlns=\"http://www.w3.org/2000/svg\" xmlns:xlink=\"http://www.w3.org/1999/xlink\">\n<g id=\"graph0\" class=\"graph\" transform=\"scale(1 1) rotate(0) translate(4 442.86)\">\n<title>%3</title>\n<polygon fill=\"white\" stroke=\"none\" points=\"-4,4 -4,-442.86 1006,-442.86 1006,4 -4,4\"/>\n<g id=\"clust1\" class=\"cluster\"><title>clusterobs_idx (384)</title>\n<path fill=\"none\" stroke=\"black\" d=\"M680,-129.953C680,-129.953 982,-129.953 982,-129.953 988,-129.953 994,-135.953 994,-141.953 994,-141.953 994,-312.93 994,-312.93 994,-318.93 988,-324.93 982,-324.93 982,-324.93 680,-324.93 680,-324.93 674,-324.93 668,-318.93 668,-312.93 668,-312.93 668,-141.953 668,-141.953 668,-135.953 674,-129.953 680,-129.953\"/>\n<text text-anchor=\"middle\" x=\"946.5\" y=\"-137.753\" font-family=\"Times New Roman,serif\" font-size=\"14.00\">obs_idx (384)</text>\n</g>\n<g id=\"clust6\" class=\"cluster\"><title>cluster211</title>\n<path fill=\"none\" stroke=\"black\" d=\"M858,-8C858,-8 954,-8 954,-8 960,-8 966,-14 966,-20 966,-20 966,-109.953 966,-109.953 966,-115.953 960,-121.953 954,-121.953 954,-121.953 858,-121.953 858,-121.953 852,-121.953 846,-115.953 846,-109.953 846,-109.953 846,-20 846,-20 846,-14 852,-8 858,-8\"/>\n<text text-anchor=\"middle\" x=\"947.5\" y=\"-15.8\" font-family=\"Times New Roman,serif\" font-size=\"14.00\">211</text>\n</g>\n<g id=\"clust7\" class=\"cluster\"><title>cluster173</title>\n<path fill=\"none\" stroke=\"black\" d=\"M677,-8C677,-8 787,-8 787,-8 793,-8 799,-14 799,-20 799,-20 799,-109.953 799,-109.953 799,-115.953 793,-121.953 787,-121.953 787,-121.953 677,-121.953 677,-121.953 671,-121.953 665,-115.953 665,-109.953 665,-109.953 665,-20 665,-20 665,-14 671,-8 677,-8\"/>\n<text text-anchor=\"middle\" x=\"780.5\" y=\"-15.8\" font-family=\"Times New Roman,serif\" font-size=\"14.00\">173</text>\n</g>\n<g id=\"clust3\" class=\"cluster\"><title>clusteradj_idx (96)</title>\n<path fill=\"none\" stroke=\"black\" d=\"M225,-221.953C225,-221.953 285,-221.953 285,-221.953 291,-221.953 297,-227.953 297,-233.953 297,-233.953 297,-323.907 297,-323.907 297,-329.907 291,-335.907 285,-335.907 285,-335.907 225,-335.907 225,-335.907 219,-335.907 213,-329.907 213,-323.907 213,-323.907 213,-233.953 213,-233.953 213,-227.953 219,-221.953 225,-221.953\"/>\n<text text-anchor=\"middle\" x=\"255\" y=\"-229.753\" font-family=\"Times New Roman,serif\" font-size=\"14.00\">adj_idx (96)</text>\n</g>\n<g id=\"clust4\" class=\"cluster\"><title>clusterspecies_idx (4)</title>\n<path fill=\"none\" stroke=\"black\" d=\"M352,-221.953C352,-221.953 436,-221.953 436,-221.953 442,-221.953 448,-227.953 448,-233.953 448,-233.953 448,-323.907 448,-323.907 448,-329.907 442,-335.907 436,-335.907 436,-335.907 352,-335.907 352,-335.907 346,-335.907 340,-329.907 340,-323.907 340,-323.907 340,-233.953 340,-233.953 340,-227.953 346,-221.953 352,-221.953\"/>\n<text text-anchor=\"middle\" x=\"397\" y=\"-229.753\" font-family=\"Times New Roman,serif\" font-size=\"14.00\">species_idx (4)</text>\n</g>\n<g id=\"clust2\" class=\"cluster\"><title>clusterobs_idx (384) x features_idx (9)</title>\n<path fill=\"none\" stroke=\"black\" d=\"M20,-232.93C20,-232.93 193,-232.93 193,-232.93 199,-232.93 205,-238.93 205,-244.93 205,-244.93 205,-312.93 205,-312.93 205,-318.93 199,-324.93 193,-324.93 193,-324.93 20,-324.93 20,-324.93 14,-324.93 8,-318.93 8,-312.93 8,-312.93 8,-244.93 8,-244.93 8,-238.93 14,-232.93 20,-232.93\"/>\n<text text-anchor=\"middle\" x=\"106.5\" y=\"-240.73\" font-family=\"Times New Roman,serif\" font-size=\"14.00\">obs_idx (384) x features_idx (9)</text>\n</g>\n<g id=\"clust5\" class=\"cluster\"><title>clusterspecies_idx (4) x features_idx (9)</title>\n<path fill=\"none\" stroke=\"black\" d=\"M468,-221.953C468,-221.953 648,-221.953 648,-221.953 654,-221.953 660,-227.953 660,-233.953 660,-233.953 660,-323.907 660,-323.907 660,-329.907 654,-335.907 648,-335.907 648,-335.907 468,-335.907 468,-335.907 462,-335.907 456,-329.907 456,-323.907 456,-323.907 456,-233.953 456,-233.953 456,-227.953 462,-221.953 468,-221.953\"/>\n<text text-anchor=\"middle\" x=\"558\" y=\"-229.753\" font-family=\"Times New Roman,serif\" font-size=\"14.00\">species_idx (4) x features_idx (9)</text>\n</g>\n<!-- adj_idx -->\n<g id=\"node1\" class=\"node\"><title>adj_idx</title>\n<path fill=\"lightgrey\" stroke=\"black\" d=\"M866,-316.93C866,-316.93 798,-316.93 798,-316.93 792,-316.93 786,-310.93 786,-304.93 786,-304.93 786,-275.93 786,-275.93 786,-269.93 792,-263.93 798,-263.93 798,-263.93 866,-263.93 866,-263.93 872,-263.93 878,-269.93 878,-275.93 878,-275.93 878,-304.93 878,-304.93 878,-310.93 872,-316.93 866,-316.93\"/>\n<text text-anchor=\"middle\" x=\"832\" y=\"-301.73\" font-family=\"Times New Roman,serif\" font-size=\"14.00\">adj_idx</text>\n<text text-anchor=\"middle\" x=\"832\" y=\"-286.73\" font-family=\"Times New Roman,serif\" font-size=\"14.00\">~</text>\n<text text-anchor=\"middle\" x=\"832\" y=\"-271.73\" font-family=\"Times New Roman,serif\" font-size=\"14.00\">ConstantData</text>\n</g>\n<!-- mu -->\n<g id=\"node4\" class=\"node\"><title>mu</title>\n<polygon fill=\"none\" stroke=\"black\" points=\"765.5,-213.953 676.5,-213.953 676.5,-160.953 765.5,-160.953 765.5,-213.953\"/>\n<text text-anchor=\"middle\" x=\"721\" y=\"-198.753\" font-family=\"Times New Roman,serif\" font-size=\"14.00\">mu</text>\n<text text-anchor=\"middle\" x=\"721\" y=\"-183.753\" font-family=\"Times New Roman,serif\" font-size=\"14.00\">~</text>\n<text text-anchor=\"middle\" x=\"721\" y=\"-168.753\" font-family=\"Times New Roman,serif\" font-size=\"14.00\">Deterministic</text>\n</g>\n<!-- adj_idx&#45;&gt;mu -->\n<g id=\"edge8\" class=\"edge\"><title>adj_idx&#45;&gt;mu</title>\n<path fill=\"none\" stroke=\"black\" d=\"M814.518,-263.888C804.522,-250.426 791.175,-234.212 777,-221.953 776.012,-221.099 774.999,-220.253 773.966,-219.418\"/>\n<polygon fill=\"black\" stroke=\"black\" points=\"775.814,-216.429 765.717,-213.222 771.61,-222.026 775.814,-216.429\"/>\n</g>\n<!-- species_idx -->\n<g id=\"node2\" class=\"node\"><title>species_idx</title>\n<path fill=\"lightgrey\" stroke=\"black\" d=\"M756,-316.93C756,-316.93 688,-316.93 688,-316.93 682,-316.93 676,-310.93 676,-304.93 676,-304.93 676,-275.93 676,-275.93 676,-269.93 682,-263.93 688,-263.93 688,-263.93 756,-263.93 756,-263.93 762,-263.93 768,-269.93 768,-275.93 768,-275.93 768,-304.93 768,-304.93 768,-310.93 762,-316.93 756,-316.93\"/>\n<text text-anchor=\"middle\" x=\"722\" y=\"-301.73\" font-family=\"Times New Roman,serif\" font-size=\"14.00\">species_idx</text>\n<text text-anchor=\"middle\" x=\"722\" y=\"-286.73\" font-family=\"Times New Roman,serif\" font-size=\"14.00\">~</text>\n<text text-anchor=\"middle\" x=\"722\" y=\"-271.73\" font-family=\"Times New Roman,serif\" font-size=\"14.00\">ConstantData</text>\n</g>\n<!-- species_idx&#45;&gt;mu -->\n<g id=\"edge11\" class=\"edge\"><title>species_idx&#45;&gt;mu</title>\n<path fill=\"none\" stroke=\"black\" d=\"M721.745,-263.688C721.626,-251.7 721.483,-237.24 721.354,-224.213\"/>\n<polygon fill=\"black\" stroke=\"black\" points=\"724.853,-224.113 721.254,-214.148 717.854,-224.182 724.853,-224.113\"/>\n</g>\n<!-- y -->\n<g id=\"node3\" class=\"node\"><title>y</title>\n<polygon fill=\"none\" stroke=\"black\" points=\"985.5,-316.93 896.5,-316.93 896.5,-263.93 985.5,-263.93 985.5,-316.93\"/>\n<text text-anchor=\"middle\" x=\"941\" y=\"-301.73\" font-family=\"Times New Roman,serif\" font-size=\"14.00\">y</text>\n<text text-anchor=\"middle\" x=\"941\" y=\"-286.73\" font-family=\"Times New Roman,serif\" font-size=\"14.00\">~</text>\n<text text-anchor=\"middle\" x=\"941\" y=\"-271.73\" font-family=\"Times New Roman,serif\" font-size=\"14.00\">Deterministic</text>\n</g>\n<!-- y_missing -->\n<g id=\"node15\" class=\"node\"><title>y_missing</title>\n<ellipse fill=\"none\" stroke=\"black\" cx=\"906\" cy=\"-76.4767\" rx=\"51.7379\" ry=\"37.4533\"/>\n<text text-anchor=\"middle\" x=\"906\" y=\"-87.7767\" font-family=\"Times New Roman,serif\" font-size=\"14.00\">y_missing</text>\n<text text-anchor=\"middle\" x=\"906\" y=\"-72.7767\" font-family=\"Times New Roman,serif\" font-size=\"14.00\">~</text>\n<text text-anchor=\"middle\" x=\"906\" y=\"-57.7767\" font-family=\"Times New Roman,serif\" font-size=\"14.00\">Poisson</text>\n</g>\n<!-- mu&#45;&gt;y_missing -->\n<g id=\"edge13\" class=\"edge\"><title>mu&#45;&gt;y_missing</title>\n<path fill=\"none\" stroke=\"black\" d=\"M764.374,-160.903C792.345,-144.426 828.759,-122.976 857.659,-105.953\"/>\n<polygon fill=\"black\" stroke=\"black\" points=\"859.529,-108.913 866.369,-100.822 855.976,-102.882 859.529,-108.913\"/>\n</g>\n<!-- y_observed -->\n<g id=\"node16\" class=\"node\"><title>y_observed</title>\n<ellipse fill=\"lightgrey\" stroke=\"black\" cx=\"732\" cy=\"-76.4767\" rx=\"58.8803\" ry=\"37.4533\"/>\n<text text-anchor=\"middle\" x=\"732\" y=\"-87.7767\" font-family=\"Times New Roman,serif\" font-size=\"14.00\">y_observed</text>\n<text text-anchor=\"middle\" x=\"732\" y=\"-72.7767\" font-family=\"Times New Roman,serif\" font-size=\"14.00\">~</text>\n<text text-anchor=\"middle\" x=\"732\" y=\"-57.7767\" font-family=\"Times New Roman,serif\" font-size=\"14.00\">Poisson</text>\n</g>\n<!-- mu&#45;&gt;y_observed -->\n<g id=\"edge14\" class=\"edge\"><title>mu&#45;&gt;y_observed</title>\n<path fill=\"none\" stroke=\"black\" d=\"M723.579,-160.903C724.691,-149.883 726.028,-136.638 727.306,-123.981\"/>\n<polygon fill=\"black\" stroke=\"black\" points=\"730.79,-124.31 728.312,-114.009 723.826,-123.607 730.79,-124.31\"/>\n</g>\n<!-- X -->\n<g id=\"node5\" class=\"node\"><title>X</title>\n<path fill=\"lightgrey\" stroke=\"black\" d=\"M185,-316.93C185,-316.93 117,-316.93 117,-316.93 111,-316.93 105,-310.93 105,-304.93 105,-304.93 105,-275.93 105,-275.93 105,-269.93 111,-263.93 117,-263.93 117,-263.93 185,-263.93 185,-263.93 191,-263.93 197,-269.93 197,-275.93 197,-275.93 197,-304.93 197,-304.93 197,-310.93 191,-316.93 185,-316.93\"/>\n<text text-anchor=\"middle\" x=\"151\" y=\"-301.73\" font-family=\"Times New Roman,serif\" font-size=\"14.00\">X</text>\n<text text-anchor=\"middle\" x=\"151\" y=\"-286.73\" font-family=\"Times New Roman,serif\" font-size=\"14.00\">~</text>\n<text text-anchor=\"middle\" x=\"151\" y=\"-271.73\" font-family=\"Times New Roman,serif\" font-size=\"14.00\">ConstantData</text>\n</g>\n<!-- X&#45;&gt;mu -->\n<g id=\"edge7\" class=\"edge\"><title>X&#45;&gt;mu</title>\n<path fill=\"none\" stroke=\"black\" d=\"M165.8,-263.684C175.906,-248.717 190.757,-231.062 209,-221.953 249.116,-201.925 542.832,-192.679 666.429,-189.644\"/>\n<polygon fill=\"black\" stroke=\"black\" points=\"666.528,-193.142 676.44,-189.402 666.359,-186.144 666.528,-193.142\"/>\n</g>\n<!-- alpha -->\n<g id=\"node6\" class=\"node\"><title>alpha</title>\n<ellipse fill=\"none\" stroke=\"black\" cx=\"117\" cy=\"-401.383\" rx=\"32.5538\" ry=\"37.4533\"/>\n<text text-anchor=\"middle\" x=\"117\" y=\"-412.683\" font-family=\"Times New Roman,serif\" font-size=\"14.00\">alpha</text>\n<text text-anchor=\"middle\" x=\"117\" y=\"-397.683\" font-family=\"Times New Roman,serif\" font-size=\"14.00\">~</text>\n<text text-anchor=\"middle\" x=\"117\" y=\"-382.683\" font-family=\"Times New Roman,serif\" font-size=\"14.00\">Beta</text>\n</g>\n<!-- phi -->\n<g id=\"node12\" class=\"node\"><title>phi</title>\n<ellipse fill=\"none\" stroke=\"black\" cx=\"254\" cy=\"-290.43\" rx=\"32.5538\" ry=\"37.4533\"/>\n<text text-anchor=\"middle\" x=\"254\" y=\"-301.73\" font-family=\"Times New Roman,serif\" font-size=\"14.00\">phi</text>\n<text text-anchor=\"middle\" x=\"254\" y=\"-286.73\" font-family=\"Times New Roman,serif\" font-size=\"14.00\">~</text>\n<text text-anchor=\"middle\" x=\"254\" y=\"-271.73\" font-family=\"Times New Roman,serif\" font-size=\"14.00\">CAR</text>\n</g>\n<!-- alpha&#45;&gt;phi -->\n<g id=\"edge1\" class=\"edge\"><title>alpha&#45;&gt;phi</title>\n<path fill=\"none\" stroke=\"black\" d=\"M142.086,-377.138C147.501,-372.541 153.312,-367.906 159,-363.907 179.835,-349.257 188.648,-351.219 209,-335.907 213.723,-332.353 218.449,-328.328 222.968,-324.187\"/>\n<polygon fill=\"black\" stroke=\"black\" points=\"225.509,-326.6 230.34,-317.171 220.684,-321.529 225.509,-326.6\"/>\n</g>\n<!-- betas_bar -->\n<g id=\"node7\" class=\"node\"><title>betas_bar</title>\n<ellipse fill=\"none\" stroke=\"black\" cx=\"651\" cy=\"-401.383\" rx=\"50.41\" ry=\"37.4533\"/>\n<text text-anchor=\"middle\" x=\"651\" y=\"-412.683\" font-family=\"Times New Roman,serif\" font-size=\"14.00\">betas_bar</text>\n<text text-anchor=\"middle\" x=\"651\" y=\"-397.683\" font-family=\"Times New Roman,serif\" font-size=\"14.00\">~</text>\n<text text-anchor=\"middle\" x=\"651\" y=\"-382.683\" font-family=\"Times New Roman,serif\" font-size=\"14.00\">Normal</text>\n</g>\n<!-- betas -->\n<g id=\"node14\" class=\"node\"><title>betas</title>\n<ellipse fill=\"none\" stroke=\"black\" cx=\"611\" cy=\"-290.43\" rx=\"41.0244\" ry=\"37.4533\"/>\n<text text-anchor=\"middle\" x=\"611\" y=\"-301.73\" font-family=\"Times New Roman,serif\" font-size=\"14.00\">betas</text>\n<text text-anchor=\"middle\" x=\"611\" y=\"-286.73\" font-family=\"Times New Roman,serif\" font-size=\"14.00\">~</text>\n<text text-anchor=\"middle\" x=\"611\" y=\"-271.73\" font-family=\"Times New Roman,serif\" font-size=\"14.00\">Normal</text>\n</g>\n<!-- betas_bar&#45;&gt;betas -->\n<g id=\"edge5\" class=\"edge\"><title>betas_bar&#45;&gt;betas</title>\n<path fill=\"none\" stroke=\"black\" d=\"M638.013,-365.009C634.591,-355.689 630.856,-345.514 627.284,-335.786\"/>\n<polygon fill=\"black\" stroke=\"black\" points=\"630.517,-334.436 623.785,-326.255 623.946,-336.848 630.517,-334.436\"/>\n</g>\n<!-- intercept_bar -->\n<g id=\"node8\" class=\"node\"><title>intercept_bar</title>\n<ellipse fill=\"none\" stroke=\"black\" cx=\"354\" cy=\"-401.383\" rx=\"63.7795\" ry=\"37.4533\"/>\n<text text-anchor=\"middle\" x=\"354\" y=\"-412.683\" font-family=\"Times New Roman,serif\" font-size=\"14.00\">intercept_bar</text>\n<text text-anchor=\"middle\" x=\"354\" y=\"-397.683\" font-family=\"Times New Roman,serif\" font-size=\"14.00\">~</text>\n<text text-anchor=\"middle\" x=\"354\" y=\"-382.683\" font-family=\"Times New Roman,serif\" font-size=\"14.00\">Normal</text>\n</g>\n<!-- intercept -->\n<g id=\"node13\" class=\"node\"><title>intercept</title>\n<ellipse fill=\"none\" stroke=\"black\" cx=\"394\" cy=\"-290.43\" rx=\"45.9239\" ry=\"37.4533\"/>\n<text text-anchor=\"middle\" x=\"394\" y=\"-301.73\" font-family=\"Times New Roman,serif\" font-size=\"14.00\">intercept</text>\n<text text-anchor=\"middle\" x=\"394\" y=\"-286.73\" font-family=\"Times New Roman,serif\" font-size=\"14.00\">~</text>\n<text text-anchor=\"middle\" x=\"394\" y=\"-271.73\" font-family=\"Times New Roman,serif\" font-size=\"14.00\">Normal</text>\n</g>\n<!-- intercept_bar&#45;&gt;intercept -->\n<g id=\"edge3\" class=\"edge\"><title>intercept_bar&#45;&gt;intercept</title>\n<path fill=\"none\" stroke=\"black\" d=\"M367.097,-364.708C370.481,-355.492 374.165,-345.457 377.69,-335.855\"/>\n<polygon fill=\"black\" stroke=\"black\" points=\"380.985,-337.036 381.146,-326.442 374.414,-334.623 380.985,-337.036\"/>\n</g>\n<!-- betas_sigma -->\n<g id=\"node9\" class=\"node\"><title>betas_sigma</title>\n<ellipse fill=\"none\" stroke=\"black\" cx=\"780\" cy=\"-401.383\" rx=\"60.623\" ry=\"37.4533\"/>\n<text text-anchor=\"middle\" x=\"780\" y=\"-412.683\" font-family=\"Times New Roman,serif\" font-size=\"14.00\">betas_sigma</text>\n<text text-anchor=\"middle\" x=\"780\" y=\"-397.683\" font-family=\"Times New Roman,serif\" font-size=\"14.00\">~</text>\n<text text-anchor=\"middle\" x=\"780\" y=\"-382.683\" font-family=\"Times New Roman,serif\" font-size=\"14.00\">Exponential</text>\n</g>\n<!-- betas_sigma&#45;&gt;betas -->\n<g id=\"edge6\" class=\"edge\"><title>betas_sigma&#45;&gt;betas</title>\n<path fill=\"none\" stroke=\"black\" d=\"M734.439,-376.211C707.671,-361.785 676.67,-344.625 664,-335.907 658.675,-332.242 653.247,-328.153 647.994,-323.98\"/>\n<polygon fill=\"black\" stroke=\"black\" points=\"649.887,-321.007 639.925,-317.401 645.464,-326.433 649.887,-321.007\"/>\n</g>\n<!-- intercept_sigma -->\n<g id=\"node10\" class=\"node\"><title>intercept_sigma</title>\n<ellipse fill=\"none\" stroke=\"black\" cx=\"509\" cy=\"-401.383\" rx=\"73.5782\" ry=\"37.4533\"/>\n<text text-anchor=\"middle\" x=\"509\" y=\"-412.683\" font-family=\"Times New Roman,serif\" font-size=\"14.00\">intercept_sigma</text>\n<text text-anchor=\"middle\" x=\"509\" y=\"-397.683\" font-family=\"Times New Roman,serif\" font-size=\"14.00\">~</text>\n<text text-anchor=\"middle\" x=\"509\" y=\"-382.683\" font-family=\"Times New Roman,serif\" font-size=\"14.00\">Exponential</text>\n</g>\n<!-- intercept_sigma&#45;&gt;intercept -->\n<g id=\"edge4\" class=\"edge\"><title>intercept_sigma&#45;&gt;intercept</title>\n<path fill=\"none\" stroke=\"black\" d=\"M474.808,-367.989C461.065,-354.969 445.185,-339.923 431.158,-326.634\"/>\n<polygon fill=\"black\" stroke=\"black\" points=\"433.248,-323.793 423.582,-319.456 428.434,-328.875 433.248,-323.793\"/>\n</g>\n<!-- sigma_phi -->\n<g id=\"node11\" class=\"node\"><title>sigma_phi</title>\n<ellipse fill=\"none\" stroke=\"black\" cx=\"220\" cy=\"-401.383\" rx=\"52.1524\" ry=\"37.4533\"/>\n<text text-anchor=\"middle\" x=\"220\" y=\"-412.683\" font-family=\"Times New Roman,serif\" font-size=\"14.00\">sigma_phi</text>\n<text text-anchor=\"middle\" x=\"220\" y=\"-397.683\" font-family=\"Times New Roman,serif\" font-size=\"14.00\">~</text>\n<text text-anchor=\"middle\" x=\"220\" y=\"-382.683\" font-family=\"Times New Roman,serif\" font-size=\"14.00\">Uniform</text>\n</g>\n<!-- sigma_phi&#45;&gt;phi -->\n<g id=\"edge2\" class=\"edge\"><title>sigma_phi&#45;&gt;phi</title>\n<path fill=\"none\" stroke=\"black\" d=\"M231.133,-364.708C234.008,-355.496 237.138,-345.466 240.133,-335.867\"/>\n<polygon fill=\"black\" stroke=\"black\" points=\"243.552,-336.661 243.19,-326.072 236.87,-334.575 243.552,-336.661\"/>\n</g>\n<!-- phi&#45;&gt;mu -->\n<g id=\"edge12\" class=\"edge\"><title>phi&#45;&gt;mu</title>\n<path fill=\"none\" stroke=\"black\" d=\"M277.221,-263.748C292.373,-248.806 313.47,-231.153 336,-221.953 394.389,-198.111 574.66,-191.221 666.303,-189.242\"/>\n<polygon fill=\"black\" stroke=\"black\" points=\"666.566,-192.737 676.492,-189.034 666.423,-185.739 666.566,-192.737\"/>\n</g>\n<!-- intercept&#45;&gt;mu -->\n<g id=\"edge9\" class=\"edge\"><title>intercept&#45;&gt;mu</title>\n<path fill=\"none\" stroke=\"black\" d=\"M414.466,-256.459C424.211,-243.573 437.026,-229.985 452,-221.953 487.947,-202.672 598.557,-194.142 666.23,-190.645\"/>\n<polygon fill=\"black\" stroke=\"black\" points=\"666.483,-194.137 676.297,-190.145 666.136,-187.145 666.483,-194.137\"/>\n</g>\n<!-- betas&#45;&gt;mu -->\n<g id=\"edge10\" class=\"edge\"><title>betas&#45;&gt;mu</title>\n<path fill=\"none\" stroke=\"black\" d=\"M632.018,-257.78C640.979,-245.698 652.11,-232.343 664,-221.953 665.307,-220.811 666.659,-219.687 668.046,-218.582\"/>\n<polygon fill=\"black\" stroke=\"black\" points=\"670.333,-221.244 676.297,-212.487 666.174,-215.614 670.333,-221.244\"/>\n</g>\n<!-- y_missing&#45;&gt;y -->\n<g id=\"edge15\" class=\"edge\"><title>y_missing&#45;&gt;y</title>\n<path fill=\"none\" stroke=\"black\" d=\"M911.994,-113.773C918.446,-152.846 928.645,-214.613 935.072,-253.531\"/>\n<polygon fill=\"black\" stroke=\"black\" points=\"931.696,-254.567 936.778,-263.863 938.602,-253.427 931.696,-254.567\"/>\n</g>\n<!-- y_observed&#45;&gt;y -->\n<g id=\"edge16\" class=\"edge\"><title>y_observed&#45;&gt;y</title>\n<path fill=\"none\" stroke=\"black\" d=\"M766.613,-107.128C798.957,-135.429 847.978,-179.874 887,-221.953 896.756,-232.474 906.758,-244.55 915.461,-255.551\"/>\n<polygon fill=\"black\" stroke=\"black\" points=\"912.922,-257.986 921.838,-263.711 918.438,-253.676 912.922,-257.986\"/>\n</g>\n</g>\n</svg>\n",
      "text/plain": [
       "<graphviz.graphs.Digraph at 0x230c6baccd0>"
      ]
     },
     "metadata": {},
     "output_type": "display_data"
    }
   ],
   "source": [
    "from birdcall_distribution import model\n",
    "import pymc as pm\n",
    "import arviz as az\n",
    "\n",
    "# display function\n",
    "from IPython.display import display\n",
    "\n",
    "models = {\n",
    "    \"varying_intercept_model\": model.make_varying_intercept_model,\n",
    "    \"pooled_intercept_pooled_covariate_model\": model.make_pooled_intercept_pooled_covariate_model,\n",
    "    \"pooled_intercept_varying_covariate_model\": model.make_pooled_intercept_varying_covariate_model,\n",
    "    \"varying_intercept_pooled_covariate_model\": model.make_varying_intercept_pooled_covariate_model,\n",
    "    \"varying_intercept_varying_covariate_model\": model.make_varying_intercept_varying_covariate_model,\n",
    "    \"varying_intercept_car_model\": model.make_varying_intercept_car_model,\n",
    "    \"pooled_intercept_car_model\": model.make_pooled_intercept_car_model,\n",
    "    \"pooled_intercept_varying_covariate_car_model\": model.make_pooled_intercept_varying_covariate_car_model,\n",
    "    \"varying_intercept_pooled_covariate_car_model\": model.make_varying_intercept_pooled_covariate_car_model,\n",
    "    \"varying_intercept_varying_covariate_car_model\": model.make_varying_intercept_varying_covariate_car_model,\n",
    "}\n",
    "\n",
    "# test that all the models are dimensionally correct\n",
    "for name, func in models.items():\n",
    "    print(name)\n",
    "    m = func(prep_df, W)\n",
    "    # graphviz\n",
    "    display(pm.model_to_graphviz(m))"
   ]
  },
  {
   "cell_type": "code",
   "execution_count": 7,
   "metadata": {},
   "outputs": [
    {
     "name": "stderr",
     "output_type": "stream",
     "text": [
      "Only 10 samples in chain.\n"
     ]
    },
    {
     "name": "stdout",
     "output_type": "stream",
     "text": [
      "varying_intercept_model\n"
     ]
    },
    {
     "name": "stderr",
     "output_type": "stream",
     "text": [
      "Sequential sampling (1 chains in 1 job)\n",
      "CompoundStep\n",
      ">NUTS: [intercept]\n",
      ">Metropolis: [y_missing]\n"
     ]
    },
    {
     "data": {
      "text/html": [
       "\n",
       "<style>\n",
       "    /* Turns off some styling */\n",
       "    progress {\n",
       "        /* gets rid of default border in Firefox and Opera. */\n",
       "        border: none;\n",
       "        /* Needs to be in here for Safari polyfill so background images work as expected. */\n",
       "        background-size: auto;\n",
       "    }\n",
       "    progress:not([value]), progress:not([value])::-webkit-progress-bar {\n",
       "        background: repeating-linear-gradient(45deg, #7e7e7e, #7e7e7e 10px, #5c5c5c 10px, #5c5c5c 20px);\n",
       "    }\n",
       "    .progress-bar-interrupted, .progress-bar-interrupted::-webkit-progress-bar {\n",
       "        background: #F44336;\n",
       "    }\n",
       "</style>\n"
      ],
      "text/plain": [
       "<IPython.core.display.HTML object>"
      ]
     },
     "metadata": {},
     "output_type": "display_data"
    },
    {
     "data": {
      "text/html": [
       "\n",
       "    <div>\n",
       "      <progress value='10' class='' max='10' style='width:300px; height:20px; vertical-align: middle;'></progress>\n",
       "      100.00% [10/10 00:00&lt;00:00 Sampling chain 0, 9 divergences]\n",
       "    </div>\n",
       "    "
      ],
      "text/plain": [
       "<IPython.core.display.HTML object>"
      ]
     },
     "metadata": {},
     "output_type": "display_data"
    },
    {
     "name": "stderr",
     "output_type": "stream",
     "text": [
      "Sampling 1 chain for 0 tune and 10 draw iterations (0 + 10 draws total) took 0 seconds.\n",
      "Only 10 samples in chain.\n"
     ]
    },
    {
     "name": "stdout",
     "output_type": "stream",
     "text": [
      "pooled_intercept_pooled_covariate_model\n"
     ]
    },
    {
     "name": "stderr",
     "output_type": "stream",
     "text": [
      "Sequential sampling (1 chains in 1 job)\n",
      "CompoundStep\n",
      ">NUTS: [intercept, betas_bar, betas_sigma, betas]\n",
      ">Metropolis: [y_missing]\n"
     ]
    },
    {
     "data": {
      "text/html": [
       "\n",
       "<style>\n",
       "    /* Turns off some styling */\n",
       "    progress {\n",
       "        /* gets rid of default border in Firefox and Opera. */\n",
       "        border: none;\n",
       "        /* Needs to be in here for Safari polyfill so background images work as expected. */\n",
       "        background-size: auto;\n",
       "    }\n",
       "    progress:not([value]), progress:not([value])::-webkit-progress-bar {\n",
       "        background: repeating-linear-gradient(45deg, #7e7e7e, #7e7e7e 10px, #5c5c5c 10px, #5c5c5c 20px);\n",
       "    }\n",
       "    .progress-bar-interrupted, .progress-bar-interrupted::-webkit-progress-bar {\n",
       "        background: #F44336;\n",
       "    }\n",
       "</style>\n"
      ],
      "text/plain": [
       "<IPython.core.display.HTML object>"
      ]
     },
     "metadata": {},
     "output_type": "display_data"
    },
    {
     "data": {
      "text/html": [
       "\n",
       "    <div>\n",
       "      <progress value='10' class='' max='10' style='width:300px; height:20px; vertical-align: middle;'></progress>\n",
       "      100.00% [10/10 00:00&lt;00:00 Sampling chain 0, 9 divergences]\n",
       "    </div>\n",
       "    "
      ],
      "text/plain": [
       "<IPython.core.display.HTML object>"
      ]
     },
     "metadata": {},
     "output_type": "display_data"
    },
    {
     "name": "stderr",
     "output_type": "stream",
     "text": [
      "Sampling 1 chain for 0 tune and 10 draw iterations (0 + 10 draws total) took 0 seconds.\n",
      "Only 10 samples in chain.\n"
     ]
    },
    {
     "name": "stdout",
     "output_type": "stream",
     "text": [
      "pooled_intercept_varying_covariate_model\n"
     ]
    },
    {
     "name": "stderr",
     "output_type": "stream",
     "text": [
      "Sequential sampling (1 chains in 1 job)\n",
      "CompoundStep\n",
      ">NUTS: [intercept, betas_bar, betas_sigma, betas]\n",
      ">Metropolis: [y_missing]\n"
     ]
    },
    {
     "data": {
      "text/html": [
       "\n",
       "<style>\n",
       "    /* Turns off some styling */\n",
       "    progress {\n",
       "        /* gets rid of default border in Firefox and Opera. */\n",
       "        border: none;\n",
       "        /* Needs to be in here for Safari polyfill so background images work as expected. */\n",
       "        background-size: auto;\n",
       "    }\n",
       "    progress:not([value]), progress:not([value])::-webkit-progress-bar {\n",
       "        background: repeating-linear-gradient(45deg, #7e7e7e, #7e7e7e 10px, #5c5c5c 10px, #5c5c5c 20px);\n",
       "    }\n",
       "    .progress-bar-interrupted, .progress-bar-interrupted::-webkit-progress-bar {\n",
       "        background: #F44336;\n",
       "    }\n",
       "</style>\n"
      ],
      "text/plain": [
       "<IPython.core.display.HTML object>"
      ]
     },
     "metadata": {},
     "output_type": "display_data"
    },
    {
     "data": {
      "text/html": [
       "\n",
       "    <div>\n",
       "      <progress value='10' class='' max='10' style='width:300px; height:20px; vertical-align: middle;'></progress>\n",
       "      100.00% [10/10 00:00&lt;00:00 Sampling chain 0, 9 divergences]\n",
       "    </div>\n",
       "    "
      ],
      "text/plain": [
       "<IPython.core.display.HTML object>"
      ]
     },
     "metadata": {},
     "output_type": "display_data"
    },
    {
     "name": "stderr",
     "output_type": "stream",
     "text": [
      "Sampling 1 chain for 0 tune and 10 draw iterations (0 + 10 draws total) took 0 seconds.\n",
      "Only 10 samples in chain.\n"
     ]
    },
    {
     "name": "stdout",
     "output_type": "stream",
     "text": [
      "varying_intercept_pooled_covariate_model\n"
     ]
    },
    {
     "name": "stderr",
     "output_type": "stream",
     "text": [
      "Sequential sampling (1 chains in 1 job)\n",
      "CompoundStep\n",
      ">NUTS: [intercept_bar, intercept_sigma, intercept, betas_bar, betas_sigma, betas]\n",
      ">Metropolis: [y_missing]\n"
     ]
    },
    {
     "data": {
      "text/html": [
       "\n",
       "<style>\n",
       "    /* Turns off some styling */\n",
       "    progress {\n",
       "        /* gets rid of default border in Firefox and Opera. */\n",
       "        border: none;\n",
       "        /* Needs to be in here for Safari polyfill so background images work as expected. */\n",
       "        background-size: auto;\n",
       "    }\n",
       "    progress:not([value]), progress:not([value])::-webkit-progress-bar {\n",
       "        background: repeating-linear-gradient(45deg, #7e7e7e, #7e7e7e 10px, #5c5c5c 10px, #5c5c5c 20px);\n",
       "    }\n",
       "    .progress-bar-interrupted, .progress-bar-interrupted::-webkit-progress-bar {\n",
       "        background: #F44336;\n",
       "    }\n",
       "</style>\n"
      ],
      "text/plain": [
       "<IPython.core.display.HTML object>"
      ]
     },
     "metadata": {},
     "output_type": "display_data"
    },
    {
     "data": {
      "text/html": [
       "\n",
       "    <div>\n",
       "      <progress value='10' class='' max='10' style='width:300px; height:20px; vertical-align: middle;'></progress>\n",
       "      100.00% [10/10 00:00&lt;00:00 Sampling chain 0, 9 divergences]\n",
       "    </div>\n",
       "    "
      ],
      "text/plain": [
       "<IPython.core.display.HTML object>"
      ]
     },
     "metadata": {},
     "output_type": "display_data"
    },
    {
     "name": "stderr",
     "output_type": "stream",
     "text": [
      "Sampling 1 chain for 0 tune and 10 draw iterations (0 + 10 draws total) took 0 seconds.\n",
      "Only 10 samples in chain.\n"
     ]
    },
    {
     "name": "stdout",
     "output_type": "stream",
     "text": [
      "varying_intercept_varying_covariate_model\n"
     ]
    },
    {
     "name": "stderr",
     "output_type": "stream",
     "text": [
      "Sequential sampling (1 chains in 1 job)\n",
      "CompoundStep\n",
      ">NUTS: [intercept_bar, intercept_sigma, intercept, betas_bar, betas_sigma, betas]\n",
      ">Metropolis: [y_missing]\n"
     ]
    },
    {
     "data": {
      "text/html": [
       "\n",
       "<style>\n",
       "    /* Turns off some styling */\n",
       "    progress {\n",
       "        /* gets rid of default border in Firefox and Opera. */\n",
       "        border: none;\n",
       "        /* Needs to be in here for Safari polyfill so background images work as expected. */\n",
       "        background-size: auto;\n",
       "    }\n",
       "    progress:not([value]), progress:not([value])::-webkit-progress-bar {\n",
       "        background: repeating-linear-gradient(45deg, #7e7e7e, #7e7e7e 10px, #5c5c5c 10px, #5c5c5c 20px);\n",
       "    }\n",
       "    .progress-bar-interrupted, .progress-bar-interrupted::-webkit-progress-bar {\n",
       "        background: #F44336;\n",
       "    }\n",
       "</style>\n"
      ],
      "text/plain": [
       "<IPython.core.display.HTML object>"
      ]
     },
     "metadata": {},
     "output_type": "display_data"
    },
    {
     "data": {
      "text/html": [
       "\n",
       "    <div>\n",
       "      <progress value='10' class='' max='10' style='width:300px; height:20px; vertical-align: middle;'></progress>\n",
       "      100.00% [10/10 00:00&lt;00:00 Sampling chain 0, 9 divergences]\n",
       "    </div>\n",
       "    "
      ],
      "text/plain": [
       "<IPython.core.display.HTML object>"
      ]
     },
     "metadata": {},
     "output_type": "display_data"
    },
    {
     "name": "stderr",
     "output_type": "stream",
     "text": [
      "Sampling 1 chain for 0 tune and 10 draw iterations (0 + 10 draws total) took 0 seconds.\n",
      "Only 10 samples in chain.\n"
     ]
    },
    {
     "name": "stdout",
     "output_type": "stream",
     "text": [
      "varying_intercept_car_model\n"
     ]
    },
    {
     "name": "stderr",
     "output_type": "stream",
     "text": [
      "Sequential sampling (1 chains in 1 job)\n",
      "CompoundStep\n",
      ">NUTS: [alpha, sigma_phi, phi, intercept_bar, intercept_sigma, intercept]\n",
      ">Metropolis: [y_missing]\n"
     ]
    },
    {
     "data": {
      "text/html": [
       "\n",
       "<style>\n",
       "    /* Turns off some styling */\n",
       "    progress {\n",
       "        /* gets rid of default border in Firefox and Opera. */\n",
       "        border: none;\n",
       "        /* Needs to be in here for Safari polyfill so background images work as expected. */\n",
       "        background-size: auto;\n",
       "    }\n",
       "    progress:not([value]), progress:not([value])::-webkit-progress-bar {\n",
       "        background: repeating-linear-gradient(45deg, #7e7e7e, #7e7e7e 10px, #5c5c5c 10px, #5c5c5c 20px);\n",
       "    }\n",
       "    .progress-bar-interrupted, .progress-bar-interrupted::-webkit-progress-bar {\n",
       "        background: #F44336;\n",
       "    }\n",
       "</style>\n"
      ],
      "text/plain": [
       "<IPython.core.display.HTML object>"
      ]
     },
     "metadata": {},
     "output_type": "display_data"
    },
    {
     "data": {
      "text/html": [
       "\n",
       "    <div>\n",
       "      <progress value='10' class='' max='10' style='width:300px; height:20px; vertical-align: middle;'></progress>\n",
       "      100.00% [10/10 00:00&lt;00:00 Sampling chain 0, 9 divergences]\n",
       "    </div>\n",
       "    "
      ],
      "text/plain": [
       "<IPython.core.display.HTML object>"
      ]
     },
     "metadata": {},
     "output_type": "display_data"
    },
    {
     "name": "stderr",
     "output_type": "stream",
     "text": [
      "Sampling 1 chain for 0 tune and 10 draw iterations (0 + 10 draws total) took 0 seconds.\n",
      "Only 10 samples in chain.\n"
     ]
    },
    {
     "name": "stdout",
     "output_type": "stream",
     "text": [
      "pooled_intercept_car_model\n"
     ]
    },
    {
     "name": "stderr",
     "output_type": "stream",
     "text": [
      "Sequential sampling (1 chains in 1 job)\n",
      "CompoundStep\n",
      ">NUTS: [alpha, sigma_phi, phi, intercept]\n",
      ">Metropolis: [y_missing]\n"
     ]
    },
    {
     "data": {
      "text/html": [
       "\n",
       "<style>\n",
       "    /* Turns off some styling */\n",
       "    progress {\n",
       "        /* gets rid of default border in Firefox and Opera. */\n",
       "        border: none;\n",
       "        /* Needs to be in here for Safari polyfill so background images work as expected. */\n",
       "        background-size: auto;\n",
       "    }\n",
       "    progress:not([value]), progress:not([value])::-webkit-progress-bar {\n",
       "        background: repeating-linear-gradient(45deg, #7e7e7e, #7e7e7e 10px, #5c5c5c 10px, #5c5c5c 20px);\n",
       "    }\n",
       "    .progress-bar-interrupted, .progress-bar-interrupted::-webkit-progress-bar {\n",
       "        background: #F44336;\n",
       "    }\n",
       "</style>\n"
      ],
      "text/plain": [
       "<IPython.core.display.HTML object>"
      ]
     },
     "metadata": {},
     "output_type": "display_data"
    },
    {
     "data": {
      "text/html": [
       "\n",
       "    <div>\n",
       "      <progress value='10' class='' max='10' style='width:300px; height:20px; vertical-align: middle;'></progress>\n",
       "      100.00% [10/10 00:00&lt;00:00 Sampling chain 0, 9 divergences]\n",
       "    </div>\n",
       "    "
      ],
      "text/plain": [
       "<IPython.core.display.HTML object>"
      ]
     },
     "metadata": {},
     "output_type": "display_data"
    },
    {
     "name": "stderr",
     "output_type": "stream",
     "text": [
      "Sampling 1 chain for 0 tune and 10 draw iterations (0 + 10 draws total) took 0 seconds.\n",
      "Only 10 samples in chain.\n"
     ]
    },
    {
     "name": "stdout",
     "output_type": "stream",
     "text": [
      "pooled_intercept_varying_covariate_car_model\n"
     ]
    },
    {
     "name": "stderr",
     "output_type": "stream",
     "text": [
      "Sequential sampling (1 chains in 1 job)\n",
      "CompoundStep\n",
      ">NUTS: [alpha, sigma_phi, phi, intercept, betas_bar, betas_sigma, betas]\n",
      ">Metropolis: [y_missing]\n"
     ]
    },
    {
     "data": {
      "text/html": [
       "\n",
       "<style>\n",
       "    /* Turns off some styling */\n",
       "    progress {\n",
       "        /* gets rid of default border in Firefox and Opera. */\n",
       "        border: none;\n",
       "        /* Needs to be in here for Safari polyfill so background images work as expected. */\n",
       "        background-size: auto;\n",
       "    }\n",
       "    progress:not([value]), progress:not([value])::-webkit-progress-bar {\n",
       "        background: repeating-linear-gradient(45deg, #7e7e7e, #7e7e7e 10px, #5c5c5c 10px, #5c5c5c 20px);\n",
       "    }\n",
       "    .progress-bar-interrupted, .progress-bar-interrupted::-webkit-progress-bar {\n",
       "        background: #F44336;\n",
       "    }\n",
       "</style>\n"
      ],
      "text/plain": [
       "<IPython.core.display.HTML object>"
      ]
     },
     "metadata": {},
     "output_type": "display_data"
    },
    {
     "data": {
      "text/html": [
       "\n",
       "    <div>\n",
       "      <progress value='10' class='' max='10' style='width:300px; height:20px; vertical-align: middle;'></progress>\n",
       "      100.00% [10/10 00:00&lt;00:00 Sampling chain 0, 9 divergences]\n",
       "    </div>\n",
       "    "
      ],
      "text/plain": [
       "<IPython.core.display.HTML object>"
      ]
     },
     "metadata": {},
     "output_type": "display_data"
    },
    {
     "name": "stderr",
     "output_type": "stream",
     "text": [
      "Sampling 1 chain for 0 tune and 10 draw iterations (0 + 10 draws total) took 1 seconds.\n",
      "Only 10 samples in chain.\n"
     ]
    },
    {
     "name": "stdout",
     "output_type": "stream",
     "text": [
      "varying_intercept_pooled_covariate_car_model\n"
     ]
    },
    {
     "name": "stderr",
     "output_type": "stream",
     "text": [
      "Sequential sampling (1 chains in 1 job)\n",
      "CompoundStep\n",
      ">NUTS: [alpha, sigma_phi, phi, intercept_bar, intercept_sigma, intercept, betas_bar, betas_sigma, betas]\n",
      ">Metropolis: [y_missing]\n"
     ]
    },
    {
     "data": {
      "text/html": [
       "\n",
       "<style>\n",
       "    /* Turns off some styling */\n",
       "    progress {\n",
       "        /* gets rid of default border in Firefox and Opera. */\n",
       "        border: none;\n",
       "        /* Needs to be in here for Safari polyfill so background images work as expected. */\n",
       "        background-size: auto;\n",
       "    }\n",
       "    progress:not([value]), progress:not([value])::-webkit-progress-bar {\n",
       "        background: repeating-linear-gradient(45deg, #7e7e7e, #7e7e7e 10px, #5c5c5c 10px, #5c5c5c 20px);\n",
       "    }\n",
       "    .progress-bar-interrupted, .progress-bar-interrupted::-webkit-progress-bar {\n",
       "        background: #F44336;\n",
       "    }\n",
       "</style>\n"
      ],
      "text/plain": [
       "<IPython.core.display.HTML object>"
      ]
     },
     "metadata": {},
     "output_type": "display_data"
    },
    {
     "data": {
      "text/html": [
       "\n",
       "    <div>\n",
       "      <progress value='10' class='' max='10' style='width:300px; height:20px; vertical-align: middle;'></progress>\n",
       "      100.00% [10/10 00:00&lt;00:00 Sampling chain 0, 9 divergences]\n",
       "    </div>\n",
       "    "
      ],
      "text/plain": [
       "<IPython.core.display.HTML object>"
      ]
     },
     "metadata": {},
     "output_type": "display_data"
    },
    {
     "name": "stderr",
     "output_type": "stream",
     "text": [
      "Sampling 1 chain for 0 tune and 10 draw iterations (0 + 10 draws total) took 0 seconds.\n",
      "Only 10 samples in chain.\n"
     ]
    },
    {
     "name": "stdout",
     "output_type": "stream",
     "text": [
      "varying_intercept_varying_covariate_car_model\n"
     ]
    },
    {
     "name": "stderr",
     "output_type": "stream",
     "text": [
      "Sequential sampling (1 chains in 1 job)\n",
      "CompoundStep\n",
      ">NUTS: [alpha, sigma_phi, phi, intercept_bar, intercept_sigma, intercept, betas_bar, betas_sigma, betas]\n",
      ">Metropolis: [y_missing]\n"
     ]
    },
    {
     "data": {
      "text/html": [
       "\n",
       "<style>\n",
       "    /* Turns off some styling */\n",
       "    progress {\n",
       "        /* gets rid of default border in Firefox and Opera. */\n",
       "        border: none;\n",
       "        /* Needs to be in here for Safari polyfill so background images work as expected. */\n",
       "        background-size: auto;\n",
       "    }\n",
       "    progress:not([value]), progress:not([value])::-webkit-progress-bar {\n",
       "        background: repeating-linear-gradient(45deg, #7e7e7e, #7e7e7e 10px, #5c5c5c 10px, #5c5c5c 20px);\n",
       "    }\n",
       "    .progress-bar-interrupted, .progress-bar-interrupted::-webkit-progress-bar {\n",
       "        background: #F44336;\n",
       "    }\n",
       "</style>\n"
      ],
      "text/plain": [
       "<IPython.core.display.HTML object>"
      ]
     },
     "metadata": {},
     "output_type": "display_data"
    },
    {
     "data": {
      "text/html": [
       "\n",
       "    <div>\n",
       "      <progress value='10' class='' max='10' style='width:300px; height:20px; vertical-align: middle;'></progress>\n",
       "      100.00% [10/10 00:00&lt;00:00 Sampling chain 0, 9 divergences]\n",
       "    </div>\n",
       "    "
      ],
      "text/plain": [
       "<IPython.core.display.HTML object>"
      ]
     },
     "metadata": {},
     "output_type": "display_data"
    },
    {
     "name": "stderr",
     "output_type": "stream",
     "text": [
      "Sampling 1 chain for 0 tune and 10 draw iterations (0 + 10 draws total) took 0 seconds.\n"
     ]
    }
   ],
   "source": [
    "# test that all the models can be sampled correctly\n",
    "for name, func in models.items():\n",
    "    print(name)\n",
    "    model = func(prep_df, W)\n",
    "    with model:\n",
    "        trace = pm.sample(10, tune=0, cores=1, chains=1)"
   ]
  },
  {
   "cell_type": "code",
   "execution_count": 8,
   "metadata": {},
   "outputs": [
    {
     "name": "stdout",
     "output_type": "stream",
     "text": [
      "varying_intercept_model\n"
     ]
    },
    {
     "name": "stderr",
     "output_type": "stream",
     "text": [
      "Multiprocess sampling (8 chains in 8 jobs)\n",
      "CompoundStep\n",
      ">NUTS: [intercept]\n",
      ">Metropolis: [y_missing]\n"
     ]
    },
    {
     "data": {
      "text/html": [
       "\n",
       "<style>\n",
       "    /* Turns off some styling */\n",
       "    progress {\n",
       "        /* gets rid of default border in Firefox and Opera. */\n",
       "        border: none;\n",
       "        /* Needs to be in here for Safari polyfill so background images work as expected. */\n",
       "        background-size: auto;\n",
       "    }\n",
       "    progress:not([value]), progress:not([value])::-webkit-progress-bar {\n",
       "        background: repeating-linear-gradient(45deg, #7e7e7e, #7e7e7e 10px, #5c5c5c 10px, #5c5c5c 20px);\n",
       "    }\n",
       "    .progress-bar-interrupted, .progress-bar-interrupted::-webkit-progress-bar {\n",
       "        background: #F44336;\n",
       "    }\n",
       "</style>\n"
      ],
      "text/plain": [
       "<IPython.core.display.HTML object>"
      ]
     },
     "metadata": {},
     "output_type": "display_data"
    },
    {
     "data": {
      "text/html": [
       "\n",
       "    <div>\n",
       "      <progress value='24000' class='' max='24000' style='width:300px; height:20px; vertical-align: middle;'></progress>\n",
       "      100.00% [24000/24000 00:42&lt;00:00 Sampling 8 chains, 0 divergences]\n",
       "    </div>\n",
       "    "
      ],
      "text/plain": [
       "<IPython.core.display.HTML object>"
      ]
     },
     "metadata": {},
     "output_type": "display_data"
    },
    {
     "name": "stderr",
     "output_type": "stream",
     "text": [
      "Sampling 8 chains for 1_000 tune and 2_000 draw iterations (8_000 + 16_000 draws total) took 62 seconds.\n"
     ]
    },
    {
     "name": "stdout",
     "output_type": "stream",
     "text": [
      "pooled_intercept_pooled_covariate_model\n"
     ]
    },
    {
     "name": "stderr",
     "output_type": "stream",
     "text": [
      "Multiprocess sampling (8 chains in 8 jobs)\n",
      "CompoundStep\n",
      ">NUTS: [intercept, betas_bar, betas_sigma, betas]\n",
      ">Metropolis: [y_missing]\n"
     ]
    },
    {
     "data": {
      "text/html": [
       "\n",
       "<style>\n",
       "    /* Turns off some styling */\n",
       "    progress {\n",
       "        /* gets rid of default border in Firefox and Opera. */\n",
       "        border: none;\n",
       "        /* Needs to be in here for Safari polyfill so background images work as expected. */\n",
       "        background-size: auto;\n",
       "    }\n",
       "    progress:not([value]), progress:not([value])::-webkit-progress-bar {\n",
       "        background: repeating-linear-gradient(45deg, #7e7e7e, #7e7e7e 10px, #5c5c5c 10px, #5c5c5c 20px);\n",
       "    }\n",
       "    .progress-bar-interrupted, .progress-bar-interrupted::-webkit-progress-bar {\n",
       "        background: #F44336;\n",
       "    }\n",
       "</style>\n"
      ],
      "text/plain": [
       "<IPython.core.display.HTML object>"
      ]
     },
     "metadata": {},
     "output_type": "display_data"
    },
    {
     "data": {
      "text/html": [
       "\n",
       "    <div>\n",
       "      <progress value='24000' class='' max='24000' style='width:300px; height:20px; vertical-align: middle;'></progress>\n",
       "      100.00% [24000/24000 01:00&lt;00:00 Sampling 8 chains, 0 divergences]\n",
       "    </div>\n",
       "    "
      ],
      "text/plain": [
       "<IPython.core.display.HTML object>"
      ]
     },
     "metadata": {},
     "output_type": "display_data"
    },
    {
     "name": "stderr",
     "output_type": "stream",
     "text": [
      "Sampling 8 chains for 1_000 tune and 2_000 draw iterations (8_000 + 16_000 draws total) took 81 seconds.\n"
     ]
    },
    {
     "name": "stdout",
     "output_type": "stream",
     "text": [
      "pooled_intercept_varying_covariate_model\n"
     ]
    },
    {
     "name": "stderr",
     "output_type": "stream",
     "text": [
      "Multiprocess sampling (8 chains in 8 jobs)\n",
      "CompoundStep\n",
      ">NUTS: [intercept, betas_bar, betas_sigma, betas]\n",
      ">Metropolis: [y_missing]\n"
     ]
    },
    {
     "data": {
      "text/html": [
       "\n",
       "<style>\n",
       "    /* Turns off some styling */\n",
       "    progress {\n",
       "        /* gets rid of default border in Firefox and Opera. */\n",
       "        border: none;\n",
       "        /* Needs to be in here for Safari polyfill so background images work as expected. */\n",
       "        background-size: auto;\n",
       "    }\n",
       "    progress:not([value]), progress:not([value])::-webkit-progress-bar {\n",
       "        background: repeating-linear-gradient(45deg, #7e7e7e, #7e7e7e 10px, #5c5c5c 10px, #5c5c5c 20px);\n",
       "    }\n",
       "    .progress-bar-interrupted, .progress-bar-interrupted::-webkit-progress-bar {\n",
       "        background: #F44336;\n",
       "    }\n",
       "</style>\n"
      ],
      "text/plain": [
       "<IPython.core.display.HTML object>"
      ]
     },
     "metadata": {},
     "output_type": "display_data"
    },
    {
     "data": {
      "text/html": [
       "\n",
       "    <div>\n",
       "      <progress value='24000' class='' max='24000' style='width:300px; height:20px; vertical-align: middle;'></progress>\n",
       "      100.00% [24000/24000 01:12&lt;00:00 Sampling 8 chains, 9 divergences]\n",
       "    </div>\n",
       "    "
      ],
      "text/plain": [
       "<IPython.core.display.HTML object>"
      ]
     },
     "metadata": {},
     "output_type": "display_data"
    },
    {
     "name": "stderr",
     "output_type": "stream",
     "text": [
      "Sampling 8 chains for 1_000 tune and 2_000 draw iterations (8_000 + 16_000 draws total) took 92 seconds.\n"
     ]
    },
    {
     "name": "stdout",
     "output_type": "stream",
     "text": [
      "varying_intercept_pooled_covariate_model\n"
     ]
    },
    {
     "name": "stderr",
     "output_type": "stream",
     "text": [
      "Multiprocess sampling (8 chains in 8 jobs)\n",
      "CompoundStep\n",
      ">NUTS: [intercept_bar, intercept_sigma, intercept, betas_bar, betas_sigma, betas]\n",
      ">Metropolis: [y_missing]\n"
     ]
    },
    {
     "data": {
      "text/html": [
       "\n",
       "<style>\n",
       "    /* Turns off some styling */\n",
       "    progress {\n",
       "        /* gets rid of default border in Firefox and Opera. */\n",
       "        border: none;\n",
       "        /* Needs to be in here for Safari polyfill so background images work as expected. */\n",
       "        background-size: auto;\n",
       "    }\n",
       "    progress:not([value]), progress:not([value])::-webkit-progress-bar {\n",
       "        background: repeating-linear-gradient(45deg, #7e7e7e, #7e7e7e 10px, #5c5c5c 10px, #5c5c5c 20px);\n",
       "    }\n",
       "    .progress-bar-interrupted, .progress-bar-interrupted::-webkit-progress-bar {\n",
       "        background: #F44336;\n",
       "    }\n",
       "</style>\n"
      ],
      "text/plain": [
       "<IPython.core.display.HTML object>"
      ]
     },
     "metadata": {},
     "output_type": "display_data"
    },
    {
     "data": {
      "text/html": [
       "\n",
       "    <div>\n",
       "      <progress value='24000' class='' max='24000' style='width:300px; height:20px; vertical-align: middle;'></progress>\n",
       "      100.00% [24000/24000 01:09&lt;00:00 Sampling 8 chains, 0 divergences]\n",
       "    </div>\n",
       "    "
      ],
      "text/plain": [
       "<IPython.core.display.HTML object>"
      ]
     },
     "metadata": {},
     "output_type": "display_data"
    },
    {
     "name": "stderr",
     "output_type": "stream",
     "text": [
      "Sampling 8 chains for 1_000 tune and 2_000 draw iterations (8_000 + 16_000 draws total) took 90 seconds.\n"
     ]
    },
    {
     "name": "stdout",
     "output_type": "stream",
     "text": [
      "varying_intercept_varying_covariate_model\n"
     ]
    },
    {
     "name": "stderr",
     "output_type": "stream",
     "text": [
      "Multiprocess sampling (8 chains in 8 jobs)\n",
      "CompoundStep\n",
      ">NUTS: [intercept_bar, intercept_sigma, intercept, betas_bar, betas_sigma, betas]\n",
      ">Metropolis: [y_missing]\n"
     ]
    },
    {
     "data": {
      "text/html": [
       "\n",
       "<style>\n",
       "    /* Turns off some styling */\n",
       "    progress {\n",
       "        /* gets rid of default border in Firefox and Opera. */\n",
       "        border: none;\n",
       "        /* Needs to be in here for Safari polyfill so background images work as expected. */\n",
       "        background-size: auto;\n",
       "    }\n",
       "    progress:not([value]), progress:not([value])::-webkit-progress-bar {\n",
       "        background: repeating-linear-gradient(45deg, #7e7e7e, #7e7e7e 10px, #5c5c5c 10px, #5c5c5c 20px);\n",
       "    }\n",
       "    .progress-bar-interrupted, .progress-bar-interrupted::-webkit-progress-bar {\n",
       "        background: #F44336;\n",
       "    }\n",
       "</style>\n"
      ],
      "text/plain": [
       "<IPython.core.display.HTML object>"
      ]
     },
     "metadata": {},
     "output_type": "display_data"
    },
    {
     "data": {
      "text/html": [
       "\n",
       "    <div>\n",
       "      <progress value='24000' class='' max='24000' style='width:300px; height:20px; vertical-align: middle;'></progress>\n",
       "      100.00% [24000/24000 01:23&lt;00:00 Sampling 8 chains, 0 divergences]\n",
       "    </div>\n",
       "    "
      ],
      "text/plain": [
       "<IPython.core.display.HTML object>"
      ]
     },
     "metadata": {},
     "output_type": "display_data"
    },
    {
     "name": "stderr",
     "output_type": "stream",
     "text": [
      "Sampling 8 chains for 1_000 tune and 2_000 draw iterations (8_000 + 16_000 draws total) took 104 seconds.\n"
     ]
    },
    {
     "name": "stdout",
     "output_type": "stream",
     "text": [
      "varying_intercept_car_model\n"
     ]
    },
    {
     "name": "stderr",
     "output_type": "stream",
     "text": [
      "Multiprocess sampling (8 chains in 8 jobs)\n",
      "CompoundStep\n",
      ">NUTS: [alpha, sigma_phi, phi, intercept_bar, intercept_sigma, intercept]\n",
      ">Metropolis: [y_missing]\n"
     ]
    },
    {
     "data": {
      "text/html": [
       "\n",
       "<style>\n",
       "    /* Turns off some styling */\n",
       "    progress {\n",
       "        /* gets rid of default border in Firefox and Opera. */\n",
       "        border: none;\n",
       "        /* Needs to be in here for Safari polyfill so background images work as expected. */\n",
       "        background-size: auto;\n",
       "    }\n",
       "    progress:not([value]), progress:not([value])::-webkit-progress-bar {\n",
       "        background: repeating-linear-gradient(45deg, #7e7e7e, #7e7e7e 10px, #5c5c5c 10px, #5c5c5c 20px);\n",
       "    }\n",
       "    .progress-bar-interrupted, .progress-bar-interrupted::-webkit-progress-bar {\n",
       "        background: #F44336;\n",
       "    }\n",
       "</style>\n"
      ],
      "text/plain": [
       "<IPython.core.display.HTML object>"
      ]
     },
     "metadata": {},
     "output_type": "display_data"
    },
    {
     "data": {
      "text/html": [
       "\n",
       "    <div>\n",
       "      <progress value='24000' class='' max='24000' style='width:300px; height:20px; vertical-align: middle;'></progress>\n",
       "      100.00% [24000/24000 01:39&lt;00:00 Sampling 8 chains, 1,835 divergences]\n",
       "    </div>\n",
       "    "
      ],
      "text/plain": [
       "<IPython.core.display.HTML object>"
      ]
     },
     "metadata": {},
     "output_type": "display_data"
    },
    {
     "name": "stderr",
     "output_type": "stream",
     "text": [
      "Sampling 8 chains for 1_000 tune and 2_000 draw iterations (8_000 + 16_000 draws total) took 120 seconds.\n"
     ]
    },
    {
     "name": "stdout",
     "output_type": "stream",
     "text": [
      "pooled_intercept_car_model\n"
     ]
    },
    {
     "name": "stderr",
     "output_type": "stream",
     "text": [
      "Multiprocess sampling (8 chains in 8 jobs)\n",
      "CompoundStep\n",
      ">NUTS: [alpha, sigma_phi, phi, intercept]\n",
      ">Metropolis: [y_missing]\n"
     ]
    },
    {
     "data": {
      "text/html": [
       "\n",
       "<style>\n",
       "    /* Turns off some styling */\n",
       "    progress {\n",
       "        /* gets rid of default border in Firefox and Opera. */\n",
       "        border: none;\n",
       "        /* Needs to be in here for Safari polyfill so background images work as expected. */\n",
       "        background-size: auto;\n",
       "    }\n",
       "    progress:not([value]), progress:not([value])::-webkit-progress-bar {\n",
       "        background: repeating-linear-gradient(45deg, #7e7e7e, #7e7e7e 10px, #5c5c5c 10px, #5c5c5c 20px);\n",
       "    }\n",
       "    .progress-bar-interrupted, .progress-bar-interrupted::-webkit-progress-bar {\n",
       "        background: #F44336;\n",
       "    }\n",
       "</style>\n"
      ],
      "text/plain": [
       "<IPython.core.display.HTML object>"
      ]
     },
     "metadata": {},
     "output_type": "display_data"
    },
    {
     "data": {
      "text/html": [
       "\n",
       "    <div>\n",
       "      <progress value='24000' class='' max='24000' style='width:300px; height:20px; vertical-align: middle;'></progress>\n",
       "      100.00% [24000/24000 01:29&lt;00:00 Sampling 8 chains, 0 divergences]\n",
       "    </div>\n",
       "    "
      ],
      "text/plain": [
       "<IPython.core.display.HTML object>"
      ]
     },
     "metadata": {},
     "output_type": "display_data"
    },
    {
     "name": "stderr",
     "output_type": "stream",
     "text": [
      "Sampling 8 chains for 1_000 tune and 2_000 draw iterations (8_000 + 16_000 draws total) took 110 seconds.\n"
     ]
    },
    {
     "name": "stdout",
     "output_type": "stream",
     "text": [
      "pooled_intercept_varying_covariate_car_model\n"
     ]
    },
    {
     "name": "stderr",
     "output_type": "stream",
     "text": [
      "Multiprocess sampling (8 chains in 8 jobs)\n",
      "CompoundStep\n",
      ">NUTS: [alpha, sigma_phi, phi, intercept, betas_bar, betas_sigma, betas]\n",
      ">Metropolis: [y_missing]\n"
     ]
    },
    {
     "data": {
      "text/html": [
       "\n",
       "<style>\n",
       "    /* Turns off some styling */\n",
       "    progress {\n",
       "        /* gets rid of default border in Firefox and Opera. */\n",
       "        border: none;\n",
       "        /* Needs to be in here for Safari polyfill so background images work as expected. */\n",
       "        background-size: auto;\n",
       "    }\n",
       "    progress:not([value]), progress:not([value])::-webkit-progress-bar {\n",
       "        background: repeating-linear-gradient(45deg, #7e7e7e, #7e7e7e 10px, #5c5c5c 10px, #5c5c5c 20px);\n",
       "    }\n",
       "    .progress-bar-interrupted, .progress-bar-interrupted::-webkit-progress-bar {\n",
       "        background: #F44336;\n",
       "    }\n",
       "</style>\n"
      ],
      "text/plain": [
       "<IPython.core.display.HTML object>"
      ]
     },
     "metadata": {},
     "output_type": "display_data"
    },
    {
     "data": {
      "text/html": [
       "\n",
       "    <div>\n",
       "      <progress value='24000' class='' max='24000' style='width:300px; height:20px; vertical-align: middle;'></progress>\n",
       "      100.00% [24000/24000 04:16&lt;00:00 Sampling 8 chains, 2,000 divergences]\n",
       "    </div>\n",
       "    "
      ],
      "text/plain": [
       "<IPython.core.display.HTML object>"
      ]
     },
     "metadata": {},
     "output_type": "display_data"
    },
    {
     "name": "stderr",
     "output_type": "stream",
     "text": [
      "Sampling 8 chains for 1_000 tune and 2_000 draw iterations (8_000 + 16_000 draws total) took 277 seconds.\n"
     ]
    },
    {
     "name": "stdout",
     "output_type": "stream",
     "text": [
      "varying_intercept_pooled_covariate_car_model\n"
     ]
    },
    {
     "name": "stderr",
     "output_type": "stream",
     "text": [
      "Multiprocess sampling (8 chains in 8 jobs)\n",
      "CompoundStep\n",
      ">NUTS: [alpha, sigma_phi, phi, intercept_bar, intercept_sigma, intercept, betas_bar, betas_sigma, betas]\n",
      ">Metropolis: [y_missing]\n"
     ]
    },
    {
     "data": {
      "text/html": [
       "\n",
       "<style>\n",
       "    /* Turns off some styling */\n",
       "    progress {\n",
       "        /* gets rid of default border in Firefox and Opera. */\n",
       "        border: none;\n",
       "        /* Needs to be in here for Safari polyfill so background images work as expected. */\n",
       "        background-size: auto;\n",
       "    }\n",
       "    progress:not([value]), progress:not([value])::-webkit-progress-bar {\n",
       "        background: repeating-linear-gradient(45deg, #7e7e7e, #7e7e7e 10px, #5c5c5c 10px, #5c5c5c 20px);\n",
       "    }\n",
       "    .progress-bar-interrupted, .progress-bar-interrupted::-webkit-progress-bar {\n",
       "        background: #F44336;\n",
       "    }\n",
       "</style>\n"
      ],
      "text/plain": [
       "<IPython.core.display.HTML object>"
      ]
     },
     "metadata": {},
     "output_type": "display_data"
    },
    {
     "data": {
      "text/html": [
       "\n",
       "    <div>\n",
       "      <progress value='24000' class='' max='24000' style='width:300px; height:20px; vertical-align: middle;'></progress>\n",
       "      100.00% [24000/24000 03:40&lt;00:00 Sampling 8 chains, 1 divergences]\n",
       "    </div>\n",
       "    "
      ],
      "text/plain": [
       "<IPython.core.display.HTML object>"
      ]
     },
     "metadata": {},
     "output_type": "display_data"
    },
    {
     "name": "stderr",
     "output_type": "stream",
     "text": [
      "Sampling 8 chains for 1_000 tune and 2_000 draw iterations (8_000 + 16_000 draws total) took 242 seconds.\n"
     ]
    },
    {
     "name": "stdout",
     "output_type": "stream",
     "text": [
      "varying_intercept_varying_covariate_car_model\n"
     ]
    },
    {
     "name": "stderr",
     "output_type": "stream",
     "text": [
      "Multiprocess sampling (8 chains in 8 jobs)\n",
      "CompoundStep\n",
      ">NUTS: [alpha, sigma_phi, phi, intercept_bar, intercept_sigma, intercept, betas_bar, betas_sigma, betas]\n",
      ">Metropolis: [y_missing]\n"
     ]
    },
    {
     "data": {
      "text/html": [
       "\n",
       "<style>\n",
       "    /* Turns off some styling */\n",
       "    progress {\n",
       "        /* gets rid of default border in Firefox and Opera. */\n",
       "        border: none;\n",
       "        /* Needs to be in here for Safari polyfill so background images work as expected. */\n",
       "        background-size: auto;\n",
       "    }\n",
       "    progress:not([value]), progress:not([value])::-webkit-progress-bar {\n",
       "        background: repeating-linear-gradient(45deg, #7e7e7e, #7e7e7e 10px, #5c5c5c 10px, #5c5c5c 20px);\n",
       "    }\n",
       "    .progress-bar-interrupted, .progress-bar-interrupted::-webkit-progress-bar {\n",
       "        background: #F44336;\n",
       "    }\n",
       "</style>\n"
      ],
      "text/plain": [
       "<IPython.core.display.HTML object>"
      ]
     },
     "metadata": {},
     "output_type": "display_data"
    },
    {
     "data": {
      "text/html": [
       "\n",
       "    <div>\n",
       "      <progress value='24000' class='' max='24000' style='width:300px; height:20px; vertical-align: middle;'></progress>\n",
       "      100.00% [24000/24000 03:17&lt;00:00 Sampling 8 chains, 0 divergences]\n",
       "    </div>\n",
       "    "
      ],
      "text/plain": [
       "<IPython.core.display.HTML object>"
      ]
     },
     "metadata": {},
     "output_type": "display_data"
    },
    {
     "name": "stderr",
     "output_type": "stream",
     "text": [
      "Sampling 8 chains for 1_000 tune and 2_000 draw iterations (8_000 + 16_000 draws total) took 218 seconds.\n"
     ]
    }
   ],
   "source": [
    "# now sample everything for real, and store the traces\n",
    "traces = {}\n",
    "for name, func in models.items():\n",
    "    print(name)\n",
    "    model = func(prep_df, W)\n",
    "    with model:\n",
    "        trace = pm.sample(2000, tune=1000, cores=8, target_accept=0.9)\n",
    "    traces[name] = trace"
   ]
  },
  {
   "cell_type": "code",
   "execution_count": 9,
   "metadata": {},
   "outputs": [
    {
     "data": {
      "text/html": [
       "<div>\n",
       "<style scoped>\n",
       "    .dataframe tbody tr th:only-of-type {\n",
       "        vertical-align: middle;\n",
       "    }\n",
       "\n",
       "    .dataframe tbody tr th {\n",
       "        vertical-align: top;\n",
       "    }\n",
       "\n",
       "    .dataframe thead th {\n",
       "        text-align: right;\n",
       "    }\n",
       "</style>\n",
       "<table border=\"1\" class=\"dataframe\">\n",
       "  <thead>\n",
       "    <tr style=\"text-align: right;\">\n",
       "      <th></th>\n",
       "      <th>rank</th>\n",
       "      <th>elpd_waic</th>\n",
       "      <th>p_waic</th>\n",
       "      <th>elpd_diff</th>\n",
       "      <th>weight</th>\n",
       "      <th>se</th>\n",
       "      <th>dse</th>\n",
       "      <th>warning</th>\n",
       "      <th>scale</th>\n",
       "    </tr>\n",
       "  </thead>\n",
       "  <tbody>\n",
       "    <tr>\n",
       "      <th>varying_intercept_varying_covariate_car_model</th>\n",
       "      <td>0</td>\n",
       "      <td>1071.559104</td>\n",
       "      <td>133.591299</td>\n",
       "      <td>0.000000</td>\n",
       "      <td>0.525533</td>\n",
       "      <td>47.564488</td>\n",
       "      <td>0.000000</td>\n",
       "      <td>True</td>\n",
       "      <td>deviance</td>\n",
       "    </tr>\n",
       "    <tr>\n",
       "      <th>varying_intercept_pooled_covariate_car_model</th>\n",
       "      <td>1</td>\n",
       "      <td>1296.159549</td>\n",
       "      <td>162.688628</td>\n",
       "      <td>224.600445</td>\n",
       "      <td>0.295046</td>\n",
       "      <td>129.663269</td>\n",
       "      <td>103.639845</td>\n",
       "      <td>True</td>\n",
       "      <td>deviance</td>\n",
       "    </tr>\n",
       "    <tr>\n",
       "      <th>varying_intercept_car_model</th>\n",
       "      <td>2</td>\n",
       "      <td>1304.504925</td>\n",
       "      <td>165.707754</td>\n",
       "      <td>232.945821</td>\n",
       "      <td>0.000000</td>\n",
       "      <td>132.935041</td>\n",
       "      <td>106.866874</td>\n",
       "      <td>True</td>\n",
       "      <td>deviance</td>\n",
       "    </tr>\n",
       "    <tr>\n",
       "      <th>pooled_intercept_varying_covariate_car_model</th>\n",
       "      <td>3</td>\n",
       "      <td>1547.369152</td>\n",
       "      <td>266.222783</td>\n",
       "      <td>475.810048</td>\n",
       "      <td>0.043670</td>\n",
       "      <td>96.627865</td>\n",
       "      <td>79.119442</td>\n",
       "      <td>True</td>\n",
       "      <td>deviance</td>\n",
       "    </tr>\n",
       "    <tr>\n",
       "      <th>varying_intercept_varying_covariate_model</th>\n",
       "      <td>4</td>\n",
       "      <td>2956.882363</td>\n",
       "      <td>483.697737</td>\n",
       "      <td>1885.323259</td>\n",
       "      <td>0.000000</td>\n",
       "      <td>448.524021</td>\n",
       "      <td>433.903424</td>\n",
       "      <td>True</td>\n",
       "      <td>deviance</td>\n",
       "    </tr>\n",
       "    <tr>\n",
       "      <th>varying_intercept_pooled_covariate_model</th>\n",
       "      <td>5</td>\n",
       "      <td>3002.594451</td>\n",
       "      <td>343.406094</td>\n",
       "      <td>1931.035347</td>\n",
       "      <td>0.118511</td>\n",
       "      <td>508.379798</td>\n",
       "      <td>492.011691</td>\n",
       "      <td>True</td>\n",
       "      <td>deviance</td>\n",
       "    </tr>\n",
       "    <tr>\n",
       "      <th>pooled_intercept_varying_covariate_model</th>\n",
       "      <td>6</td>\n",
       "      <td>3252.058426</td>\n",
       "      <td>537.337704</td>\n",
       "      <td>2180.499322</td>\n",
       "      <td>0.000000</td>\n",
       "      <td>467.439998</td>\n",
       "      <td>454.444104</td>\n",
       "      <td>True</td>\n",
       "      <td>deviance</td>\n",
       "    </tr>\n",
       "    <tr>\n",
       "      <th>pooled_intercept_car_model</th>\n",
       "      <td>7</td>\n",
       "      <td>3382.347242</td>\n",
       "      <td>632.289156</td>\n",
       "      <td>2310.788138</td>\n",
       "      <td>0.003710</td>\n",
       "      <td>429.001069</td>\n",
       "      <td>414.638435</td>\n",
       "      <td>True</td>\n",
       "      <td>deviance</td>\n",
       "    </tr>\n",
       "    <tr>\n",
       "      <th>varying_intercept_model</th>\n",
       "      <td>8</td>\n",
       "      <td>4027.621380</td>\n",
       "      <td>117.966377</td>\n",
       "      <td>2956.062276</td>\n",
       "      <td>0.002428</td>\n",
       "      <td>805.710540</td>\n",
       "      <td>796.464959</td>\n",
       "      <td>True</td>\n",
       "      <td>deviance</td>\n",
       "    </tr>\n",
       "    <tr>\n",
       "      <th>pooled_intercept_pooled_covariate_model</th>\n",
       "      <td>9</td>\n",
       "      <td>4327.899402</td>\n",
       "      <td>451.853914</td>\n",
       "      <td>3256.340298</td>\n",
       "      <td>0.011102</td>\n",
       "      <td>862.912532</td>\n",
       "      <td>853.266938</td>\n",
       "      <td>True</td>\n",
       "      <td>deviance</td>\n",
       "    </tr>\n",
       "  </tbody>\n",
       "</table>\n",
       "</div>"
      ],
      "text/plain": [
       "                                               rank    elpd_waic      p_waic  \\\n",
       "varying_intercept_varying_covariate_car_model     0  1071.559104  133.591299   \n",
       "varying_intercept_pooled_covariate_car_model      1  1296.159549  162.688628   \n",
       "varying_intercept_car_model                       2  1304.504925  165.707754   \n",
       "pooled_intercept_varying_covariate_car_model      3  1547.369152  266.222783   \n",
       "varying_intercept_varying_covariate_model         4  2956.882363  483.697737   \n",
       "varying_intercept_pooled_covariate_model          5  3002.594451  343.406094   \n",
       "pooled_intercept_varying_covariate_model          6  3252.058426  537.337704   \n",
       "pooled_intercept_car_model                        7  3382.347242  632.289156   \n",
       "varying_intercept_model                           8  4027.621380  117.966377   \n",
       "pooled_intercept_pooled_covariate_model           9  4327.899402  451.853914   \n",
       "\n",
       "                                                 elpd_diff    weight  \\\n",
       "varying_intercept_varying_covariate_car_model     0.000000  0.525533   \n",
       "varying_intercept_pooled_covariate_car_model    224.600445  0.295046   \n",
       "varying_intercept_car_model                     232.945821  0.000000   \n",
       "pooled_intercept_varying_covariate_car_model    475.810048  0.043670   \n",
       "varying_intercept_varying_covariate_model      1885.323259  0.000000   \n",
       "varying_intercept_pooled_covariate_model       1931.035347  0.118511   \n",
       "pooled_intercept_varying_covariate_model       2180.499322  0.000000   \n",
       "pooled_intercept_car_model                     2310.788138  0.003710   \n",
       "varying_intercept_model                        2956.062276  0.002428   \n",
       "pooled_intercept_pooled_covariate_model        3256.340298  0.011102   \n",
       "\n",
       "                                                       se         dse  \\\n",
       "varying_intercept_varying_covariate_car_model   47.564488    0.000000   \n",
       "varying_intercept_pooled_covariate_car_model   129.663269  103.639845   \n",
       "varying_intercept_car_model                    132.935041  106.866874   \n",
       "pooled_intercept_varying_covariate_car_model    96.627865   79.119442   \n",
       "varying_intercept_varying_covariate_model      448.524021  433.903424   \n",
       "varying_intercept_pooled_covariate_model       508.379798  492.011691   \n",
       "pooled_intercept_varying_covariate_model       467.439998  454.444104   \n",
       "pooled_intercept_car_model                     429.001069  414.638435   \n",
       "varying_intercept_model                        805.710540  796.464959   \n",
       "pooled_intercept_pooled_covariate_model        862.912532  853.266938   \n",
       "\n",
       "                                               warning     scale  \n",
       "varying_intercept_varying_covariate_car_model     True  deviance  \n",
       "varying_intercept_pooled_covariate_car_model      True  deviance  \n",
       "varying_intercept_car_model                       True  deviance  \n",
       "pooled_intercept_varying_covariate_car_model      True  deviance  \n",
       "varying_intercept_varying_covariate_model         True  deviance  \n",
       "varying_intercept_pooled_covariate_model          True  deviance  \n",
       "pooled_intercept_varying_covariate_model          True  deviance  \n",
       "pooled_intercept_car_model                        True  deviance  \n",
       "varying_intercept_model                           True  deviance  \n",
       "pooled_intercept_pooled_covariate_model           True  deviance  "
      ]
     },
     "execution_count": 9,
     "metadata": {},
     "output_type": "execute_result"
    }
   ],
   "source": [
    "ranking = az.compare(traces, ic=\"waic\", scale=\"deviance\")\n",
    "ranking"
   ]
  },
  {
   "cell_type": "code",
   "execution_count": 12,
   "metadata": {},
   "outputs": [
    {
     "data": {
      "text/html": [
       "<div>\n",
       "<style scoped>\n",
       "    .dataframe tbody tr th:only-of-type {\n",
       "        vertical-align: middle;\n",
       "    }\n",
       "\n",
       "    .dataframe tbody tr th {\n",
       "        vertical-align: top;\n",
       "    }\n",
       "\n",
       "    .dataframe thead th {\n",
       "        text-align: right;\n",
       "    }\n",
       "</style>\n",
       "<table border=\"1\" class=\"dataframe\">\n",
       "  <thead>\n",
       "    <tr style=\"text-align: right;\">\n",
       "      <th></th>\n",
       "      <th>rank</th>\n",
       "      <th>elpd_waic</th>\n",
       "      <th>p_waic</th>\n",
       "      <th>elpd_diff</th>\n",
       "      <th>se</th>\n",
       "      <th>dse</th>\n",
       "    </tr>\n",
       "  </thead>\n",
       "  <tbody>\n",
       "    <tr>\n",
       "      <th>varying_intercept_varying_covariate_car_model</th>\n",
       "      <td>0</td>\n",
       "      <td>1071.56</td>\n",
       "      <td>133.59</td>\n",
       "      <td>0.00</td>\n",
       "      <td>47.56</td>\n",
       "      <td>0.00</td>\n",
       "    </tr>\n",
       "    <tr>\n",
       "      <th>varying_intercept_pooled_covariate_car_model</th>\n",
       "      <td>1</td>\n",
       "      <td>1296.16</td>\n",
       "      <td>162.69</td>\n",
       "      <td>224.60</td>\n",
       "      <td>129.66</td>\n",
       "      <td>103.64</td>\n",
       "    </tr>\n",
       "    <tr>\n",
       "      <th>varying_intercept_car_model</th>\n",
       "      <td>2</td>\n",
       "      <td>1304.50</td>\n",
       "      <td>165.71</td>\n",
       "      <td>232.95</td>\n",
       "      <td>132.94</td>\n",
       "      <td>106.87</td>\n",
       "    </tr>\n",
       "    <tr>\n",
       "      <th>pooled_intercept_varying_covariate_car_model</th>\n",
       "      <td>3</td>\n",
       "      <td>1547.37</td>\n",
       "      <td>266.22</td>\n",
       "      <td>475.81</td>\n",
       "      <td>96.63</td>\n",
       "      <td>79.12</td>\n",
       "    </tr>\n",
       "    <tr>\n",
       "      <th>varying_intercept_varying_covariate_model</th>\n",
       "      <td>4</td>\n",
       "      <td>2956.88</td>\n",
       "      <td>483.70</td>\n",
       "      <td>1885.32</td>\n",
       "      <td>448.52</td>\n",
       "      <td>433.90</td>\n",
       "    </tr>\n",
       "    <tr>\n",
       "      <th>varying_intercept_pooled_covariate_model</th>\n",
       "      <td>5</td>\n",
       "      <td>3002.59</td>\n",
       "      <td>343.41</td>\n",
       "      <td>1931.04</td>\n",
       "      <td>508.38</td>\n",
       "      <td>492.01</td>\n",
       "    </tr>\n",
       "    <tr>\n",
       "      <th>pooled_intercept_varying_covariate_model</th>\n",
       "      <td>6</td>\n",
       "      <td>3252.06</td>\n",
       "      <td>537.34</td>\n",
       "      <td>2180.50</td>\n",
       "      <td>467.44</td>\n",
       "      <td>454.44</td>\n",
       "    </tr>\n",
       "    <tr>\n",
       "      <th>pooled_intercept_car_model</th>\n",
       "      <td>7</td>\n",
       "      <td>3382.35</td>\n",
       "      <td>632.29</td>\n",
       "      <td>2310.79</td>\n",
       "      <td>429.00</td>\n",
       "      <td>414.64</td>\n",
       "    </tr>\n",
       "    <tr>\n",
       "      <th>varying_intercept_model</th>\n",
       "      <td>8</td>\n",
       "      <td>4027.62</td>\n",
       "      <td>117.97</td>\n",
       "      <td>2956.06</td>\n",
       "      <td>805.71</td>\n",
       "      <td>796.46</td>\n",
       "    </tr>\n",
       "    <tr>\n",
       "      <th>pooled_intercept_pooled_covariate_model</th>\n",
       "      <td>9</td>\n",
       "      <td>4327.90</td>\n",
       "      <td>451.85</td>\n",
       "      <td>3256.34</td>\n",
       "      <td>862.91</td>\n",
       "      <td>853.27</td>\n",
       "    </tr>\n",
       "  </tbody>\n",
       "</table>\n",
       "</div>"
      ],
      "text/plain": [
       "                                               rank  elpd_waic  p_waic  \\\n",
       "varying_intercept_varying_covariate_car_model     0    1071.56  133.59   \n",
       "varying_intercept_pooled_covariate_car_model      1    1296.16  162.69   \n",
       "varying_intercept_car_model                       2    1304.50  165.71   \n",
       "pooled_intercept_varying_covariate_car_model      3    1547.37  266.22   \n",
       "varying_intercept_varying_covariate_model         4    2956.88  483.70   \n",
       "varying_intercept_pooled_covariate_model          5    3002.59  343.41   \n",
       "pooled_intercept_varying_covariate_model          6    3252.06  537.34   \n",
       "pooled_intercept_car_model                        7    3382.35  632.29   \n",
       "varying_intercept_model                           8    4027.62  117.97   \n",
       "pooled_intercept_pooled_covariate_model           9    4327.90  451.85   \n",
       "\n",
       "                                               elpd_diff      se     dse  \n",
       "varying_intercept_varying_covariate_car_model       0.00   47.56    0.00  \n",
       "varying_intercept_pooled_covariate_car_model      224.60  129.66  103.64  \n",
       "varying_intercept_car_model                       232.95  132.94  106.87  \n",
       "pooled_intercept_varying_covariate_car_model      475.81   96.63   79.12  \n",
       "varying_intercept_varying_covariate_model        1885.32  448.52  433.90  \n",
       "varying_intercept_pooled_covariate_model         1931.04  508.38  492.01  \n",
       "pooled_intercept_varying_covariate_model         2180.50  467.44  454.44  \n",
       "pooled_intercept_car_model                       2310.79  429.00  414.64  \n",
       "varying_intercept_model                          2956.06  805.71  796.46  \n",
       "pooled_intercept_pooled_covariate_model          3256.34  862.91  853.27  "
      ]
     },
     "execution_count": 12,
     "metadata": {},
     "output_type": "execute_result"
    }
   ],
   "source": [
    "formatted = (\n",
    "    ranking.iloc[:, :-2]\n",
    "    .round(2)\n",
    "    .rename(columns={\"index\": \"model name\"})\n",
    "    .drop(columns=[\"weight\"])\n",
    ")\n",
    "formatted"
   ]
  },
  {
   "cell_type": "code",
   "execution_count": 14,
   "metadata": {},
   "outputs": [
    {
     "name": "stdout",
     "output_type": "stream",
     "text": [
      "\\begin{tabular}{lrrrrrr}\n",
      "\\toprule\n",
      "{} &  rank &  elpd\\_waic &  p\\_waic &  elpd\\_diff &      se &     dse \\\\\n",
      "\\midrule\n",
      "varying\\_intercept\\_varying\\_covariate\\_car\\_model &     0 &    1071.56 &  133.59 &       0.00 &   47.56 &    0.00 \\\\\n",
      "varying\\_intercept\\_pooled\\_covariate\\_car\\_model  &     1 &    1296.16 &  162.69 &     224.60 &  129.66 &  103.64 \\\\\n",
      "varying\\_intercept\\_car\\_model                   &     2 &    1304.50 &  165.71 &     232.95 &  132.94 &  106.87 \\\\\n",
      "pooled\\_intercept\\_varying\\_covariate\\_car\\_model  &     3 &    1547.37 &  266.22 &     475.81 &   96.63 &   79.12 \\\\\n",
      "varying\\_intercept\\_varying\\_covariate\\_model     &     4 &    2956.88 &  483.70 &    1885.32 &  448.52 &  433.90 \\\\\n",
      "varying\\_intercept\\_pooled\\_covariate\\_model      &     5 &    3002.59 &  343.41 &    1931.04 &  508.38 &  492.01 \\\\\n",
      "pooled\\_intercept\\_varying\\_covariate\\_model      &     6 &    3252.06 &  537.34 &    2180.50 &  467.44 &  454.44 \\\\\n",
      "pooled\\_intercept\\_car\\_model                    &     7 &    3382.35 &  632.29 &    2310.79 &  429.00 &  414.64 \\\\\n",
      "varying\\_intercept\\_model                       &     8 &    4027.62 &  117.97 &    2956.06 &  805.71 &  796.46 \\\\\n",
      "pooled\\_intercept\\_pooled\\_covariate\\_model       &     9 &    4327.90 &  451.85 &    3256.34 &  862.91 &  853.27 \\\\\n",
      "\\bottomrule\n",
      "\\end{tabular}\n",
      "\n"
     ]
    },
    {
     "name": "stderr",
     "output_type": "stream",
     "text": [
      "C:\\Users\\acmiy\\AppData\\Local\\Temp\\ipykernel_40060\\2487536844.py:1: FutureWarning: In future versions `DataFrame.to_latex` is expected to utilise the base implementation of `Styler.to_latex` for formatting and rendering. The arguments signature may therefore change. It is recommended instead to use `DataFrame.style.to_latex` which also contains additional functionality.\n",
      "  print(formatted.to_latex())\n"
     ]
    }
   ],
   "source": [
    "print(formatted.to_latex())"
   ]
  }
 ],
 "metadata": {
  "kernelspec": {
   "display_name": "Python 3.10.5 ('.venv': poetry)",
   "language": "python",
   "name": "python3"
  },
  "language_info": {
   "codemirror_mode": {
    "name": "ipython",
    "version": 3
   },
   "file_extension": ".py",
   "mimetype": "text/x-python",
   "name": "python",
   "nbconvert_exporter": "python",
   "pygments_lexer": "ipython3",
   "version": "3.10.5"
  },
  "orig_nbformat": 4,
  "vscode": {
   "interpreter": {
    "hash": "1e3f4cc7afa41f62524600cad2bf1c6f097926341060aea3d2038353a3356c41"
   }
  }
 },
 "nbformat": 4,
 "nbformat_minor": 2
}
