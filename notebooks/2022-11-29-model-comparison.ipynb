{
 "cells": [
  {
   "cell_type": "code",
   "execution_count": 1,
   "metadata": {},
   "outputs": [],
   "source": [
    "%load_ext autoreload\n",
    "%autoreload 2"
   ]
  },
  {
   "cell_type": "code",
   "execution_count": 2,
   "metadata": {},
   "outputs": [],
   "source": [
    "# ignore imputation warnings from pymc\n",
    "# ImputationWarning: Data in y contains missing values and will be automatically imputed from the sampling distribution.\n",
    "import warnings\n",
    "from pymc import ImputationWarning\n",
    "\n",
    "warnings.filterwarnings(\"ignore\", category=ImputationWarning)\n",
    "warnings.filterwarnings(\"ignore\", category=UserWarning)"
   ]
  },
  {
   "cell_type": "code",
   "execution_count": 3,
   "metadata": {},
   "outputs": [
    {
     "data": {
      "text/html": [
       "<div>\n",
       "<style scoped>\n",
       "    .dataframe tbody tr th:only-of-type {\n",
       "        vertical-align: middle;\n",
       "    }\n",
       "\n",
       "    .dataframe tbody tr th {\n",
       "        vertical-align: top;\n",
       "    }\n",
       "\n",
       "    .dataframe thead th {\n",
       "        text-align: right;\n",
       "    }\n",
       "</style>\n",
       "<table border=\"1\" class=\"dataframe\">\n",
       "  <thead>\n",
       "    <tr style=\"text-align: right;\">\n",
       "      <th></th>\n",
       "      <th>primary_label</th>\n",
       "      <th>grid_id</th>\n",
       "      <th>y</th>\n",
       "      <th>region</th>\n",
       "      <th>grid_size</th>\n",
       "      <th>population_density</th>\n",
       "      <th>elevation_p5</th>\n",
       "      <th>elevation_p50</th>\n",
       "      <th>elevation_p95</th>\n",
       "      <th>LST_Day_1km_p5</th>\n",
       "      <th>...</th>\n",
       "      <th>land_cover_08</th>\n",
       "      <th>land_cover_09</th>\n",
       "      <th>land_cover_10</th>\n",
       "      <th>land_cover_11</th>\n",
       "      <th>land_cover_12</th>\n",
       "      <th>land_cover_13</th>\n",
       "      <th>land_cover_14</th>\n",
       "      <th>land_cover_15</th>\n",
       "      <th>land_cover_16</th>\n",
       "      <th>land_cover_17</th>\n",
       "    </tr>\n",
       "    <tr>\n",
       "      <th>adjacency_idx</th>\n",
       "      <th></th>\n",
       "      <th></th>\n",
       "      <th></th>\n",
       "      <th></th>\n",
       "      <th></th>\n",
       "      <th></th>\n",
       "      <th></th>\n",
       "      <th></th>\n",
       "      <th></th>\n",
       "      <th></th>\n",
       "      <th></th>\n",
       "      <th></th>\n",
       "      <th></th>\n",
       "      <th></th>\n",
       "      <th></th>\n",
       "      <th></th>\n",
       "      <th></th>\n",
       "      <th></th>\n",
       "      <th></th>\n",
       "      <th></th>\n",
       "      <th></th>\n",
       "    </tr>\n",
       "  </thead>\n",
       "  <tbody>\n",
       "    <tr>\n",
       "      <th>0</th>\n",
       "      <td>other</td>\n",
       "      <td>-103_37</td>\n",
       "      <td>9.0</td>\n",
       "      <td>western_us</td>\n",
       "      <td>2</td>\n",
       "      <td>59513.489132</td>\n",
       "      <td>917.473286</td>\n",
       "      <td>1113.467367</td>\n",
       "      <td>1389.580957</td>\n",
       "      <td>25.930530</td>\n",
       "      <td>...</td>\n",
       "      <td>0</td>\n",
       "      <td>0</td>\n",
       "      <td>25124</td>\n",
       "      <td>0</td>\n",
       "      <td>13749</td>\n",
       "      <td>9</td>\n",
       "      <td>0</td>\n",
       "      <td>0</td>\n",
       "      <td>10</td>\n",
       "      <td>10</td>\n",
       "    </tr>\n",
       "    <tr>\n",
       "      <th>0</th>\n",
       "      <td>normoc</td>\n",
       "      <td>-103_37</td>\n",
       "      <td>3.0</td>\n",
       "      <td>western_us</td>\n",
       "      <td>2</td>\n",
       "      <td>59513.489132</td>\n",
       "      <td>917.473286</td>\n",
       "      <td>1113.467367</td>\n",
       "      <td>1389.580957</td>\n",
       "      <td>25.930530</td>\n",
       "      <td>...</td>\n",
       "      <td>0</td>\n",
       "      <td>0</td>\n",
       "      <td>25124</td>\n",
       "      <td>0</td>\n",
       "      <td>13749</td>\n",
       "      <td>9</td>\n",
       "      <td>0</td>\n",
       "      <td>0</td>\n",
       "      <td>10</td>\n",
       "      <td>10</td>\n",
       "    </tr>\n",
       "    <tr>\n",
       "      <th>0</th>\n",
       "      <td>wesmea</td>\n",
       "      <td>-103_37</td>\n",
       "      <td>2.0</td>\n",
       "      <td>western_us</td>\n",
       "      <td>2</td>\n",
       "      <td>59513.489132</td>\n",
       "      <td>917.473286</td>\n",
       "      <td>1113.467367</td>\n",
       "      <td>1389.580957</td>\n",
       "      <td>25.930530</td>\n",
       "      <td>...</td>\n",
       "      <td>0</td>\n",
       "      <td>0</td>\n",
       "      <td>25124</td>\n",
       "      <td>0</td>\n",
       "      <td>13749</td>\n",
       "      <td>9</td>\n",
       "      <td>0</td>\n",
       "      <td>0</td>\n",
       "      <td>10</td>\n",
       "      <td>10</td>\n",
       "    </tr>\n",
       "    <tr>\n",
       "      <th>0</th>\n",
       "      <td>houfin</td>\n",
       "      <td>-103_37</td>\n",
       "      <td>NaN</td>\n",
       "      <td>western_us</td>\n",
       "      <td>2</td>\n",
       "      <td>59513.489132</td>\n",
       "      <td>917.473286</td>\n",
       "      <td>1113.467367</td>\n",
       "      <td>1389.580957</td>\n",
       "      <td>25.930530</td>\n",
       "      <td>...</td>\n",
       "      <td>0</td>\n",
       "      <td>0</td>\n",
       "      <td>25124</td>\n",
       "      <td>0</td>\n",
       "      <td>13749</td>\n",
       "      <td>9</td>\n",
       "      <td>0</td>\n",
       "      <td>0</td>\n",
       "      <td>10</td>\n",
       "      <td>10</td>\n",
       "    </tr>\n",
       "    <tr>\n",
       "      <th>1</th>\n",
       "      <td>normoc</td>\n",
       "      <td>-103_39</td>\n",
       "      <td>NaN</td>\n",
       "      <td>western_us</td>\n",
       "      <td>2</td>\n",
       "      <td>72311.465983</td>\n",
       "      <td>933.400010</td>\n",
       "      <td>1109.527419</td>\n",
       "      <td>1373.500000</td>\n",
       "      <td>23.530828</td>\n",
       "      <td>...</td>\n",
       "      <td>0</td>\n",
       "      <td>0</td>\n",
       "      <td>26593</td>\n",
       "      <td>1</td>\n",
       "      <td>11191</td>\n",
       "      <td>14</td>\n",
       "      <td>0</td>\n",
       "      <td>0</td>\n",
       "      <td>5</td>\n",
       "      <td>5</td>\n",
       "    </tr>\n",
       "  </tbody>\n",
       "</table>\n",
       "<p>5 rows × 32 columns</p>\n",
       "</div>"
      ],
      "text/plain": [
       "              primary_label  grid_id    y      region  grid_size  \\\n",
       "adjacency_idx                                                      \n",
       "0                     other  -103_37  9.0  western_us          2   \n",
       "0                    normoc  -103_37  3.0  western_us          2   \n",
       "0                    wesmea  -103_37  2.0  western_us          2   \n",
       "0                    houfin  -103_37  NaN  western_us          2   \n",
       "1                    normoc  -103_39  NaN  western_us          2   \n",
       "\n",
       "               population_density  elevation_p5  elevation_p50  elevation_p95  \\\n",
       "adjacency_idx                                                                   \n",
       "0                    59513.489132    917.473286    1113.467367    1389.580957   \n",
       "0                    59513.489132    917.473286    1113.467367    1389.580957   \n",
       "0                    59513.489132    917.473286    1113.467367    1389.580957   \n",
       "0                    59513.489132    917.473286    1113.467367    1389.580957   \n",
       "1                    72311.465983    933.400010    1109.527419    1373.500000   \n",
       "\n",
       "               LST_Day_1km_p5  ...  land_cover_08  land_cover_09  \\\n",
       "adjacency_idx                  ...                                 \n",
       "0                   25.930530  ...              0              0   \n",
       "0                   25.930530  ...              0              0   \n",
       "0                   25.930530  ...              0              0   \n",
       "0                   25.930530  ...              0              0   \n",
       "1                   23.530828  ...              0              0   \n",
       "\n",
       "               land_cover_10  land_cover_11  land_cover_12  land_cover_13  \\\n",
       "adjacency_idx                                                               \n",
       "0                      25124              0          13749              9   \n",
       "0                      25124              0          13749              9   \n",
       "0                      25124              0          13749              9   \n",
       "0                      25124              0          13749              9   \n",
       "1                      26593              1          11191             14   \n",
       "\n",
       "               land_cover_14  land_cover_15  land_cover_16  land_cover_17  \n",
       "adjacency_idx                                                              \n",
       "0                          0              0             10             10  \n",
       "0                          0              0             10             10  \n",
       "0                          0              0             10             10  \n",
       "0                          0              0             10             10  \n",
       "1                          0              0              5              5  \n",
       "\n",
       "[5 rows x 32 columns]"
      ]
     },
     "execution_count": 3,
     "metadata": {},
     "output_type": "execute_result"
    }
   ],
   "source": [
    "from birdcall_distribution.data import prepare_dataframe\n",
    "\n",
    "prep_df, W = prepare_dataframe(\n",
    "    \"../data/ee_v3_western_us_2.parquet\",\n",
    "    \"../data/raw/birdclef-2022/train_metadata.csv\",\n",
    "    n_species=3,\n",
    ")\n",
    "prep_df.head()"
   ]
  },
  {
   "cell_type": "code",
   "execution_count": 4,
   "metadata": {},
   "outputs": [
    {
     "name": "stdout",
     "output_type": "stream",
     "text": [
      "random_intercept_model\n"
     ]
    },
    {
     "data": {
      "image/svg+xml": "<?xml version=\"1.0\" encoding=\"UTF-8\" standalone=\"no\"?>\n<!DOCTYPE svg PUBLIC \"-//W3C//DTD SVG 1.1//EN\"\n \"http://www.w3.org/Graphics/SVG/1.1/DTD/svg11.dtd\">\n<!-- Generated by graphviz version 2.38.0 (20140413.2041)\n -->\n<!-- Title: %3 Pages: 1 -->\n<svg width=\"392pt\" height=\"352pt\"\n viewBox=\"0.00 0.00 392.00 351.91\" xmlns=\"http://www.w3.org/2000/svg\" xmlns:xlink=\"http://www.w3.org/1999/xlink\">\n<g id=\"graph0\" class=\"graph\" transform=\"scale(1 1) rotate(0) translate(4 347.907)\">\n<title>%3</title>\n<polygon fill=\"white\" stroke=\"none\" points=\"-4,4 -4,-347.907 388,-347.907 388,4 -4,4\"/>\n<g id=\"clust1\" class=\"cluster\"><title>clusterobs_idx (384)</title>\n<path fill=\"none\" stroke=\"black\" d=\"M56,-129.953C56,-129.953 248,-129.953 248,-129.953 254,-129.953 260,-135.953 260,-141.953 260,-141.953 260,-312.93 260,-312.93 260,-318.93 254,-324.93 248,-324.93 248,-324.93 56,-324.93 56,-324.93 50,-324.93 44,-318.93 44,-312.93 44,-312.93 44,-141.953 44,-141.953 44,-135.953 50,-129.953 56,-129.953\"/>\n<text text-anchor=\"middle\" x=\"212.5\" y=\"-137.753\" font-family=\"Times New Roman,serif\" font-size=\"14.00\">obs_idx (384)</text>\n</g>\n<g id=\"clust3\" class=\"cluster\"><title>cluster211</title>\n<path fill=\"none\" stroke=\"black\" d=\"M162,-8C162,-8 258,-8 258,-8 264,-8 270,-14 270,-20 270,-20 270,-109.953 270,-109.953 270,-115.953 264,-121.953 258,-121.953 258,-121.953 162,-121.953 162,-121.953 156,-121.953 150,-115.953 150,-109.953 150,-109.953 150,-20 150,-20 150,-14 156,-8 162,-8\"/>\n<text text-anchor=\"middle\" x=\"251.5\" y=\"-15.8\" font-family=\"Times New Roman,serif\" font-size=\"14.00\">211</text>\n</g>\n<g id=\"clust4\" class=\"cluster\"><title>cluster173</title>\n<path fill=\"none\" stroke=\"black\" d=\"M20,-8C20,-8 130,-8 130,-8 136,-8 142,-14 142,-20 142,-20 142,-109.953 142,-109.953 142,-115.953 136,-121.953 130,-121.953 130,-121.953 20,-121.953 20,-121.953 14,-121.953 8,-115.953 8,-109.953 8,-109.953 8,-20 8,-20 8,-14 14,-8 20,-8\"/>\n<text text-anchor=\"middle\" x=\"123.5\" y=\"-15.8\" font-family=\"Times New Roman,serif\" font-size=\"14.00\">173</text>\n</g>\n<g id=\"clust2\" class=\"cluster\"><title>clusterspecies_idx (4)</title>\n<path fill=\"none\" stroke=\"black\" d=\"M280,-221.953C280,-221.953 364,-221.953 364,-221.953 370,-221.953 376,-227.953 376,-233.953 376,-233.953 376,-323.907 376,-323.907 376,-329.907 370,-335.907 364,-335.907 364,-335.907 280,-335.907 280,-335.907 274,-335.907 268,-329.907 268,-323.907 268,-323.907 268,-233.953 268,-233.953 268,-227.953 274,-221.953 280,-221.953\"/>\n<text text-anchor=\"middle\" x=\"325\" y=\"-229.753\" font-family=\"Times New Roman,serif\" font-size=\"14.00\">species_idx (4)</text>\n</g>\n<!-- y -->\n<g id=\"node1\" class=\"node\"><title>y</title>\n<polygon fill=\"none\" stroke=\"black\" points=\"141.5,-316.93 52.5,-316.93 52.5,-263.93 141.5,-263.93 141.5,-316.93\"/>\n<text text-anchor=\"middle\" x=\"97\" y=\"-301.73\" font-family=\"Times New Roman,serif\" font-size=\"14.00\">y</text>\n<text text-anchor=\"middle\" x=\"97\" y=\"-286.73\" font-family=\"Times New Roman,serif\" font-size=\"14.00\">~</text>\n<text text-anchor=\"middle\" x=\"97\" y=\"-271.73\" font-family=\"Times New Roman,serif\" font-size=\"14.00\">Deterministic</text>\n</g>\n<!-- mu -->\n<g id=\"node2\" class=\"node\"><title>mu</title>\n<polygon fill=\"none\" stroke=\"black\" points=\"251.5,-213.953 162.5,-213.953 162.5,-160.953 251.5,-160.953 251.5,-213.953\"/>\n<text text-anchor=\"middle\" x=\"207\" y=\"-198.753\" font-family=\"Times New Roman,serif\" font-size=\"14.00\">mu</text>\n<text text-anchor=\"middle\" x=\"207\" y=\"-183.753\" font-family=\"Times New Roman,serif\" font-size=\"14.00\">~</text>\n<text text-anchor=\"middle\" x=\"207\" y=\"-168.753\" font-family=\"Times New Roman,serif\" font-size=\"14.00\">Deterministic</text>\n</g>\n<!-- y_missing -->\n<g id=\"node5\" class=\"node\"><title>y_missing</title>\n<ellipse fill=\"none\" stroke=\"black\" cx=\"210\" cy=\"-76.4767\" rx=\"51.7379\" ry=\"37.4533\"/>\n<text text-anchor=\"middle\" x=\"210\" y=\"-87.7767\" font-family=\"Times New Roman,serif\" font-size=\"14.00\">y_missing</text>\n<text text-anchor=\"middle\" x=\"210\" y=\"-72.7767\" font-family=\"Times New Roman,serif\" font-size=\"14.00\">~</text>\n<text text-anchor=\"middle\" x=\"210\" y=\"-57.7767\" font-family=\"Times New Roman,serif\" font-size=\"14.00\">Poisson</text>\n</g>\n<!-- mu&#45;&gt;y_missing -->\n<g id=\"edge3\" class=\"edge\"><title>mu&#45;&gt;y_missing</title>\n<path fill=\"none\" stroke=\"black\" d=\"M207.703,-160.903C208.004,-149.992 208.364,-136.9 208.709,-124.357\"/>\n<polygon fill=\"black\" stroke=\"black\" points=\"212.218,-124.102 208.994,-114.009 205.22,-123.909 212.218,-124.102\"/>\n</g>\n<!-- y_observed -->\n<g id=\"node6\" class=\"node\"><title>y_observed</title>\n<ellipse fill=\"lightgrey\" stroke=\"black\" cx=\"75\" cy=\"-76.4767\" rx=\"58.8803\" ry=\"37.4533\"/>\n<text text-anchor=\"middle\" x=\"75\" y=\"-87.7767\" font-family=\"Times New Roman,serif\" font-size=\"14.00\">y_observed</text>\n<text text-anchor=\"middle\" x=\"75\" y=\"-72.7767\" font-family=\"Times New Roman,serif\" font-size=\"14.00\">~</text>\n<text text-anchor=\"middle\" x=\"75\" y=\"-57.7767\" font-family=\"Times New Roman,serif\" font-size=\"14.00\">Poisson</text>\n</g>\n<!-- mu&#45;&gt;y_observed -->\n<g id=\"edge4\" class=\"edge\"><title>mu&#45;&gt;y_observed</title>\n<path fill=\"none\" stroke=\"black\" d=\"M176.052,-160.903C158.849,-146.701 137.171,-128.804 118.309,-113.231\"/>\n<polygon fill=\"black\" stroke=\"black\" points=\"120.358,-110.385 110.418,-106.717 115.902,-115.783 120.358,-110.385\"/>\n</g>\n<!-- species_idx -->\n<g id=\"node3\" class=\"node\"><title>species_idx</title>\n<path fill=\"lightgrey\" stroke=\"black\" d=\"M240,-316.93C240,-316.93 172,-316.93 172,-316.93 166,-316.93 160,-310.93 160,-304.93 160,-304.93 160,-275.93 160,-275.93 160,-269.93 166,-263.93 172,-263.93 172,-263.93 240,-263.93 240,-263.93 246,-263.93 252,-269.93 252,-275.93 252,-275.93 252,-304.93 252,-304.93 252,-310.93 246,-316.93 240,-316.93\"/>\n<text text-anchor=\"middle\" x=\"206\" y=\"-301.73\" font-family=\"Times New Roman,serif\" font-size=\"14.00\">species_idx</text>\n<text text-anchor=\"middle\" x=\"206\" y=\"-286.73\" font-family=\"Times New Roman,serif\" font-size=\"14.00\">~</text>\n<text text-anchor=\"middle\" x=\"206\" y=\"-271.73\" font-family=\"Times New Roman,serif\" font-size=\"14.00\">ConstantData</text>\n</g>\n<!-- species_idx&#45;&gt;mu -->\n<g id=\"edge2\" class=\"edge\"><title>species_idx&#45;&gt;mu</title>\n<path fill=\"none\" stroke=\"black\" d=\"M206.255,-263.688C206.374,-251.7 206.517,-237.24 206.646,-224.213\"/>\n<polygon fill=\"black\" stroke=\"black\" points=\"210.146,-224.182 206.746,-214.148 203.147,-224.113 210.146,-224.182\"/>\n</g>\n<!-- intercept -->\n<g id=\"node4\" class=\"node\"><title>intercept</title>\n<ellipse fill=\"none\" stroke=\"black\" cx=\"322\" cy=\"-290.43\" rx=\"45.9239\" ry=\"37.4533\"/>\n<text text-anchor=\"middle\" x=\"322\" y=\"-301.73\" font-family=\"Times New Roman,serif\" font-size=\"14.00\">intercept</text>\n<text text-anchor=\"middle\" x=\"322\" y=\"-286.73\" font-family=\"Times New Roman,serif\" font-size=\"14.00\">~</text>\n<text text-anchor=\"middle\" x=\"322\" y=\"-271.73\" font-family=\"Times New Roman,serif\" font-size=\"14.00\">Normal</text>\n</g>\n<!-- intercept&#45;&gt;mu -->\n<g id=\"edge1\" class=\"edge\"><title>intercept&#45;&gt;mu</title>\n<path fill=\"none\" stroke=\"black\" d=\"M298.539,-257.893C288.669,-245.826 276.565,-232.453 264,-221.953 262.668,-220.84 261.294,-219.742 259.888,-218.66\"/>\n<polygon fill=\"black\" stroke=\"black\" points=\"261.715,-215.662 251.554,-212.662 257.626,-221.344 261.715,-215.662\"/>\n</g>\n<!-- y_missing&#45;&gt;y -->\n<g id=\"edge6\" class=\"edge\"><title>y_missing&#45;&gt;y</title>\n<path fill=\"none\" stroke=\"black\" d=\"M175.861,-104.589C167.892,-112.151 159.993,-120.818 154,-129.953 128.643,-168.609 112.932,-219.941 104.583,-253.795\"/>\n<polygon fill=\"black\" stroke=\"black\" points=\"101.134,-253.169 102.226,-263.707 107.945,-254.788 101.134,-253.169\"/>\n</g>\n<!-- y_observed&#45;&gt;y -->\n<g id=\"edge5\" class=\"edge\"><title>y_observed&#45;&gt;y</title>\n<path fill=\"none\" stroke=\"black\" d=\"M78.8067,-114.151C82.8654,-153.254 89.2508,-214.772 93.2771,-253.563\"/>\n<polygon fill=\"black\" stroke=\"black\" points=\"89.8325,-254.278 94.3463,-263.863 96.7951,-253.556 89.8325,-254.278\"/>\n</g>\n</g>\n</svg>\n",
      "text/plain": [
       "<graphviz.graphs.Digraph at 0x18094447160>"
      ]
     },
     "metadata": {},
     "output_type": "display_data"
    },
    {
     "name": "stdout",
     "output_type": "stream",
     "text": [
      "pooled_intercept_pooled_covariate_model\n"
     ]
    },
    {
     "data": {
      "image/svg+xml": "<?xml version=\"1.0\" encoding=\"UTF-8\" standalone=\"no\"?>\n<!DOCTYPE svg PUBLIC \"-//W3C//DTD SVG 1.1//EN\"\n \"http://www.w3.org/Graphics/SVG/1.1/DTD/svg11.dtd\">\n<!-- Generated by graphviz version 2.38.0 (20140413.2041)\n -->\n<!-- Title: %3 Pages: 1 -->\n<svg width=\"464pt\" height=\"360pt\"\n viewBox=\"0.00 0.00 464.00 359.91\" xmlns=\"http://www.w3.org/2000/svg\" xmlns:xlink=\"http://www.w3.org/1999/xlink\">\n<g id=\"graph0\" class=\"graph\" transform=\"scale(1 1) rotate(0) translate(4 355.907)\">\n<title>%3</title>\n<polygon fill=\"white\" stroke=\"none\" points=\"-4,4 -4,-355.907 460,-355.907 460,4 -4,4\"/>\n<g id=\"clust4\" class=\"cluster\"><title>cluster211</title>\n<path fill=\"none\" stroke=\"black\" d=\"M198,-8C198,-8 294,-8 294,-8 300,-8 306,-14 306,-20 306,-20 306,-109.953 306,-109.953 306,-115.953 300,-121.953 294,-121.953 294,-121.953 198,-121.953 198,-121.953 192,-121.953 186,-115.953 186,-109.953 186,-109.953 186,-20 186,-20 186,-14 192,-8 198,-8\"/>\n<text text-anchor=\"middle\" x=\"287.5\" y=\"-15.8\" font-family=\"Times New Roman,serif\" font-size=\"14.00\">211</text>\n</g>\n<g id=\"clust5\" class=\"cluster\"><title>cluster173</title>\n<path fill=\"none\" stroke=\"black\" d=\"M326,-8C326,-8 436,-8 436,-8 442,-8 448,-14 448,-20 448,-20 448,-109.953 448,-109.953 448,-115.953 442,-121.953 436,-121.953 436,-121.953 326,-121.953 326,-121.953 320,-121.953 314,-115.953 314,-109.953 314,-109.953 314,-20 314,-20 314,-14 320,-8 326,-8\"/>\n<text text-anchor=\"middle\" x=\"429.5\" y=\"-15.8\" font-family=\"Times New Roman,serif\" font-size=\"14.00\">173</text>\n</g>\n<g id=\"clust1\" class=\"cluster\"><title>clusterobs_idx (384) x features_idx (9)</title>\n<path fill=\"none\" stroke=\"black\" d=\"M20,-240.93C20,-240.93 193,-240.93 193,-240.93 199,-240.93 205,-246.93 205,-252.93 205,-252.93 205,-320.93 205,-320.93 205,-326.93 199,-332.93 193,-332.93 193,-332.93 20,-332.93 20,-332.93 14,-332.93 8,-326.93 8,-320.93 8,-320.93 8,-252.93 8,-252.93 8,-246.93 14,-240.93 20,-240.93\"/>\n<text text-anchor=\"middle\" x=\"106.5\" y=\"-248.73\" font-family=\"Times New Roman,serif\" font-size=\"14.00\">obs_idx (384) x features_idx (9)</text>\n</g>\n<g id=\"clust3\" class=\"cluster\"><title>clusterobs_idx (384)</title>\n<path fill=\"none\" stroke=\"black\" d=\"M219,-129.953C219,-129.953 408,-129.953 408,-129.953 414,-129.953 420,-135.953 420,-141.953 420,-141.953 420,-209.953 420,-209.953 420,-215.953 414,-221.953 408,-221.953 408,-221.953 219,-221.953 219,-221.953 213,-221.953 207,-215.953 207,-209.953 207,-209.953 207,-141.953 207,-141.953 207,-135.953 213,-129.953 219,-129.953\"/>\n<text text-anchor=\"middle\" x=\"372.5\" y=\"-137.753\" font-family=\"Times New Roman,serif\" font-size=\"14.00\">obs_idx (384)</text>\n</g>\n<g id=\"clust2\" class=\"cluster\"><title>clusterfeatures_idx (9)</title>\n<path fill=\"none\" stroke=\"black\" d=\"M327,-229.953C327,-229.953 407,-229.953 407,-229.953 413,-229.953 419,-235.953 419,-241.953 419,-241.953 419,-331.907 419,-331.907 419,-337.907 413,-343.907 407,-343.907 407,-343.907 327,-343.907 327,-343.907 321,-343.907 315,-337.907 315,-331.907 315,-331.907 315,-241.953 315,-241.953 315,-235.953 321,-229.953 327,-229.953\"/>\n<text text-anchor=\"middle\" x=\"367\" y=\"-237.753\" font-family=\"Times New Roman,serif\" font-size=\"14.00\">features_idx (9)</text>\n</g>\n<!-- X -->\n<g id=\"node1\" class=\"node\"><title>X</title>\n<path fill=\"lightgrey\" stroke=\"black\" d=\"M184,-324.93C184,-324.93 116,-324.93 116,-324.93 110,-324.93 104,-318.93 104,-312.93 104,-312.93 104,-283.93 104,-283.93 104,-277.93 110,-271.93 116,-271.93 116,-271.93 184,-271.93 184,-271.93 190,-271.93 196,-277.93 196,-283.93 196,-283.93 196,-312.93 196,-312.93 196,-318.93 190,-324.93 184,-324.93\"/>\n<text text-anchor=\"middle\" x=\"150\" y=\"-309.73\" font-family=\"Times New Roman,serif\" font-size=\"14.00\">X</text>\n<text text-anchor=\"middle\" x=\"150\" y=\"-294.73\" font-family=\"Times New Roman,serif\" font-size=\"14.00\">~</text>\n<text text-anchor=\"middle\" x=\"150\" y=\"-279.73\" font-family=\"Times New Roman,serif\" font-size=\"14.00\">ConstantData</text>\n</g>\n<!-- mu -->\n<g id=\"node5\" class=\"node\"><title>mu</title>\n<polygon fill=\"none\" stroke=\"black\" points=\"304.5,-213.953 215.5,-213.953 215.5,-160.953 304.5,-160.953 304.5,-213.953\"/>\n<text text-anchor=\"middle\" x=\"260\" y=\"-198.753\" font-family=\"Times New Roman,serif\" font-size=\"14.00\">mu</text>\n<text text-anchor=\"middle\" x=\"260\" y=\"-183.753\" font-family=\"Times New Roman,serif\" font-size=\"14.00\">~</text>\n<text text-anchor=\"middle\" x=\"260\" y=\"-168.753\" font-family=\"Times New Roman,serif\" font-size=\"14.00\">Deterministic</text>\n</g>\n<!-- X&#45;&gt;mu -->\n<g id=\"edge1\" class=\"edge\"><title>X&#45;&gt;mu</title>\n<path fill=\"none\" stroke=\"black\" d=\"M168.517,-271.835C178.607,-258.669 191.72,-242.744 205,-229.953 208.287,-226.787 211.816,-223.643 215.442,-220.584\"/>\n<polygon fill=\"black\" stroke=\"black\" points=\"217.928,-223.074 223.479,-214.05 213.512,-217.643 217.928,-223.074\"/>\n</g>\n<!-- intercept -->\n<g id=\"node2\" class=\"node\"><title>intercept</title>\n<ellipse fill=\"none\" stroke=\"black\" cx=\"260\" cy=\"-298.43\" rx=\"45.9239\" ry=\"37.4533\"/>\n<text text-anchor=\"middle\" x=\"260\" y=\"-309.73\" font-family=\"Times New Roman,serif\" font-size=\"14.00\">intercept</text>\n<text text-anchor=\"middle\" x=\"260\" y=\"-294.73\" font-family=\"Times New Roman,serif\" font-size=\"14.00\">~</text>\n<text text-anchor=\"middle\" x=\"260\" y=\"-279.73\" font-family=\"Times New Roman,serif\" font-size=\"14.00\">Normal</text>\n</g>\n<!-- intercept&#45;&gt;mu -->\n<g id=\"edge3\" class=\"edge\"><title>intercept&#45;&gt;mu</title>\n<path fill=\"none\" stroke=\"black\" d=\"M260,-260.839C260,-249.098 260,-236.111 260,-224.415\"/>\n<polygon fill=\"black\" stroke=\"black\" points=\"263.5,-224.111 260,-214.111 256.5,-224.111 263.5,-224.111\"/>\n</g>\n<!-- betas -->\n<g id=\"node3\" class=\"node\"><title>betas</title>\n<ellipse fill=\"none\" stroke=\"black\" cx=\"365\" cy=\"-298.43\" rx=\"41.0244\" ry=\"37.4533\"/>\n<text text-anchor=\"middle\" x=\"365\" y=\"-309.73\" font-family=\"Times New Roman,serif\" font-size=\"14.00\">betas</text>\n<text text-anchor=\"middle\" x=\"365\" y=\"-294.73\" font-family=\"Times New Roman,serif\" font-size=\"14.00\">~</text>\n<text text-anchor=\"middle\" x=\"365\" y=\"-279.73\" font-family=\"Times New Roman,serif\" font-size=\"14.00\">Normal</text>\n</g>\n<!-- betas&#45;&gt;mu -->\n<g id=\"edge2\" class=\"edge\"><title>betas&#45;&gt;mu</title>\n<path fill=\"none\" stroke=\"black\" d=\"M344.342,-265.703C335.929,-253.877 325.676,-240.722 315,-229.953 311.835,-226.761 308.415,-223.612 304.881,-220.562\"/>\n<polygon fill=\"black\" stroke=\"black\" points=\"306.959,-217.738 297.022,-214.065 302.499,-223.134 306.959,-217.738\"/>\n</g>\n<!-- y -->\n<g id=\"node4\" class=\"node\"><title>y</title>\n<polygon fill=\"none\" stroke=\"black\" points=\"411.5,-213.953 322.5,-213.953 322.5,-160.953 411.5,-160.953 411.5,-213.953\"/>\n<text text-anchor=\"middle\" x=\"367\" y=\"-198.753\" font-family=\"Times New Roman,serif\" font-size=\"14.00\">y</text>\n<text text-anchor=\"middle\" x=\"367\" y=\"-183.753\" font-family=\"Times New Roman,serif\" font-size=\"14.00\">~</text>\n<text text-anchor=\"middle\" x=\"367\" y=\"-168.753\" font-family=\"Times New Roman,serif\" font-size=\"14.00\">Deterministic</text>\n</g>\n<!-- y_missing -->\n<g id=\"node6\" class=\"node\"><title>y_missing</title>\n<ellipse fill=\"none\" stroke=\"black\" cx=\"246\" cy=\"-76.4767\" rx=\"51.7379\" ry=\"37.4533\"/>\n<text text-anchor=\"middle\" x=\"246\" y=\"-87.7767\" font-family=\"Times New Roman,serif\" font-size=\"14.00\">y_missing</text>\n<text text-anchor=\"middle\" x=\"246\" y=\"-72.7767\" font-family=\"Times New Roman,serif\" font-size=\"14.00\">~</text>\n<text text-anchor=\"middle\" x=\"246\" y=\"-57.7767\" font-family=\"Times New Roman,serif\" font-size=\"14.00\">Poisson</text>\n</g>\n<!-- mu&#45;&gt;y_missing -->\n<g id=\"edge4\" class=\"edge\"><title>mu&#45;&gt;y_missing</title>\n<path fill=\"none\" stroke=\"black\" d=\"M256.718,-160.903C255.302,-149.883 253.6,-136.638 251.974,-123.981\"/>\n<polygon fill=\"black\" stroke=\"black\" points=\"255.439,-123.482 250.693,-114.009 248.496,-124.374 255.439,-123.482\"/>\n</g>\n<!-- y_observed -->\n<g id=\"node7\" class=\"node\"><title>y_observed</title>\n<ellipse fill=\"lightgrey\" stroke=\"black\" cx=\"381\" cy=\"-76.4767\" rx=\"58.8803\" ry=\"37.4533\"/>\n<text text-anchor=\"middle\" x=\"381\" y=\"-87.7767\" font-family=\"Times New Roman,serif\" font-size=\"14.00\">y_observed</text>\n<text text-anchor=\"middle\" x=\"381\" y=\"-72.7767\" font-family=\"Times New Roman,serif\" font-size=\"14.00\">~</text>\n<text text-anchor=\"middle\" x=\"381\" y=\"-57.7767\" font-family=\"Times New Roman,serif\" font-size=\"14.00\">Poisson</text>\n</g>\n<!-- mu&#45;&gt;y_observed -->\n<g id=\"edge5\" class=\"edge\"><title>mu&#45;&gt;y_observed</title>\n<path fill=\"none\" stroke=\"black\" d=\"M282.915,-160.939C292.252,-150.958 303.342,-139.611 314,-129.953 320.754,-123.833 328.143,-117.615 335.469,-111.702\"/>\n<polygon fill=\"black\" stroke=\"black\" points=\"337.714,-114.389 343.362,-105.425 333.357,-108.911 337.714,-114.389\"/>\n</g>\n<!-- y_missing&#45;&gt;y -->\n<g id=\"edge7\" class=\"edge\"><title>y_missing&#45;&gt;y</title>\n<path fill=\"none\" stroke=\"black\" d=\"M282.163,-103.674C292.711,-111.766 304.065,-120.93 314,-129.953 321.915,-137.142 330.026,-145.314 337.447,-153.166\"/>\n<polygon fill=\"black\" stroke=\"black\" points=\"335.232,-155.924 344.605,-160.863 340.358,-151.157 335.232,-155.924\"/>\n</g>\n<!-- y_observed&#45;&gt;y -->\n<g id=\"edge6\" class=\"edge\"><title>y_observed&#45;&gt;y</title>\n<path fill=\"none\" stroke=\"black\" d=\"M376.307,-114.009C374.778,-125.911 373.083,-139.1 371.564,-150.927\"/>\n<polygon fill=\"black\" stroke=\"black\" points=\"368.085,-150.539 370.282,-160.903 375.028,-151.431 368.085,-150.539\"/>\n</g>\n</g>\n</svg>\n",
      "text/plain": [
       "<graphviz.graphs.Digraph at 0x18095827ac0>"
      ]
     },
     "metadata": {},
     "output_type": "display_data"
    },
    {
     "name": "stdout",
     "output_type": "stream",
     "text": [
      "pooled_intercept_random_covariate_model\n"
     ]
    },
    {
     "data": {
      "image/svg+xml": "<?xml version=\"1.0\" encoding=\"UTF-8\" standalone=\"no\"?>\n<!DOCTYPE svg PUBLIC \"-//W3C//DTD SVG 1.1//EN\"\n \"http://www.w3.org/Graphics/SVG/1.1/DTD/svg11.dtd\">\n<!-- Generated by graphviz version 2.38.0 (20140413.2041)\n -->\n<!-- Title: %3 Pages: 1 -->\n<svg width=\"787pt\" height=\"352pt\"\n viewBox=\"0.00 0.00 787.00 351.91\" xmlns=\"http://www.w3.org/2000/svg\" xmlns:xlink=\"http://www.w3.org/1999/xlink\">\n<g id=\"graph0\" class=\"graph\" transform=\"scale(1 1) rotate(0) translate(4 347.907)\">\n<title>%3</title>\n<polygon fill=\"white\" stroke=\"none\" points=\"-4,4 -4,-347.907 783,-347.907 783,4 -4,4\"/>\n<g id=\"clust1\" class=\"cluster\"><title>clusterobs_idx (384)</title>\n<path fill=\"none\" stroke=\"black\" d=\"M538,-129.953C538,-129.953 730,-129.953 730,-129.953 736,-129.953 742,-135.953 742,-141.953 742,-141.953 742,-312.93 742,-312.93 742,-318.93 736,-324.93 730,-324.93 730,-324.93 538,-324.93 538,-324.93 532,-324.93 526,-318.93 526,-312.93 526,-312.93 526,-141.953 526,-141.953 526,-135.953 532,-129.953 538,-129.953\"/>\n<text text-anchor=\"middle\" x=\"694.5\" y=\"-137.753\" font-family=\"Times New Roman,serif\" font-size=\"14.00\">obs_idx (384)</text>\n</g>\n<g id=\"clust5\" class=\"cluster\"><title>cluster173</title>\n<path fill=\"none\" stroke=\"black\" d=\"M521,-8C521,-8 631,-8 631,-8 637,-8 643,-14 643,-20 643,-20 643,-109.953 643,-109.953 643,-115.953 637,-121.953 631,-121.953 631,-121.953 521,-121.953 521,-121.953 515,-121.953 509,-115.953 509,-109.953 509,-109.953 509,-20 509,-20 509,-14 515,-8 521,-8\"/>\n<text text-anchor=\"middle\" x=\"624.5\" y=\"-15.8\" font-family=\"Times New Roman,serif\" font-size=\"14.00\">173</text>\n</g>\n<g id=\"clust4\" class=\"cluster\"><title>cluster211</title>\n<path fill=\"none\" stroke=\"black\" d=\"M663,-8C663,-8 759,-8 759,-8 765,-8 771,-14 771,-20 771,-20 771,-109.953 771,-109.953 771,-115.953 765,-121.953 759,-121.953 759,-121.953 663,-121.953 663,-121.953 657,-121.953 651,-115.953 651,-109.953 651,-109.953 651,-20 651,-20 651,-14 657,-8 663,-8\"/>\n<text text-anchor=\"middle\" x=\"752.5\" y=\"-15.8\" font-family=\"Times New Roman,serif\" font-size=\"14.00\">211</text>\n</g>\n<g id=\"clust2\" class=\"cluster\"><title>clusterobs_idx (384) x features_idx (9)</title>\n<path fill=\"none\" stroke=\"black\" d=\"M20,-232.93C20,-232.93 193,-232.93 193,-232.93 199,-232.93 205,-238.93 205,-244.93 205,-244.93 205,-312.93 205,-312.93 205,-318.93 199,-324.93 193,-324.93 193,-324.93 20,-324.93 20,-324.93 14,-324.93 8,-318.93 8,-312.93 8,-312.93 8,-244.93 8,-244.93 8,-238.93 14,-232.93 20,-232.93\"/>\n<text text-anchor=\"middle\" x=\"106.5\" y=\"-240.73\" font-family=\"Times New Roman,serif\" font-size=\"14.00\">obs_idx (384) x features_idx (9)</text>\n</g>\n<g id=\"clust3\" class=\"cluster\"><title>clusterspecies_idx (4) x features_idx (9)</title>\n<path fill=\"none\" stroke=\"black\" d=\"M326,-221.953C326,-221.953 506,-221.953 506,-221.953 512,-221.953 518,-227.953 518,-233.953 518,-233.953 518,-323.907 518,-323.907 518,-329.907 512,-335.907 506,-335.907 506,-335.907 326,-335.907 326,-335.907 320,-335.907 314,-329.907 314,-323.907 314,-323.907 314,-233.953 314,-233.953 314,-227.953 320,-221.953 326,-221.953\"/>\n<text text-anchor=\"middle\" x=\"416\" y=\"-229.753\" font-family=\"Times New Roman,serif\" font-size=\"14.00\">species_idx (4) x features_idx (9)</text>\n</g>\n<!-- y -->\n<g id=\"node1\" class=\"node\"><title>y</title>\n<polygon fill=\"none\" stroke=\"black\" points=\"733.5,-316.93 644.5,-316.93 644.5,-263.93 733.5,-263.93 733.5,-316.93\"/>\n<text text-anchor=\"middle\" x=\"689\" y=\"-301.73\" font-family=\"Times New Roman,serif\" font-size=\"14.00\">y</text>\n<text text-anchor=\"middle\" x=\"689\" y=\"-286.73\" font-family=\"Times New Roman,serif\" font-size=\"14.00\">~</text>\n<text text-anchor=\"middle\" x=\"689\" y=\"-271.73\" font-family=\"Times New Roman,serif\" font-size=\"14.00\">Deterministic</text>\n</g>\n<!-- mu -->\n<g id=\"node2\" class=\"node\"><title>mu</title>\n<polygon fill=\"none\" stroke=\"black\" points=\"623.5,-213.953 534.5,-213.953 534.5,-160.953 623.5,-160.953 623.5,-213.953\"/>\n<text text-anchor=\"middle\" x=\"579\" y=\"-198.753\" font-family=\"Times New Roman,serif\" font-size=\"14.00\">mu</text>\n<text text-anchor=\"middle\" x=\"579\" y=\"-183.753\" font-family=\"Times New Roman,serif\" font-size=\"14.00\">~</text>\n<text text-anchor=\"middle\" x=\"579\" y=\"-168.753\" font-family=\"Times New Roman,serif\" font-size=\"14.00\">Deterministic</text>\n</g>\n<!-- y_missing -->\n<g id=\"node7\" class=\"node\"><title>y_missing</title>\n<ellipse fill=\"none\" stroke=\"black\" cx=\"711\" cy=\"-76.4767\" rx=\"51.7379\" ry=\"37.4533\"/>\n<text text-anchor=\"middle\" x=\"711\" y=\"-87.7767\" font-family=\"Times New Roman,serif\" font-size=\"14.00\">y_missing</text>\n<text text-anchor=\"middle\" x=\"711\" y=\"-72.7767\" font-family=\"Times New Roman,serif\" font-size=\"14.00\">~</text>\n<text text-anchor=\"middle\" x=\"711\" y=\"-57.7767\" font-family=\"Times New Roman,serif\" font-size=\"14.00\">Poisson</text>\n</g>\n<!-- mu&#45;&gt;y_missing -->\n<g id=\"edge5\" class=\"edge\"><title>mu&#45;&gt;y_missing</title>\n<path fill=\"none\" stroke=\"black\" d=\"M609.948,-160.903C627.763,-146.195 650.378,-127.525 669.695,-111.577\"/>\n<polygon fill=\"black\" stroke=\"black\" points=\"671.988,-114.223 677.471,-105.158 667.531,-108.825 671.988,-114.223\"/>\n</g>\n<!-- y_observed -->\n<g id=\"node8\" class=\"node\"><title>y_observed</title>\n<ellipse fill=\"lightgrey\" stroke=\"black\" cx=\"576\" cy=\"-76.4767\" rx=\"58.8803\" ry=\"37.4533\"/>\n<text text-anchor=\"middle\" x=\"576\" y=\"-87.7767\" font-family=\"Times New Roman,serif\" font-size=\"14.00\">y_observed</text>\n<text text-anchor=\"middle\" x=\"576\" y=\"-72.7767\" font-family=\"Times New Roman,serif\" font-size=\"14.00\">~</text>\n<text text-anchor=\"middle\" x=\"576\" y=\"-57.7767\" font-family=\"Times New Roman,serif\" font-size=\"14.00\">Poisson</text>\n</g>\n<!-- mu&#45;&gt;y_observed -->\n<g id=\"edge6\" class=\"edge\"><title>mu&#45;&gt;y_observed</title>\n<path fill=\"none\" stroke=\"black\" d=\"M578.297,-160.903C577.996,-149.992 577.636,-136.9 577.291,-124.357\"/>\n<polygon fill=\"black\" stroke=\"black\" points=\"580.78,-123.909 577.006,-114.009 573.782,-124.102 580.78,-123.909\"/>\n</g>\n<!-- species_idx -->\n<g id=\"node3\" class=\"node\"><title>species_idx</title>\n<path fill=\"lightgrey\" stroke=\"black\" d=\"M614,-316.93C614,-316.93 546,-316.93 546,-316.93 540,-316.93 534,-310.93 534,-304.93 534,-304.93 534,-275.93 534,-275.93 534,-269.93 540,-263.93 546,-263.93 546,-263.93 614,-263.93 614,-263.93 620,-263.93 626,-269.93 626,-275.93 626,-275.93 626,-304.93 626,-304.93 626,-310.93 620,-316.93 614,-316.93\"/>\n<text text-anchor=\"middle\" x=\"580\" y=\"-301.73\" font-family=\"Times New Roman,serif\" font-size=\"14.00\">species_idx</text>\n<text text-anchor=\"middle\" x=\"580\" y=\"-286.73\" font-family=\"Times New Roman,serif\" font-size=\"14.00\">~</text>\n<text text-anchor=\"middle\" x=\"580\" y=\"-271.73\" font-family=\"Times New Roman,serif\" font-size=\"14.00\">ConstantData</text>\n</g>\n<!-- species_idx&#45;&gt;mu -->\n<g id=\"edge4\" class=\"edge\"><title>species_idx&#45;&gt;mu</title>\n<path fill=\"none\" stroke=\"black\" d=\"M579.745,-263.688C579.626,-251.7 579.483,-237.24 579.354,-224.213\"/>\n<polygon fill=\"black\" stroke=\"black\" points=\"582.853,-224.113 579.254,-214.148 575.854,-224.182 582.853,-224.113\"/>\n</g>\n<!-- X -->\n<g id=\"node4\" class=\"node\"><title>X</title>\n<path fill=\"lightgrey\" stroke=\"black\" d=\"M184,-316.93C184,-316.93 116,-316.93 116,-316.93 110,-316.93 104,-310.93 104,-304.93 104,-304.93 104,-275.93 104,-275.93 104,-269.93 110,-263.93 116,-263.93 116,-263.93 184,-263.93 184,-263.93 190,-263.93 196,-269.93 196,-275.93 196,-275.93 196,-304.93 196,-304.93 196,-310.93 190,-316.93 184,-316.93\"/>\n<text text-anchor=\"middle\" x=\"150\" y=\"-301.73\" font-family=\"Times New Roman,serif\" font-size=\"14.00\">X</text>\n<text text-anchor=\"middle\" x=\"150\" y=\"-286.73\" font-family=\"Times New Roman,serif\" font-size=\"14.00\">~</text>\n<text text-anchor=\"middle\" x=\"150\" y=\"-271.73\" font-family=\"Times New Roman,serif\" font-size=\"14.00\">ConstantData</text>\n</g>\n<!-- X&#45;&gt;mu -->\n<g id=\"edge1\" class=\"edge\"><title>X&#45;&gt;mu</title>\n<path fill=\"none\" stroke=\"black\" d=\"M163.81,-263.858C173.308,-248.957 187.38,-231.309 205,-221.953 258.916,-193.325 434.109,-188.655 524.277,-188.21\"/>\n<polygon fill=\"black\" stroke=\"black\" points=\"524.324,-191.71 534.312,-188.177 524.3,-184.711 524.324,-191.71\"/>\n</g>\n<!-- intercept -->\n<g id=\"node5\" class=\"node\"><title>intercept</title>\n<ellipse fill=\"none\" stroke=\"black\" cx=\"260\" cy=\"-290.43\" rx=\"45.9239\" ry=\"37.4533\"/>\n<text text-anchor=\"middle\" x=\"260\" y=\"-301.73\" font-family=\"Times New Roman,serif\" font-size=\"14.00\">intercept</text>\n<text text-anchor=\"middle\" x=\"260\" y=\"-286.73\" font-family=\"Times New Roman,serif\" font-size=\"14.00\">~</text>\n<text text-anchor=\"middle\" x=\"260\" y=\"-271.73\" font-family=\"Times New Roman,serif\" font-size=\"14.00\">Normal</text>\n</g>\n<!-- intercept&#45;&gt;mu -->\n<g id=\"edge3\" class=\"edge\"><title>intercept&#45;&gt;mu</title>\n<path fill=\"none\" stroke=\"black\" d=\"M277.405,-255.458C285.582,-242.898 296.527,-229.82 310,-221.953 345.275,-201.357 456.396,-193.289 524.284,-190.23\"/>\n<polygon fill=\"black\" stroke=\"black\" points=\"524.54,-193.722 534.381,-189.797 524.241,-186.729 524.54,-193.722\"/>\n</g>\n<!-- betas -->\n<g id=\"node6\" class=\"node\"><title>betas</title>\n<ellipse fill=\"none\" stroke=\"black\" cx=\"469\" cy=\"-290.43\" rx=\"41.0244\" ry=\"37.4533\"/>\n<text text-anchor=\"middle\" x=\"469\" y=\"-301.73\" font-family=\"Times New Roman,serif\" font-size=\"14.00\">betas</text>\n<text text-anchor=\"middle\" x=\"469\" y=\"-286.73\" font-family=\"Times New Roman,serif\" font-size=\"14.00\">~</text>\n<text text-anchor=\"middle\" x=\"469\" y=\"-271.73\" font-family=\"Times New Roman,serif\" font-size=\"14.00\">Normal</text>\n</g>\n<!-- betas&#45;&gt;mu -->\n<g id=\"edge2\" class=\"edge\"><title>betas&#45;&gt;mu</title>\n<path fill=\"none\" stroke=\"black\" d=\"M490.018,-257.78C498.979,-245.698 510.11,-232.343 522,-221.953 523.307,-220.811 524.659,-219.687 526.046,-218.582\"/>\n<polygon fill=\"black\" stroke=\"black\" points=\"528.333,-221.244 534.297,-212.487 524.174,-215.614 528.333,-221.244\"/>\n</g>\n<!-- y_missing&#45;&gt;y -->\n<g id=\"edge8\" class=\"edge\"><title>y_missing&#45;&gt;y</title>\n<path fill=\"none\" stroke=\"black\" d=\"M707.193,-114.151C703.135,-153.254 696.749,-214.772 692.723,-253.563\"/>\n<polygon fill=\"black\" stroke=\"black\" points=\"689.205,-253.556 691.654,-263.863 696.168,-254.278 689.205,-253.556\"/>\n</g>\n<!-- y_observed&#45;&gt;y -->\n<g id=\"edge7\" class=\"edge\"><title>y_observed&#45;&gt;y</title>\n<path fill=\"none\" stroke=\"black\" d=\"M611.886,-106.267C619.254,-113.422 626.446,-121.486 632,-129.953 657.357,-168.609 673.068,-219.941 681.417,-253.795\"/>\n<polygon fill=\"black\" stroke=\"black\" points=\"678.055,-254.788 683.774,-263.707 684.866,-253.169 678.055,-254.788\"/>\n</g>\n</g>\n</svg>\n",
      "text/plain": [
       "<graphviz.graphs.Digraph at 0x18094446fb0>"
      ]
     },
     "metadata": {},
     "output_type": "display_data"
    },
    {
     "name": "stdout",
     "output_type": "stream",
     "text": [
      "random_intercept_pooled_covariate_model\n"
     ]
    },
    {
     "data": {
      "image/svg+xml": "<?xml version=\"1.0\" encoding=\"UTF-8\" standalone=\"no\"?>\n<!DOCTYPE svg PUBLIC \"-//W3C//DTD SVG 1.1//EN\"\n \"http://www.w3.org/Graphics/SVG/1.1/DTD/svg11.dtd\">\n<!-- Generated by graphviz version 2.38.0 (20140413.2041)\n -->\n<!-- Title: %3 Pages: 1 -->\n<svg width=\"702pt\" height=\"352pt\"\n viewBox=\"0.00 0.00 702.00 351.91\" xmlns=\"http://www.w3.org/2000/svg\" xmlns:xlink=\"http://www.w3.org/1999/xlink\">\n<g id=\"graph0\" class=\"graph\" transform=\"scale(1 1) rotate(0) translate(4 347.907)\">\n<title>%3</title>\n<polygon fill=\"white\" stroke=\"none\" points=\"-4,4 -4,-347.907 698,-347.907 698,4 -4,4\"/>\n<g id=\"clust1\" class=\"cluster\"><title>clusterobs_idx (384)</title>\n<path fill=\"none\" stroke=\"black\" d=\"M453,-129.953C453,-129.953 645,-129.953 645,-129.953 651,-129.953 657,-135.953 657,-141.953 657,-141.953 657,-312.93 657,-312.93 657,-318.93 651,-324.93 645,-324.93 645,-324.93 453,-324.93 453,-324.93 447,-324.93 441,-318.93 441,-312.93 441,-312.93 441,-141.953 441,-141.953 441,-135.953 447,-129.953 453,-129.953\"/>\n<text text-anchor=\"middle\" x=\"609.5\" y=\"-137.753\" font-family=\"Times New Roman,serif\" font-size=\"14.00\">obs_idx (384)</text>\n</g>\n<g id=\"clust5\" class=\"cluster\"><title>cluster211</title>\n<path fill=\"none\" stroke=\"black\" d=\"M578,-8C578,-8 674,-8 674,-8 680,-8 686,-14 686,-20 686,-20 686,-109.953 686,-109.953 686,-115.953 680,-121.953 674,-121.953 674,-121.953 578,-121.953 578,-121.953 572,-121.953 566,-115.953 566,-109.953 566,-109.953 566,-20 566,-20 566,-14 572,-8 578,-8\"/>\n<text text-anchor=\"middle\" x=\"667.5\" y=\"-15.8\" font-family=\"Times New Roman,serif\" font-size=\"14.00\">211</text>\n</g>\n<g id=\"clust6\" class=\"cluster\"><title>cluster173</title>\n<path fill=\"none\" stroke=\"black\" d=\"M436,-8C436,-8 546,-8 546,-8 552,-8 558,-14 558,-20 558,-20 558,-109.953 558,-109.953 558,-115.953 552,-121.953 546,-121.953 546,-121.953 436,-121.953 436,-121.953 430,-121.953 424,-115.953 424,-109.953 424,-109.953 424,-20 424,-20 424,-14 430,-8 436,-8\"/>\n<text text-anchor=\"middle\" x=\"539.5\" y=\"-15.8\" font-family=\"Times New Roman,serif\" font-size=\"14.00\">173</text>\n</g>\n<g id=\"clust2\" class=\"cluster\"><title>clusterobs_idx (384) x features_idx (9)</title>\n<path fill=\"none\" stroke=\"black\" d=\"M20,-232.93C20,-232.93 193,-232.93 193,-232.93 199,-232.93 205,-238.93 205,-244.93 205,-244.93 205,-312.93 205,-312.93 205,-318.93 199,-324.93 193,-324.93 193,-324.93 20,-324.93 20,-324.93 14,-324.93 8,-318.93 8,-312.93 8,-312.93 8,-244.93 8,-244.93 8,-238.93 14,-232.93 20,-232.93\"/>\n<text text-anchor=\"middle\" x=\"106.5\" y=\"-240.73\" font-family=\"Times New Roman,serif\" font-size=\"14.00\">obs_idx (384) x features_idx (9)</text>\n</g>\n<g id=\"clust4\" class=\"cluster\"><title>clusterfeatures_idx (9)</title>\n<path fill=\"none\" stroke=\"black\" d=\"M341,-221.953C341,-221.953 421,-221.953 421,-221.953 427,-221.953 433,-227.953 433,-233.953 433,-233.953 433,-323.907 433,-323.907 433,-329.907 427,-335.907 421,-335.907 421,-335.907 341,-335.907 341,-335.907 335,-335.907 329,-329.907 329,-323.907 329,-323.907 329,-233.953 329,-233.953 329,-227.953 335,-221.953 341,-221.953\"/>\n<text text-anchor=\"middle\" x=\"381\" y=\"-229.753\" font-family=\"Times New Roman,serif\" font-size=\"14.00\">features_idx (9)</text>\n</g>\n<g id=\"clust3\" class=\"cluster\"><title>clusterspecies_idx (4)</title>\n<path fill=\"none\" stroke=\"black\" d=\"M225,-221.953C225,-221.953 309,-221.953 309,-221.953 315,-221.953 321,-227.953 321,-233.953 321,-233.953 321,-323.907 321,-323.907 321,-329.907 315,-335.907 309,-335.907 309,-335.907 225,-335.907 225,-335.907 219,-335.907 213,-329.907 213,-323.907 213,-323.907 213,-233.953 213,-233.953 213,-227.953 219,-221.953 225,-221.953\"/>\n<text text-anchor=\"middle\" x=\"270\" y=\"-229.753\" font-family=\"Times New Roman,serif\" font-size=\"14.00\">species_idx (4)</text>\n</g>\n<!-- y -->\n<g id=\"node1\" class=\"node\"><title>y</title>\n<polygon fill=\"none\" stroke=\"black\" points=\"648.5,-316.93 559.5,-316.93 559.5,-263.93 648.5,-263.93 648.5,-316.93\"/>\n<text text-anchor=\"middle\" x=\"604\" y=\"-301.73\" font-family=\"Times New Roman,serif\" font-size=\"14.00\">y</text>\n<text text-anchor=\"middle\" x=\"604\" y=\"-286.73\" font-family=\"Times New Roman,serif\" font-size=\"14.00\">~</text>\n<text text-anchor=\"middle\" x=\"604\" y=\"-271.73\" font-family=\"Times New Roman,serif\" font-size=\"14.00\">Deterministic</text>\n</g>\n<!-- mu -->\n<g id=\"node2\" class=\"node\"><title>mu</title>\n<polygon fill=\"none\" stroke=\"black\" points=\"538.5,-213.953 449.5,-213.953 449.5,-160.953 538.5,-160.953 538.5,-213.953\"/>\n<text text-anchor=\"middle\" x=\"494\" y=\"-198.753\" font-family=\"Times New Roman,serif\" font-size=\"14.00\">mu</text>\n<text text-anchor=\"middle\" x=\"494\" y=\"-183.753\" font-family=\"Times New Roman,serif\" font-size=\"14.00\">~</text>\n<text text-anchor=\"middle\" x=\"494\" y=\"-168.753\" font-family=\"Times New Roman,serif\" font-size=\"14.00\">Deterministic</text>\n</g>\n<!-- y_missing -->\n<g id=\"node7\" class=\"node\"><title>y_missing</title>\n<ellipse fill=\"none\" stroke=\"black\" cx=\"626\" cy=\"-76.4767\" rx=\"51.7379\" ry=\"37.4533\"/>\n<text text-anchor=\"middle\" x=\"626\" y=\"-87.7767\" font-family=\"Times New Roman,serif\" font-size=\"14.00\">y_missing</text>\n<text text-anchor=\"middle\" x=\"626\" y=\"-72.7767\" font-family=\"Times New Roman,serif\" font-size=\"14.00\">~</text>\n<text text-anchor=\"middle\" x=\"626\" y=\"-57.7767\" font-family=\"Times New Roman,serif\" font-size=\"14.00\">Poisson</text>\n</g>\n<!-- mu&#45;&gt;y_missing -->\n<g id=\"edge5\" class=\"edge\"><title>mu&#45;&gt;y_missing</title>\n<path fill=\"none\" stroke=\"black\" d=\"M524.948,-160.903C542.763,-146.195 565.378,-127.525 584.695,-111.577\"/>\n<polygon fill=\"black\" stroke=\"black\" points=\"586.988,-114.223 592.471,-105.158 582.531,-108.825 586.988,-114.223\"/>\n</g>\n<!-- y_observed -->\n<g id=\"node8\" class=\"node\"><title>y_observed</title>\n<ellipse fill=\"lightgrey\" stroke=\"black\" cx=\"491\" cy=\"-76.4767\" rx=\"58.8803\" ry=\"37.4533\"/>\n<text text-anchor=\"middle\" x=\"491\" y=\"-87.7767\" font-family=\"Times New Roman,serif\" font-size=\"14.00\">y_observed</text>\n<text text-anchor=\"middle\" x=\"491\" y=\"-72.7767\" font-family=\"Times New Roman,serif\" font-size=\"14.00\">~</text>\n<text text-anchor=\"middle\" x=\"491\" y=\"-57.7767\" font-family=\"Times New Roman,serif\" font-size=\"14.00\">Poisson</text>\n</g>\n<!-- mu&#45;&gt;y_observed -->\n<g id=\"edge6\" class=\"edge\"><title>mu&#45;&gt;y_observed</title>\n<path fill=\"none\" stroke=\"black\" d=\"M493.297,-160.903C492.996,-149.992 492.636,-136.9 492.291,-124.357\"/>\n<polygon fill=\"black\" stroke=\"black\" points=\"495.78,-123.909 492.006,-114.009 488.782,-124.102 495.78,-123.909\"/>\n</g>\n<!-- species_idx -->\n<g id=\"node3\" class=\"node\"><title>species_idx</title>\n<path fill=\"lightgrey\" stroke=\"black\" d=\"M529,-316.93C529,-316.93 461,-316.93 461,-316.93 455,-316.93 449,-310.93 449,-304.93 449,-304.93 449,-275.93 449,-275.93 449,-269.93 455,-263.93 461,-263.93 461,-263.93 529,-263.93 529,-263.93 535,-263.93 541,-269.93 541,-275.93 541,-275.93 541,-304.93 541,-304.93 541,-310.93 535,-316.93 529,-316.93\"/>\n<text text-anchor=\"middle\" x=\"495\" y=\"-301.73\" font-family=\"Times New Roman,serif\" font-size=\"14.00\">species_idx</text>\n<text text-anchor=\"middle\" x=\"495\" y=\"-286.73\" font-family=\"Times New Roman,serif\" font-size=\"14.00\">~</text>\n<text text-anchor=\"middle\" x=\"495\" y=\"-271.73\" font-family=\"Times New Roman,serif\" font-size=\"14.00\">ConstantData</text>\n</g>\n<!-- species_idx&#45;&gt;mu -->\n<g id=\"edge4\" class=\"edge\"><title>species_idx&#45;&gt;mu</title>\n<path fill=\"none\" stroke=\"black\" d=\"M494.745,-263.688C494.626,-251.7 494.483,-237.24 494.354,-224.213\"/>\n<polygon fill=\"black\" stroke=\"black\" points=\"497.853,-224.113 494.254,-214.148 490.854,-224.182 497.853,-224.113\"/>\n</g>\n<!-- X -->\n<g id=\"node4\" class=\"node\"><title>X</title>\n<path fill=\"lightgrey\" stroke=\"black\" d=\"M185,-316.93C185,-316.93 117,-316.93 117,-316.93 111,-316.93 105,-310.93 105,-304.93 105,-304.93 105,-275.93 105,-275.93 105,-269.93 111,-263.93 117,-263.93 117,-263.93 185,-263.93 185,-263.93 191,-263.93 197,-269.93 197,-275.93 197,-275.93 197,-304.93 197,-304.93 197,-310.93 191,-316.93 185,-316.93\"/>\n<text text-anchor=\"middle\" x=\"151\" y=\"-301.73\" font-family=\"Times New Roman,serif\" font-size=\"14.00\">X</text>\n<text text-anchor=\"middle\" x=\"151\" y=\"-286.73\" font-family=\"Times New Roman,serif\" font-size=\"14.00\">~</text>\n<text text-anchor=\"middle\" x=\"151\" y=\"-271.73\" font-family=\"Times New Roman,serif\" font-size=\"14.00\">ConstantData</text>\n</g>\n<!-- X&#45;&gt;mu -->\n<g id=\"edge1\" class=\"edge\"><title>X&#45;&gt;mu</title>\n<path fill=\"none\" stroke=\"black\" d=\"M166.202,-263.675C176.365,-248.904 191.134,-231.457 209,-221.953 247.673,-201.381 367.695,-193.264 439.058,-190.199\"/>\n<polygon fill=\"black\" stroke=\"black\" points=\"439.37,-193.689 449.218,-189.782 439.083,-186.695 439.37,-193.689\"/>\n</g>\n<!-- intercept -->\n<g id=\"node5\" class=\"node\"><title>intercept</title>\n<ellipse fill=\"none\" stroke=\"black\" cx=\"267\" cy=\"-290.43\" rx=\"45.9239\" ry=\"37.4533\"/>\n<text text-anchor=\"middle\" x=\"267\" y=\"-301.73\" font-family=\"Times New Roman,serif\" font-size=\"14.00\">intercept</text>\n<text text-anchor=\"middle\" x=\"267\" y=\"-286.73\" font-family=\"Times New Roman,serif\" font-size=\"14.00\">~</text>\n<text text-anchor=\"middle\" x=\"267\" y=\"-271.73\" font-family=\"Times New Roman,serif\" font-size=\"14.00\">Normal</text>\n</g>\n<!-- intercept&#45;&gt;mu -->\n<g id=\"edge3\" class=\"edge\"><title>intercept&#45;&gt;mu</title>\n<path fill=\"none\" stroke=\"black\" d=\"M287.756,-256.979C297.551,-244.18 310.324,-230.518 325,-221.953 359.682,-201.715 404.464,-193.49 439.216,-190.245\"/>\n<polygon fill=\"black\" stroke=\"black\" points=\"439.516,-193.732 449.195,-189.422 438.941,-186.756 439.516,-193.732\"/>\n</g>\n<!-- betas -->\n<g id=\"node6\" class=\"node\"><title>betas</title>\n<ellipse fill=\"none\" stroke=\"black\" cx=\"384\" cy=\"-290.43\" rx=\"41.0244\" ry=\"37.4533\"/>\n<text text-anchor=\"middle\" x=\"384\" y=\"-301.73\" font-family=\"Times New Roman,serif\" font-size=\"14.00\">betas</text>\n<text text-anchor=\"middle\" x=\"384\" y=\"-286.73\" font-family=\"Times New Roman,serif\" font-size=\"14.00\">~</text>\n<text text-anchor=\"middle\" x=\"384\" y=\"-271.73\" font-family=\"Times New Roman,serif\" font-size=\"14.00\">Normal</text>\n</g>\n<!-- betas&#45;&gt;mu -->\n<g id=\"edge2\" class=\"edge\"><title>betas&#45;&gt;mu</title>\n<path fill=\"none\" stroke=\"black\" d=\"M405.018,-257.78C413.979,-245.698 425.11,-232.343 437,-221.953 438.307,-220.811 439.659,-219.687 441.046,-218.582\"/>\n<polygon fill=\"black\" stroke=\"black\" points=\"443.333,-221.244 449.297,-212.487 439.174,-215.614 443.333,-221.244\"/>\n</g>\n<!-- y_missing&#45;&gt;y -->\n<g id=\"edge8\" class=\"edge\"><title>y_missing&#45;&gt;y</title>\n<path fill=\"none\" stroke=\"black\" d=\"M622.193,-114.151C618.135,-153.254 611.749,-214.772 607.723,-253.563\"/>\n<polygon fill=\"black\" stroke=\"black\" points=\"604.205,-253.556 606.654,-263.863 611.168,-254.278 604.205,-253.556\"/>\n</g>\n<!-- y_observed&#45;&gt;y -->\n<g id=\"edge7\" class=\"edge\"><title>y_observed&#45;&gt;y</title>\n<path fill=\"none\" stroke=\"black\" d=\"M526.886,-106.267C534.254,-113.422 541.446,-121.486 547,-129.953 572.357,-168.609 588.068,-219.941 596.417,-253.795\"/>\n<polygon fill=\"black\" stroke=\"black\" points=\"593.055,-254.788 598.774,-263.707 599.866,-253.169 593.055,-254.788\"/>\n</g>\n</g>\n</svg>\n",
      "text/plain": [
       "<graphviz.graphs.Digraph at 0x180959f0ac0>"
      ]
     },
     "metadata": {},
     "output_type": "display_data"
    },
    {
     "name": "stdout",
     "output_type": "stream",
     "text": [
      "random_intercept_random_covariate_model\n"
     ]
    },
    {
     "data": {
      "image/svg+xml": "<?xml version=\"1.0\" encoding=\"UTF-8\" standalone=\"no\"?>\n<!DOCTYPE svg PUBLIC \"-//W3C//DTD SVG 1.1//EN\"\n \"http://www.w3.org/Graphics/SVG/1.1/DTD/svg11.dtd\">\n<!-- Generated by graphviz version 2.38.0 (20140413.2041)\n -->\n<!-- Title: %3 Pages: 1 -->\n<svg width=\"802pt\" height=\"352pt\"\n viewBox=\"0.00 0.00 802.00 351.91\" xmlns=\"http://www.w3.org/2000/svg\" xmlns:xlink=\"http://www.w3.org/1999/xlink\">\n<g id=\"graph0\" class=\"graph\" transform=\"scale(1 1) rotate(0) translate(4 347.907)\">\n<title>%3</title>\n<polygon fill=\"white\" stroke=\"none\" points=\"-4,4 -4,-347.907 798,-347.907 798,4 -4,4\"/>\n<g id=\"clust1\" class=\"cluster\"><title>clusterobs_idx (384)</title>\n<path fill=\"none\" stroke=\"black\" d=\"M553,-129.953C553,-129.953 745,-129.953 745,-129.953 751,-129.953 757,-135.953 757,-141.953 757,-141.953 757,-312.93 757,-312.93 757,-318.93 751,-324.93 745,-324.93 745,-324.93 553,-324.93 553,-324.93 547,-324.93 541,-318.93 541,-312.93 541,-312.93 541,-141.953 541,-141.953 541,-135.953 547,-129.953 553,-129.953\"/>\n<text text-anchor=\"middle\" x=\"709.5\" y=\"-137.753\" font-family=\"Times New Roman,serif\" font-size=\"14.00\">obs_idx (384)</text>\n</g>\n<g id=\"clust5\" class=\"cluster\"><title>cluster211</title>\n<path fill=\"none\" stroke=\"black\" d=\"M678,-8C678,-8 774,-8 774,-8 780,-8 786,-14 786,-20 786,-20 786,-109.953 786,-109.953 786,-115.953 780,-121.953 774,-121.953 774,-121.953 678,-121.953 678,-121.953 672,-121.953 666,-115.953 666,-109.953 666,-109.953 666,-20 666,-20 666,-14 672,-8 678,-8\"/>\n<text text-anchor=\"middle\" x=\"767.5\" y=\"-15.8\" font-family=\"Times New Roman,serif\" font-size=\"14.00\">211</text>\n</g>\n<g id=\"clust6\" class=\"cluster\"><title>cluster173</title>\n<path fill=\"none\" stroke=\"black\" d=\"M536,-8C536,-8 646,-8 646,-8 652,-8 658,-14 658,-20 658,-20 658,-109.953 658,-109.953 658,-115.953 652,-121.953 646,-121.953 646,-121.953 536,-121.953 536,-121.953 530,-121.953 524,-115.953 524,-109.953 524,-109.953 524,-20 524,-20 524,-14 530,-8 536,-8\"/>\n<text text-anchor=\"middle\" x=\"639.5\" y=\"-15.8\" font-family=\"Times New Roman,serif\" font-size=\"14.00\">173</text>\n</g>\n<g id=\"clust2\" class=\"cluster\"><title>clusterobs_idx (384) x features_idx (9)</title>\n<path fill=\"none\" stroke=\"black\" d=\"M20,-232.93C20,-232.93 193,-232.93 193,-232.93 199,-232.93 205,-238.93 205,-244.93 205,-244.93 205,-312.93 205,-312.93 205,-318.93 199,-324.93 193,-324.93 193,-324.93 20,-324.93 20,-324.93 14,-324.93 8,-318.93 8,-312.93 8,-312.93 8,-244.93 8,-244.93 8,-238.93 14,-232.93 20,-232.93\"/>\n<text text-anchor=\"middle\" x=\"106.5\" y=\"-240.73\" font-family=\"Times New Roman,serif\" font-size=\"14.00\">obs_idx (384) x features_idx (9)</text>\n</g>\n<g id=\"clust3\" class=\"cluster\"><title>clusterspecies_idx (4)</title>\n<path fill=\"none\" stroke=\"black\" d=\"M225,-221.953C225,-221.953 309,-221.953 309,-221.953 315,-221.953 321,-227.953 321,-233.953 321,-233.953 321,-323.907 321,-323.907 321,-329.907 315,-335.907 309,-335.907 309,-335.907 225,-335.907 225,-335.907 219,-335.907 213,-329.907 213,-323.907 213,-323.907 213,-233.953 213,-233.953 213,-227.953 219,-221.953 225,-221.953\"/>\n<text text-anchor=\"middle\" x=\"270\" y=\"-229.753\" font-family=\"Times New Roman,serif\" font-size=\"14.00\">species_idx (4)</text>\n</g>\n<g id=\"clust4\" class=\"cluster\"><title>clusterspecies_idx (4) x features_idx (9)</title>\n<path fill=\"none\" stroke=\"black\" d=\"M341,-221.953C341,-221.953 521,-221.953 521,-221.953 527,-221.953 533,-227.953 533,-233.953 533,-233.953 533,-323.907 533,-323.907 533,-329.907 527,-335.907 521,-335.907 521,-335.907 341,-335.907 341,-335.907 335,-335.907 329,-329.907 329,-323.907 329,-323.907 329,-233.953 329,-233.953 329,-227.953 335,-221.953 341,-221.953\"/>\n<text text-anchor=\"middle\" x=\"431\" y=\"-229.753\" font-family=\"Times New Roman,serif\" font-size=\"14.00\">species_idx (4) x features_idx (9)</text>\n</g>\n<!-- y -->\n<g id=\"node1\" class=\"node\"><title>y</title>\n<polygon fill=\"none\" stroke=\"black\" points=\"748.5,-316.93 659.5,-316.93 659.5,-263.93 748.5,-263.93 748.5,-316.93\"/>\n<text text-anchor=\"middle\" x=\"704\" y=\"-301.73\" font-family=\"Times New Roman,serif\" font-size=\"14.00\">y</text>\n<text text-anchor=\"middle\" x=\"704\" y=\"-286.73\" font-family=\"Times New Roman,serif\" font-size=\"14.00\">~</text>\n<text text-anchor=\"middle\" x=\"704\" y=\"-271.73\" font-family=\"Times New Roman,serif\" font-size=\"14.00\">Deterministic</text>\n</g>\n<!-- mu -->\n<g id=\"node2\" class=\"node\"><title>mu</title>\n<polygon fill=\"none\" stroke=\"black\" points=\"638.5,-213.953 549.5,-213.953 549.5,-160.953 638.5,-160.953 638.5,-213.953\"/>\n<text text-anchor=\"middle\" x=\"594\" y=\"-198.753\" font-family=\"Times New Roman,serif\" font-size=\"14.00\">mu</text>\n<text text-anchor=\"middle\" x=\"594\" y=\"-183.753\" font-family=\"Times New Roman,serif\" font-size=\"14.00\">~</text>\n<text text-anchor=\"middle\" x=\"594\" y=\"-168.753\" font-family=\"Times New Roman,serif\" font-size=\"14.00\">Deterministic</text>\n</g>\n<!-- y_missing -->\n<g id=\"node7\" class=\"node\"><title>y_missing</title>\n<ellipse fill=\"none\" stroke=\"black\" cx=\"726\" cy=\"-76.4767\" rx=\"51.7379\" ry=\"37.4533\"/>\n<text text-anchor=\"middle\" x=\"726\" y=\"-87.7767\" font-family=\"Times New Roman,serif\" font-size=\"14.00\">y_missing</text>\n<text text-anchor=\"middle\" x=\"726\" y=\"-72.7767\" font-family=\"Times New Roman,serif\" font-size=\"14.00\">~</text>\n<text text-anchor=\"middle\" x=\"726\" y=\"-57.7767\" font-family=\"Times New Roman,serif\" font-size=\"14.00\">Poisson</text>\n</g>\n<!-- mu&#45;&gt;y_missing -->\n<g id=\"edge5\" class=\"edge\"><title>mu&#45;&gt;y_missing</title>\n<path fill=\"none\" stroke=\"black\" d=\"M624.948,-160.903C642.763,-146.195 665.378,-127.525 684.695,-111.577\"/>\n<polygon fill=\"black\" stroke=\"black\" points=\"686.988,-114.223 692.471,-105.158 682.531,-108.825 686.988,-114.223\"/>\n</g>\n<!-- y_observed -->\n<g id=\"node8\" class=\"node\"><title>y_observed</title>\n<ellipse fill=\"lightgrey\" stroke=\"black\" cx=\"591\" cy=\"-76.4767\" rx=\"58.8803\" ry=\"37.4533\"/>\n<text text-anchor=\"middle\" x=\"591\" y=\"-87.7767\" font-family=\"Times New Roman,serif\" font-size=\"14.00\">y_observed</text>\n<text text-anchor=\"middle\" x=\"591\" y=\"-72.7767\" font-family=\"Times New Roman,serif\" font-size=\"14.00\">~</text>\n<text text-anchor=\"middle\" x=\"591\" y=\"-57.7767\" font-family=\"Times New Roman,serif\" font-size=\"14.00\">Poisson</text>\n</g>\n<!-- mu&#45;&gt;y_observed -->\n<g id=\"edge6\" class=\"edge\"><title>mu&#45;&gt;y_observed</title>\n<path fill=\"none\" stroke=\"black\" d=\"M593.297,-160.903C592.996,-149.992 592.636,-136.9 592.291,-124.357\"/>\n<polygon fill=\"black\" stroke=\"black\" points=\"595.78,-123.909 592.006,-114.009 588.782,-124.102 595.78,-123.909\"/>\n</g>\n<!-- species_idx -->\n<g id=\"node3\" class=\"node\"><title>species_idx</title>\n<path fill=\"lightgrey\" stroke=\"black\" d=\"M629,-316.93C629,-316.93 561,-316.93 561,-316.93 555,-316.93 549,-310.93 549,-304.93 549,-304.93 549,-275.93 549,-275.93 549,-269.93 555,-263.93 561,-263.93 561,-263.93 629,-263.93 629,-263.93 635,-263.93 641,-269.93 641,-275.93 641,-275.93 641,-304.93 641,-304.93 641,-310.93 635,-316.93 629,-316.93\"/>\n<text text-anchor=\"middle\" x=\"595\" y=\"-301.73\" font-family=\"Times New Roman,serif\" font-size=\"14.00\">species_idx</text>\n<text text-anchor=\"middle\" x=\"595\" y=\"-286.73\" font-family=\"Times New Roman,serif\" font-size=\"14.00\">~</text>\n<text text-anchor=\"middle\" x=\"595\" y=\"-271.73\" font-family=\"Times New Roman,serif\" font-size=\"14.00\">ConstantData</text>\n</g>\n<!-- species_idx&#45;&gt;mu -->\n<g id=\"edge4\" class=\"edge\"><title>species_idx&#45;&gt;mu</title>\n<path fill=\"none\" stroke=\"black\" d=\"M594.745,-263.688C594.626,-251.7 594.483,-237.24 594.354,-224.213\"/>\n<polygon fill=\"black\" stroke=\"black\" points=\"597.853,-224.113 594.254,-214.148 590.854,-224.182 597.853,-224.113\"/>\n</g>\n<!-- X -->\n<g id=\"node4\" class=\"node\"><title>X</title>\n<path fill=\"lightgrey\" stroke=\"black\" d=\"M185,-316.93C185,-316.93 117,-316.93 117,-316.93 111,-316.93 105,-310.93 105,-304.93 105,-304.93 105,-275.93 105,-275.93 105,-269.93 111,-263.93 117,-263.93 117,-263.93 185,-263.93 185,-263.93 191,-263.93 197,-269.93 197,-275.93 197,-275.93 197,-304.93 197,-304.93 197,-310.93 191,-316.93 185,-316.93\"/>\n<text text-anchor=\"middle\" x=\"151\" y=\"-301.73\" font-family=\"Times New Roman,serif\" font-size=\"14.00\">X</text>\n<text text-anchor=\"middle\" x=\"151\" y=\"-286.73\" font-family=\"Times New Roman,serif\" font-size=\"14.00\">~</text>\n<text text-anchor=\"middle\" x=\"151\" y=\"-271.73\" font-family=\"Times New Roman,serif\" font-size=\"14.00\">ConstantData</text>\n</g>\n<!-- X&#45;&gt;mu -->\n<g id=\"edge1\" class=\"edge\"><title>X&#45;&gt;mu</title>\n<path fill=\"none\" stroke=\"black\" d=\"M165.87,-263.821C176.002,-248.906 190.855,-231.257 209,-221.953 265.193,-193.141 446.92,-188.588 539.178,-188.196\"/>\n<polygon fill=\"black\" stroke=\"black\" points=\"539.443,-191.696 549.434,-188.168 539.424,-184.696 539.443,-191.696\"/>\n</g>\n<!-- intercept -->\n<g id=\"node5\" class=\"node\"><title>intercept</title>\n<ellipse fill=\"none\" stroke=\"black\" cx=\"267\" cy=\"-290.43\" rx=\"45.9239\" ry=\"37.4533\"/>\n<text text-anchor=\"middle\" x=\"267\" y=\"-301.73\" font-family=\"Times New Roman,serif\" font-size=\"14.00\">intercept</text>\n<text text-anchor=\"middle\" x=\"267\" y=\"-286.73\" font-family=\"Times New Roman,serif\" font-size=\"14.00\">~</text>\n<text text-anchor=\"middle\" x=\"267\" y=\"-271.73\" font-family=\"Times New Roman,serif\" font-size=\"14.00\">Normal</text>\n</g>\n<!-- intercept&#45;&gt;mu -->\n<g id=\"edge3\" class=\"edge\"><title>intercept&#45;&gt;mu</title>\n<path fill=\"none\" stroke=\"black\" d=\"M287.466,-256.459C297.211,-243.573 310.026,-229.985 325,-221.953 360.947,-202.672 471.557,-194.142 539.23,-190.645\"/>\n<polygon fill=\"black\" stroke=\"black\" points=\"539.483,-194.137 549.297,-190.145 539.136,-187.145 539.483,-194.137\"/>\n</g>\n<!-- betas -->\n<g id=\"node6\" class=\"node\"><title>betas</title>\n<ellipse fill=\"none\" stroke=\"black\" cx=\"484\" cy=\"-290.43\" rx=\"41.0244\" ry=\"37.4533\"/>\n<text text-anchor=\"middle\" x=\"484\" y=\"-301.73\" font-family=\"Times New Roman,serif\" font-size=\"14.00\">betas</text>\n<text text-anchor=\"middle\" x=\"484\" y=\"-286.73\" font-family=\"Times New Roman,serif\" font-size=\"14.00\">~</text>\n<text text-anchor=\"middle\" x=\"484\" y=\"-271.73\" font-family=\"Times New Roman,serif\" font-size=\"14.00\">Normal</text>\n</g>\n<!-- betas&#45;&gt;mu -->\n<g id=\"edge2\" class=\"edge\"><title>betas&#45;&gt;mu</title>\n<path fill=\"none\" stroke=\"black\" d=\"M505.018,-257.78C513.979,-245.698 525.11,-232.343 537,-221.953 538.307,-220.811 539.659,-219.687 541.046,-218.582\"/>\n<polygon fill=\"black\" stroke=\"black\" points=\"543.333,-221.244 549.297,-212.487 539.174,-215.614 543.333,-221.244\"/>\n</g>\n<!-- y_missing&#45;&gt;y -->\n<g id=\"edge8\" class=\"edge\"><title>y_missing&#45;&gt;y</title>\n<path fill=\"none\" stroke=\"black\" d=\"M722.193,-114.151C718.135,-153.254 711.749,-214.772 707.723,-253.563\"/>\n<polygon fill=\"black\" stroke=\"black\" points=\"704.205,-253.556 706.654,-263.863 711.168,-254.278 704.205,-253.556\"/>\n</g>\n<!-- y_observed&#45;&gt;y -->\n<g id=\"edge7\" class=\"edge\"><title>y_observed&#45;&gt;y</title>\n<path fill=\"none\" stroke=\"black\" d=\"M626.886,-106.267C634.254,-113.422 641.446,-121.486 647,-129.953 672.357,-168.609 688.068,-219.941 696.417,-253.795\"/>\n<polygon fill=\"black\" stroke=\"black\" points=\"693.055,-254.788 698.774,-263.707 699.866,-253.169 693.055,-254.788\"/>\n</g>\n</g>\n</svg>\n",
      "text/plain": [
       "<graphviz.graphs.Digraph at 0x180958bc9d0>"
      ]
     },
     "metadata": {},
     "output_type": "display_data"
    },
    {
     "name": "stdout",
     "output_type": "stream",
     "text": [
      "random_intercept_car_model\n"
     ]
    },
    {
     "data": {
      "image/svg+xml": "<?xml version=\"1.0\" encoding=\"UTF-8\" standalone=\"no\"?>\n<!DOCTYPE svg PUBLIC \"-//W3C//DTD SVG 1.1//EN\"\n \"http://www.w3.org/Graphics/SVG/1.1/DTD/svg11.dtd\">\n<!-- Generated by graphviz version 2.38.0 (20140413.2041)\n -->\n<!-- Title: %3 Pages: 1 -->\n<svg width=\"591pt\" height=\"447pt\"\n viewBox=\"0.00 0.00 590.53 446.86\" xmlns=\"http://www.w3.org/2000/svg\" xmlns:xlink=\"http://www.w3.org/1999/xlink\">\n<g id=\"graph0\" class=\"graph\" transform=\"scale(1 1) rotate(0) translate(4 442.86)\">\n<title>%3</title>\n<polygon fill=\"white\" stroke=\"none\" points=\"-4,4 -4,-442.86 586.527,-442.86 586.527,4 -4,4\"/>\n<g id=\"clust1\" class=\"cluster\"><title>clusterobs_idx (384)</title>\n<path fill=\"none\" stroke=\"black\" d=\"M260.527,-129.953C260.527,-129.953 562.527,-129.953 562.527,-129.953 568.527,-129.953 574.527,-135.953 574.527,-141.953 574.527,-141.953 574.527,-312.93 574.527,-312.93 574.527,-318.93 568.527,-324.93 562.527,-324.93 562.527,-324.93 260.527,-324.93 260.527,-324.93 254.527,-324.93 248.527,-318.93 248.527,-312.93 248.527,-312.93 248.527,-141.953 248.527,-141.953 248.527,-135.953 254.527,-129.953 260.527,-129.953\"/>\n<text text-anchor=\"middle\" x=\"527.027\" y=\"-137.753\" font-family=\"Times New Roman,serif\" font-size=\"14.00\">obs_idx (384)</text>\n</g>\n<g id=\"clust5\" class=\"cluster\"><title>cluster173</title>\n<path fill=\"none\" stroke=\"black\" d=\"M442.527,-8C442.527,-8 552.527,-8 552.527,-8 558.527,-8 564.527,-14 564.527,-20 564.527,-20 564.527,-109.953 564.527,-109.953 564.527,-115.953 558.527,-121.953 552.527,-121.953 552.527,-121.953 442.527,-121.953 442.527,-121.953 436.527,-121.953 430.527,-115.953 430.527,-109.953 430.527,-109.953 430.527,-20 430.527,-20 430.527,-14 436.527,-8 442.527,-8\"/>\n<text text-anchor=\"middle\" x=\"546.027\" y=\"-15.8\" font-family=\"Times New Roman,serif\" font-size=\"14.00\">173</text>\n</g>\n<g id=\"clust4\" class=\"cluster\"><title>cluster211</title>\n<path fill=\"none\" stroke=\"black\" d=\"M297.527,-8C297.527,-8 393.527,-8 393.527,-8 399.527,-8 405.527,-14 405.527,-20 405.527,-20 405.527,-109.953 405.527,-109.953 405.527,-115.953 399.527,-121.953 393.527,-121.953 393.527,-121.953 297.527,-121.953 297.527,-121.953 291.527,-121.953 285.527,-115.953 285.527,-109.953 285.527,-109.953 285.527,-20 285.527,-20 285.527,-14 291.527,-8 297.527,-8\"/>\n<text text-anchor=\"middle\" x=\"387.027\" y=\"-15.8\" font-family=\"Times New Roman,serif\" font-size=\"14.00\">211</text>\n</g>\n<g id=\"clust2\" class=\"cluster\"><title>clusteradj_idx (96)</title>\n<path fill=\"none\" stroke=\"black\" d=\"M52.5269,-221.953C52.5269,-221.953 112.527,-221.953 112.527,-221.953 118.527,-221.953 124.527,-227.953 124.527,-233.953 124.527,-233.953 124.527,-323.907 124.527,-323.907 124.527,-329.907 118.527,-335.907 112.527,-335.907 112.527,-335.907 52.5269,-335.907 52.5269,-335.907 46.5269,-335.907 40.5269,-329.907 40.5269,-323.907 40.5269,-323.907 40.5269,-233.953 40.5269,-233.953 40.5269,-227.953 46.5269,-221.953 52.5269,-221.953\"/>\n<text text-anchor=\"middle\" x=\"82.5269\" y=\"-229.753\" font-family=\"Times New Roman,serif\" font-size=\"14.00\">adj_idx (96)</text>\n</g>\n<g id=\"clust3\" class=\"cluster\"><title>clusterspecies_idx (4)</title>\n<path fill=\"none\" stroke=\"black\" d=\"M144.527,-221.953C144.527,-221.953 228.527,-221.953 228.527,-221.953 234.527,-221.953 240.527,-227.953 240.527,-233.953 240.527,-233.953 240.527,-323.907 240.527,-323.907 240.527,-329.907 234.527,-335.907 228.527,-335.907 228.527,-335.907 144.527,-335.907 144.527,-335.907 138.527,-335.907 132.527,-329.907 132.527,-323.907 132.527,-323.907 132.527,-233.953 132.527,-233.953 132.527,-227.953 138.527,-221.953 144.527,-221.953\"/>\n<text text-anchor=\"middle\" x=\"189.527\" y=\"-229.753\" font-family=\"Times New Roman,serif\" font-size=\"14.00\">species_idx (4)</text>\n</g>\n<!-- y -->\n<g id=\"node1\" class=\"node\"><title>y</title>\n<polygon fill=\"none\" stroke=\"black\" points=\"566.027,-316.93 477.027,-316.93 477.027,-263.93 566.027,-263.93 566.027,-316.93\"/>\n<text text-anchor=\"middle\" x=\"521.527\" y=\"-301.73\" font-family=\"Times New Roman,serif\" font-size=\"14.00\">y</text>\n<text text-anchor=\"middle\" x=\"521.527\" y=\"-286.73\" font-family=\"Times New Roman,serif\" font-size=\"14.00\">~</text>\n<text text-anchor=\"middle\" x=\"521.527\" y=\"-271.73\" font-family=\"Times New Roman,serif\" font-size=\"14.00\">Deterministic</text>\n</g>\n<!-- adj_idx -->\n<g id=\"node2\" class=\"node\"><title>adj_idx</title>\n<path fill=\"lightgrey\" stroke=\"black\" d=\"M446.527,-316.93C446.527,-316.93 378.527,-316.93 378.527,-316.93 372.527,-316.93 366.527,-310.93 366.527,-304.93 366.527,-304.93 366.527,-275.93 366.527,-275.93 366.527,-269.93 372.527,-263.93 378.527,-263.93 378.527,-263.93 446.527,-263.93 446.527,-263.93 452.527,-263.93 458.527,-269.93 458.527,-275.93 458.527,-275.93 458.527,-304.93 458.527,-304.93 458.527,-310.93 452.527,-316.93 446.527,-316.93\"/>\n<text text-anchor=\"middle\" x=\"412.527\" y=\"-301.73\" font-family=\"Times New Roman,serif\" font-size=\"14.00\">adj_idx</text>\n<text text-anchor=\"middle\" x=\"412.527\" y=\"-286.73\" font-family=\"Times New Roman,serif\" font-size=\"14.00\">~</text>\n<text text-anchor=\"middle\" x=\"412.527\" y=\"-271.73\" font-family=\"Times New Roman,serif\" font-size=\"14.00\">ConstantData</text>\n</g>\n<!-- mu -->\n<g id=\"node3\" class=\"node\"><title>mu</title>\n<polygon fill=\"none\" stroke=\"black\" points=\"382.027,-213.953 293.027,-213.953 293.027,-160.953 382.027,-160.953 382.027,-213.953\"/>\n<text text-anchor=\"middle\" x=\"337.527\" y=\"-198.753\" font-family=\"Times New Roman,serif\" font-size=\"14.00\">mu</text>\n<text text-anchor=\"middle\" x=\"337.527\" y=\"-183.753\" font-family=\"Times New Roman,serif\" font-size=\"14.00\">~</text>\n<text text-anchor=\"middle\" x=\"337.527\" y=\"-168.753\" font-family=\"Times New Roman,serif\" font-size=\"14.00\">Deterministic</text>\n</g>\n<!-- adj_idx&#45;&gt;mu -->\n<g id=\"edge4\" class=\"edge\"><title>adj_idx&#45;&gt;mu</title>\n<path fill=\"none\" stroke=\"black\" d=\"M393.407,-263.688C384.063,-251.107 372.695,-235.802 362.659,-222.29\"/>\n<polygon fill=\"black\" stroke=\"black\" points=\"365.384,-220.089 356.612,-214.148 359.765,-224.263 365.384,-220.089\"/>\n</g>\n<!-- y_missing -->\n<g id=\"node9\" class=\"node\"><title>y_missing</title>\n<ellipse fill=\"none\" stroke=\"black\" cx=\"345.527\" cy=\"-76.4767\" rx=\"51.7379\" ry=\"37.4533\"/>\n<text text-anchor=\"middle\" x=\"345.527\" y=\"-87.7767\" font-family=\"Times New Roman,serif\" font-size=\"14.00\">y_missing</text>\n<text text-anchor=\"middle\" x=\"345.527\" y=\"-72.7767\" font-family=\"Times New Roman,serif\" font-size=\"14.00\">~</text>\n<text text-anchor=\"middle\" x=\"345.527\" y=\"-57.7767\" font-family=\"Times New Roman,serif\" font-size=\"14.00\">Poisson</text>\n</g>\n<!-- mu&#45;&gt;y_missing -->\n<g id=\"edge7\" class=\"edge\"><title>mu&#45;&gt;y_missing</title>\n<path fill=\"none\" stroke=\"black\" d=\"M339.403,-160.903C340.204,-149.992 341.165,-136.9 342.085,-124.357\"/>\n<polygon fill=\"black\" stroke=\"black\" points=\"345.603,-124.239 342.845,-114.009 338.622,-123.726 345.603,-124.239\"/>\n</g>\n<!-- y_observed -->\n<g id=\"node10\" class=\"node\"><title>y_observed</title>\n<ellipse fill=\"lightgrey\" stroke=\"black\" cx=\"497.527\" cy=\"-76.4767\" rx=\"58.8803\" ry=\"37.4533\"/>\n<text text-anchor=\"middle\" x=\"497.527\" y=\"-87.7767\" font-family=\"Times New Roman,serif\" font-size=\"14.00\">y_observed</text>\n<text text-anchor=\"middle\" x=\"497.527\" y=\"-72.7767\" font-family=\"Times New Roman,serif\" font-size=\"14.00\">~</text>\n<text text-anchor=\"middle\" x=\"497.527\" y=\"-57.7767\" font-family=\"Times New Roman,serif\" font-size=\"14.00\">Poisson</text>\n</g>\n<!-- mu&#45;&gt;y_observed -->\n<g id=\"edge8\" class=\"edge\"><title>mu&#45;&gt;y_observed</title>\n<path fill=\"none\" stroke=\"black\" d=\"M375.04,-160.903C397.251,-145.775 425.617,-126.455 449.458,-110.217\"/>\n<polygon fill=\"black\" stroke=\"black\" points=\"451.722,-112.91 458.016,-104.387 447.781,-107.124 451.722,-112.91\"/>\n</g>\n<!-- species_idx -->\n<g id=\"node4\" class=\"node\"><title>species_idx</title>\n<path fill=\"lightgrey\" stroke=\"black\" d=\"M336.527,-316.93C336.527,-316.93 268.527,-316.93 268.527,-316.93 262.527,-316.93 256.527,-310.93 256.527,-304.93 256.527,-304.93 256.527,-275.93 256.527,-275.93 256.527,-269.93 262.527,-263.93 268.527,-263.93 268.527,-263.93 336.527,-263.93 336.527,-263.93 342.527,-263.93 348.527,-269.93 348.527,-275.93 348.527,-275.93 348.527,-304.93 348.527,-304.93 348.527,-310.93 342.527,-316.93 336.527,-316.93\"/>\n<text text-anchor=\"middle\" x=\"302.527\" y=\"-301.73\" font-family=\"Times New Roman,serif\" font-size=\"14.00\">species_idx</text>\n<text text-anchor=\"middle\" x=\"302.527\" y=\"-286.73\" font-family=\"Times New Roman,serif\" font-size=\"14.00\">~</text>\n<text text-anchor=\"middle\" x=\"302.527\" y=\"-271.73\" font-family=\"Times New Roman,serif\" font-size=\"14.00\">ConstantData</text>\n</g>\n<!-- species_idx&#45;&gt;mu -->\n<g id=\"edge6\" class=\"edge\"><title>species_idx&#45;&gt;mu</title>\n<path fill=\"none\" stroke=\"black\" d=\"M311.449,-263.688C315.646,-251.582 320.716,-236.954 325.266,-223.827\"/>\n<polygon fill=\"black\" stroke=\"black\" points=\"328.653,-224.743 328.621,-214.148 322.039,-222.451 328.653,-224.743\"/>\n</g>\n<!-- alpha -->\n<g id=\"node5\" class=\"node\"><title>alpha</title>\n<ellipse fill=\"none\" stroke=\"black\" cx=\"32.5269\" cy=\"-401.383\" rx=\"32.5538\" ry=\"37.4533\"/>\n<text text-anchor=\"middle\" x=\"32.5269\" y=\"-412.683\" font-family=\"Times New Roman,serif\" font-size=\"14.00\">alpha</text>\n<text text-anchor=\"middle\" x=\"32.5269\" y=\"-397.683\" font-family=\"Times New Roman,serif\" font-size=\"14.00\">~</text>\n<text text-anchor=\"middle\" x=\"32.5269\" y=\"-382.683\" font-family=\"Times New Roman,serif\" font-size=\"14.00\">Beta</text>\n</g>\n<!-- phi -->\n<g id=\"node7\" class=\"node\"><title>phi</title>\n<ellipse fill=\"none\" stroke=\"black\" cx=\"83.5269\" cy=\"-290.43\" rx=\"32.5538\" ry=\"37.4533\"/>\n<text text-anchor=\"middle\" x=\"83.5269\" y=\"-301.73\" font-family=\"Times New Roman,serif\" font-size=\"14.00\">phi</text>\n<text text-anchor=\"middle\" x=\"83.5269\" y=\"-286.73\" font-family=\"Times New Roman,serif\" font-size=\"14.00\">~</text>\n<text text-anchor=\"middle\" x=\"83.5269\" y=\"-271.73\" font-family=\"Times New Roman,serif\" font-size=\"14.00\">CAR</text>\n</g>\n<!-- alpha&#45;&gt;phi -->\n<g id=\"edge1\" class=\"edge\"><title>alpha&#45;&gt;phi</title>\n<path fill=\"none\" stroke=\"black\" d=\"M47.6905,-367.989C52.8339,-357.001 58.6527,-344.57 64.0827,-332.97\"/>\n<polygon fill=\"black\" stroke=\"black\" points=\"67.2641,-334.429 68.3337,-323.888 60.9243,-331.461 67.2641,-334.429\"/>\n</g>\n<!-- sigma_phi -->\n<g id=\"node6\" class=\"node\"><title>sigma_phi</title>\n<ellipse fill=\"none\" stroke=\"black\" cx=\"135.527\" cy=\"-401.383\" rx=\"52.1524\" ry=\"37.4533\"/>\n<text text-anchor=\"middle\" x=\"135.527\" y=\"-412.683\" font-family=\"Times New Roman,serif\" font-size=\"14.00\">sigma_phi</text>\n<text text-anchor=\"middle\" x=\"135.527\" y=\"-397.683\" font-family=\"Times New Roman,serif\" font-size=\"14.00\">~</text>\n<text text-anchor=\"middle\" x=\"135.527\" y=\"-382.683\" font-family=\"Times New Roman,serif\" font-size=\"14.00\">Uniform</text>\n</g>\n<!-- sigma_phi&#45;&gt;phi -->\n<g id=\"edge2\" class=\"edge\"><title>sigma_phi&#45;&gt;phi</title>\n<path fill=\"none\" stroke=\"black\" d=\"M118.931,-365.61C113.965,-355.206 108.471,-343.694 103.321,-332.904\"/>\n<polygon fill=\"black\" stroke=\"black\" points=\"106.373,-331.172 98.9066,-323.654 100.055,-334.187 106.373,-331.172\"/>\n</g>\n<!-- phi&#45;&gt;mu -->\n<g id=\"edge3\" class=\"edge\"><title>phi&#45;&gt;mu</title>\n<path fill=\"none\" stroke=\"black\" d=\"M98.024,-256.788C105.352,-243.957 115.493,-230.322 128.527,-221.953 153.437,-205.959 229.776,-196.828 282.943,-192.256\"/>\n<polygon fill=\"black\" stroke=\"black\" points=\"283.237,-195.744 292.914,-191.429 282.658,-188.768 283.237,-195.744\"/>\n</g>\n<!-- intercept -->\n<g id=\"node8\" class=\"node\"><title>intercept</title>\n<ellipse fill=\"none\" stroke=\"black\" cx=\"186.527\" cy=\"-290.43\" rx=\"45.9239\" ry=\"37.4533\"/>\n<text text-anchor=\"middle\" x=\"186.527\" y=\"-301.73\" font-family=\"Times New Roman,serif\" font-size=\"14.00\">intercept</text>\n<text text-anchor=\"middle\" x=\"186.527\" y=\"-286.73\" font-family=\"Times New Roman,serif\" font-size=\"14.00\">~</text>\n<text text-anchor=\"middle\" x=\"186.527\" y=\"-271.73\" font-family=\"Times New Roman,serif\" font-size=\"14.00\">Normal</text>\n</g>\n<!-- intercept&#45;&gt;mu -->\n<g id=\"edge5\" class=\"edge\"><title>intercept&#45;&gt;mu</title>\n<path fill=\"none\" stroke=\"black\" d=\"M208.493,-257.339C218.319,-244.907 230.788,-231.418 244.527,-221.953 256.126,-213.962 269.848,-207.651 283.138,-202.765\"/>\n<polygon fill=\"black\" stroke=\"black\" points=\"284.397,-206.033 292.703,-199.455 282.108,-199.418 284.397,-206.033\"/>\n</g>\n<!-- y_missing&#45;&gt;y -->\n<g id=\"edge10\" class=\"edge\"><title>y_missing&#45;&gt;y</title>\n<path fill=\"none\" stroke=\"black\" d=\"M372.477,-108.781C378.437,-115.738 384.709,-123.085 390.527,-129.953 424.993,-170.637 433.756,-180.691 467.527,-221.953 476.463,-232.871 486.12,-244.872 494.762,-255.688\"/>\n<polygon fill=\"black\" stroke=\"black\" points=\"492.173,-258.055 501.145,-263.69 497.645,-253.69 492.173,-258.055\"/>\n</g>\n<!-- y_observed&#45;&gt;y -->\n<g id=\"edge9\" class=\"edge\"><title>y_observed&#45;&gt;y</title>\n<path fill=\"none\" stroke=\"black\" d=\"M501.68,-114.151C506.107,-153.254 513.073,-214.772 517.466,-253.563\"/>\n<polygon fill=\"black\" stroke=\"black\" points=\"514.029,-254.321 518.632,-263.863 520.985,-253.533 514.029,-254.321\"/>\n</g>\n</g>\n</svg>\n",
      "text/plain": [
       "<graphviz.graphs.Digraph at 0x18095948a30>"
      ]
     },
     "metadata": {},
     "output_type": "display_data"
    },
    {
     "name": "stdout",
     "output_type": "stream",
     "text": [
      "pooled_intercept_car_model\n"
     ]
    },
    {
     "data": {
      "image/svg+xml": "<?xml version=\"1.0\" encoding=\"UTF-8\" standalone=\"no\"?>\n<!DOCTYPE svg PUBLIC \"-//W3C//DTD SVG 1.1//EN\"\n \"http://www.w3.org/Graphics/SVG/1.1/DTD/svg11.dtd\">\n<!-- Generated by graphviz version 2.38.0 (20140413.2041)\n -->\n<!-- Title: %3 Pages: 1 -->\n<svg width=\"460pt\" height=\"447pt\"\n viewBox=\"0.00 0.00 459.96 446.86\" xmlns=\"http://www.w3.org/2000/svg\" xmlns:xlink=\"http://www.w3.org/1999/xlink\">\n<g id=\"graph0\" class=\"graph\" transform=\"scale(1 1) rotate(0) translate(4 442.86)\">\n<title>%3</title>\n<polygon fill=\"white\" stroke=\"none\" points=\"-4,4 -4,-442.86 455.962,-442.86 455.962,4 -4,4\"/>\n<g id=\"clust1\" class=\"cluster\"><title>clusterobs_idx (384)</title>\n<path fill=\"none\" stroke=\"black\" d=\"M203.962,-129.953C203.962,-129.953 395.962,-129.953 395.962,-129.953 401.962,-129.953 407.962,-135.953 407.962,-141.953 407.962,-141.953 407.962,-312.93 407.962,-312.93 407.962,-318.93 401.962,-324.93 395.962,-324.93 395.962,-324.93 203.962,-324.93 203.962,-324.93 197.962,-324.93 191.962,-318.93 191.962,-312.93 191.962,-312.93 191.962,-141.953 191.962,-141.953 191.962,-135.953 197.962,-129.953 203.962,-129.953\"/>\n<text text-anchor=\"middle\" x=\"360.462\" y=\"-137.753\" font-family=\"Times New Roman,serif\" font-size=\"14.00\">obs_idx (384)</text>\n</g>\n<g id=\"clust3\" class=\"cluster\"><title>cluster211</title>\n<path fill=\"none\" stroke=\"black\" d=\"M193.962,-8C193.962,-8 289.962,-8 289.962,-8 295.962,-8 301.962,-14 301.962,-20 301.962,-20 301.962,-109.953 301.962,-109.953 301.962,-115.953 295.962,-121.953 289.962,-121.953 289.962,-121.953 193.962,-121.953 193.962,-121.953 187.962,-121.953 181.962,-115.953 181.962,-109.953 181.962,-109.953 181.962,-20 181.962,-20 181.962,-14 187.962,-8 193.962,-8\"/>\n<text text-anchor=\"middle\" x=\"283.462\" y=\"-15.8\" font-family=\"Times New Roman,serif\" font-size=\"14.00\">211</text>\n</g>\n<g id=\"clust4\" class=\"cluster\"><title>cluster173</title>\n<path fill=\"none\" stroke=\"black\" d=\"M321.962,-8C321.962,-8 431.962,-8 431.962,-8 437.962,-8 443.962,-14 443.962,-20 443.962,-20 443.962,-109.953 443.962,-109.953 443.962,-115.953 437.962,-121.953 431.962,-121.953 431.962,-121.953 321.962,-121.953 321.962,-121.953 315.962,-121.953 309.962,-115.953 309.962,-109.953 309.962,-109.953 309.962,-20 309.962,-20 309.962,-14 315.962,-8 321.962,-8\"/>\n<text text-anchor=\"middle\" x=\"425.462\" y=\"-15.8\" font-family=\"Times New Roman,serif\" font-size=\"14.00\">173</text>\n</g>\n<g id=\"clust2\" class=\"cluster\"><title>clusteradj_idx (96)</title>\n<path fill=\"none\" stroke=\"black\" d=\"M111.962,-221.953C111.962,-221.953 171.962,-221.953 171.962,-221.953 177.962,-221.953 183.962,-227.953 183.962,-233.953 183.962,-233.953 183.962,-323.907 183.962,-323.907 183.962,-329.907 177.962,-335.907 171.962,-335.907 171.962,-335.907 111.962,-335.907 111.962,-335.907 105.962,-335.907 99.9619,-329.907 99.9619,-323.907 99.9619,-323.907 99.9619,-233.953 99.9619,-233.953 99.9619,-227.953 105.962,-221.953 111.962,-221.953\"/>\n<text text-anchor=\"middle\" x=\"141.962\" y=\"-229.753\" font-family=\"Times New Roman,serif\" font-size=\"14.00\">adj_idx (96)</text>\n</g>\n<!-- y -->\n<g id=\"node1\" class=\"node\"><title>y</title>\n<polygon fill=\"none\" stroke=\"black\" points=\"399.462,-316.93 310.462,-316.93 310.462,-263.93 399.462,-263.93 399.462,-316.93\"/>\n<text text-anchor=\"middle\" x=\"354.962\" y=\"-301.73\" font-family=\"Times New Roman,serif\" font-size=\"14.00\">y</text>\n<text text-anchor=\"middle\" x=\"354.962\" y=\"-286.73\" font-family=\"Times New Roman,serif\" font-size=\"14.00\">~</text>\n<text text-anchor=\"middle\" x=\"354.962\" y=\"-271.73\" font-family=\"Times New Roman,serif\" font-size=\"14.00\">Deterministic</text>\n</g>\n<!-- adj_idx -->\n<g id=\"node2\" class=\"node\"><title>adj_idx</title>\n<path fill=\"lightgrey\" stroke=\"black\" d=\"M279.962,-316.93C279.962,-316.93 211.962,-316.93 211.962,-316.93 205.962,-316.93 199.962,-310.93 199.962,-304.93 199.962,-304.93 199.962,-275.93 199.962,-275.93 199.962,-269.93 205.962,-263.93 211.962,-263.93 211.962,-263.93 279.962,-263.93 279.962,-263.93 285.962,-263.93 291.962,-269.93 291.962,-275.93 291.962,-275.93 291.962,-304.93 291.962,-304.93 291.962,-310.93 285.962,-316.93 279.962,-316.93\"/>\n<text text-anchor=\"middle\" x=\"245.962\" y=\"-301.73\" font-family=\"Times New Roman,serif\" font-size=\"14.00\">adj_idx</text>\n<text text-anchor=\"middle\" x=\"245.962\" y=\"-286.73\" font-family=\"Times New Roman,serif\" font-size=\"14.00\">~</text>\n<text text-anchor=\"middle\" x=\"245.962\" y=\"-271.73\" font-family=\"Times New Roman,serif\" font-size=\"14.00\">ConstantData</text>\n</g>\n<!-- mu -->\n<g id=\"node3\" class=\"node\"><title>mu</title>\n<polygon fill=\"none\" stroke=\"black\" points=\"289.462,-213.953 200.462,-213.953 200.462,-160.953 289.462,-160.953 289.462,-213.953\"/>\n<text text-anchor=\"middle\" x=\"244.962\" y=\"-198.753\" font-family=\"Times New Roman,serif\" font-size=\"14.00\">mu</text>\n<text text-anchor=\"middle\" x=\"244.962\" y=\"-183.753\" font-family=\"Times New Roman,serif\" font-size=\"14.00\">~</text>\n<text text-anchor=\"middle\" x=\"244.962\" y=\"-168.753\" font-family=\"Times New Roman,serif\" font-size=\"14.00\">Deterministic</text>\n</g>\n<!-- adj_idx&#45;&gt;mu -->\n<g id=\"edge4\" class=\"edge\"><title>adj_idx&#45;&gt;mu</title>\n<path fill=\"none\" stroke=\"black\" d=\"M245.707,-263.688C245.588,-251.7 245.445,-237.24 245.316,-224.213\"/>\n<polygon fill=\"black\" stroke=\"black\" points=\"248.815,-224.113 245.216,-214.148 241.816,-224.182 248.815,-224.113\"/>\n</g>\n<!-- y_missing -->\n<g id=\"node8\" class=\"node\"><title>y_missing</title>\n<ellipse fill=\"none\" stroke=\"black\" cx=\"241.962\" cy=\"-76.4767\" rx=\"51.7379\" ry=\"37.4533\"/>\n<text text-anchor=\"middle\" x=\"241.962\" y=\"-87.7767\" font-family=\"Times New Roman,serif\" font-size=\"14.00\">y_missing</text>\n<text text-anchor=\"middle\" x=\"241.962\" y=\"-72.7767\" font-family=\"Times New Roman,serif\" font-size=\"14.00\">~</text>\n<text text-anchor=\"middle\" x=\"241.962\" y=\"-57.7767\" font-family=\"Times New Roman,serif\" font-size=\"14.00\">Poisson</text>\n</g>\n<!-- mu&#45;&gt;y_missing -->\n<g id=\"edge6\" class=\"edge\"><title>mu&#45;&gt;y_missing</title>\n<path fill=\"none\" stroke=\"black\" d=\"M244.259,-160.903C243.958,-149.992 243.598,-136.9 243.252,-124.357\"/>\n<polygon fill=\"black\" stroke=\"black\" points=\"246.742,-123.909 242.968,-114.009 239.744,-124.102 246.742,-123.909\"/>\n</g>\n<!-- y_observed -->\n<g id=\"node9\" class=\"node\"><title>y_observed</title>\n<ellipse fill=\"lightgrey\" stroke=\"black\" cx=\"376.962\" cy=\"-76.4767\" rx=\"58.8803\" ry=\"37.4533\"/>\n<text text-anchor=\"middle\" x=\"376.962\" y=\"-87.7767\" font-family=\"Times New Roman,serif\" font-size=\"14.00\">y_observed</text>\n<text text-anchor=\"middle\" x=\"376.962\" y=\"-72.7767\" font-family=\"Times New Roman,serif\" font-size=\"14.00\">~</text>\n<text text-anchor=\"middle\" x=\"376.962\" y=\"-57.7767\" font-family=\"Times New Roman,serif\" font-size=\"14.00\">Poisson</text>\n</g>\n<!-- mu&#45;&gt;y_observed -->\n<g id=\"edge7\" class=\"edge\"><title>mu&#45;&gt;y_observed</title>\n<path fill=\"none\" stroke=\"black\" d=\"M275.91,-160.903C293.113,-146.701 314.791,-128.804 333.653,-113.231\"/>\n<polygon fill=\"black\" stroke=\"black\" points=\"336.06,-115.783 341.544,-106.717 331.604,-110.385 336.06,-115.783\"/>\n</g>\n<!-- alpha -->\n<g id=\"node4\" class=\"node\"><title>alpha</title>\n<ellipse fill=\"none\" stroke=\"black\" cx=\"91.9619\" cy=\"-401.383\" rx=\"32.5538\" ry=\"37.4533\"/>\n<text text-anchor=\"middle\" x=\"91.9619\" y=\"-412.683\" font-family=\"Times New Roman,serif\" font-size=\"14.00\">alpha</text>\n<text text-anchor=\"middle\" x=\"91.9619\" y=\"-397.683\" font-family=\"Times New Roman,serif\" font-size=\"14.00\">~</text>\n<text text-anchor=\"middle\" x=\"91.9619\" y=\"-382.683\" font-family=\"Times New Roman,serif\" font-size=\"14.00\">Beta</text>\n</g>\n<!-- phi -->\n<g id=\"node7\" class=\"node\"><title>phi</title>\n<ellipse fill=\"none\" stroke=\"black\" cx=\"142.962\" cy=\"-290.43\" rx=\"32.5538\" ry=\"37.4533\"/>\n<text text-anchor=\"middle\" x=\"142.962\" y=\"-301.73\" font-family=\"Times New Roman,serif\" font-size=\"14.00\">phi</text>\n<text text-anchor=\"middle\" x=\"142.962\" y=\"-286.73\" font-family=\"Times New Roman,serif\" font-size=\"14.00\">~</text>\n<text text-anchor=\"middle\" x=\"142.962\" y=\"-271.73\" font-family=\"Times New Roman,serif\" font-size=\"14.00\">CAR</text>\n</g>\n<!-- alpha&#45;&gt;phi -->\n<g id=\"edge1\" class=\"edge\"><title>alpha&#45;&gt;phi</title>\n<path fill=\"none\" stroke=\"black\" d=\"M107.126,-367.989C112.269,-357.001 118.088,-344.57 123.518,-332.97\"/>\n<polygon fill=\"black\" stroke=\"black\" points=\"126.699,-334.429 127.769,-323.888 120.359,-331.461 126.699,-334.429\"/>\n</g>\n<!-- intercept -->\n<g id=\"node5\" class=\"node\"><title>intercept</title>\n<ellipse fill=\"none\" stroke=\"black\" cx=\"45.9619\" cy=\"-290.43\" rx=\"45.9239\" ry=\"37.4533\"/>\n<text text-anchor=\"middle\" x=\"45.9619\" y=\"-301.73\" font-family=\"Times New Roman,serif\" font-size=\"14.00\">intercept</text>\n<text text-anchor=\"middle\" x=\"45.9619\" y=\"-286.73\" font-family=\"Times New Roman,serif\" font-size=\"14.00\">~</text>\n<text text-anchor=\"middle\" x=\"45.9619\" y=\"-271.73\" font-family=\"Times New Roman,serif\" font-size=\"14.00\">Normal</text>\n</g>\n<!-- intercept&#45;&gt;mu -->\n<g id=\"edge5\" class=\"edge\"><title>intercept&#45;&gt;mu</title>\n<path fill=\"none\" stroke=\"black\" d=\"M64.0036,-255.764C72.2114,-243.404 83.0099,-230.386 95.9619,-221.953 123.888,-203.772 160.307,-195.368 190.148,-191.524\"/>\n<polygon fill=\"black\" stroke=\"black\" points=\"190.869,-194.964 200.404,-190.346 190.07,-188.01 190.869,-194.964\"/>\n</g>\n<!-- sigma_phi -->\n<g id=\"node6\" class=\"node\"><title>sigma_phi</title>\n<ellipse fill=\"none\" stroke=\"black\" cx=\"194.962\" cy=\"-401.383\" rx=\"52.1524\" ry=\"37.4533\"/>\n<text text-anchor=\"middle\" x=\"194.962\" y=\"-412.683\" font-family=\"Times New Roman,serif\" font-size=\"14.00\">sigma_phi</text>\n<text text-anchor=\"middle\" x=\"194.962\" y=\"-397.683\" font-family=\"Times New Roman,serif\" font-size=\"14.00\">~</text>\n<text text-anchor=\"middle\" x=\"194.962\" y=\"-382.683\" font-family=\"Times New Roman,serif\" font-size=\"14.00\">Uniform</text>\n</g>\n<!-- sigma_phi&#45;&gt;phi -->\n<g id=\"edge2\" class=\"edge\"><title>sigma_phi&#45;&gt;phi</title>\n<path fill=\"none\" stroke=\"black\" d=\"M178.366,-365.61C173.4,-355.206 167.906,-343.694 162.756,-332.904\"/>\n<polygon fill=\"black\" stroke=\"black\" points=\"165.808,-331.172 158.342,-323.654 159.49,-334.187 165.808,-331.172\"/>\n</g>\n<!-- phi&#45;&gt;mu -->\n<g id=\"edge3\" class=\"edge\"><title>phi&#45;&gt;mu</title>\n<path fill=\"none\" stroke=\"black\" d=\"M159.819,-257.978C167.352,-245.786 177.01,-232.3 187.962,-221.953 189.253,-220.734 190.595,-219.54 191.979,-218.372\"/>\n<polygon fill=\"black\" stroke=\"black\" points=\"194.49,-220.856 200.279,-211.983 190.22,-215.31 194.49,-220.856\"/>\n</g>\n<!-- y_missing&#45;&gt;y -->\n<g id=\"edge9\" class=\"edge\"><title>y_missing&#45;&gt;y</title>\n<path fill=\"none\" stroke=\"black\" d=\"M276.101,-104.589C284.07,-112.151 291.969,-120.818 297.962,-129.953 323.319,-168.609 339.03,-219.941 347.379,-253.795\"/>\n<polygon fill=\"black\" stroke=\"black\" points=\"344.017,-254.788 349.736,-263.707 350.827,-253.169 344.017,-254.788\"/>\n</g>\n<!-- y_observed&#45;&gt;y -->\n<g id=\"edge8\" class=\"edge\"><title>y_observed&#45;&gt;y</title>\n<path fill=\"none\" stroke=\"black\" d=\"M373.155,-114.151C369.097,-153.254 362.711,-214.772 358.685,-253.563\"/>\n<polygon fill=\"black\" stroke=\"black\" points=\"355.167,-253.556 357.616,-263.863 362.129,-254.278 355.167,-253.556\"/>\n</g>\n</g>\n</svg>\n",
      "text/plain": [
       "<graphviz.graphs.Digraph at 0x18095915690>"
      ]
     },
     "metadata": {},
     "output_type": "display_data"
    },
    {
     "name": "stdout",
     "output_type": "stream",
     "text": [
      "pooled_intercept_random_covariate_car_model\n"
     ]
    },
    {
     "data": {
      "image/svg+xml": "<?xml version=\"1.0\" encoding=\"UTF-8\" standalone=\"no\"?>\n<!DOCTYPE svg PUBLIC \"-//W3C//DTD SVG 1.1//EN\"\n \"http://www.w3.org/Graphics/SVG/1.1/DTD/svg11.dtd\">\n<!-- Generated by graphviz version 2.38.0 (20140413.2041)\n -->\n<!-- Title: %3 Pages: 1 -->\n<svg width=\"960pt\" height=\"447pt\"\n viewBox=\"0.00 0.00 960.00 446.86\" xmlns=\"http://www.w3.org/2000/svg\" xmlns:xlink=\"http://www.w3.org/1999/xlink\">\n<g id=\"graph0\" class=\"graph\" transform=\"scale(1 1) rotate(0) translate(4 442.86)\">\n<title>%3</title>\n<polygon fill=\"white\" stroke=\"none\" points=\"-4,4 -4,-442.86 956,-442.86 956,4 -4,4\"/>\n<g id=\"clust1\" class=\"cluster\"><title>clusterobs_idx (384)</title>\n<path fill=\"none\" stroke=\"black\" d=\"M630,-129.953C630,-129.953 932,-129.953 932,-129.953 938,-129.953 944,-135.953 944,-141.953 944,-141.953 944,-312.93 944,-312.93 944,-318.93 938,-324.93 932,-324.93 932,-324.93 630,-324.93 630,-324.93 624,-324.93 618,-318.93 618,-312.93 618,-312.93 618,-141.953 618,-141.953 618,-135.953 624,-129.953 630,-129.953\"/>\n<text text-anchor=\"middle\" x=\"896.5\" y=\"-137.753\" font-family=\"Times New Roman,serif\" font-size=\"14.00\">obs_idx (384)</text>\n</g>\n<g id=\"clust5\" class=\"cluster\"><title>cluster211</title>\n<path fill=\"none\" stroke=\"black\" d=\"M808,-8C808,-8 904,-8 904,-8 910,-8 916,-14 916,-20 916,-20 916,-109.953 916,-109.953 916,-115.953 910,-121.953 904,-121.953 904,-121.953 808,-121.953 808,-121.953 802,-121.953 796,-115.953 796,-109.953 796,-109.953 796,-20 796,-20 796,-14 802,-8 808,-8\"/>\n<text text-anchor=\"middle\" x=\"897.5\" y=\"-15.8\" font-family=\"Times New Roman,serif\" font-size=\"14.00\">211</text>\n</g>\n<g id=\"clust6\" class=\"cluster\"><title>cluster173</title>\n<path fill=\"none\" stroke=\"black\" d=\"M627,-8C627,-8 737,-8 737,-8 743,-8 749,-14 749,-20 749,-20 749,-109.953 749,-109.953 749,-115.953 743,-121.953 737,-121.953 737,-121.953 627,-121.953 627,-121.953 621,-121.953 615,-115.953 615,-109.953 615,-109.953 615,-20 615,-20 615,-14 621,-8 627,-8\"/>\n<text text-anchor=\"middle\" x=\"730.5\" y=\"-15.8\" font-family=\"Times New Roman,serif\" font-size=\"14.00\">173</text>\n</g>\n<g id=\"clust3\" class=\"cluster\"><title>clusteradj_idx (96)</title>\n<path fill=\"none\" stroke=\"black\" d=\"M326,-221.953C326,-221.953 386,-221.953 386,-221.953 392,-221.953 398,-227.953 398,-233.953 398,-233.953 398,-323.907 398,-323.907 398,-329.907 392,-335.907 386,-335.907 386,-335.907 326,-335.907 326,-335.907 320,-335.907 314,-329.907 314,-323.907 314,-323.907 314,-233.953 314,-233.953 314,-227.953 320,-221.953 326,-221.953\"/>\n<text text-anchor=\"middle\" x=\"356\" y=\"-229.753\" font-family=\"Times New Roman,serif\" font-size=\"14.00\">adj_idx (96)</text>\n</g>\n<g id=\"clust2\" class=\"cluster\"><title>clusterobs_idx (384) x features_idx (9)</title>\n<path fill=\"none\" stroke=\"black\" d=\"M20,-232.93C20,-232.93 193,-232.93 193,-232.93 199,-232.93 205,-238.93 205,-244.93 205,-244.93 205,-312.93 205,-312.93 205,-318.93 199,-324.93 193,-324.93 193,-324.93 20,-324.93 20,-324.93 14,-324.93 8,-318.93 8,-312.93 8,-312.93 8,-244.93 8,-244.93 8,-238.93 14,-232.93 20,-232.93\"/>\n<text text-anchor=\"middle\" x=\"106.5\" y=\"-240.73\" font-family=\"Times New Roman,serif\" font-size=\"14.00\">obs_idx (384) x features_idx (9)</text>\n</g>\n<g id=\"clust4\" class=\"cluster\"><title>clusterspecies_idx (4) x features_idx (9)</title>\n<path fill=\"none\" stroke=\"black\" d=\"M418,-221.953C418,-221.953 598,-221.953 598,-221.953 604,-221.953 610,-227.953 610,-233.953 610,-233.953 610,-323.907 610,-323.907 610,-329.907 604,-335.907 598,-335.907 598,-335.907 418,-335.907 418,-335.907 412,-335.907 406,-329.907 406,-323.907 406,-323.907 406,-233.953 406,-233.953 406,-227.953 412,-221.953 418,-221.953\"/>\n<text text-anchor=\"middle\" x=\"508\" y=\"-229.753\" font-family=\"Times New Roman,serif\" font-size=\"14.00\">species_idx (4) x features_idx (9)</text>\n</g>\n<!-- y -->\n<g id=\"node1\" class=\"node\"><title>y</title>\n<polygon fill=\"none\" stroke=\"black\" points=\"935.5,-316.93 846.5,-316.93 846.5,-263.93 935.5,-263.93 935.5,-316.93\"/>\n<text text-anchor=\"middle\" x=\"891\" y=\"-301.73\" font-family=\"Times New Roman,serif\" font-size=\"14.00\">y</text>\n<text text-anchor=\"middle\" x=\"891\" y=\"-286.73\" font-family=\"Times New Roman,serif\" font-size=\"14.00\">~</text>\n<text text-anchor=\"middle\" x=\"891\" y=\"-271.73\" font-family=\"Times New Roman,serif\" font-size=\"14.00\">Deterministic</text>\n</g>\n<!-- adj_idx -->\n<g id=\"node2\" class=\"node\"><title>adj_idx</title>\n<path fill=\"lightgrey\" stroke=\"black\" d=\"M816,-316.93C816,-316.93 748,-316.93 748,-316.93 742,-316.93 736,-310.93 736,-304.93 736,-304.93 736,-275.93 736,-275.93 736,-269.93 742,-263.93 748,-263.93 748,-263.93 816,-263.93 816,-263.93 822,-263.93 828,-269.93 828,-275.93 828,-275.93 828,-304.93 828,-304.93 828,-310.93 822,-316.93 816,-316.93\"/>\n<text text-anchor=\"middle\" x=\"782\" y=\"-301.73\" font-family=\"Times New Roman,serif\" font-size=\"14.00\">adj_idx</text>\n<text text-anchor=\"middle\" x=\"782\" y=\"-286.73\" font-family=\"Times New Roman,serif\" font-size=\"14.00\">~</text>\n<text text-anchor=\"middle\" x=\"782\" y=\"-271.73\" font-family=\"Times New Roman,serif\" font-size=\"14.00\">ConstantData</text>\n</g>\n<!-- mu -->\n<g id=\"node3\" class=\"node\"><title>mu</title>\n<polygon fill=\"none\" stroke=\"black\" points=\"715.5,-213.953 626.5,-213.953 626.5,-160.953 715.5,-160.953 715.5,-213.953\"/>\n<text text-anchor=\"middle\" x=\"671\" y=\"-198.753\" font-family=\"Times New Roman,serif\" font-size=\"14.00\">mu</text>\n<text text-anchor=\"middle\" x=\"671\" y=\"-183.753\" font-family=\"Times New Roman,serif\" font-size=\"14.00\">~</text>\n<text text-anchor=\"middle\" x=\"671\" y=\"-168.753\" font-family=\"Times New Roman,serif\" font-size=\"14.00\">Deterministic</text>\n</g>\n<!-- adj_idx&#45;&gt;mu -->\n<g id=\"edge7\" class=\"edge\"><title>adj_idx&#45;&gt;mu</title>\n<path fill=\"none\" stroke=\"black\" d=\"M764.518,-263.888C754.522,-250.426 741.175,-234.212 727,-221.953 726.012,-221.099 724.999,-220.253 723.966,-219.418\"/>\n<polygon fill=\"black\" stroke=\"black\" points=\"725.814,-216.429 715.717,-213.222 721.61,-222.026 725.814,-216.429\"/>\n</g>\n<!-- y_missing -->\n<g id=\"node11\" class=\"node\"><title>y_missing</title>\n<ellipse fill=\"none\" stroke=\"black\" cx=\"856\" cy=\"-76.4767\" rx=\"51.7379\" ry=\"37.4533\"/>\n<text text-anchor=\"middle\" x=\"856\" y=\"-87.7767\" font-family=\"Times New Roman,serif\" font-size=\"14.00\">y_missing</text>\n<text text-anchor=\"middle\" x=\"856\" y=\"-72.7767\" font-family=\"Times New Roman,serif\" font-size=\"14.00\">~</text>\n<text text-anchor=\"middle\" x=\"856\" y=\"-57.7767\" font-family=\"Times New Roman,serif\" font-size=\"14.00\">Poisson</text>\n</g>\n<!-- mu&#45;&gt;y_missing -->\n<g id=\"edge9\" class=\"edge\"><title>mu&#45;&gt;y_missing</title>\n<path fill=\"none\" stroke=\"black\" d=\"M714.374,-160.903C742.345,-144.426 778.759,-122.976 807.659,-105.953\"/>\n<polygon fill=\"black\" stroke=\"black\" points=\"809.529,-108.913 816.369,-100.822 805.976,-102.882 809.529,-108.913\"/>\n</g>\n<!-- y_observed -->\n<g id=\"node12\" class=\"node\"><title>y_observed</title>\n<ellipse fill=\"lightgrey\" stroke=\"black\" cx=\"682\" cy=\"-76.4767\" rx=\"58.8803\" ry=\"37.4533\"/>\n<text text-anchor=\"middle\" x=\"682\" y=\"-87.7767\" font-family=\"Times New Roman,serif\" font-size=\"14.00\">y_observed</text>\n<text text-anchor=\"middle\" x=\"682\" y=\"-72.7767\" font-family=\"Times New Roman,serif\" font-size=\"14.00\">~</text>\n<text text-anchor=\"middle\" x=\"682\" y=\"-57.7767\" font-family=\"Times New Roman,serif\" font-size=\"14.00\">Poisson</text>\n</g>\n<!-- mu&#45;&gt;y_observed -->\n<g id=\"edge10\" class=\"edge\"><title>mu&#45;&gt;y_observed</title>\n<path fill=\"none\" stroke=\"black\" d=\"M673.579,-160.903C674.691,-149.883 676.028,-136.638 677.306,-123.981\"/>\n<polygon fill=\"black\" stroke=\"black\" points=\"680.79,-124.31 678.312,-114.009 673.826,-123.607 680.79,-124.31\"/>\n</g>\n<!-- species_idx -->\n<g id=\"node4\" class=\"node\"><title>species_idx</title>\n<path fill=\"lightgrey\" stroke=\"black\" d=\"M706,-316.93C706,-316.93 638,-316.93 638,-316.93 632,-316.93 626,-310.93 626,-304.93 626,-304.93 626,-275.93 626,-275.93 626,-269.93 632,-263.93 638,-263.93 638,-263.93 706,-263.93 706,-263.93 712,-263.93 718,-269.93 718,-275.93 718,-275.93 718,-304.93 718,-304.93 718,-310.93 712,-316.93 706,-316.93\"/>\n<text text-anchor=\"middle\" x=\"672\" y=\"-301.73\" font-family=\"Times New Roman,serif\" font-size=\"14.00\">species_idx</text>\n<text text-anchor=\"middle\" x=\"672\" y=\"-286.73\" font-family=\"Times New Roman,serif\" font-size=\"14.00\">~</text>\n<text text-anchor=\"middle\" x=\"672\" y=\"-271.73\" font-family=\"Times New Roman,serif\" font-size=\"14.00\">ConstantData</text>\n</g>\n<!-- species_idx&#45;&gt;mu -->\n<g id=\"edge5\" class=\"edge\"><title>species_idx&#45;&gt;mu</title>\n<path fill=\"none\" stroke=\"black\" d=\"M671.745,-263.688C671.626,-251.7 671.483,-237.24 671.354,-224.213\"/>\n<polygon fill=\"black\" stroke=\"black\" points=\"674.853,-224.113 671.254,-214.148 667.854,-224.182 674.853,-224.113\"/>\n</g>\n<!-- X -->\n<g id=\"node5\" class=\"node\"><title>X</title>\n<path fill=\"lightgrey\" stroke=\"black\" d=\"M184,-316.93C184,-316.93 116,-316.93 116,-316.93 110,-316.93 104,-310.93 104,-304.93 104,-304.93 104,-275.93 104,-275.93 104,-269.93 110,-263.93 116,-263.93 116,-263.93 184,-263.93 184,-263.93 190,-263.93 196,-269.93 196,-275.93 196,-275.93 196,-304.93 196,-304.93 196,-310.93 190,-316.93 184,-316.93\"/>\n<text text-anchor=\"middle\" x=\"150\" y=\"-301.73\" font-family=\"Times New Roman,serif\" font-size=\"14.00\">X</text>\n<text text-anchor=\"middle\" x=\"150\" y=\"-286.73\" font-family=\"Times New Roman,serif\" font-size=\"14.00\">~</text>\n<text text-anchor=\"middle\" x=\"150\" y=\"-271.73\" font-family=\"Times New Roman,serif\" font-size=\"14.00\">ConstantData</text>\n</g>\n<!-- X&#45;&gt;mu -->\n<g id=\"edge3\" class=\"edge\"><title>X&#45;&gt;mu</title>\n<path fill=\"none\" stroke=\"black\" d=\"M163.752,-263.749C173.229,-248.806 187.299,-231.154 205,-221.953 240.717,-203.389 501.24,-193.472 616.453,-189.954\"/>\n<polygon fill=\"black\" stroke=\"black\" points=\"616.587,-193.452 626.478,-189.653 616.377,-186.455 616.587,-193.452\"/>\n</g>\n<!-- alpha -->\n<g id=\"node6\" class=\"node\"><title>alpha</title>\n<ellipse fill=\"none\" stroke=\"black\" cx=\"306\" cy=\"-401.383\" rx=\"32.5538\" ry=\"37.4533\"/>\n<text text-anchor=\"middle\" x=\"306\" y=\"-412.683\" font-family=\"Times New Roman,serif\" font-size=\"14.00\">alpha</text>\n<text text-anchor=\"middle\" x=\"306\" y=\"-397.683\" font-family=\"Times New Roman,serif\" font-size=\"14.00\">~</text>\n<text text-anchor=\"middle\" x=\"306\" y=\"-382.683\" font-family=\"Times New Roman,serif\" font-size=\"14.00\">Beta</text>\n</g>\n<!-- phi -->\n<g id=\"node9\" class=\"node\"><title>phi</title>\n<ellipse fill=\"none\" stroke=\"black\" cx=\"357\" cy=\"-290.43\" rx=\"32.5538\" ry=\"37.4533\"/>\n<text text-anchor=\"middle\" x=\"357\" y=\"-301.73\" font-family=\"Times New Roman,serif\" font-size=\"14.00\">phi</text>\n<text text-anchor=\"middle\" x=\"357\" y=\"-286.73\" font-family=\"Times New Roman,serif\" font-size=\"14.00\">~</text>\n<text text-anchor=\"middle\" x=\"357\" y=\"-271.73\" font-family=\"Times New Roman,serif\" font-size=\"14.00\">CAR</text>\n</g>\n<!-- alpha&#45;&gt;phi -->\n<g id=\"edge1\" class=\"edge\"><title>alpha&#45;&gt;phi</title>\n<path fill=\"none\" stroke=\"black\" d=\"M321.164,-367.989C326.307,-357.001 332.126,-344.57 337.556,-332.97\"/>\n<polygon fill=\"black\" stroke=\"black\" points=\"340.737,-334.429 341.807,-323.888 334.397,-331.461 340.737,-334.429\"/>\n</g>\n<!-- intercept -->\n<g id=\"node7\" class=\"node\"><title>intercept</title>\n<ellipse fill=\"none\" stroke=\"black\" cx=\"260\" cy=\"-290.43\" rx=\"45.9239\" ry=\"37.4533\"/>\n<text text-anchor=\"middle\" x=\"260\" y=\"-301.73\" font-family=\"Times New Roman,serif\" font-size=\"14.00\">intercept</text>\n<text text-anchor=\"middle\" x=\"260\" y=\"-286.73\" font-family=\"Times New Roman,serif\" font-size=\"14.00\">~</text>\n<text text-anchor=\"middle\" x=\"260\" y=\"-271.73\" font-family=\"Times New Roman,serif\" font-size=\"14.00\">Normal</text>\n</g>\n<!-- intercept&#45;&gt;mu -->\n<g id=\"edge8\" class=\"edge\"><title>intercept&#45;&gt;mu</title>\n<path fill=\"none\" stroke=\"black\" d=\"M277.054,-255.595C285.236,-242.896 296.279,-229.679 310,-221.953 361.043,-193.214 528.699,-188.556 616.413,-188.155\"/>\n<polygon fill=\"black\" stroke=\"black\" points=\"616.453,-191.655 626.443,-188.126 616.433,-184.655 616.453,-191.655\"/>\n</g>\n<!-- sigma_phi -->\n<g id=\"node8\" class=\"node\"><title>sigma_phi</title>\n<ellipse fill=\"none\" stroke=\"black\" cx=\"409\" cy=\"-401.383\" rx=\"52.1524\" ry=\"37.4533\"/>\n<text text-anchor=\"middle\" x=\"409\" y=\"-412.683\" font-family=\"Times New Roman,serif\" font-size=\"14.00\">sigma_phi</text>\n<text text-anchor=\"middle\" x=\"409\" y=\"-397.683\" font-family=\"Times New Roman,serif\" font-size=\"14.00\">~</text>\n<text text-anchor=\"middle\" x=\"409\" y=\"-382.683\" font-family=\"Times New Roman,serif\" font-size=\"14.00\">Uniform</text>\n</g>\n<!-- sigma_phi&#45;&gt;phi -->\n<g id=\"edge2\" class=\"edge\"><title>sigma_phi&#45;&gt;phi</title>\n<path fill=\"none\" stroke=\"black\" d=\"M392.404,-365.61C387.438,-355.206 381.944,-343.694 376.794,-332.904\"/>\n<polygon fill=\"black\" stroke=\"black\" points=\"379.846,-331.172 372.38,-323.654 373.528,-334.187 379.846,-331.172\"/>\n</g>\n<!-- phi&#45;&gt;mu -->\n<g id=\"edge6\" class=\"edge\"><title>phi&#45;&gt;mu</title>\n<path fill=\"none\" stroke=\"black\" d=\"M371.356,-256.564C378.66,-243.695 388.822,-230.092 402,-221.953 436.753,-200.489 548.06,-192.731 616.122,-189.96\"/>\n<polygon fill=\"black\" stroke=\"black\" points=\"616.387,-193.453 626.246,-189.572 616.119,-186.458 616.387,-193.453\"/>\n</g>\n<!-- betas -->\n<g id=\"node10\" class=\"node\"><title>betas</title>\n<ellipse fill=\"none\" stroke=\"black\" cx=\"561\" cy=\"-290.43\" rx=\"41.0244\" ry=\"37.4533\"/>\n<text text-anchor=\"middle\" x=\"561\" y=\"-301.73\" font-family=\"Times New Roman,serif\" font-size=\"14.00\">betas</text>\n<text text-anchor=\"middle\" x=\"561\" y=\"-286.73\" font-family=\"Times New Roman,serif\" font-size=\"14.00\">~</text>\n<text text-anchor=\"middle\" x=\"561\" y=\"-271.73\" font-family=\"Times New Roman,serif\" font-size=\"14.00\">Normal</text>\n</g>\n<!-- betas&#45;&gt;mu -->\n<g id=\"edge4\" class=\"edge\"><title>betas&#45;&gt;mu</title>\n<path fill=\"none\" stroke=\"black\" d=\"M582.018,-257.78C590.979,-245.698 602.11,-232.343 614,-221.953 615.307,-220.811 616.659,-219.687 618.046,-218.582\"/>\n<polygon fill=\"black\" stroke=\"black\" points=\"620.333,-221.244 626.297,-212.487 616.174,-215.614 620.333,-221.244\"/>\n</g>\n<!-- y_missing&#45;&gt;y -->\n<g id=\"edge12\" class=\"edge\"><title>y_missing&#45;&gt;y</title>\n<path fill=\"none\" stroke=\"black\" d=\"M861.994,-113.773C868.446,-152.846 878.645,-214.613 885.072,-253.531\"/>\n<polygon fill=\"black\" stroke=\"black\" points=\"881.696,-254.567 886.778,-263.863 888.602,-253.427 881.696,-254.567\"/>\n</g>\n<!-- y_observed&#45;&gt;y -->\n<g id=\"edge11\" class=\"edge\"><title>y_observed&#45;&gt;y</title>\n<path fill=\"none\" stroke=\"black\" d=\"M716.613,-107.128C748.957,-135.429 797.978,-179.874 837,-221.953 846.756,-232.474 856.758,-244.55 865.461,-255.551\"/>\n<polygon fill=\"black\" stroke=\"black\" points=\"862.922,-257.986 871.838,-263.711 868.438,-253.676 862.922,-257.986\"/>\n</g>\n</g>\n</svg>\n",
      "text/plain": [
       "<graphviz.graphs.Digraph at 0x18095cd51b0>"
      ]
     },
     "metadata": {},
     "output_type": "display_data"
    },
    {
     "name": "stdout",
     "output_type": "stream",
     "text": [
      "random_intercept_pooled_covariate_car_model\n"
     ]
    },
    {
     "data": {
      "image/svg+xml": "<?xml version=\"1.0\" encoding=\"UTF-8\" standalone=\"no\"?>\n<!DOCTYPE svg PUBLIC \"-//W3C//DTD SVG 1.1//EN\"\n \"http://www.w3.org/Graphics/SVG/1.1/DTD/svg11.dtd\">\n<!-- Generated by graphviz version 2.38.0 (20140413.2041)\n -->\n<!-- Title: %3 Pages: 1 -->\n<svg width=\"875pt\" height=\"447pt\"\n viewBox=\"0.00 0.00 875.00 446.86\" xmlns=\"http://www.w3.org/2000/svg\" xmlns:xlink=\"http://www.w3.org/1999/xlink\">\n<g id=\"graph0\" class=\"graph\" transform=\"scale(1 1) rotate(0) translate(4 442.86)\">\n<title>%3</title>\n<polygon fill=\"white\" stroke=\"none\" points=\"-4,4 -4,-442.86 871,-442.86 871,4 -4,4\"/>\n<g id=\"clust1\" class=\"cluster\"><title>clusterobs_idx (384)</title>\n<path fill=\"none\" stroke=\"black\" d=\"M545,-129.953C545,-129.953 847,-129.953 847,-129.953 853,-129.953 859,-135.953 859,-141.953 859,-141.953 859,-312.93 859,-312.93 859,-318.93 853,-324.93 847,-324.93 847,-324.93 545,-324.93 545,-324.93 539,-324.93 533,-318.93 533,-312.93 533,-312.93 533,-141.953 533,-141.953 533,-135.953 539,-129.953 545,-129.953\"/>\n<text text-anchor=\"middle\" x=\"811.5\" y=\"-137.753\" font-family=\"Times New Roman,serif\" font-size=\"14.00\">obs_idx (384)</text>\n</g>\n<g id=\"clust6\" class=\"cluster\"><title>cluster211</title>\n<path fill=\"none\" stroke=\"black\" d=\"M723,-8C723,-8 819,-8 819,-8 825,-8 831,-14 831,-20 831,-20 831,-109.953 831,-109.953 831,-115.953 825,-121.953 819,-121.953 819,-121.953 723,-121.953 723,-121.953 717,-121.953 711,-115.953 711,-109.953 711,-109.953 711,-20 711,-20 711,-14 717,-8 723,-8\"/>\n<text text-anchor=\"middle\" x=\"812.5\" y=\"-15.8\" font-family=\"Times New Roman,serif\" font-size=\"14.00\">211</text>\n</g>\n<g id=\"clust7\" class=\"cluster\"><title>cluster173</title>\n<path fill=\"none\" stroke=\"black\" d=\"M542,-8C542,-8 652,-8 652,-8 658,-8 664,-14 664,-20 664,-20 664,-109.953 664,-109.953 664,-115.953 658,-121.953 652,-121.953 652,-121.953 542,-121.953 542,-121.953 536,-121.953 530,-115.953 530,-109.953 530,-109.953 530,-20 530,-20 530,-14 536,-8 542,-8\"/>\n<text text-anchor=\"middle\" x=\"645.5\" y=\"-15.8\" font-family=\"Times New Roman,serif\" font-size=\"14.00\">173</text>\n</g>\n<g id=\"clust3\" class=\"cluster\"><title>clusteradj_idx (96)</title>\n<path fill=\"none\" stroke=\"black\" d=\"M225,-221.953C225,-221.953 285,-221.953 285,-221.953 291,-221.953 297,-227.953 297,-233.953 297,-233.953 297,-323.907 297,-323.907 297,-329.907 291,-335.907 285,-335.907 285,-335.907 225,-335.907 225,-335.907 219,-335.907 213,-329.907 213,-323.907 213,-323.907 213,-233.953 213,-233.953 213,-227.953 219,-221.953 225,-221.953\"/>\n<text text-anchor=\"middle\" x=\"255\" y=\"-229.753\" font-family=\"Times New Roman,serif\" font-size=\"14.00\">adj_idx (96)</text>\n</g>\n<g id=\"clust5\" class=\"cluster\"><title>clusterfeatures_idx (9)</title>\n<path fill=\"none\" stroke=\"black\" d=\"M433,-221.953C433,-221.953 513,-221.953 513,-221.953 519,-221.953 525,-227.953 525,-233.953 525,-233.953 525,-323.907 525,-323.907 525,-329.907 519,-335.907 513,-335.907 513,-335.907 433,-335.907 433,-335.907 427,-335.907 421,-329.907 421,-323.907 421,-323.907 421,-233.953 421,-233.953 421,-227.953 427,-221.953 433,-221.953\"/>\n<text text-anchor=\"middle\" x=\"473\" y=\"-229.753\" font-family=\"Times New Roman,serif\" font-size=\"14.00\">features_idx (9)</text>\n</g>\n<g id=\"clust4\" class=\"cluster\"><title>clusterspecies_idx (4)</title>\n<path fill=\"none\" stroke=\"black\" d=\"M317,-221.953C317,-221.953 401,-221.953 401,-221.953 407,-221.953 413,-227.953 413,-233.953 413,-233.953 413,-323.907 413,-323.907 413,-329.907 407,-335.907 401,-335.907 401,-335.907 317,-335.907 317,-335.907 311,-335.907 305,-329.907 305,-323.907 305,-323.907 305,-233.953 305,-233.953 305,-227.953 311,-221.953 317,-221.953\"/>\n<text text-anchor=\"middle\" x=\"362\" y=\"-229.753\" font-family=\"Times New Roman,serif\" font-size=\"14.00\">species_idx (4)</text>\n</g>\n<g id=\"clust2\" class=\"cluster\"><title>clusterobs_idx (384) x features_idx (9)</title>\n<path fill=\"none\" stroke=\"black\" d=\"M20,-232.93C20,-232.93 193,-232.93 193,-232.93 199,-232.93 205,-238.93 205,-244.93 205,-244.93 205,-312.93 205,-312.93 205,-318.93 199,-324.93 193,-324.93 193,-324.93 20,-324.93 20,-324.93 14,-324.93 8,-318.93 8,-312.93 8,-312.93 8,-244.93 8,-244.93 8,-238.93 14,-232.93 20,-232.93\"/>\n<text text-anchor=\"middle\" x=\"106.5\" y=\"-240.73\" font-family=\"Times New Roman,serif\" font-size=\"14.00\">obs_idx (384) x features_idx (9)</text>\n</g>\n<!-- y -->\n<g id=\"node1\" class=\"node\"><title>y</title>\n<polygon fill=\"none\" stroke=\"black\" points=\"850.5,-316.93 761.5,-316.93 761.5,-263.93 850.5,-263.93 850.5,-316.93\"/>\n<text text-anchor=\"middle\" x=\"806\" y=\"-301.73\" font-family=\"Times New Roman,serif\" font-size=\"14.00\">y</text>\n<text text-anchor=\"middle\" x=\"806\" y=\"-286.73\" font-family=\"Times New Roman,serif\" font-size=\"14.00\">~</text>\n<text text-anchor=\"middle\" x=\"806\" y=\"-271.73\" font-family=\"Times New Roman,serif\" font-size=\"14.00\">Deterministic</text>\n</g>\n<!-- adj_idx -->\n<g id=\"node2\" class=\"node\"><title>adj_idx</title>\n<path fill=\"lightgrey\" stroke=\"black\" d=\"M731,-316.93C731,-316.93 663,-316.93 663,-316.93 657,-316.93 651,-310.93 651,-304.93 651,-304.93 651,-275.93 651,-275.93 651,-269.93 657,-263.93 663,-263.93 663,-263.93 731,-263.93 731,-263.93 737,-263.93 743,-269.93 743,-275.93 743,-275.93 743,-304.93 743,-304.93 743,-310.93 737,-316.93 731,-316.93\"/>\n<text text-anchor=\"middle\" x=\"697\" y=\"-301.73\" font-family=\"Times New Roman,serif\" font-size=\"14.00\">adj_idx</text>\n<text text-anchor=\"middle\" x=\"697\" y=\"-286.73\" font-family=\"Times New Roman,serif\" font-size=\"14.00\">~</text>\n<text text-anchor=\"middle\" x=\"697\" y=\"-271.73\" font-family=\"Times New Roman,serif\" font-size=\"14.00\">ConstantData</text>\n</g>\n<!-- mu -->\n<g id=\"node3\" class=\"node\"><title>mu</title>\n<polygon fill=\"none\" stroke=\"black\" points=\"630.5,-213.953 541.5,-213.953 541.5,-160.953 630.5,-160.953 630.5,-213.953\"/>\n<text text-anchor=\"middle\" x=\"586\" y=\"-198.753\" font-family=\"Times New Roman,serif\" font-size=\"14.00\">mu</text>\n<text text-anchor=\"middle\" x=\"586\" y=\"-183.753\" font-family=\"Times New Roman,serif\" font-size=\"14.00\">~</text>\n<text text-anchor=\"middle\" x=\"586\" y=\"-168.753\" font-family=\"Times New Roman,serif\" font-size=\"14.00\">Deterministic</text>\n</g>\n<!-- adj_idx&#45;&gt;mu -->\n<g id=\"edge7\" class=\"edge\"><title>adj_idx&#45;&gt;mu</title>\n<path fill=\"none\" stroke=\"black\" d=\"M679.518,-263.888C669.522,-250.426 656.175,-234.212 642,-221.953 641.012,-221.099 639.999,-220.253 638.966,-219.418\"/>\n<polygon fill=\"black\" stroke=\"black\" points=\"640.814,-216.429 630.717,-213.222 636.61,-222.026 640.814,-216.429\"/>\n</g>\n<!-- y_missing -->\n<g id=\"node11\" class=\"node\"><title>y_missing</title>\n<ellipse fill=\"none\" stroke=\"black\" cx=\"771\" cy=\"-76.4767\" rx=\"51.7379\" ry=\"37.4533\"/>\n<text text-anchor=\"middle\" x=\"771\" y=\"-87.7767\" font-family=\"Times New Roman,serif\" font-size=\"14.00\">y_missing</text>\n<text text-anchor=\"middle\" x=\"771\" y=\"-72.7767\" font-family=\"Times New Roman,serif\" font-size=\"14.00\">~</text>\n<text text-anchor=\"middle\" x=\"771\" y=\"-57.7767\" font-family=\"Times New Roman,serif\" font-size=\"14.00\">Poisson</text>\n</g>\n<!-- mu&#45;&gt;y_missing -->\n<g id=\"edge9\" class=\"edge\"><title>mu&#45;&gt;y_missing</title>\n<path fill=\"none\" stroke=\"black\" d=\"M629.374,-160.903C657.345,-144.426 693.759,-122.976 722.659,-105.953\"/>\n<polygon fill=\"black\" stroke=\"black\" points=\"724.529,-108.913 731.369,-100.822 720.976,-102.882 724.529,-108.913\"/>\n</g>\n<!-- y_observed -->\n<g id=\"node12\" class=\"node\"><title>y_observed</title>\n<ellipse fill=\"lightgrey\" stroke=\"black\" cx=\"597\" cy=\"-76.4767\" rx=\"58.8803\" ry=\"37.4533\"/>\n<text text-anchor=\"middle\" x=\"597\" y=\"-87.7767\" font-family=\"Times New Roman,serif\" font-size=\"14.00\">y_observed</text>\n<text text-anchor=\"middle\" x=\"597\" y=\"-72.7767\" font-family=\"Times New Roman,serif\" font-size=\"14.00\">~</text>\n<text text-anchor=\"middle\" x=\"597\" y=\"-57.7767\" font-family=\"Times New Roman,serif\" font-size=\"14.00\">Poisson</text>\n</g>\n<!-- mu&#45;&gt;y_observed -->\n<g id=\"edge10\" class=\"edge\"><title>mu&#45;&gt;y_observed</title>\n<path fill=\"none\" stroke=\"black\" d=\"M588.579,-160.903C589.691,-149.883 591.028,-136.638 592.306,-123.981\"/>\n<polygon fill=\"black\" stroke=\"black\" points=\"595.79,-124.31 593.312,-114.009 588.826,-123.607 595.79,-124.31\"/>\n</g>\n<!-- species_idx -->\n<g id=\"node4\" class=\"node\"><title>species_idx</title>\n<path fill=\"lightgrey\" stroke=\"black\" d=\"M621,-316.93C621,-316.93 553,-316.93 553,-316.93 547,-316.93 541,-310.93 541,-304.93 541,-304.93 541,-275.93 541,-275.93 541,-269.93 547,-263.93 553,-263.93 553,-263.93 621,-263.93 621,-263.93 627,-263.93 633,-269.93 633,-275.93 633,-275.93 633,-304.93 633,-304.93 633,-310.93 627,-316.93 621,-316.93\"/>\n<text text-anchor=\"middle\" x=\"587\" y=\"-301.73\" font-family=\"Times New Roman,serif\" font-size=\"14.00\">species_idx</text>\n<text text-anchor=\"middle\" x=\"587\" y=\"-286.73\" font-family=\"Times New Roman,serif\" font-size=\"14.00\">~</text>\n<text text-anchor=\"middle\" x=\"587\" y=\"-271.73\" font-family=\"Times New Roman,serif\" font-size=\"14.00\">ConstantData</text>\n</g>\n<!-- species_idx&#45;&gt;mu -->\n<g id=\"edge5\" class=\"edge\"><title>species_idx&#45;&gt;mu</title>\n<path fill=\"none\" stroke=\"black\" d=\"M586.745,-263.688C586.626,-251.7 586.483,-237.24 586.354,-224.213\"/>\n<polygon fill=\"black\" stroke=\"black\" points=\"589.853,-224.113 586.254,-214.148 582.854,-224.182 589.853,-224.113\"/>\n</g>\n<!-- X -->\n<g id=\"node5\" class=\"node\"><title>X</title>\n<path fill=\"lightgrey\" stroke=\"black\" d=\"M185,-316.93C185,-316.93 117,-316.93 117,-316.93 111,-316.93 105,-310.93 105,-304.93 105,-304.93 105,-275.93 105,-275.93 105,-269.93 111,-263.93 117,-263.93 117,-263.93 185,-263.93 185,-263.93 191,-263.93 197,-269.93 197,-275.93 197,-275.93 197,-304.93 197,-304.93 197,-310.93 191,-316.93 185,-316.93\"/>\n<text text-anchor=\"middle\" x=\"151\" y=\"-301.73\" font-family=\"Times New Roman,serif\" font-size=\"14.00\">X</text>\n<text text-anchor=\"middle\" x=\"151\" y=\"-286.73\" font-family=\"Times New Roman,serif\" font-size=\"14.00\">~</text>\n<text text-anchor=\"middle\" x=\"151\" y=\"-271.73\" font-family=\"Times New Roman,serif\" font-size=\"14.00\">ConstantData</text>\n</g>\n<!-- X&#45;&gt;mu -->\n<g id=\"edge3\" class=\"edge\"><title>X&#45;&gt;mu</title>\n<path fill=\"none\" stroke=\"black\" d=\"M165.876,-263.833C176.01,-248.922 190.864,-231.273 209,-221.953 263.798,-193.793 440.604,-188.913 531.27,-188.317\"/>\n<polygon fill=\"black\" stroke=\"black\" points=\"531.375,-191.817 541.357,-188.266 531.339,-184.817 531.375,-191.817\"/>\n</g>\n<!-- alpha -->\n<g id=\"node6\" class=\"node\"><title>alpha</title>\n<ellipse fill=\"none\" stroke=\"black\" cx=\"205\" cy=\"-401.383\" rx=\"32.5538\" ry=\"37.4533\"/>\n<text text-anchor=\"middle\" x=\"205\" y=\"-412.683\" font-family=\"Times New Roman,serif\" font-size=\"14.00\">alpha</text>\n<text text-anchor=\"middle\" x=\"205\" y=\"-397.683\" font-family=\"Times New Roman,serif\" font-size=\"14.00\">~</text>\n<text text-anchor=\"middle\" x=\"205\" y=\"-382.683\" font-family=\"Times New Roman,serif\" font-size=\"14.00\">Beta</text>\n</g>\n<!-- phi -->\n<g id=\"node8\" class=\"node\"><title>phi</title>\n<ellipse fill=\"none\" stroke=\"black\" cx=\"256\" cy=\"-290.43\" rx=\"32.5538\" ry=\"37.4533\"/>\n<text text-anchor=\"middle\" x=\"256\" y=\"-301.73\" font-family=\"Times New Roman,serif\" font-size=\"14.00\">phi</text>\n<text text-anchor=\"middle\" x=\"256\" y=\"-286.73\" font-family=\"Times New Roman,serif\" font-size=\"14.00\">~</text>\n<text text-anchor=\"middle\" x=\"256\" y=\"-271.73\" font-family=\"Times New Roman,serif\" font-size=\"14.00\">CAR</text>\n</g>\n<!-- alpha&#45;&gt;phi -->\n<g id=\"edge1\" class=\"edge\"><title>alpha&#45;&gt;phi</title>\n<path fill=\"none\" stroke=\"black\" d=\"M220.164,-367.989C225.307,-357.001 231.126,-344.57 236.556,-332.97\"/>\n<polygon fill=\"black\" stroke=\"black\" points=\"239.737,-334.429 240.807,-323.888 233.397,-331.461 239.737,-334.429\"/>\n</g>\n<!-- sigma_phi -->\n<g id=\"node7\" class=\"node\"><title>sigma_phi</title>\n<ellipse fill=\"none\" stroke=\"black\" cx=\"308\" cy=\"-401.383\" rx=\"52.1524\" ry=\"37.4533\"/>\n<text text-anchor=\"middle\" x=\"308\" y=\"-412.683\" font-family=\"Times New Roman,serif\" font-size=\"14.00\">sigma_phi</text>\n<text text-anchor=\"middle\" x=\"308\" y=\"-397.683\" font-family=\"Times New Roman,serif\" font-size=\"14.00\">~</text>\n<text text-anchor=\"middle\" x=\"308\" y=\"-382.683\" font-family=\"Times New Roman,serif\" font-size=\"14.00\">Uniform</text>\n</g>\n<!-- sigma_phi&#45;&gt;phi -->\n<g id=\"edge2\" class=\"edge\"><title>sigma_phi&#45;&gt;phi</title>\n<path fill=\"none\" stroke=\"black\" d=\"M291.404,-365.61C286.438,-355.206 280.944,-343.694 275.794,-332.904\"/>\n<polygon fill=\"black\" stroke=\"black\" points=\"278.846,-331.172 271.38,-323.654 272.528,-334.187 278.846,-331.172\"/>\n</g>\n<!-- phi&#45;&gt;mu -->\n<g id=\"edge6\" class=\"edge\"><title>phi&#45;&gt;mu</title>\n<path fill=\"none\" stroke=\"black\" d=\"M270.329,-256.519C277.628,-243.643 287.794,-230.047 301,-221.953 338.45,-199.002 459.52,-191.774 531.251,-189.499\"/>\n<polygon fill=\"black\" stroke=\"black\" points=\"531.568,-192.991 541.461,-189.198 531.362,-185.994 531.568,-192.991\"/>\n</g>\n<!-- intercept -->\n<g id=\"node9\" class=\"node\"><title>intercept</title>\n<ellipse fill=\"none\" stroke=\"black\" cx=\"359\" cy=\"-290.43\" rx=\"45.9239\" ry=\"37.4533\"/>\n<text text-anchor=\"middle\" x=\"359\" y=\"-301.73\" font-family=\"Times New Roman,serif\" font-size=\"14.00\">intercept</text>\n<text text-anchor=\"middle\" x=\"359\" y=\"-286.73\" font-family=\"Times New Roman,serif\" font-size=\"14.00\">~</text>\n<text text-anchor=\"middle\" x=\"359\" y=\"-271.73\" font-family=\"Times New Roman,serif\" font-size=\"14.00\">Normal</text>\n</g>\n<!-- intercept&#45;&gt;mu -->\n<g id=\"edge8\" class=\"edge\"><title>intercept&#45;&gt;mu</title>\n<path fill=\"none\" stroke=\"black\" d=\"M379.756,-256.979C389.551,-244.18 402.324,-230.518 417,-221.953 451.682,-201.715 496.464,-193.49 531.216,-190.245\"/>\n<polygon fill=\"black\" stroke=\"black\" points=\"531.516,-193.732 541.195,-189.422 530.941,-186.756 531.516,-193.732\"/>\n</g>\n<!-- betas -->\n<g id=\"node10\" class=\"node\"><title>betas</title>\n<ellipse fill=\"none\" stroke=\"black\" cx=\"476\" cy=\"-290.43\" rx=\"41.0244\" ry=\"37.4533\"/>\n<text text-anchor=\"middle\" x=\"476\" y=\"-301.73\" font-family=\"Times New Roman,serif\" font-size=\"14.00\">betas</text>\n<text text-anchor=\"middle\" x=\"476\" y=\"-286.73\" font-family=\"Times New Roman,serif\" font-size=\"14.00\">~</text>\n<text text-anchor=\"middle\" x=\"476\" y=\"-271.73\" font-family=\"Times New Roman,serif\" font-size=\"14.00\">Normal</text>\n</g>\n<!-- betas&#45;&gt;mu -->\n<g id=\"edge4\" class=\"edge\"><title>betas&#45;&gt;mu</title>\n<path fill=\"none\" stroke=\"black\" d=\"M497.018,-257.78C505.979,-245.698 517.11,-232.343 529,-221.953 530.307,-220.811 531.659,-219.687 533.046,-218.582\"/>\n<polygon fill=\"black\" stroke=\"black\" points=\"535.333,-221.244 541.297,-212.487 531.174,-215.614 535.333,-221.244\"/>\n</g>\n<!-- y_missing&#45;&gt;y -->\n<g id=\"edge12\" class=\"edge\"><title>y_missing&#45;&gt;y</title>\n<path fill=\"none\" stroke=\"black\" d=\"M776.994,-113.773C783.446,-152.846 793.645,-214.613 800.072,-253.531\"/>\n<polygon fill=\"black\" stroke=\"black\" points=\"796.696,-254.567 801.778,-263.863 803.602,-253.427 796.696,-254.567\"/>\n</g>\n<!-- y_observed&#45;&gt;y -->\n<g id=\"edge11\" class=\"edge\"><title>y_observed&#45;&gt;y</title>\n<path fill=\"none\" stroke=\"black\" d=\"M631.613,-107.128C663.957,-135.429 712.978,-179.874 752,-221.953 761.756,-232.474 771.758,-244.55 780.461,-255.551\"/>\n<polygon fill=\"black\" stroke=\"black\" points=\"777.922,-257.986 786.838,-263.711 783.438,-253.676 777.922,-257.986\"/>\n</g>\n</g>\n</svg>\n",
      "text/plain": [
       "<graphviz.graphs.Digraph at 0x18095d57a00>"
      ]
     },
     "metadata": {},
     "output_type": "display_data"
    }
   ],
   "source": [
    "from birdcall_distribution import model\n",
    "import pymc as pm\n",
    "import arviz as az\n",
    "\n",
    "# display function\n",
    "from IPython.display import display\n",
    "\n",
    "models = {\n",
    "    \"random_intercept_model\": model.make_random_intercept_model,\n",
    "    \"pooled_intercept_pooled_covariate_model\": model.make_pooled_intercept_pooled_covariate_model,\n",
    "    \"pooled_intercept_random_covariate_model\": model.make_pooled_intercept_random_covariate_model,\n",
    "    \"random_intercept_pooled_covariate_model\": model.make_random_intercept_pooled_covariate_model,\n",
    "    \"random_intercept_random_covariate_model\": model.make_random_intercept_random_covariate_model,\n",
    "    \"random_intercept_car_model\": model.make_random_intercept_car_model,\n",
    "    \"pooled_intercept_car_model\": model.make_pooled_intercept_car_model,\n",
    "    \"pooled_intercept_random_covariate_car_model\": model.make_pooled_intercept_random_covariate_car_model,\n",
    "    \"random_intercept_pooled_covariate_car_model\": model.make_random_intercept_pooled_covariate_car_model,\n",
    "}\n",
    "\n",
    "# test that all the models are dimensionally correct\n",
    "for name, func in models.items():\n",
    "    print(name)\n",
    "    m = func(prep_df, W)\n",
    "    # graphviz\n",
    "    display(pm.model_to_graphviz(m))"
   ]
  },
  {
   "cell_type": "code",
   "execution_count": 5,
   "metadata": {},
   "outputs": [
    {
     "name": "stderr",
     "output_type": "stream",
     "text": [
      "Only 10 samples in chain.\n"
     ]
    },
    {
     "name": "stdout",
     "output_type": "stream",
     "text": [
      "random_intercept_model\n"
     ]
    },
    {
     "name": "stderr",
     "output_type": "stream",
     "text": [
      "Sequential sampling (1 chains in 1 job)\n",
      "CompoundStep\n",
      ">NUTS: [intercept]\n",
      ">Metropolis: [y_missing]\n"
     ]
    },
    {
     "data": {
      "text/html": [
       "\n",
       "<style>\n",
       "    /* Turns off some styling */\n",
       "    progress {\n",
       "        /* gets rid of default border in Firefox and Opera. */\n",
       "        border: none;\n",
       "        /* Needs to be in here for Safari polyfill so background images work as expected. */\n",
       "        background-size: auto;\n",
       "    }\n",
       "    progress:not([value]), progress:not([value])::-webkit-progress-bar {\n",
       "        background: repeating-linear-gradient(45deg, #7e7e7e, #7e7e7e 10px, #5c5c5c 10px, #5c5c5c 20px);\n",
       "    }\n",
       "    .progress-bar-interrupted, .progress-bar-interrupted::-webkit-progress-bar {\n",
       "        background: #F44336;\n",
       "    }\n",
       "</style>\n"
      ],
      "text/plain": [
       "<IPython.core.display.HTML object>"
      ]
     },
     "metadata": {},
     "output_type": "display_data"
    },
    {
     "data": {
      "text/html": [
       "\n",
       "    <div>\n",
       "      <progress value='10' class='' max='10' style='width:300px; height:20px; vertical-align: middle;'></progress>\n",
       "      100.00% [10/10 00:01&lt;00:00 Sampling chain 0, 9 divergences]\n",
       "    </div>\n",
       "    "
      ],
      "text/plain": [
       "<IPython.core.display.HTML object>"
      ]
     },
     "metadata": {},
     "output_type": "display_data"
    },
    {
     "name": "stderr",
     "output_type": "stream",
     "text": [
      "Sampling 1 chain for 0 tune and 10 draw iterations (0 + 10 draws total) took 1 seconds.\n",
      "Only 10 samples in chain.\n"
     ]
    },
    {
     "name": "stdout",
     "output_type": "stream",
     "text": [
      "pooled_intercept_pooled_covariate_model\n"
     ]
    },
    {
     "name": "stderr",
     "output_type": "stream",
     "text": [
      "Sequential sampling (1 chains in 1 job)\n",
      "CompoundStep\n",
      ">NUTS: [intercept, betas]\n",
      ">Metropolis: [y_missing]\n"
     ]
    },
    {
     "data": {
      "text/html": [
       "\n",
       "<style>\n",
       "    /* Turns off some styling */\n",
       "    progress {\n",
       "        /* gets rid of default border in Firefox and Opera. */\n",
       "        border: none;\n",
       "        /* Needs to be in here for Safari polyfill so background images work as expected. */\n",
       "        background-size: auto;\n",
       "    }\n",
       "    progress:not([value]), progress:not([value])::-webkit-progress-bar {\n",
       "        background: repeating-linear-gradient(45deg, #7e7e7e, #7e7e7e 10px, #5c5c5c 10px, #5c5c5c 20px);\n",
       "    }\n",
       "    .progress-bar-interrupted, .progress-bar-interrupted::-webkit-progress-bar {\n",
       "        background: #F44336;\n",
       "    }\n",
       "</style>\n"
      ],
      "text/plain": [
       "<IPython.core.display.HTML object>"
      ]
     },
     "metadata": {},
     "output_type": "display_data"
    },
    {
     "data": {
      "text/html": [
       "\n",
       "    <div>\n",
       "      <progress value='10' class='' max='10' style='width:300px; height:20px; vertical-align: middle;'></progress>\n",
       "      100.00% [10/10 00:00&lt;00:00 Sampling chain 0, 9 divergences]\n",
       "    </div>\n",
       "    "
      ],
      "text/plain": [
       "<IPython.core.display.HTML object>"
      ]
     },
     "metadata": {},
     "output_type": "display_data"
    },
    {
     "name": "stderr",
     "output_type": "stream",
     "text": [
      "Sampling 1 chain for 0 tune and 10 draw iterations (0 + 10 draws total) took 0 seconds.\n"
     ]
    },
    {
     "name": "stdout",
     "output_type": "stream",
     "text": [
      "pooled_intercept_random_covariate_model\n"
     ]
    },
    {
     "name": "stderr",
     "output_type": "stream",
     "text": [
      "Only 10 samples in chain.\n",
      "Sequential sampling (1 chains in 1 job)\n",
      "CompoundStep\n",
      ">NUTS: [intercept, betas]\n",
      ">Metropolis: [y_missing]\n"
     ]
    },
    {
     "data": {
      "text/html": [
       "\n",
       "<style>\n",
       "    /* Turns off some styling */\n",
       "    progress {\n",
       "        /* gets rid of default border in Firefox and Opera. */\n",
       "        border: none;\n",
       "        /* Needs to be in here for Safari polyfill so background images work as expected. */\n",
       "        background-size: auto;\n",
       "    }\n",
       "    progress:not([value]), progress:not([value])::-webkit-progress-bar {\n",
       "        background: repeating-linear-gradient(45deg, #7e7e7e, #7e7e7e 10px, #5c5c5c 10px, #5c5c5c 20px);\n",
       "    }\n",
       "    .progress-bar-interrupted, .progress-bar-interrupted::-webkit-progress-bar {\n",
       "        background: #F44336;\n",
       "    }\n",
       "</style>\n"
      ],
      "text/plain": [
       "<IPython.core.display.HTML object>"
      ]
     },
     "metadata": {},
     "output_type": "display_data"
    },
    {
     "data": {
      "text/html": [
       "\n",
       "    <div>\n",
       "      <progress value='10' class='' max='10' style='width:300px; height:20px; vertical-align: middle;'></progress>\n",
       "      100.00% [10/10 00:00&lt;00:00 Sampling chain 0, 9 divergences]\n",
       "    </div>\n",
       "    "
      ],
      "text/plain": [
       "<IPython.core.display.HTML object>"
      ]
     },
     "metadata": {},
     "output_type": "display_data"
    },
    {
     "name": "stderr",
     "output_type": "stream",
     "text": [
      "Sampling 1 chain for 0 tune and 10 draw iterations (0 + 10 draws total) took 0 seconds.\n",
      "Only 10 samples in chain.\n"
     ]
    },
    {
     "name": "stdout",
     "output_type": "stream",
     "text": [
      "random_intercept_pooled_covariate_model\n"
     ]
    },
    {
     "name": "stderr",
     "output_type": "stream",
     "text": [
      "Sequential sampling (1 chains in 1 job)\n",
      "CompoundStep\n",
      ">NUTS: [intercept, betas]\n",
      ">Metropolis: [y_missing]\n"
     ]
    },
    {
     "data": {
      "text/html": [
       "\n",
       "<style>\n",
       "    /* Turns off some styling */\n",
       "    progress {\n",
       "        /* gets rid of default border in Firefox and Opera. */\n",
       "        border: none;\n",
       "        /* Needs to be in here for Safari polyfill so background images work as expected. */\n",
       "        background-size: auto;\n",
       "    }\n",
       "    progress:not([value]), progress:not([value])::-webkit-progress-bar {\n",
       "        background: repeating-linear-gradient(45deg, #7e7e7e, #7e7e7e 10px, #5c5c5c 10px, #5c5c5c 20px);\n",
       "    }\n",
       "    .progress-bar-interrupted, .progress-bar-interrupted::-webkit-progress-bar {\n",
       "        background: #F44336;\n",
       "    }\n",
       "</style>\n"
      ],
      "text/plain": [
       "<IPython.core.display.HTML object>"
      ]
     },
     "metadata": {},
     "output_type": "display_data"
    },
    {
     "data": {
      "text/html": [
       "\n",
       "    <div>\n",
       "      <progress value='10' class='' max='10' style='width:300px; height:20px; vertical-align: middle;'></progress>\n",
       "      100.00% [10/10 00:00&lt;00:00 Sampling chain 0, 9 divergences]\n",
       "    </div>\n",
       "    "
      ],
      "text/plain": [
       "<IPython.core.display.HTML object>"
      ]
     },
     "metadata": {},
     "output_type": "display_data"
    },
    {
     "name": "stderr",
     "output_type": "stream",
     "text": [
      "Sampling 1 chain for 0 tune and 10 draw iterations (0 + 10 draws total) took 0 seconds.\n",
      "Only 10 samples in chain.\n"
     ]
    },
    {
     "name": "stdout",
     "output_type": "stream",
     "text": [
      "random_intercept_random_covariate_model\n"
     ]
    },
    {
     "name": "stderr",
     "output_type": "stream",
     "text": [
      "Sequential sampling (1 chains in 1 job)\n",
      "CompoundStep\n",
      ">NUTS: [intercept, betas]\n",
      ">Metropolis: [y_missing]\n"
     ]
    },
    {
     "data": {
      "text/html": [
       "\n",
       "<style>\n",
       "    /* Turns off some styling */\n",
       "    progress {\n",
       "        /* gets rid of default border in Firefox and Opera. */\n",
       "        border: none;\n",
       "        /* Needs to be in here for Safari polyfill so background images work as expected. */\n",
       "        background-size: auto;\n",
       "    }\n",
       "    progress:not([value]), progress:not([value])::-webkit-progress-bar {\n",
       "        background: repeating-linear-gradient(45deg, #7e7e7e, #7e7e7e 10px, #5c5c5c 10px, #5c5c5c 20px);\n",
       "    }\n",
       "    .progress-bar-interrupted, .progress-bar-interrupted::-webkit-progress-bar {\n",
       "        background: #F44336;\n",
       "    }\n",
       "</style>\n"
      ],
      "text/plain": [
       "<IPython.core.display.HTML object>"
      ]
     },
     "metadata": {},
     "output_type": "display_data"
    },
    {
     "data": {
      "text/html": [
       "\n",
       "    <div>\n",
       "      <progress value='10' class='' max='10' style='width:300px; height:20px; vertical-align: middle;'></progress>\n",
       "      100.00% [10/10 00:00&lt;00:00 Sampling chain 0, 9 divergences]\n",
       "    </div>\n",
       "    "
      ],
      "text/plain": [
       "<IPython.core.display.HTML object>"
      ]
     },
     "metadata": {},
     "output_type": "display_data"
    },
    {
     "name": "stderr",
     "output_type": "stream",
     "text": [
      "Sampling 1 chain for 0 tune and 10 draw iterations (0 + 10 draws total) took 0 seconds.\n",
      "Only 10 samples in chain.\n"
     ]
    },
    {
     "name": "stdout",
     "output_type": "stream",
     "text": [
      "random_intercept_car_model\n"
     ]
    },
    {
     "name": "stderr",
     "output_type": "stream",
     "text": [
      "Sequential sampling (1 chains in 1 job)\n",
      "CompoundStep\n",
      ">NUTS: [alpha, sigma_phi, phi, intercept]\n",
      ">Metropolis: [y_missing]\n"
     ]
    },
    {
     "data": {
      "text/html": [
       "\n",
       "<style>\n",
       "    /* Turns off some styling */\n",
       "    progress {\n",
       "        /* gets rid of default border in Firefox and Opera. */\n",
       "        border: none;\n",
       "        /* Needs to be in here for Safari polyfill so background images work as expected. */\n",
       "        background-size: auto;\n",
       "    }\n",
       "    progress:not([value]), progress:not([value])::-webkit-progress-bar {\n",
       "        background: repeating-linear-gradient(45deg, #7e7e7e, #7e7e7e 10px, #5c5c5c 10px, #5c5c5c 20px);\n",
       "    }\n",
       "    .progress-bar-interrupted, .progress-bar-interrupted::-webkit-progress-bar {\n",
       "        background: #F44336;\n",
       "    }\n",
       "</style>\n"
      ],
      "text/plain": [
       "<IPython.core.display.HTML object>"
      ]
     },
     "metadata": {},
     "output_type": "display_data"
    },
    {
     "data": {
      "text/html": [
       "\n",
       "    <div>\n",
       "      <progress value='10' class='' max='10' style='width:300px; height:20px; vertical-align: middle;'></progress>\n",
       "      100.00% [10/10 00:00&lt;00:00 Sampling chain 0, 9 divergences]\n",
       "    </div>\n",
       "    "
      ],
      "text/plain": [
       "<IPython.core.display.HTML object>"
      ]
     },
     "metadata": {},
     "output_type": "display_data"
    },
    {
     "name": "stderr",
     "output_type": "stream",
     "text": [
      "Sampling 1 chain for 0 tune and 10 draw iterations (0 + 10 draws total) took 1 seconds.\n",
      "Only 10 samples in chain.\n"
     ]
    },
    {
     "name": "stdout",
     "output_type": "stream",
     "text": [
      "pooled_intercept_car_model\n"
     ]
    },
    {
     "name": "stderr",
     "output_type": "stream",
     "text": [
      "Sequential sampling (1 chains in 1 job)\n",
      "CompoundStep\n",
      ">NUTS: [alpha, sigma_phi, phi, intercept]\n",
      ">Metropolis: [y_missing]\n"
     ]
    },
    {
     "data": {
      "text/html": [
       "\n",
       "<style>\n",
       "    /* Turns off some styling */\n",
       "    progress {\n",
       "        /* gets rid of default border in Firefox and Opera. */\n",
       "        border: none;\n",
       "        /* Needs to be in here for Safari polyfill so background images work as expected. */\n",
       "        background-size: auto;\n",
       "    }\n",
       "    progress:not([value]), progress:not([value])::-webkit-progress-bar {\n",
       "        background: repeating-linear-gradient(45deg, #7e7e7e, #7e7e7e 10px, #5c5c5c 10px, #5c5c5c 20px);\n",
       "    }\n",
       "    .progress-bar-interrupted, .progress-bar-interrupted::-webkit-progress-bar {\n",
       "        background: #F44336;\n",
       "    }\n",
       "</style>\n"
      ],
      "text/plain": [
       "<IPython.core.display.HTML object>"
      ]
     },
     "metadata": {},
     "output_type": "display_data"
    },
    {
     "data": {
      "text/html": [
       "\n",
       "    <div>\n",
       "      <progress value='10' class='' max='10' style='width:300px; height:20px; vertical-align: middle;'></progress>\n",
       "      100.00% [10/10 00:00&lt;00:00 Sampling chain 0, 9 divergences]\n",
       "    </div>\n",
       "    "
      ],
      "text/plain": [
       "<IPython.core.display.HTML object>"
      ]
     },
     "metadata": {},
     "output_type": "display_data"
    },
    {
     "name": "stderr",
     "output_type": "stream",
     "text": [
      "Sampling 1 chain for 0 tune and 10 draw iterations (0 + 10 draws total) took 0 seconds.\n",
      "Only 10 samples in chain.\n"
     ]
    },
    {
     "name": "stdout",
     "output_type": "stream",
     "text": [
      "pooled_intercept_random_covariate_car_model\n"
     ]
    },
    {
     "name": "stderr",
     "output_type": "stream",
     "text": [
      "Sequential sampling (1 chains in 1 job)\n",
      "CompoundStep\n",
      ">NUTS: [alpha, sigma_phi, phi, intercept, betas]\n",
      ">Metropolis: [y_missing]\n"
     ]
    },
    {
     "data": {
      "text/html": [
       "\n",
       "<style>\n",
       "    /* Turns off some styling */\n",
       "    progress {\n",
       "        /* gets rid of default border in Firefox and Opera. */\n",
       "        border: none;\n",
       "        /* Needs to be in here for Safari polyfill so background images work as expected. */\n",
       "        background-size: auto;\n",
       "    }\n",
       "    progress:not([value]), progress:not([value])::-webkit-progress-bar {\n",
       "        background: repeating-linear-gradient(45deg, #7e7e7e, #7e7e7e 10px, #5c5c5c 10px, #5c5c5c 20px);\n",
       "    }\n",
       "    .progress-bar-interrupted, .progress-bar-interrupted::-webkit-progress-bar {\n",
       "        background: #F44336;\n",
       "    }\n",
       "</style>\n"
      ],
      "text/plain": [
       "<IPython.core.display.HTML object>"
      ]
     },
     "metadata": {},
     "output_type": "display_data"
    },
    {
     "data": {
      "text/html": [
       "\n",
       "    <div>\n",
       "      <progress value='10' class='' max='10' style='width:300px; height:20px; vertical-align: middle;'></progress>\n",
       "      100.00% [10/10 00:00&lt;00:00 Sampling chain 0, 9 divergences]\n",
       "    </div>\n",
       "    "
      ],
      "text/plain": [
       "<IPython.core.display.HTML object>"
      ]
     },
     "metadata": {},
     "output_type": "display_data"
    },
    {
     "name": "stderr",
     "output_type": "stream",
     "text": [
      "Sampling 1 chain for 0 tune and 10 draw iterations (0 + 10 draws total) took 0 seconds.\n",
      "Only 10 samples in chain.\n"
     ]
    },
    {
     "name": "stdout",
     "output_type": "stream",
     "text": [
      "random_intercept_pooled_covariate_car_model\n"
     ]
    },
    {
     "name": "stderr",
     "output_type": "stream",
     "text": [
      "Sequential sampling (1 chains in 1 job)\n",
      "CompoundStep\n",
      ">NUTS: [alpha, sigma_phi, phi, intercept, betas]\n",
      ">Metropolis: [y_missing]\n"
     ]
    },
    {
     "data": {
      "text/html": [
       "\n",
       "<style>\n",
       "    /* Turns off some styling */\n",
       "    progress {\n",
       "        /* gets rid of default border in Firefox and Opera. */\n",
       "        border: none;\n",
       "        /* Needs to be in here for Safari polyfill so background images work as expected. */\n",
       "        background-size: auto;\n",
       "    }\n",
       "    progress:not([value]), progress:not([value])::-webkit-progress-bar {\n",
       "        background: repeating-linear-gradient(45deg, #7e7e7e, #7e7e7e 10px, #5c5c5c 10px, #5c5c5c 20px);\n",
       "    }\n",
       "    .progress-bar-interrupted, .progress-bar-interrupted::-webkit-progress-bar {\n",
       "        background: #F44336;\n",
       "    }\n",
       "</style>\n"
      ],
      "text/plain": [
       "<IPython.core.display.HTML object>"
      ]
     },
     "metadata": {},
     "output_type": "display_data"
    },
    {
     "data": {
      "text/html": [
       "\n",
       "    <div>\n",
       "      <progress value='10' class='' max='10' style='width:300px; height:20px; vertical-align: middle;'></progress>\n",
       "      100.00% [10/10 00:00&lt;00:00 Sampling chain 0, 9 divergences]\n",
       "    </div>\n",
       "    "
      ],
      "text/plain": [
       "<IPython.core.display.HTML object>"
      ]
     },
     "metadata": {},
     "output_type": "display_data"
    },
    {
     "name": "stderr",
     "output_type": "stream",
     "text": [
      "Sampling 1 chain for 0 tune and 10 draw iterations (0 + 10 draws total) took 0 seconds.\n"
     ]
    }
   ],
   "source": [
    "# test that all the models can be sampled correctly\n",
    "for name, func in models.items():\n",
    "    print(name)\n",
    "    model = func(prep_df, W)\n",
    "    with model:\n",
    "        trace = pm.sample(10, tune=0, cores=1, chains=1)"
   ]
  },
  {
   "cell_type": "code",
   "execution_count": 6,
   "metadata": {},
   "outputs": [
    {
     "name": "stdout",
     "output_type": "stream",
     "text": [
      "random_intercept_model\n"
     ]
    },
    {
     "name": "stderr",
     "output_type": "stream",
     "text": [
      "Multiprocess sampling (8 chains in 8 jobs)\n",
      "CompoundStep\n",
      ">NUTS: [intercept]\n",
      ">Metropolis: [y_missing]\n"
     ]
    },
    {
     "data": {
      "text/html": [
       "\n",
       "<style>\n",
       "    /* Turns off some styling */\n",
       "    progress {\n",
       "        /* gets rid of default border in Firefox and Opera. */\n",
       "        border: none;\n",
       "        /* Needs to be in here for Safari polyfill so background images work as expected. */\n",
       "        background-size: auto;\n",
       "    }\n",
       "    progress:not([value]), progress:not([value])::-webkit-progress-bar {\n",
       "        background: repeating-linear-gradient(45deg, #7e7e7e, #7e7e7e 10px, #5c5c5c 10px, #5c5c5c 20px);\n",
       "    }\n",
       "    .progress-bar-interrupted, .progress-bar-interrupted::-webkit-progress-bar {\n",
       "        background: #F44336;\n",
       "    }\n",
       "</style>\n"
      ],
      "text/plain": [
       "<IPython.core.display.HTML object>"
      ]
     },
     "metadata": {},
     "output_type": "display_data"
    },
    {
     "data": {
      "text/html": [
       "\n",
       "    <div>\n",
       "      <progress value='24000' class='' max='24000' style='width:300px; height:20px; vertical-align: middle;'></progress>\n",
       "      100.00% [24000/24000 00:42&lt;00:00 Sampling 8 chains, 0 divergences]\n",
       "    </div>\n",
       "    "
      ],
      "text/plain": [
       "<IPython.core.display.HTML object>"
      ]
     },
     "metadata": {},
     "output_type": "display_data"
    },
    {
     "name": "stderr",
     "output_type": "stream",
     "text": [
      "Sampling 8 chains for 1_000 tune and 2_000 draw iterations (8_000 + 16_000 draws total) took 62 seconds.\n"
     ]
    },
    {
     "name": "stdout",
     "output_type": "stream",
     "text": [
      "pooled_intercept_pooled_covariate_model\n"
     ]
    },
    {
     "name": "stderr",
     "output_type": "stream",
     "text": [
      "Multiprocess sampling (8 chains in 8 jobs)\n",
      "CompoundStep\n",
      ">NUTS: [intercept, betas]\n",
      ">Metropolis: [y_missing]\n"
     ]
    },
    {
     "data": {
      "text/html": [
       "\n",
       "<style>\n",
       "    /* Turns off some styling */\n",
       "    progress {\n",
       "        /* gets rid of default border in Firefox and Opera. */\n",
       "        border: none;\n",
       "        /* Needs to be in here for Safari polyfill so background images work as expected. */\n",
       "        background-size: auto;\n",
       "    }\n",
       "    progress:not([value]), progress:not([value])::-webkit-progress-bar {\n",
       "        background: repeating-linear-gradient(45deg, #7e7e7e, #7e7e7e 10px, #5c5c5c 10px, #5c5c5c 20px);\n",
       "    }\n",
       "    .progress-bar-interrupted, .progress-bar-interrupted::-webkit-progress-bar {\n",
       "        background: #F44336;\n",
       "    }\n",
       "</style>\n"
      ],
      "text/plain": [
       "<IPython.core.display.HTML object>"
      ]
     },
     "metadata": {},
     "output_type": "display_data"
    },
    {
     "data": {
      "text/html": [
       "\n",
       "    <div>\n",
       "      <progress value='24000' class='' max='24000' style='width:300px; height:20px; vertical-align: middle;'></progress>\n",
       "      100.00% [24000/24000 00:52&lt;00:00 Sampling 8 chains, 0 divergences]\n",
       "    </div>\n",
       "    "
      ],
      "text/plain": [
       "<IPython.core.display.HTML object>"
      ]
     },
     "metadata": {},
     "output_type": "display_data"
    },
    {
     "name": "stderr",
     "output_type": "stream",
     "text": [
      "Sampling 8 chains for 1_000 tune and 2_000 draw iterations (8_000 + 16_000 draws total) took 72 seconds.\n"
     ]
    },
    {
     "name": "stdout",
     "output_type": "stream",
     "text": [
      "pooled_intercept_random_covariate_model\n"
     ]
    },
    {
     "name": "stderr",
     "output_type": "stream",
     "text": [
      "Multiprocess sampling (8 chains in 8 jobs)\n",
      "CompoundStep\n",
      ">NUTS: [intercept, betas]\n",
      ">Metropolis: [y_missing]\n"
     ]
    },
    {
     "data": {
      "text/html": [
       "\n",
       "<style>\n",
       "    /* Turns off some styling */\n",
       "    progress {\n",
       "        /* gets rid of default border in Firefox and Opera. */\n",
       "        border: none;\n",
       "        /* Needs to be in here for Safari polyfill so background images work as expected. */\n",
       "        background-size: auto;\n",
       "    }\n",
       "    progress:not([value]), progress:not([value])::-webkit-progress-bar {\n",
       "        background: repeating-linear-gradient(45deg, #7e7e7e, #7e7e7e 10px, #5c5c5c 10px, #5c5c5c 20px);\n",
       "    }\n",
       "    .progress-bar-interrupted, .progress-bar-interrupted::-webkit-progress-bar {\n",
       "        background: #F44336;\n",
       "    }\n",
       "</style>\n"
      ],
      "text/plain": [
       "<IPython.core.display.HTML object>"
      ]
     },
     "metadata": {},
     "output_type": "display_data"
    },
    {
     "data": {
      "text/html": [
       "\n",
       "    <div>\n",
       "      <progress value='24000' class='' max='24000' style='width:300px; height:20px; vertical-align: middle;'></progress>\n",
       "      100.00% [24000/24000 01:04&lt;00:00 Sampling 8 chains, 0 divergences]\n",
       "    </div>\n",
       "    "
      ],
      "text/plain": [
       "<IPython.core.display.HTML object>"
      ]
     },
     "metadata": {},
     "output_type": "display_data"
    },
    {
     "name": "stderr",
     "output_type": "stream",
     "text": [
      "Sampling 8 chains for 1_000 tune and 2_000 draw iterations (8_000 + 16_000 draws total) took 84 seconds.\n"
     ]
    },
    {
     "name": "stdout",
     "output_type": "stream",
     "text": [
      "random_intercept_pooled_covariate_model\n"
     ]
    },
    {
     "name": "stderr",
     "output_type": "stream",
     "text": [
      "Multiprocess sampling (8 chains in 8 jobs)\n",
      "CompoundStep\n",
      ">NUTS: [intercept, betas]\n",
      ">Metropolis: [y_missing]\n"
     ]
    },
    {
     "data": {
      "text/html": [
       "\n",
       "<style>\n",
       "    /* Turns off some styling */\n",
       "    progress {\n",
       "        /* gets rid of default border in Firefox and Opera. */\n",
       "        border: none;\n",
       "        /* Needs to be in here for Safari polyfill so background images work as expected. */\n",
       "        background-size: auto;\n",
       "    }\n",
       "    progress:not([value]), progress:not([value])::-webkit-progress-bar {\n",
       "        background: repeating-linear-gradient(45deg, #7e7e7e, #7e7e7e 10px, #5c5c5c 10px, #5c5c5c 20px);\n",
       "    }\n",
       "    .progress-bar-interrupted, .progress-bar-interrupted::-webkit-progress-bar {\n",
       "        background: #F44336;\n",
       "    }\n",
       "</style>\n"
      ],
      "text/plain": [
       "<IPython.core.display.HTML object>"
      ]
     },
     "metadata": {},
     "output_type": "display_data"
    },
    {
     "data": {
      "text/html": [
       "\n",
       "    <div>\n",
       "      <progress value='24000' class='' max='24000' style='width:300px; height:20px; vertical-align: middle;'></progress>\n",
       "      100.00% [24000/24000 00:53&lt;00:00 Sampling 8 chains, 0 divergences]\n",
       "    </div>\n",
       "    "
      ],
      "text/plain": [
       "<IPython.core.display.HTML object>"
      ]
     },
     "metadata": {},
     "output_type": "display_data"
    },
    {
     "name": "stderr",
     "output_type": "stream",
     "text": [
      "Sampling 8 chains for 1_000 tune and 2_000 draw iterations (8_000 + 16_000 draws total) took 74 seconds.\n"
     ]
    },
    {
     "name": "stdout",
     "output_type": "stream",
     "text": [
      "random_intercept_random_covariate_model\n"
     ]
    },
    {
     "name": "stderr",
     "output_type": "stream",
     "text": [
      "Multiprocess sampling (8 chains in 8 jobs)\n",
      "CompoundStep\n",
      ">NUTS: [intercept, betas]\n",
      ">Metropolis: [y_missing]\n"
     ]
    },
    {
     "data": {
      "text/html": [
       "\n",
       "<style>\n",
       "    /* Turns off some styling */\n",
       "    progress {\n",
       "        /* gets rid of default border in Firefox and Opera. */\n",
       "        border: none;\n",
       "        /* Needs to be in here for Safari polyfill so background images work as expected. */\n",
       "        background-size: auto;\n",
       "    }\n",
       "    progress:not([value]), progress:not([value])::-webkit-progress-bar {\n",
       "        background: repeating-linear-gradient(45deg, #7e7e7e, #7e7e7e 10px, #5c5c5c 10px, #5c5c5c 20px);\n",
       "    }\n",
       "    .progress-bar-interrupted, .progress-bar-interrupted::-webkit-progress-bar {\n",
       "        background: #F44336;\n",
       "    }\n",
       "</style>\n"
      ],
      "text/plain": [
       "<IPython.core.display.HTML object>"
      ]
     },
     "metadata": {},
     "output_type": "display_data"
    },
    {
     "data": {
      "text/html": [
       "\n",
       "    <div>\n",
       "      <progress value='24000' class='' max='24000' style='width:300px; height:20px; vertical-align: middle;'></progress>\n",
       "      100.00% [24000/24000 01:10&lt;00:00 Sampling 8 chains, 0 divergences]\n",
       "    </div>\n",
       "    "
      ],
      "text/plain": [
       "<IPython.core.display.HTML object>"
      ]
     },
     "metadata": {},
     "output_type": "display_data"
    },
    {
     "name": "stderr",
     "output_type": "stream",
     "text": [
      "Sampling 8 chains for 1_000 tune and 2_000 draw iterations (8_000 + 16_000 draws total) took 90 seconds.\n"
     ]
    },
    {
     "name": "stdout",
     "output_type": "stream",
     "text": [
      "random_intercept_car_model\n"
     ]
    },
    {
     "name": "stderr",
     "output_type": "stream",
     "text": [
      "Multiprocess sampling (8 chains in 8 jobs)\n",
      "CompoundStep\n",
      ">NUTS: [alpha, sigma_phi, phi, intercept]\n",
      ">Metropolis: [y_missing]\n"
     ]
    },
    {
     "data": {
      "text/html": [
       "\n",
       "<style>\n",
       "    /* Turns off some styling */\n",
       "    progress {\n",
       "        /* gets rid of default border in Firefox and Opera. */\n",
       "        border: none;\n",
       "        /* Needs to be in here for Safari polyfill so background images work as expected. */\n",
       "        background-size: auto;\n",
       "    }\n",
       "    progress:not([value]), progress:not([value])::-webkit-progress-bar {\n",
       "        background: repeating-linear-gradient(45deg, #7e7e7e, #7e7e7e 10px, #5c5c5c 10px, #5c5c5c 20px);\n",
       "    }\n",
       "    .progress-bar-interrupted, .progress-bar-interrupted::-webkit-progress-bar {\n",
       "        background: #F44336;\n",
       "    }\n",
       "</style>\n"
      ],
      "text/plain": [
       "<IPython.core.display.HTML object>"
      ]
     },
     "metadata": {},
     "output_type": "display_data"
    },
    {
     "data": {
      "text/html": [
       "\n",
       "    <div>\n",
       "      <progress value='24000' class='' max='24000' style='width:300px; height:20px; vertical-align: middle;'></progress>\n",
       "      100.00% [24000/24000 01:31&lt;00:00 Sampling 8 chains, 0 divergences]\n",
       "    </div>\n",
       "    "
      ],
      "text/plain": [
       "<IPython.core.display.HTML object>"
      ]
     },
     "metadata": {},
     "output_type": "display_data"
    },
    {
     "name": "stderr",
     "output_type": "stream",
     "text": [
      "Sampling 8 chains for 1_000 tune and 2_000 draw iterations (8_000 + 16_000 draws total) took 112 seconds.\n"
     ]
    },
    {
     "name": "stdout",
     "output_type": "stream",
     "text": [
      "pooled_intercept_car_model\n"
     ]
    },
    {
     "name": "stderr",
     "output_type": "stream",
     "text": [
      "Multiprocess sampling (8 chains in 8 jobs)\n",
      "CompoundStep\n",
      ">NUTS: [alpha, sigma_phi, phi, intercept]\n",
      ">Metropolis: [y_missing]\n"
     ]
    },
    {
     "data": {
      "text/html": [
       "\n",
       "<style>\n",
       "    /* Turns off some styling */\n",
       "    progress {\n",
       "        /* gets rid of default border in Firefox and Opera. */\n",
       "        border: none;\n",
       "        /* Needs to be in here for Safari polyfill so background images work as expected. */\n",
       "        background-size: auto;\n",
       "    }\n",
       "    progress:not([value]), progress:not([value])::-webkit-progress-bar {\n",
       "        background: repeating-linear-gradient(45deg, #7e7e7e, #7e7e7e 10px, #5c5c5c 10px, #5c5c5c 20px);\n",
       "    }\n",
       "    .progress-bar-interrupted, .progress-bar-interrupted::-webkit-progress-bar {\n",
       "        background: #F44336;\n",
       "    }\n",
       "</style>\n"
      ],
      "text/plain": [
       "<IPython.core.display.HTML object>"
      ]
     },
     "metadata": {},
     "output_type": "display_data"
    },
    {
     "data": {
      "text/html": [
       "\n",
       "    <div>\n",
       "      <progress value='24000' class='' max='24000' style='width:300px; height:20px; vertical-align: middle;'></progress>\n",
       "      100.00% [24000/24000 01:29&lt;00:00 Sampling 8 chains, 2,000 divergences]\n",
       "    </div>\n",
       "    "
      ],
      "text/plain": [
       "<IPython.core.display.HTML object>"
      ]
     },
     "metadata": {},
     "output_type": "display_data"
    },
    {
     "name": "stderr",
     "output_type": "stream",
     "text": [
      "Sampling 8 chains for 1_000 tune and 2_000 draw iterations (8_000 + 16_000 draws total) took 109 seconds.\n"
     ]
    },
    {
     "name": "stdout",
     "output_type": "stream",
     "text": [
      "pooled_intercept_random_covariate_car_model\n"
     ]
    },
    {
     "name": "stderr",
     "output_type": "stream",
     "text": [
      "Multiprocess sampling (8 chains in 8 jobs)\n",
      "CompoundStep\n",
      ">NUTS: [alpha, sigma_phi, phi, intercept, betas]\n",
      ">Metropolis: [y_missing]\n"
     ]
    },
    {
     "data": {
      "text/html": [
       "\n",
       "<style>\n",
       "    /* Turns off some styling */\n",
       "    progress {\n",
       "        /* gets rid of default border in Firefox and Opera. */\n",
       "        border: none;\n",
       "        /* Needs to be in here for Safari polyfill so background images work as expected. */\n",
       "        background-size: auto;\n",
       "    }\n",
       "    progress:not([value]), progress:not([value])::-webkit-progress-bar {\n",
       "        background: repeating-linear-gradient(45deg, #7e7e7e, #7e7e7e 10px, #5c5c5c 10px, #5c5c5c 20px);\n",
       "    }\n",
       "    .progress-bar-interrupted, .progress-bar-interrupted::-webkit-progress-bar {\n",
       "        background: #F44336;\n",
       "    }\n",
       "</style>\n"
      ],
      "text/plain": [
       "<IPython.core.display.HTML object>"
      ]
     },
     "metadata": {},
     "output_type": "display_data"
    },
    {
     "data": {
      "text/html": [
       "\n",
       "    <div>\n",
       "      <progress value='24000' class='' max='24000' style='width:300px; height:20px; vertical-align: middle;'></progress>\n",
       "      100.00% [24000/24000 04:24&lt;00:00 Sampling 8 chains, 0 divergences]\n",
       "    </div>\n",
       "    "
      ],
      "text/plain": [
       "<IPython.core.display.HTML object>"
      ]
     },
     "metadata": {},
     "output_type": "display_data"
    },
    {
     "name": "stderr",
     "output_type": "stream",
     "text": [
      "Sampling 8 chains for 1_000 tune and 2_000 draw iterations (8_000 + 16_000 draws total) took 285 seconds.\n"
     ]
    },
    {
     "name": "stdout",
     "output_type": "stream",
     "text": [
      "random_intercept_pooled_covariate_car_model\n"
     ]
    },
    {
     "name": "stderr",
     "output_type": "stream",
     "text": [
      "Multiprocess sampling (8 chains in 8 jobs)\n",
      "CompoundStep\n",
      ">NUTS: [alpha, sigma_phi, phi, intercept, betas]\n",
      ">Metropolis: [y_missing]\n"
     ]
    },
    {
     "data": {
      "text/html": [
       "\n",
       "<style>\n",
       "    /* Turns off some styling */\n",
       "    progress {\n",
       "        /* gets rid of default border in Firefox and Opera. */\n",
       "        border: none;\n",
       "        /* Needs to be in here for Safari polyfill so background images work as expected. */\n",
       "        background-size: auto;\n",
       "    }\n",
       "    progress:not([value]), progress:not([value])::-webkit-progress-bar {\n",
       "        background: repeating-linear-gradient(45deg, #7e7e7e, #7e7e7e 10px, #5c5c5c 10px, #5c5c5c 20px);\n",
       "    }\n",
       "    .progress-bar-interrupted, .progress-bar-interrupted::-webkit-progress-bar {\n",
       "        background: #F44336;\n",
       "    }\n",
       "</style>\n"
      ],
      "text/plain": [
       "<IPython.core.display.HTML object>"
      ]
     },
     "metadata": {},
     "output_type": "display_data"
    },
    {
     "data": {
      "text/html": [
       "\n",
       "    <div>\n",
       "      <progress value='24000' class='' max='24000' style='width:300px; height:20px; vertical-align: middle;'></progress>\n",
       "      100.00% [24000/24000 04:17&lt;00:00 Sampling 8 chains, 0 divergences]\n",
       "    </div>\n",
       "    "
      ],
      "text/plain": [
       "<IPython.core.display.HTML object>"
      ]
     },
     "metadata": {},
     "output_type": "display_data"
    },
    {
     "name": "stderr",
     "output_type": "stream",
     "text": [
      "Sampling 8 chains for 1_000 tune and 2_000 draw iterations (8_000 + 16_000 draws total) took 279 seconds.\n"
     ]
    }
   ],
   "source": [
    "# now sample everything for real, and store the traces\n",
    "traces = {}\n",
    "for name, func in models.items():\n",
    "    print(name)\n",
    "    model = func(prep_df, W)\n",
    "    with model:\n",
    "        trace = pm.sample(2000, tune=1000, cores=8, target_accept=0.9)\n",
    "    traces[name] = trace"
   ]
  },
  {
   "cell_type": "code",
   "execution_count": 7,
   "metadata": {},
   "outputs": [
    {
     "data": {
      "text/html": [
       "<div>\n",
       "<style scoped>\n",
       "    .dataframe tbody tr th:only-of-type {\n",
       "        vertical-align: middle;\n",
       "    }\n",
       "\n",
       "    .dataframe tbody tr th {\n",
       "        vertical-align: top;\n",
       "    }\n",
       "\n",
       "    .dataframe thead th {\n",
       "        text-align: right;\n",
       "    }\n",
       "</style>\n",
       "<table border=\"1\" class=\"dataframe\">\n",
       "  <thead>\n",
       "    <tr style=\"text-align: right;\">\n",
       "      <th></th>\n",
       "      <th>rank</th>\n",
       "      <th>elpd_waic</th>\n",
       "      <th>p_waic</th>\n",
       "      <th>elpd_diff</th>\n",
       "      <th>weight</th>\n",
       "      <th>se</th>\n",
       "      <th>dse</th>\n",
       "      <th>warning</th>\n",
       "      <th>scale</th>\n",
       "    </tr>\n",
       "  </thead>\n",
       "  <tbody>\n",
       "    <tr>\n",
       "      <th>random_intercept_pooled_covariate_car_model</th>\n",
       "      <td>0</td>\n",
       "      <td>1297.635702</td>\n",
       "      <td>163.208242</td>\n",
       "      <td>0.000000</td>\n",
       "      <td>6.005189e-01</td>\n",
       "      <td>132.444650</td>\n",
       "      <td>0.000000</td>\n",
       "      <td>True</td>\n",
       "      <td>deviance</td>\n",
       "    </tr>\n",
       "    <tr>\n",
       "      <th>random_intercept_car_model</th>\n",
       "      <td>1</td>\n",
       "      <td>1300.686583</td>\n",
       "      <td>164.773519</td>\n",
       "      <td>3.050881</td>\n",
       "      <td>1.501271e-11</td>\n",
       "      <td>131.010701</td>\n",
       "      <td>5.679058</td>\n",
       "      <td>True</td>\n",
       "      <td>deviance</td>\n",
       "    </tr>\n",
       "    <tr>\n",
       "      <th>pooled_intercept_random_covariate_car_model</th>\n",
       "      <td>2</td>\n",
       "      <td>1550.137776</td>\n",
       "      <td>272.287598</td>\n",
       "      <td>252.502074</td>\n",
       "      <td>1.975617e-01</td>\n",
       "      <td>96.598952</td>\n",
       "      <td>150.921437</td>\n",
       "      <td>True</td>\n",
       "      <td>deviance</td>\n",
       "    </tr>\n",
       "    <tr>\n",
       "      <th>random_intercept_random_covariate_model</th>\n",
       "      <td>3</td>\n",
       "      <td>2952.781455</td>\n",
       "      <td>486.518910</td>\n",
       "      <td>1655.145753</td>\n",
       "      <td>3.923182e-02</td>\n",
       "      <td>444.482367</td>\n",
       "      <td>404.624107</td>\n",
       "      <td>True</td>\n",
       "      <td>deviance</td>\n",
       "    </tr>\n",
       "    <tr>\n",
       "      <th>random_intercept_pooled_covariate_model</th>\n",
       "      <td>4</td>\n",
       "      <td>3003.080016</td>\n",
       "      <td>340.527039</td>\n",
       "      <td>1705.444314</td>\n",
       "      <td>1.203979e-01</td>\n",
       "      <td>506.821898</td>\n",
       "      <td>445.010924</td>\n",
       "      <td>True</td>\n",
       "      <td>deviance</td>\n",
       "    </tr>\n",
       "    <tr>\n",
       "      <th>pooled_intercept_random_covariate_model</th>\n",
       "      <td>5</td>\n",
       "      <td>3239.009492</td>\n",
       "      <td>536.666594</td>\n",
       "      <td>1941.373789</td>\n",
       "      <td>3.377973e-11</td>\n",
       "      <td>456.203014</td>\n",
       "      <td>424.667718</td>\n",
       "      <td>True</td>\n",
       "      <td>deviance</td>\n",
       "    </tr>\n",
       "    <tr>\n",
       "      <th>pooled_intercept_car_model</th>\n",
       "      <td>6</td>\n",
       "      <td>3378.051401</td>\n",
       "      <td>625.367452</td>\n",
       "      <td>2080.415698</td>\n",
       "      <td>3.378683e-02</td>\n",
       "      <td>427.214157</td>\n",
       "      <td>414.656605</td>\n",
       "      <td>True</td>\n",
       "      <td>deviance</td>\n",
       "    </tr>\n",
       "    <tr>\n",
       "      <th>random_intercept_model</th>\n",
       "      <td>7</td>\n",
       "      <td>4024.811831</td>\n",
       "      <td>115.916931</td>\n",
       "      <td>2727.176128</td>\n",
       "      <td>4.015298e-03</td>\n",
       "      <td>802.690356</td>\n",
       "      <td>777.345910</td>\n",
       "      <td>True</td>\n",
       "      <td>deviance</td>\n",
       "    </tr>\n",
       "    <tr>\n",
       "      <th>pooled_intercept_pooled_covariate_model</th>\n",
       "      <td>8</td>\n",
       "      <td>4306.350883</td>\n",
       "      <td>443.303711</td>\n",
       "      <td>3008.715180</td>\n",
       "      <td>4.487672e-03</td>\n",
       "      <td>849.145550</td>\n",
       "      <td>822.525691</td>\n",
       "      <td>True</td>\n",
       "      <td>deviance</td>\n",
       "    </tr>\n",
       "  </tbody>\n",
       "</table>\n",
       "</div>"
      ],
      "text/plain": [
       "                                             rank    elpd_waic      p_waic  \\\n",
       "random_intercept_pooled_covariate_car_model     0  1297.635702  163.208242   \n",
       "random_intercept_car_model                      1  1300.686583  164.773519   \n",
       "pooled_intercept_random_covariate_car_model     2  1550.137776  272.287598   \n",
       "random_intercept_random_covariate_model         3  2952.781455  486.518910   \n",
       "random_intercept_pooled_covariate_model         4  3003.080016  340.527039   \n",
       "pooled_intercept_random_covariate_model         5  3239.009492  536.666594   \n",
       "pooled_intercept_car_model                      6  3378.051401  625.367452   \n",
       "random_intercept_model                          7  4024.811831  115.916931   \n",
       "pooled_intercept_pooled_covariate_model         8  4306.350883  443.303711   \n",
       "\n",
       "                                               elpd_diff        weight  \\\n",
       "random_intercept_pooled_covariate_car_model     0.000000  6.005189e-01   \n",
       "random_intercept_car_model                      3.050881  1.501271e-11   \n",
       "pooled_intercept_random_covariate_car_model   252.502074  1.975617e-01   \n",
       "random_intercept_random_covariate_model      1655.145753  3.923182e-02   \n",
       "random_intercept_pooled_covariate_model      1705.444314  1.203979e-01   \n",
       "pooled_intercept_random_covariate_model      1941.373789  3.377973e-11   \n",
       "pooled_intercept_car_model                   2080.415698  3.378683e-02   \n",
       "random_intercept_model                       2727.176128  4.015298e-03   \n",
       "pooled_intercept_pooled_covariate_model      3008.715180  4.487672e-03   \n",
       "\n",
       "                                                     se         dse  warning  \\\n",
       "random_intercept_pooled_covariate_car_model  132.444650    0.000000     True   \n",
       "random_intercept_car_model                   131.010701    5.679058     True   \n",
       "pooled_intercept_random_covariate_car_model   96.598952  150.921437     True   \n",
       "random_intercept_random_covariate_model      444.482367  404.624107     True   \n",
       "random_intercept_pooled_covariate_model      506.821898  445.010924     True   \n",
       "pooled_intercept_random_covariate_model      456.203014  424.667718     True   \n",
       "pooled_intercept_car_model                   427.214157  414.656605     True   \n",
       "random_intercept_model                       802.690356  777.345910     True   \n",
       "pooled_intercept_pooled_covariate_model      849.145550  822.525691     True   \n",
       "\n",
       "                                                scale  \n",
       "random_intercept_pooled_covariate_car_model  deviance  \n",
       "random_intercept_car_model                   deviance  \n",
       "pooled_intercept_random_covariate_car_model  deviance  \n",
       "random_intercept_random_covariate_model      deviance  \n",
       "random_intercept_pooled_covariate_model      deviance  \n",
       "pooled_intercept_random_covariate_model      deviance  \n",
       "pooled_intercept_car_model                   deviance  \n",
       "random_intercept_model                       deviance  \n",
       "pooled_intercept_pooled_covariate_model      deviance  "
      ]
     },
     "execution_count": 7,
     "metadata": {},
     "output_type": "execute_result"
    }
   ],
   "source": [
    "ranking = az.compare(traces, ic=\"waic\", scale=\"deviance\")\n",
    "ranking"
   ]
  },
  {
   "cell_type": "code",
   "execution_count": 31,
   "metadata": {},
   "outputs": [
    {
     "data": {
      "text/html": [
       "<div>\n",
       "<style scoped>\n",
       "    .dataframe tbody tr th:only-of-type {\n",
       "        vertical-align: middle;\n",
       "    }\n",
       "\n",
       "    .dataframe tbody tr th {\n",
       "        vertical-align: top;\n",
       "    }\n",
       "\n",
       "    .dataframe thead th {\n",
       "        text-align: right;\n",
       "    }\n",
       "</style>\n",
       "<table border=\"1\" class=\"dataframe\">\n",
       "  <thead>\n",
       "    <tr style=\"text-align: right;\">\n",
       "      <th></th>\n",
       "      <th>rank</th>\n",
       "      <th>elpd_waic</th>\n",
       "      <th>p_waic</th>\n",
       "      <th>elpd_diff</th>\n",
       "      <th>se</th>\n",
       "      <th>dse</th>\n",
       "    </tr>\n",
       "  </thead>\n",
       "  <tbody>\n",
       "    <tr>\n",
       "      <th>random_intercept_pooled_covariate_car_model</th>\n",
       "      <td>0</td>\n",
       "      <td>1297.64</td>\n",
       "      <td>163.21</td>\n",
       "      <td>0.00</td>\n",
       "      <td>132.44</td>\n",
       "      <td>0.00</td>\n",
       "    </tr>\n",
       "    <tr>\n",
       "      <th>random_intercept_car_model</th>\n",
       "      <td>1</td>\n",
       "      <td>1300.69</td>\n",
       "      <td>164.77</td>\n",
       "      <td>3.05</td>\n",
       "      <td>131.01</td>\n",
       "      <td>5.68</td>\n",
       "    </tr>\n",
       "    <tr>\n",
       "      <th>pooled_intercept_random_covariate_car_model</th>\n",
       "      <td>2</td>\n",
       "      <td>1550.14</td>\n",
       "      <td>272.29</td>\n",
       "      <td>252.50</td>\n",
       "      <td>96.60</td>\n",
       "      <td>150.92</td>\n",
       "    </tr>\n",
       "    <tr>\n",
       "      <th>random_intercept_random_covariate_model</th>\n",
       "      <td>3</td>\n",
       "      <td>2952.78</td>\n",
       "      <td>486.52</td>\n",
       "      <td>1655.15</td>\n",
       "      <td>444.48</td>\n",
       "      <td>404.62</td>\n",
       "    </tr>\n",
       "    <tr>\n",
       "      <th>random_intercept_pooled_covariate_model</th>\n",
       "      <td>4</td>\n",
       "      <td>3003.08</td>\n",
       "      <td>340.53</td>\n",
       "      <td>1705.44</td>\n",
       "      <td>506.82</td>\n",
       "      <td>445.01</td>\n",
       "    </tr>\n",
       "    <tr>\n",
       "      <th>pooled_intercept_random_covariate_model</th>\n",
       "      <td>5</td>\n",
       "      <td>3239.01</td>\n",
       "      <td>536.67</td>\n",
       "      <td>1941.37</td>\n",
       "      <td>456.20</td>\n",
       "      <td>424.67</td>\n",
       "    </tr>\n",
       "    <tr>\n",
       "      <th>pooled_intercept_car_model</th>\n",
       "      <td>6</td>\n",
       "      <td>3378.05</td>\n",
       "      <td>625.37</td>\n",
       "      <td>2080.42</td>\n",
       "      <td>427.21</td>\n",
       "      <td>414.66</td>\n",
       "    </tr>\n",
       "    <tr>\n",
       "      <th>random_intercept_model</th>\n",
       "      <td>7</td>\n",
       "      <td>4024.81</td>\n",
       "      <td>115.92</td>\n",
       "      <td>2727.18</td>\n",
       "      <td>802.69</td>\n",
       "      <td>777.35</td>\n",
       "    </tr>\n",
       "    <tr>\n",
       "      <th>pooled_intercept_pooled_covariate_model</th>\n",
       "      <td>8</td>\n",
       "      <td>4306.35</td>\n",
       "      <td>443.30</td>\n",
       "      <td>3008.72</td>\n",
       "      <td>849.15</td>\n",
       "      <td>822.53</td>\n",
       "    </tr>\n",
       "  </tbody>\n",
       "</table>\n",
       "</div>"
      ],
      "text/plain": [
       "                                             rank  elpd_waic  p_waic  \\\n",
       "random_intercept_pooled_covariate_car_model     0    1297.64  163.21   \n",
       "random_intercept_car_model                      1    1300.69  164.77   \n",
       "pooled_intercept_random_covariate_car_model     2    1550.14  272.29   \n",
       "random_intercept_random_covariate_model         3    2952.78  486.52   \n",
       "random_intercept_pooled_covariate_model         4    3003.08  340.53   \n",
       "pooled_intercept_random_covariate_model         5    3239.01  536.67   \n",
       "pooled_intercept_car_model                      6    3378.05  625.37   \n",
       "random_intercept_model                          7    4024.81  115.92   \n",
       "pooled_intercept_pooled_covariate_model         8    4306.35  443.30   \n",
       "\n",
       "                                             elpd_diff      se     dse  \n",
       "random_intercept_pooled_covariate_car_model       0.00  132.44    0.00  \n",
       "random_intercept_car_model                        3.05  131.01    5.68  \n",
       "pooled_intercept_random_covariate_car_model     252.50   96.60  150.92  \n",
       "random_intercept_random_covariate_model        1655.15  444.48  404.62  \n",
       "random_intercept_pooled_covariate_model        1705.44  506.82  445.01  \n",
       "pooled_intercept_random_covariate_model        1941.37  456.20  424.67  \n",
       "pooled_intercept_car_model                     2080.42  427.21  414.66  \n",
       "random_intercept_model                         2727.18  802.69  777.35  \n",
       "pooled_intercept_pooled_covariate_model        3008.72  849.15  822.53  "
      ]
     },
     "execution_count": 31,
     "metadata": {},
     "output_type": "execute_result"
    }
   ],
   "source": [
    "formatted = (\n",
    "    ranking.iloc[:, :-2]\n",
    "    .round(2)\n",
    "    .rename(columns={\"index\": \"model name\"})\n",
    "    .drop(columns=[\"weight\"])\n",
    ")\n",
    "formatted"
   ]
  },
  {
   "cell_type": "code",
   "execution_count": 32,
   "metadata": {},
   "outputs": [
    {
     "name": "stdout",
     "output_type": "stream",
     "text": [
      "\\begin{tabular}{lrrrrrr}\n",
      "\\toprule\n",
      "{} &  rank &  elpd\\_waic &  p\\_waic &  elpd\\_diff &      se &     dse \\\\\n",
      "\\midrule\n",
      "random\\_intercept\\_pooled\\_covariate\\_car\\_model &     0 &    1297.64 &  163.21 &       0.00 &  132.44 &    0.00 \\\\\n",
      "random\\_intercept\\_car\\_model                  &     1 &    1300.69 &  164.77 &       3.05 &  131.01 &    5.68 \\\\\n",
      "pooled\\_intercept\\_random\\_covariate\\_car\\_model &     2 &    1550.14 &  272.29 &     252.50 &   96.60 &  150.92 \\\\\n",
      "random\\_intercept\\_random\\_covariate\\_model     &     3 &    2952.78 &  486.52 &    1655.15 &  444.48 &  404.62 \\\\\n",
      "random\\_intercept\\_pooled\\_covariate\\_model     &     4 &    3003.08 &  340.53 &    1705.44 &  506.82 &  445.01 \\\\\n",
      "pooled\\_intercept\\_random\\_covariate\\_model     &     5 &    3239.01 &  536.67 &    1941.37 &  456.20 &  424.67 \\\\\n",
      "pooled\\_intercept\\_car\\_model                  &     6 &    3378.05 &  625.37 &    2080.42 &  427.21 &  414.66 \\\\\n",
      "random\\_intercept\\_model                      &     7 &    4024.81 &  115.92 &    2727.18 &  802.69 &  777.35 \\\\\n",
      "pooled\\_intercept\\_pooled\\_covariate\\_model     &     8 &    4306.35 &  443.30 &    3008.72 &  849.15 &  822.53 \\\\\n",
      "\\bottomrule\n",
      "\\end{tabular}\n",
      "\n"
     ]
    },
    {
     "name": "stderr",
     "output_type": "stream",
     "text": [
      "C:\\Users\\acmiy\\AppData\\Local\\Temp\\ipykernel_47384\\2487536844.py:1: FutureWarning: In future versions `DataFrame.to_latex` is expected to utilise the base implementation of `Styler.to_latex` for formatting and rendering. The arguments signature may therefore change. It is recommended instead to use `DataFrame.style.to_latex` which also contains additional functionality.\n",
      "  print(formatted.to_latex())\n"
     ]
    }
   ],
   "source": [
    "print(formatted.to_latex())"
   ]
  }
 ],
 "metadata": {
  "kernelspec": {
   "display_name": "Python 3.10.5 ('.venv': poetry)",
   "language": "python",
   "name": "python3"
  },
  "language_info": {
   "codemirror_mode": {
    "name": "ipython",
    "version": 3
   },
   "file_extension": ".py",
   "mimetype": "text/x-python",
   "name": "python",
   "nbconvert_exporter": "python",
   "pygments_lexer": "ipython3",
   "version": "3.10.5"
  },
  "orig_nbformat": 4,
  "vscode": {
   "interpreter": {
    "hash": "1e3f4cc7afa41f62524600cad2bf1c6f097926341060aea3d2038353a3356c41"
   }
  }
 },
 "nbformat": 4,
 "nbformat_minor": 2
}
