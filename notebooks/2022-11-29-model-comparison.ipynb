{
 "cells": [
  {
   "cell_type": "code",
   "execution_count": 3,
   "metadata": {},
   "outputs": [
    {
     "name": "stdout",
     "output_type": "stream",
     "text": [
      "The autoreload extension is already loaded. To reload it, use:\n",
      "  %reload_ext autoreload\n"
     ]
    }
   ],
   "source": [
    "%load_ext autoreload\n",
    "%autoreload 2"
   ]
  },
  {
   "cell_type": "code",
   "execution_count": 29,
   "metadata": {},
   "outputs": [],
   "source": [
    "# ignore imputation warnings from pymc\n",
    "# ImputationWarning: Data in y contains missing values and will be automatically imputed from the sampling distribution.\n",
    "import warnings\n",
    "from pymc import ImputationWarning\n",
    "\n",
    "warnings.filterwarnings(\"ignore\", category=ImputationWarning)\n",
    "warnings.filterwarnings(\"ignore\", category=UserWarning)"
   ]
  },
  {
   "cell_type": "code",
   "execution_count": 6,
   "metadata": {},
   "outputs": [
    {
     "data": {
      "text/html": [
       "<div>\n",
       "<style scoped>\n",
       "    .dataframe tbody tr th:only-of-type {\n",
       "        vertical-align: middle;\n",
       "    }\n",
       "\n",
       "    .dataframe tbody tr th {\n",
       "        vertical-align: top;\n",
       "    }\n",
       "\n",
       "    .dataframe thead th {\n",
       "        text-align: right;\n",
       "    }\n",
       "</style>\n",
       "<table border=\"1\" class=\"dataframe\">\n",
       "  <thead>\n",
       "    <tr style=\"text-align: right;\">\n",
       "      <th></th>\n",
       "      <th>primary_label</th>\n",
       "      <th>grid_id</th>\n",
       "      <th>y</th>\n",
       "      <th>region</th>\n",
       "      <th>grid_size</th>\n",
       "      <th>population_density</th>\n",
       "      <th>elevation_p5</th>\n",
       "      <th>elevation_p50</th>\n",
       "      <th>elevation_p95</th>\n",
       "      <th>LST_Day_1km_p5</th>\n",
       "      <th>...</th>\n",
       "      <th>land_cover_08</th>\n",
       "      <th>land_cover_09</th>\n",
       "      <th>land_cover_10</th>\n",
       "      <th>land_cover_11</th>\n",
       "      <th>land_cover_12</th>\n",
       "      <th>land_cover_13</th>\n",
       "      <th>land_cover_14</th>\n",
       "      <th>land_cover_15</th>\n",
       "      <th>land_cover_16</th>\n",
       "      <th>land_cover_17</th>\n",
       "    </tr>\n",
       "    <tr>\n",
       "      <th>adjacency_idx</th>\n",
       "      <th></th>\n",
       "      <th></th>\n",
       "      <th></th>\n",
       "      <th></th>\n",
       "      <th></th>\n",
       "      <th></th>\n",
       "      <th></th>\n",
       "      <th></th>\n",
       "      <th></th>\n",
       "      <th></th>\n",
       "      <th></th>\n",
       "      <th></th>\n",
       "      <th></th>\n",
       "      <th></th>\n",
       "      <th></th>\n",
       "      <th></th>\n",
       "      <th></th>\n",
       "      <th></th>\n",
       "      <th></th>\n",
       "      <th></th>\n",
       "      <th></th>\n",
       "    </tr>\n",
       "  </thead>\n",
       "  <tbody>\n",
       "    <tr>\n",
       "      <th>0</th>\n",
       "      <td>other</td>\n",
       "      <td>-103_37</td>\n",
       "      <td>9.0</td>\n",
       "      <td>western_us</td>\n",
       "      <td>2</td>\n",
       "      <td>59513.489132</td>\n",
       "      <td>917.473286</td>\n",
       "      <td>1113.467367</td>\n",
       "      <td>1389.580957</td>\n",
       "      <td>25.930530</td>\n",
       "      <td>...</td>\n",
       "      <td>0</td>\n",
       "      <td>0</td>\n",
       "      <td>25124</td>\n",
       "      <td>0</td>\n",
       "      <td>13749</td>\n",
       "      <td>9</td>\n",
       "      <td>0</td>\n",
       "      <td>0</td>\n",
       "      <td>10</td>\n",
       "      <td>10</td>\n",
       "    </tr>\n",
       "    <tr>\n",
       "      <th>0</th>\n",
       "      <td>normoc</td>\n",
       "      <td>-103_37</td>\n",
       "      <td>3.0</td>\n",
       "      <td>western_us</td>\n",
       "      <td>2</td>\n",
       "      <td>59513.489132</td>\n",
       "      <td>917.473286</td>\n",
       "      <td>1113.467367</td>\n",
       "      <td>1389.580957</td>\n",
       "      <td>25.930530</td>\n",
       "      <td>...</td>\n",
       "      <td>0</td>\n",
       "      <td>0</td>\n",
       "      <td>25124</td>\n",
       "      <td>0</td>\n",
       "      <td>13749</td>\n",
       "      <td>9</td>\n",
       "      <td>0</td>\n",
       "      <td>0</td>\n",
       "      <td>10</td>\n",
       "      <td>10</td>\n",
       "    </tr>\n",
       "    <tr>\n",
       "      <th>0</th>\n",
       "      <td>wesmea</td>\n",
       "      <td>-103_37</td>\n",
       "      <td>2.0</td>\n",
       "      <td>western_us</td>\n",
       "      <td>2</td>\n",
       "      <td>59513.489132</td>\n",
       "      <td>917.473286</td>\n",
       "      <td>1113.467367</td>\n",
       "      <td>1389.580957</td>\n",
       "      <td>25.930530</td>\n",
       "      <td>...</td>\n",
       "      <td>0</td>\n",
       "      <td>0</td>\n",
       "      <td>25124</td>\n",
       "      <td>0</td>\n",
       "      <td>13749</td>\n",
       "      <td>9</td>\n",
       "      <td>0</td>\n",
       "      <td>0</td>\n",
       "      <td>10</td>\n",
       "      <td>10</td>\n",
       "    </tr>\n",
       "    <tr>\n",
       "      <th>0</th>\n",
       "      <td>houfin</td>\n",
       "      <td>-103_37</td>\n",
       "      <td>NaN</td>\n",
       "      <td>western_us</td>\n",
       "      <td>2</td>\n",
       "      <td>59513.489132</td>\n",
       "      <td>917.473286</td>\n",
       "      <td>1113.467367</td>\n",
       "      <td>1389.580957</td>\n",
       "      <td>25.930530</td>\n",
       "      <td>...</td>\n",
       "      <td>0</td>\n",
       "      <td>0</td>\n",
       "      <td>25124</td>\n",
       "      <td>0</td>\n",
       "      <td>13749</td>\n",
       "      <td>9</td>\n",
       "      <td>0</td>\n",
       "      <td>0</td>\n",
       "      <td>10</td>\n",
       "      <td>10</td>\n",
       "    </tr>\n",
       "    <tr>\n",
       "      <th>1</th>\n",
       "      <td>normoc</td>\n",
       "      <td>-103_39</td>\n",
       "      <td>NaN</td>\n",
       "      <td>western_us</td>\n",
       "      <td>2</td>\n",
       "      <td>72311.465983</td>\n",
       "      <td>933.400010</td>\n",
       "      <td>1109.527419</td>\n",
       "      <td>1373.500000</td>\n",
       "      <td>23.530828</td>\n",
       "      <td>...</td>\n",
       "      <td>0</td>\n",
       "      <td>0</td>\n",
       "      <td>26593</td>\n",
       "      <td>1</td>\n",
       "      <td>11191</td>\n",
       "      <td>14</td>\n",
       "      <td>0</td>\n",
       "      <td>0</td>\n",
       "      <td>5</td>\n",
       "      <td>5</td>\n",
       "    </tr>\n",
       "  </tbody>\n",
       "</table>\n",
       "<p>5 rows × 32 columns</p>\n",
       "</div>"
      ],
      "text/plain": [
       "              primary_label  grid_id    y      region  grid_size  \\\n",
       "adjacency_idx                                                      \n",
       "0                     other  -103_37  9.0  western_us          2   \n",
       "0                    normoc  -103_37  3.0  western_us          2   \n",
       "0                    wesmea  -103_37  2.0  western_us          2   \n",
       "0                    houfin  -103_37  NaN  western_us          2   \n",
       "1                    normoc  -103_39  NaN  western_us          2   \n",
       "\n",
       "               population_density  elevation_p5  elevation_p50  elevation_p95  \\\n",
       "adjacency_idx                                                                   \n",
       "0                    59513.489132    917.473286    1113.467367    1389.580957   \n",
       "0                    59513.489132    917.473286    1113.467367    1389.580957   \n",
       "0                    59513.489132    917.473286    1113.467367    1389.580957   \n",
       "0                    59513.489132    917.473286    1113.467367    1389.580957   \n",
       "1                    72311.465983    933.400010    1109.527419    1373.500000   \n",
       "\n",
       "               LST_Day_1km_p5  ...  land_cover_08  land_cover_09  \\\n",
       "adjacency_idx                  ...                                 \n",
       "0                   25.930530  ...              0              0   \n",
       "0                   25.930530  ...              0              0   \n",
       "0                   25.930530  ...              0              0   \n",
       "0                   25.930530  ...              0              0   \n",
       "1                   23.530828  ...              0              0   \n",
       "\n",
       "               land_cover_10  land_cover_11  land_cover_12  land_cover_13  \\\n",
       "adjacency_idx                                                               \n",
       "0                      25124              0          13749              9   \n",
       "0                      25124              0          13749              9   \n",
       "0                      25124              0          13749              9   \n",
       "0                      25124              0          13749              9   \n",
       "1                      26593              1          11191             14   \n",
       "\n",
       "               land_cover_14  land_cover_15  land_cover_16  land_cover_17  \n",
       "adjacency_idx                                                              \n",
       "0                          0              0             10             10  \n",
       "0                          0              0             10             10  \n",
       "0                          0              0             10             10  \n",
       "0                          0              0             10             10  \n",
       "1                          0              0              5              5  \n",
       "\n",
       "[5 rows x 32 columns]"
      ]
     },
     "execution_count": 6,
     "metadata": {},
     "output_type": "execute_result"
    }
   ],
   "source": [
    "from birdcall_distribution.data import prepare_dataframe\n",
    "\n",
    "prep_df, W = prepare_dataframe(\n",
    "    \"../data/ee_v3_western_us_2.parquet\",\n",
    "    \"../data/raw/birdclef-2022/train_metadata.csv\",\n",
    "    n_species=3,\n",
    ")\n",
    "prep_df.head()"
   ]
  },
  {
   "cell_type": "code",
   "execution_count": 85,
   "metadata": {},
   "outputs": [
    {
     "name": "stdout",
     "output_type": "stream",
     "text": [
      "random_intercept_model\n"
     ]
    },
    {
     "data": {
      "image/svg+xml": "<?xml version=\"1.0\" encoding=\"UTF-8\" standalone=\"no\"?>\n<!DOCTYPE svg PUBLIC \"-//W3C//DTD SVG 1.1//EN\"\n \"http://www.w3.org/Graphics/SVG/1.1/DTD/svg11.dtd\">\n<!-- Generated by graphviz version 7.0.2 (20221119.0110)\n -->\n<!-- Pages: 1 -->\n<svg width=\"385pt\" height=\"352pt\"\n viewBox=\"0.00 0.00 385.00 351.91\" xmlns=\"http://www.w3.org/2000/svg\" xmlns:xlink=\"http://www.w3.org/1999/xlink\">\n<g id=\"graph0\" class=\"graph\" transform=\"scale(1 1) rotate(0) translate(4 347.91)\">\n<polygon fill=\"white\" stroke=\"none\" points=\"-4,4 -4,-347.91 381,-347.91 381,4 -4,4\"/>\n<g id=\"clust1\" class=\"cluster\">\n<title>clusterobs_idx (384)</title>\n<path fill=\"none\" stroke=\"black\" d=\"M51,-129.95C51,-129.95 243,-129.95 243,-129.95 249,-129.95 255,-135.95 255,-141.95 255,-141.95 255,-312.93 255,-312.93 255,-318.93 249,-324.93 243,-324.93 243,-324.93 51,-324.93 51,-324.93 45,-324.93 39,-318.93 39,-312.93 39,-312.93 39,-141.95 39,-141.95 39,-135.95 45,-129.95 51,-129.95\"/>\n<text text-anchor=\"middle\" x=\"209\" y=\"-137.75\" font-family=\"Times,serif\" font-size=\"14.00\">obs_idx (384)</text>\n</g>\n<g id=\"clust2\" class=\"cluster\">\n<title>clusterspecies_idx (4)</title>\n<path fill=\"none\" stroke=\"black\" d=\"M275,-221.95C275,-221.95 357,-221.95 357,-221.95 363,-221.95 369,-227.95 369,-233.95 369,-233.95 369,-323.91 369,-323.91 369,-329.91 363,-335.91 357,-335.91 357,-335.91 275,-335.91 275,-335.91 269,-335.91 263,-329.91 263,-323.91 263,-323.91 263,-233.95 263,-233.95 263,-227.95 269,-221.95 275,-221.95\"/>\n<text text-anchor=\"middle\" x=\"319.5\" y=\"-229.75\" font-family=\"Times,serif\" font-size=\"14.00\">species_idx (4)</text>\n</g>\n<g id=\"clust3\" class=\"cluster\">\n<title>cluster211</title>\n<path fill=\"none\" stroke=\"black\" d=\"M156,-8C156,-8 252,-8 252,-8 258,-8 264,-14 264,-20 264,-20 264,-109.95 264,-109.95 264,-115.95 258,-121.95 252,-121.95 252,-121.95 156,-121.95 156,-121.95 150,-121.95 144,-115.95 144,-109.95 144,-109.95 144,-20 144,-20 144,-14 150,-8 156,-8\"/>\n<text text-anchor=\"middle\" x=\"245.5\" y=\"-15.8\" font-family=\"Times,serif\" font-size=\"14.00\">211</text>\n</g>\n<g id=\"clust4\" class=\"cluster\">\n<title>cluster173</title>\n<path fill=\"none\" stroke=\"black\" d=\"M20,-8C20,-8 124,-8 124,-8 130,-8 136,-14 136,-20 136,-20 136,-109.95 136,-109.95 136,-115.95 130,-121.95 124,-121.95 124,-121.95 20,-121.95 20,-121.95 14,-121.95 8,-115.95 8,-109.95 8,-109.95 8,-20 8,-20 8,-14 14,-8 20,-8\"/>\n<text text-anchor=\"middle\" x=\"117.5\" y=\"-15.8\" font-family=\"Times,serif\" font-size=\"14.00\">173</text>\n</g>\n<!-- mu -->\n<g id=\"node1\" class=\"node\">\n<title>mu</title>\n<polygon fill=\"none\" stroke=\"black\" points=\"246.5,-213.95 155.5,-213.95 155.5,-160.95 246.5,-160.95 246.5,-213.95\"/>\n<text text-anchor=\"middle\" x=\"201\" y=\"-198.75\" font-family=\"Times,serif\" font-size=\"14.00\">mu</text>\n<text text-anchor=\"middle\" x=\"201\" y=\"-183.75\" font-family=\"Times,serif\" font-size=\"14.00\">~</text>\n<text text-anchor=\"middle\" x=\"201\" y=\"-168.75\" font-family=\"Times,serif\" font-size=\"14.00\">Deterministic</text>\n</g>\n<!-- y_missing -->\n<g id=\"node5\" class=\"node\">\n<title>y_missing</title>\n<ellipse fill=\"none\" stroke=\"black\" cx=\"204\" cy=\"-76.48\" rx=\"51.74\" ry=\"37.45\"/>\n<text text-anchor=\"middle\" x=\"204\" y=\"-87.78\" font-family=\"Times,serif\" font-size=\"14.00\">y_missing</text>\n<text text-anchor=\"middle\" x=\"204\" y=\"-72.78\" font-family=\"Times,serif\" font-size=\"14.00\">~</text>\n<text text-anchor=\"middle\" x=\"204\" y=\"-57.78\" font-family=\"Times,serif\" font-size=\"14.00\">Poisson</text>\n</g>\n<!-- mu&#45;&gt;y_missing -->\n<g id=\"edge3\" class=\"edge\">\n<title>mu&#45;&gt;y_missing</title>\n<path fill=\"none\" stroke=\"black\" d=\"M201.71,-160.63C202,-150.13 202.34,-137.66 202.68,-125.6\"/>\n<polygon fill=\"black\" stroke=\"black\" points=\"206.17,-125.86 202.95,-115.77 199.17,-125.67 206.17,-125.86\"/>\n</g>\n<!-- y_observed -->\n<g id=\"node6\" class=\"node\">\n<title>y_observed</title>\n<ellipse fill=\"lightgrey\" stroke=\"black\" cx=\"72\" cy=\"-76.48\" rx=\"55.72\" ry=\"37.45\"/>\n<text text-anchor=\"middle\" x=\"72\" y=\"-87.78\" font-family=\"Times,serif\" font-size=\"14.00\">y_observed</text>\n<text text-anchor=\"middle\" x=\"72\" y=\"-72.78\" font-family=\"Times,serif\" font-size=\"14.00\">~</text>\n<text text-anchor=\"middle\" x=\"72\" y=\"-57.78\" font-family=\"Times,serif\" font-size=\"14.00\">Poisson</text>\n</g>\n<!-- mu&#45;&gt;y_observed -->\n<g id=\"edge4\" class=\"edge\">\n<title>mu&#45;&gt;y_observed</title>\n<path fill=\"none\" stroke=\"black\" d=\"M170.43,-160.63C153.78,-146.56 132.92,-128.94 114.69,-113.54\"/>\n<polygon fill=\"black\" stroke=\"black\" points=\"117.04,-110.94 107.14,-107.16 112.52,-116.29 117.04,-110.94\"/>\n</g>\n<!-- species_idx -->\n<g id=\"node2\" class=\"node\">\n<title>species_idx</title>\n<path fill=\"lightgrey\" stroke=\"black\" d=\"M235,-316.93C235,-316.93 169,-316.93 169,-316.93 163,-316.93 157,-310.93 157,-304.93 157,-304.93 157,-275.93 157,-275.93 157,-269.93 163,-263.93 169,-263.93 169,-263.93 235,-263.93 235,-263.93 241,-263.93 247,-269.93 247,-275.93 247,-275.93 247,-304.93 247,-304.93 247,-310.93 241,-316.93 235,-316.93\"/>\n<text text-anchor=\"middle\" x=\"202\" y=\"-301.73\" font-family=\"Times,serif\" font-size=\"14.00\">species_idx</text>\n<text text-anchor=\"middle\" x=\"202\" y=\"-286.73\" font-family=\"Times,serif\" font-size=\"14.00\">~</text>\n<text text-anchor=\"middle\" x=\"202\" y=\"-271.73\" font-family=\"Times,serif\" font-size=\"14.00\">ConstantData</text>\n</g>\n<!-- species_idx&#45;&gt;mu -->\n<g id=\"edge1\" class=\"edge\">\n<title>species_idx&#45;&gt;mu</title>\n<path fill=\"none\" stroke=\"black\" d=\"M201.75,-263.69C201.63,-252.06 201.49,-238.1 201.37,-225.38\"/>\n<polygon fill=\"black\" stroke=\"black\" points=\"204.87,-225.63 201.27,-215.66 197.87,-225.7 204.87,-225.63\"/>\n</g>\n<!-- y -->\n<g id=\"node3\" class=\"node\">\n<title>y</title>\n<polygon fill=\"none\" stroke=\"black\" points=\"138.5,-316.93 47.5,-316.93 47.5,-263.93 138.5,-263.93 138.5,-316.93\"/>\n<text text-anchor=\"middle\" x=\"93\" y=\"-301.73\" font-family=\"Times,serif\" font-size=\"14.00\">y</text>\n<text text-anchor=\"middle\" x=\"93\" y=\"-286.73\" font-family=\"Times,serif\" font-size=\"14.00\">~</text>\n<text text-anchor=\"middle\" x=\"93\" y=\"-271.73\" font-family=\"Times,serif\" font-size=\"14.00\">Deterministic</text>\n</g>\n<!-- intercept -->\n<g id=\"node4\" class=\"node\">\n<title>intercept</title>\n<ellipse fill=\"none\" stroke=\"black\" cx=\"316\" cy=\"-290.43\" rx=\"45.01\" ry=\"37.45\"/>\n<text text-anchor=\"middle\" x=\"316\" y=\"-301.73\" font-family=\"Times,serif\" font-size=\"14.00\">intercept</text>\n<text text-anchor=\"middle\" x=\"316\" y=\"-286.73\" font-family=\"Times,serif\" font-size=\"14.00\">~</text>\n<text text-anchor=\"middle\" x=\"316\" y=\"-271.73\" font-family=\"Times,serif\" font-size=\"14.00\">Normal</text>\n</g>\n<!-- intercept&#45;&gt;mu -->\n<g id=\"edge2\" class=\"edge\">\n<title>intercept&#45;&gt;mu</title>\n<path fill=\"none\" stroke=\"black\" d=\"M293.07,-257.82C283.38,-245.74 271.47,-232.38 259,-221.95 258.06,-221.17 257.11,-220.39 256.13,-219.63\"/>\n<polygon fill=\"black\" stroke=\"black\" points=\"258.35,-216.91 248.2,-213.86 254.23,-222.57 258.35,-216.91\"/>\n</g>\n<!-- y_missing&#45;&gt;y -->\n<g id=\"edge5\" class=\"edge\">\n<title>y_missing&#45;&gt;y</title>\n<path fill=\"none\" stroke=\"black\" d=\"M169.13,-104.44C161.02,-112 153.01,-120.71 147,-129.95 122.27,-167.99 107.68,-218.52 100.02,-252.42\"/>\n<polygon fill=\"black\" stroke=\"black\" points=\"96.6,-251.67 97.91,-262.18 103.44,-253.15 96.6,-251.67\"/>\n</g>\n<!-- y_observed&#45;&gt;y -->\n<g id=\"edge6\" class=\"edge\">\n<title>y_observed&#45;&gt;y</title>\n<path fill=\"none\" stroke=\"black\" d=\"M75.62,-113.99C79.44,-152.6 85.45,-213.19 89.3,-252.11\"/>\n<polygon fill=\"black\" stroke=\"black\" points=\"85.81,-252.33 90.28,-261.93 92.77,-251.64 85.81,-252.33\"/>\n</g>\n</g>\n</svg>\n",
      "text/plain": [
       "<graphviz.graphs.Digraph at 0x140ea6f80>"
      ]
     },
     "metadata": {},
     "output_type": "display_data"
    },
    {
     "name": "stdout",
     "output_type": "stream",
     "text": [
      "pooled_intercept_pooled_covariate_model\n"
     ]
    },
    {
     "data": {
      "image/svg+xml": "<?xml version=\"1.0\" encoding=\"UTF-8\" standalone=\"no\"?>\n<!DOCTYPE svg PUBLIC \"-//W3C//DTD SVG 1.1//EN\"\n \"http://www.w3.org/Graphics/SVG/1.1/DTD/svg11.dtd\">\n<!-- Generated by graphviz version 7.0.2 (20221119.0110)\n -->\n<!-- Pages: 1 -->\n<svg width=\"428pt\" height=\"360pt\"\n viewBox=\"0.00 0.00 428.00 359.91\" xmlns=\"http://www.w3.org/2000/svg\" xmlns:xlink=\"http://www.w3.org/1999/xlink\">\n<g id=\"graph0\" class=\"graph\" transform=\"scale(1 1) rotate(0) translate(4 355.91)\">\n<polygon fill=\"white\" stroke=\"none\" points=\"-4,4 -4,-355.91 424,-355.91 424,4 -4,4\"/>\n<g id=\"clust1\" class=\"cluster\">\n<title>clusterobs_idx (384) x features_idx (9)</title>\n<path fill=\"none\" stroke=\"black\" d=\"M20,-240.93C20,-240.93 189,-240.93 189,-240.93 195,-240.93 201,-246.93 201,-252.93 201,-252.93 201,-320.93 201,-320.93 201,-326.93 195,-332.93 189,-332.93 189,-332.93 20,-332.93 20,-332.93 14,-332.93 8,-326.93 8,-320.93 8,-320.93 8,-252.93 8,-252.93 8,-246.93 14,-240.93 20,-240.93\"/>\n<text text-anchor=\"middle\" x=\"104.5\" y=\"-248.73\" font-family=\"Times,serif\" font-size=\"14.00\">obs_idx (384) x features_idx (9)</text>\n</g>\n<g id=\"clust2\" class=\"cluster\">\n<title>clusterfeatures_idx (9)</title>\n<path fill=\"none\" stroke=\"black\" d=\"M321,-229.95C321,-229.95 400,-229.95 400,-229.95 406,-229.95 412,-235.95 412,-241.95 412,-241.95 412,-331.91 412,-331.91 412,-337.91 406,-343.91 400,-343.91 400,-343.91 321,-343.91 321,-343.91 315,-343.91 309,-337.91 309,-331.91 309,-331.91 309,-241.95 309,-241.95 309,-235.95 315,-229.95 321,-229.95\"/>\n<text text-anchor=\"middle\" x=\"360.5\" y=\"-237.75\" font-family=\"Times,serif\" font-size=\"14.00\">features_idx (9)</text>\n</g>\n<g id=\"clust3\" class=\"cluster\">\n<title>clusterobs_idx (384)</title>\n<path fill=\"none\" stroke=\"black\" d=\"M104,-129.95C104,-129.95 297,-129.95 297,-129.95 303,-129.95 309,-135.95 309,-141.95 309,-141.95 309,-209.95 309,-209.95 309,-215.95 303,-221.95 297,-221.95 297,-221.95 104,-221.95 104,-221.95 98,-221.95 92,-215.95 92,-209.95 92,-209.95 92,-141.95 92,-141.95 92,-135.95 98,-129.95 104,-129.95\"/>\n<text text-anchor=\"middle\" x=\"263\" y=\"-137.75\" font-family=\"Times,serif\" font-size=\"14.00\">obs_idx (384)</text>\n</g>\n<g id=\"clust4\" class=\"cluster\">\n<title>cluster211</title>\n<path fill=\"none\" stroke=\"black\" d=\"M87,-8C87,-8 183,-8 183,-8 189,-8 195,-14 195,-20 195,-20 195,-109.95 195,-109.95 195,-115.95 189,-121.95 183,-121.95 183,-121.95 87,-121.95 87,-121.95 81,-121.95 75,-115.95 75,-109.95 75,-109.95 75,-20 75,-20 75,-14 81,-8 87,-8\"/>\n<text text-anchor=\"middle\" x=\"176.5\" y=\"-15.8\" font-family=\"Times,serif\" font-size=\"14.00\">211</text>\n</g>\n<g id=\"clust5\" class=\"cluster\">\n<title>cluster173</title>\n<path fill=\"none\" stroke=\"black\" d=\"M215,-8C215,-8 319,-8 319,-8 325,-8 331,-14 331,-20 331,-20 331,-109.95 331,-109.95 331,-115.95 325,-121.95 319,-121.95 319,-121.95 215,-121.95 215,-121.95 209,-121.95 203,-115.95 203,-109.95 203,-109.95 203,-20 203,-20 203,-14 209,-8 215,-8\"/>\n<text text-anchor=\"middle\" x=\"312.5\" y=\"-15.8\" font-family=\"Times,serif\" font-size=\"14.00\">173</text>\n</g>\n<!-- X -->\n<g id=\"node1\" class=\"node\">\n<title>X</title>\n<path fill=\"lightgrey\" stroke=\"black\" d=\"M180,-324.93C180,-324.93 114,-324.93 114,-324.93 108,-324.93 102,-318.93 102,-312.93 102,-312.93 102,-283.93 102,-283.93 102,-277.93 108,-271.93 114,-271.93 114,-271.93 180,-271.93 180,-271.93 186,-271.93 192,-277.93 192,-283.93 192,-283.93 192,-312.93 192,-312.93 192,-318.93 186,-324.93 180,-324.93\"/>\n<text text-anchor=\"middle\" x=\"147\" y=\"-309.73\" font-family=\"Times,serif\" font-size=\"14.00\">X</text>\n<text text-anchor=\"middle\" x=\"147\" y=\"-294.73\" font-family=\"Times,serif\" font-size=\"14.00\">~</text>\n<text text-anchor=\"middle\" x=\"147\" y=\"-279.73\" font-family=\"Times,serif\" font-size=\"14.00\">ConstantData</text>\n</g>\n<!-- mu -->\n<g id=\"node4\" class=\"node\">\n<title>mu</title>\n<polygon fill=\"none\" stroke=\"black\" points=\"300.5,-213.95 209.5,-213.95 209.5,-160.95 300.5,-160.95 300.5,-213.95\"/>\n<text text-anchor=\"middle\" x=\"255\" y=\"-198.75\" font-family=\"Times,serif\" font-size=\"14.00\">mu</text>\n<text text-anchor=\"middle\" x=\"255\" y=\"-183.75\" font-family=\"Times,serif\" font-size=\"14.00\">~</text>\n<text text-anchor=\"middle\" x=\"255\" y=\"-168.75\" font-family=\"Times,serif\" font-size=\"14.00\">Deterministic</text>\n</g>\n<!-- X&#45;&gt;mu -->\n<g id=\"edge1\" class=\"edge\">\n<title>X&#45;&gt;mu</title>\n<path fill=\"none\" stroke=\"black\" d=\"M165.4,-271.53C175.26,-258.43 188.04,-242.66 201,-229.95 203.92,-227.09 207.03,-224.25 210.23,-221.47\"/>\n<polygon fill=\"black\" stroke=\"black\" points=\"212.23,-224.36 217.68,-215.27 207.75,-218.98 212.23,-224.36\"/>\n</g>\n<!-- intercept -->\n<g id=\"node2\" class=\"node\">\n<title>intercept</title>\n<ellipse fill=\"none\" stroke=\"black\" cx=\"255\" cy=\"-298.43\" rx=\"45.01\" ry=\"37.45\"/>\n<text text-anchor=\"middle\" x=\"255\" y=\"-309.73\" font-family=\"Times,serif\" font-size=\"14.00\">intercept</text>\n<text text-anchor=\"middle\" x=\"255\" y=\"-294.73\" font-family=\"Times,serif\" font-size=\"14.00\">~</text>\n<text text-anchor=\"middle\" x=\"255\" y=\"-279.73\" font-family=\"Times,serif\" font-size=\"14.00\">Normal</text>\n</g>\n<!-- intercept&#45;&gt;mu -->\n<g id=\"edge3\" class=\"edge\">\n<title>intercept&#45;&gt;mu</title>\n<path fill=\"none\" stroke=\"black\" d=\"M255,-260.54C255,-249.26 255,-236.86 255,-225.57\"/>\n<polygon fill=\"black\" stroke=\"black\" points=\"258.5,-225.82 255,-215.82 251.5,-225.82 258.5,-225.82\"/>\n</g>\n<!-- betas -->\n<g id=\"node3\" class=\"node\">\n<title>betas</title>\n<ellipse fill=\"none\" stroke=\"black\" cx=\"360\" cy=\"-298.43\" rx=\"41.94\" ry=\"37.45\"/>\n<text text-anchor=\"middle\" x=\"360\" y=\"-309.73\" font-family=\"Times,serif\" font-size=\"14.00\">betas</text>\n<text text-anchor=\"middle\" x=\"360\" y=\"-294.73\" font-family=\"Times,serif\" font-size=\"14.00\">~</text>\n<text text-anchor=\"middle\" x=\"360\" y=\"-279.73\" font-family=\"Times,serif\" font-size=\"14.00\">Normal</text>\n</g>\n<!-- betas&#45;&gt;mu -->\n<g id=\"edge2\" class=\"edge\">\n<title>betas&#45;&gt;mu</title>\n<path fill=\"none\" stroke=\"black\" d=\"M338.79,-265.78C330.19,-253.96 319.76,-240.8 309,-229.95 306.25,-227.18 303.32,-224.44 300.28,-221.76\"/>\n<polygon fill=\"black\" stroke=\"black\" points=\"302.63,-219.15 292.73,-215.38 298.11,-224.5 302.63,-219.15\"/>\n</g>\n<!-- y_missing -->\n<g id=\"node6\" class=\"node\">\n<title>y_missing</title>\n<ellipse fill=\"none\" stroke=\"black\" cx=\"135\" cy=\"-76.48\" rx=\"51.74\" ry=\"37.45\"/>\n<text text-anchor=\"middle\" x=\"135\" y=\"-87.78\" font-family=\"Times,serif\" font-size=\"14.00\">y_missing</text>\n<text text-anchor=\"middle\" x=\"135\" y=\"-72.78\" font-family=\"Times,serif\" font-size=\"14.00\">~</text>\n<text text-anchor=\"middle\" x=\"135\" y=\"-57.78\" font-family=\"Times,serif\" font-size=\"14.00\">Poisson</text>\n</g>\n<!-- mu&#45;&gt;y_missing -->\n<g id=\"edge4\" class=\"edge\">\n<title>mu&#45;&gt;y_missing</title>\n<path fill=\"none\" stroke=\"black\" d=\"M231.78,-160.7C222.5,-150.79 211.52,-139.56 201,-129.95 194.08,-123.64 186.5,-117.21 179.02,-111.1\"/>\n<polygon fill=\"black\" stroke=\"black\" points=\"181.5,-108.6 171.51,-105.07 177.11,-114.06 181.5,-108.6\"/>\n</g>\n<!-- y_observed -->\n<g id=\"node7\" class=\"node\">\n<title>y_observed</title>\n<ellipse fill=\"lightgrey\" stroke=\"black\" cx=\"267\" cy=\"-76.48\" rx=\"55.72\" ry=\"37.45\"/>\n<text text-anchor=\"middle\" x=\"267\" y=\"-87.78\" font-family=\"Times,serif\" font-size=\"14.00\">y_observed</text>\n<text text-anchor=\"middle\" x=\"267\" y=\"-72.78\" font-family=\"Times,serif\" font-size=\"14.00\">~</text>\n<text text-anchor=\"middle\" x=\"267\" y=\"-57.78\" font-family=\"Times,serif\" font-size=\"14.00\">Poisson</text>\n</g>\n<!-- mu&#45;&gt;y_observed -->\n<g id=\"edge5\" class=\"edge\">\n<title>mu&#45;&gt;y_observed</title>\n<path fill=\"none\" stroke=\"black\" d=\"M257.84,-160.63C259,-150.13 260.37,-137.66 261.7,-125.6\"/>\n<polygon fill=\"black\" stroke=\"black\" points=\"265.17,-126.08 262.78,-115.76 258.21,-125.31 265.17,-126.08\"/>\n</g>\n<!-- y -->\n<g id=\"node5\" class=\"node\">\n<title>y</title>\n<polygon fill=\"none\" stroke=\"black\" points=\"191.5,-213.95 100.5,-213.95 100.5,-160.95 191.5,-160.95 191.5,-213.95\"/>\n<text text-anchor=\"middle\" x=\"146\" y=\"-198.75\" font-family=\"Times,serif\" font-size=\"14.00\">y</text>\n<text text-anchor=\"middle\" x=\"146\" y=\"-183.75\" font-family=\"Times,serif\" font-size=\"14.00\">~</text>\n<text text-anchor=\"middle\" x=\"146\" y=\"-168.75\" font-family=\"Times,serif\" font-size=\"14.00\">Deterministic</text>\n</g>\n<!-- y_missing&#45;&gt;y -->\n<g id=\"edge6\" class=\"edge\">\n<title>y_missing&#45;&gt;y</title>\n<path fill=\"none\" stroke=\"black\" d=\"M138.71,-114.25C139.85,-125.55 141.11,-138 142.25,-149.32\"/>\n<polygon fill=\"black\" stroke=\"black\" points=\"138.75,-149.52 143.24,-159.12 145.72,-148.82 138.75,-149.52\"/>\n</g>\n<!-- y_observed&#45;&gt;y -->\n<g id=\"edge7\" class=\"edge\">\n<title>y_observed&#45;&gt;y</title>\n<path fill=\"none\" stroke=\"black\" d=\"M230.69,-104.99C220.85,-112.82 210.34,-121.51 201,-129.95 193.17,-137.03 185.07,-144.98 177.57,-152.62\"/>\n<polygon fill=\"black\" stroke=\"black\" points=\"175.2,-150.03 170.76,-159.65 180.23,-154.9 175.2,-150.03\"/>\n</g>\n</g>\n</svg>\n",
      "text/plain": [
       "<graphviz.graphs.Digraph at 0x148298580>"
      ]
     },
     "metadata": {},
     "output_type": "display_data"
    },
    {
     "name": "stdout",
     "output_type": "stream",
     "text": [
      "pooled_intercept_random_covariate_model\n"
     ]
    },
    {
     "data": {
      "image/svg+xml": "<?xml version=\"1.0\" encoding=\"UTF-8\" standalone=\"no\"?>\n<!DOCTYPE svg PUBLIC \"-//W3C//DTD SVG 1.1//EN\"\n \"http://www.w3.org/Graphics/SVG/1.1/DTD/svg11.dtd\">\n<!-- Generated by graphviz version 7.0.2 (20221119.0110)\n -->\n<!-- Pages: 1 -->\n<svg width=\"775pt\" height=\"352pt\"\n viewBox=\"0.00 0.00 775.00 351.91\" xmlns=\"http://www.w3.org/2000/svg\" xmlns:xlink=\"http://www.w3.org/1999/xlink\">\n<g id=\"graph0\" class=\"graph\" transform=\"scale(1 1) rotate(0) translate(4 347.91)\">\n<polygon fill=\"white\" stroke=\"none\" points=\"-4,4 -4,-347.91 771,-347.91 771,4 -4,4\"/>\n<g id=\"clust1\" class=\"cluster\">\n<title>clusterobs_idx (384)</title>\n<path fill=\"none\" stroke=\"black\" d=\"M528,-129.95C528,-129.95 720,-129.95 720,-129.95 726,-129.95 732,-135.95 732,-141.95 732,-141.95 732,-312.93 732,-312.93 732,-318.93 726,-324.93 720,-324.93 720,-324.93 528,-324.93 528,-324.93 522,-324.93 516,-318.93 516,-312.93 516,-312.93 516,-141.95 516,-141.95 516,-135.95 522,-129.95 528,-129.95\"/>\n<text text-anchor=\"middle\" x=\"686\" y=\"-137.75\" font-family=\"Times,serif\" font-size=\"14.00\">obs_idx (384)</text>\n</g>\n<g id=\"clust2\" class=\"cluster\">\n<title>clusterobs_idx (384) x features_idx (9)</title>\n<path fill=\"none\" stroke=\"black\" d=\"M20,-232.93C20,-232.93 189,-232.93 189,-232.93 195,-232.93 201,-238.93 201,-244.93 201,-244.93 201,-312.93 201,-312.93 201,-318.93 195,-324.93 189,-324.93 189,-324.93 20,-324.93 20,-324.93 14,-324.93 8,-318.93 8,-312.93 8,-312.93 8,-244.93 8,-244.93 8,-238.93 14,-232.93 20,-232.93\"/>\n<text text-anchor=\"middle\" x=\"104.5\" y=\"-240.73\" font-family=\"Times,serif\" font-size=\"14.00\">obs_idx (384) x features_idx (9)</text>\n</g>\n<g id=\"clust3\" class=\"cluster\">\n<title>clusterspecies_idx (4) x features_idx (9)</title>\n<path fill=\"none\" stroke=\"black\" d=\"M320,-221.95C320,-221.95 496,-221.95 496,-221.95 502,-221.95 508,-227.95 508,-233.95 508,-233.95 508,-323.91 508,-323.91 508,-329.91 502,-335.91 496,-335.91 496,-335.91 320,-335.91 320,-335.91 314,-335.91 308,-329.91 308,-323.91 308,-323.91 308,-233.95 308,-233.95 308,-227.95 314,-221.95 320,-221.95\"/>\n<text text-anchor=\"middle\" x=\"408\" y=\"-229.75\" font-family=\"Times,serif\" font-size=\"14.00\">species_idx (4) x features_idx (9)</text>\n</g>\n<g id=\"clust4\" class=\"cluster\">\n<title>cluster211</title>\n<path fill=\"none\" stroke=\"black\" d=\"M651,-8C651,-8 747,-8 747,-8 753,-8 759,-14 759,-20 759,-20 759,-109.95 759,-109.95 759,-115.95 753,-121.95 747,-121.95 747,-121.95 651,-121.95 651,-121.95 645,-121.95 639,-115.95 639,-109.95 639,-109.95 639,-20 639,-20 639,-14 645,-8 651,-8\"/>\n<text text-anchor=\"middle\" x=\"740.5\" y=\"-15.8\" font-family=\"Times,serif\" font-size=\"14.00\">211</text>\n</g>\n<g id=\"clust5\" class=\"cluster\">\n<title>cluster173</title>\n<path fill=\"none\" stroke=\"black\" d=\"M515,-8C515,-8 619,-8 619,-8 625,-8 631,-14 631,-20 631,-20 631,-109.95 631,-109.95 631,-115.95 625,-121.95 619,-121.95 619,-121.95 515,-121.95 515,-121.95 509,-121.95 503,-115.95 503,-109.95 503,-109.95 503,-20 503,-20 503,-14 509,-8 515,-8\"/>\n<text text-anchor=\"middle\" x=\"612.5\" y=\"-15.8\" font-family=\"Times,serif\" font-size=\"14.00\">173</text>\n</g>\n<!-- mu -->\n<g id=\"node1\" class=\"node\">\n<title>mu</title>\n<polygon fill=\"none\" stroke=\"black\" points=\"615.5,-213.95 524.5,-213.95 524.5,-160.95 615.5,-160.95 615.5,-213.95\"/>\n<text text-anchor=\"middle\" x=\"570\" y=\"-198.75\" font-family=\"Times,serif\" font-size=\"14.00\">mu</text>\n<text text-anchor=\"middle\" x=\"570\" y=\"-183.75\" font-family=\"Times,serif\" font-size=\"14.00\">~</text>\n<text text-anchor=\"middle\" x=\"570\" y=\"-168.75\" font-family=\"Times,serif\" font-size=\"14.00\">Deterministic</text>\n</g>\n<!-- y_missing -->\n<g id=\"node7\" class=\"node\">\n<title>y_missing</title>\n<ellipse fill=\"none\" stroke=\"black\" cx=\"699\" cy=\"-76.48\" rx=\"51.74\" ry=\"37.45\"/>\n<text text-anchor=\"middle\" x=\"699\" y=\"-87.78\" font-family=\"Times,serif\" font-size=\"14.00\">y_missing</text>\n<text text-anchor=\"middle\" x=\"699\" y=\"-72.78\" font-family=\"Times,serif\" font-size=\"14.00\">~</text>\n<text text-anchor=\"middle\" x=\"699\" y=\"-57.78\" font-family=\"Times,serif\" font-size=\"14.00\">Poisson</text>\n</g>\n<!-- mu&#45;&gt;y_missing -->\n<g id=\"edge5\" class=\"edge\">\n<title>mu&#45;&gt;y_missing</title>\n<path fill=\"none\" stroke=\"black\" d=\"M600.57,-160.63C617.47,-146.35 638.72,-128.4 657.15,-112.83\"/>\n<polygon fill=\"black\" stroke=\"black\" points=\"659.4,-115.51 664.78,-106.38 654.88,-110.16 659.4,-115.51\"/>\n</g>\n<!-- y_observed -->\n<g id=\"node8\" class=\"node\">\n<title>y_observed</title>\n<ellipse fill=\"lightgrey\" stroke=\"black\" cx=\"567\" cy=\"-76.48\" rx=\"55.72\" ry=\"37.45\"/>\n<text text-anchor=\"middle\" x=\"567\" y=\"-87.78\" font-family=\"Times,serif\" font-size=\"14.00\">y_observed</text>\n<text text-anchor=\"middle\" x=\"567\" y=\"-72.78\" font-family=\"Times,serif\" font-size=\"14.00\">~</text>\n<text text-anchor=\"middle\" x=\"567\" y=\"-57.78\" font-family=\"Times,serif\" font-size=\"14.00\">Poisson</text>\n</g>\n<!-- mu&#45;&gt;y_observed -->\n<g id=\"edge6\" class=\"edge\">\n<title>mu&#45;&gt;y_observed</title>\n<path fill=\"none\" stroke=\"black\" d=\"M569.29,-160.63C569,-150.13 568.66,-137.66 568.32,-125.6\"/>\n<polygon fill=\"black\" stroke=\"black\" points=\"571.83,-125.67 568.05,-115.77 564.83,-125.86 571.83,-125.67\"/>\n</g>\n<!-- species_idx -->\n<g id=\"node2\" class=\"node\">\n<title>species_idx</title>\n<path fill=\"lightgrey\" stroke=\"black\" d=\"M602,-316.93C602,-316.93 536,-316.93 536,-316.93 530,-316.93 524,-310.93 524,-304.93 524,-304.93 524,-275.93 524,-275.93 524,-269.93 530,-263.93 536,-263.93 536,-263.93 602,-263.93 602,-263.93 608,-263.93 614,-269.93 614,-275.93 614,-275.93 614,-304.93 614,-304.93 614,-310.93 608,-316.93 602,-316.93\"/>\n<text text-anchor=\"middle\" x=\"569\" y=\"-301.73\" font-family=\"Times,serif\" font-size=\"14.00\">species_idx</text>\n<text text-anchor=\"middle\" x=\"569\" y=\"-286.73\" font-family=\"Times,serif\" font-size=\"14.00\">~</text>\n<text text-anchor=\"middle\" x=\"569\" y=\"-271.73\" font-family=\"Times,serif\" font-size=\"14.00\">ConstantData</text>\n</g>\n<!-- species_idx&#45;&gt;mu -->\n<g id=\"edge2\" class=\"edge\">\n<title>species_idx&#45;&gt;mu</title>\n<path fill=\"none\" stroke=\"black\" d=\"M569.25,-263.69C569.37,-252.06 569.51,-238.1 569.63,-225.38\"/>\n<polygon fill=\"black\" stroke=\"black\" points=\"573.13,-225.7 569.73,-215.66 566.13,-225.63 573.13,-225.7\"/>\n</g>\n<!-- y -->\n<g id=\"node3\" class=\"node\">\n<title>y</title>\n<polygon fill=\"none\" stroke=\"black\" points=\"723.5,-316.93 632.5,-316.93 632.5,-263.93 723.5,-263.93 723.5,-316.93\"/>\n<text text-anchor=\"middle\" x=\"678\" y=\"-301.73\" font-family=\"Times,serif\" font-size=\"14.00\">y</text>\n<text text-anchor=\"middle\" x=\"678\" y=\"-286.73\" font-family=\"Times,serif\" font-size=\"14.00\">~</text>\n<text text-anchor=\"middle\" x=\"678\" y=\"-271.73\" font-family=\"Times,serif\" font-size=\"14.00\">Deterministic</text>\n</g>\n<!-- X -->\n<g id=\"node4\" class=\"node\">\n<title>X</title>\n<path fill=\"lightgrey\" stroke=\"black\" d=\"M180,-316.93C180,-316.93 114,-316.93 114,-316.93 108,-316.93 102,-310.93 102,-304.93 102,-304.93 102,-275.93 102,-275.93 102,-269.93 108,-263.93 114,-263.93 114,-263.93 180,-263.93 180,-263.93 186,-263.93 192,-269.93 192,-275.93 192,-275.93 192,-304.93 192,-304.93 192,-310.93 186,-316.93 180,-316.93\"/>\n<text text-anchor=\"middle\" x=\"147\" y=\"-301.73\" font-family=\"Times,serif\" font-size=\"14.00\">X</text>\n<text text-anchor=\"middle\" x=\"147\" y=\"-286.73\" font-family=\"Times,serif\" font-size=\"14.00\">~</text>\n<text text-anchor=\"middle\" x=\"147\" y=\"-271.73\" font-family=\"Times,serif\" font-size=\"14.00\">ConstantData</text>\n</g>\n<!-- X&#45;&gt;mu -->\n<g id=\"edge1\" class=\"edge\">\n<title>X&#45;&gt;mu</title>\n<path fill=\"none\" stroke=\"black\" d=\"M160.67,-263.53C169.95,-248.71 183.69,-231.26 201,-221.95 253.45,-193.76 423.02,-188.82 512.88,-188.25\"/>\n<polygon fill=\"black\" stroke=\"black\" points=\"512.73,-191.75 522.71,-188.21 512.7,-184.75 512.73,-191.75\"/>\n</g>\n<!-- intercept -->\n<g id=\"node5\" class=\"node\">\n<title>intercept</title>\n<ellipse fill=\"none\" stroke=\"black\" cx=\"255\" cy=\"-290.43\" rx=\"45.01\" ry=\"37.45\"/>\n<text text-anchor=\"middle\" x=\"255\" y=\"-301.73\" font-family=\"Times,serif\" font-size=\"14.00\">intercept</text>\n<text text-anchor=\"middle\" x=\"255\" y=\"-286.73\" font-family=\"Times,serif\" font-size=\"14.00\">~</text>\n<text text-anchor=\"middle\" x=\"255\" y=\"-271.73\" font-family=\"Times,serif\" font-size=\"14.00\">Normal</text>\n</g>\n<!-- intercept&#45;&gt;mu -->\n<g id=\"edge3\" class=\"edge\">\n<title>intercept&#45;&gt;mu</title>\n<path fill=\"none\" stroke=\"black\" d=\"M271.92,-255.48C279.92,-242.92 290.67,-229.84 304,-221.95 338.28,-201.69 445.56,-193.55 512.95,-190.38\"/>\n<polygon fill=\"black\" stroke=\"black\" points=\"512.87,-193.88 522.71,-189.94 512.56,-186.89 512.87,-193.88\"/>\n</g>\n<!-- betas -->\n<g id=\"node6\" class=\"node\">\n<title>betas</title>\n<ellipse fill=\"none\" stroke=\"black\" cx=\"458\" cy=\"-290.43\" rx=\"41.94\" ry=\"37.45\"/>\n<text text-anchor=\"middle\" x=\"458\" y=\"-301.73\" font-family=\"Times,serif\" font-size=\"14.00\">betas</text>\n<text text-anchor=\"middle\" x=\"458\" y=\"-286.73\" font-family=\"Times,serif\" font-size=\"14.00\">~</text>\n<text text-anchor=\"middle\" x=\"458\" y=\"-271.73\" font-family=\"Times,serif\" font-size=\"14.00\">Normal</text>\n</g>\n<!-- betas&#45;&gt;mu -->\n<g id=\"edge4\" class=\"edge\">\n<title>betas&#45;&gt;mu</title>\n<path fill=\"none\" stroke=\"black\" d=\"M479.47,-257.75C488.61,-245.67 499.94,-232.32 512,-221.95 513.07,-221.04 514.16,-220.13 515.28,-219.24\"/>\n<polygon fill=\"black\" stroke=\"black\" points=\"517.02,-222.3 523.02,-213.56 512.88,-216.66 517.02,-222.3\"/>\n</g>\n<!-- y_missing&#45;&gt;y -->\n<g id=\"edge7\" class=\"edge\">\n<title>y_missing&#45;&gt;y</title>\n<path fill=\"none\" stroke=\"black\" d=\"M695.38,-113.99C691.56,-152.6 685.55,-213.19 681.7,-252.11\"/>\n<polygon fill=\"black\" stroke=\"black\" points=\"678.23,-251.64 680.72,-261.93 685.19,-252.33 678.23,-251.64\"/>\n</g>\n<!-- y_observed&#45;&gt;y -->\n<g id=\"edge8\" class=\"edge\">\n<title>y_observed&#45;&gt;y</title>\n<path fill=\"none\" stroke=\"black\" d=\"M603.43,-105.16C611.37,-112.53 619.14,-120.97 625,-129.95 649.74,-167.88 663.97,-218.43 671.33,-252.36\"/>\n<polygon fill=\"black\" stroke=\"black\" points=\"667.9,-253.06 673.35,-262.14 674.75,-251.64 667.9,-253.06\"/>\n</g>\n</g>\n</svg>\n",
      "text/plain": [
       "<graphviz.graphs.Digraph at 0x1499c02e0>"
      ]
     },
     "metadata": {},
     "output_type": "display_data"
    },
    {
     "name": "stdout",
     "output_type": "stream",
     "text": [
      "random_intercept_pooled_covariate_model\n"
     ]
    },
    {
     "data": {
      "image/svg+xml": "<?xml version=\"1.0\" encoding=\"UTF-8\" standalone=\"no\"?>\n<!DOCTYPE svg PUBLIC \"-//W3C//DTD SVG 1.1//EN\"\n \"http://www.w3.org/Graphics/SVG/1.1/DTD/svg11.dtd\">\n<!-- Generated by graphviz version 7.0.2 (20221119.0110)\n -->\n<!-- Pages: 1 -->\n<svg width=\"693pt\" height=\"352pt\"\n viewBox=\"0.00 0.00 693.00 351.91\" xmlns=\"http://www.w3.org/2000/svg\" xmlns:xlink=\"http://www.w3.org/1999/xlink\">\n<g id=\"graph0\" class=\"graph\" transform=\"scale(1 1) rotate(0) translate(4 347.91)\">\n<polygon fill=\"white\" stroke=\"none\" points=\"-4,4 -4,-347.91 689,-347.91 689,4 -4,4\"/>\n<g id=\"clust1\" class=\"cluster\">\n<title>clusterobs_idx (384)</title>\n<path fill=\"none\" stroke=\"black\" d=\"M446,-129.95C446,-129.95 638,-129.95 638,-129.95 644,-129.95 650,-135.95 650,-141.95 650,-141.95 650,-312.93 650,-312.93 650,-318.93 644,-324.93 638,-324.93 638,-324.93 446,-324.93 446,-324.93 440,-324.93 434,-318.93 434,-312.93 434,-312.93 434,-141.95 434,-141.95 434,-135.95 440,-129.95 446,-129.95\"/>\n<text text-anchor=\"middle\" x=\"604\" y=\"-137.75\" font-family=\"Times,serif\" font-size=\"14.00\">obs_idx (384)</text>\n</g>\n<g id=\"clust2\" class=\"cluster\">\n<title>clusterobs_idx (384) x features_idx (9)</title>\n<path fill=\"none\" stroke=\"black\" d=\"M20,-232.93C20,-232.93 189,-232.93 189,-232.93 195,-232.93 201,-238.93 201,-244.93 201,-244.93 201,-312.93 201,-312.93 201,-318.93 195,-324.93 189,-324.93 189,-324.93 20,-324.93 20,-324.93 14,-324.93 8,-318.93 8,-312.93 8,-312.93 8,-244.93 8,-244.93 8,-238.93 14,-232.93 20,-232.93\"/>\n<text text-anchor=\"middle\" x=\"104.5\" y=\"-240.73\" font-family=\"Times,serif\" font-size=\"14.00\">obs_idx (384) x features_idx (9)</text>\n</g>\n<g id=\"clust3\" class=\"cluster\">\n<title>clusterspecies_idx (4)</title>\n<path fill=\"none\" stroke=\"black\" d=\"M221,-221.95C221,-221.95 303,-221.95 303,-221.95 309,-221.95 315,-227.95 315,-233.95 315,-233.95 315,-323.91 315,-323.91 315,-329.91 309,-335.91 303,-335.91 303,-335.91 221,-335.91 221,-335.91 215,-335.91 209,-329.91 209,-323.91 209,-323.91 209,-233.95 209,-233.95 209,-227.95 215,-221.95 221,-221.95\"/>\n<text text-anchor=\"middle\" x=\"265.5\" y=\"-229.75\" font-family=\"Times,serif\" font-size=\"14.00\">species_idx (4)</text>\n</g>\n<g id=\"clust4\" class=\"cluster\">\n<title>clusterfeatures_idx (9)</title>\n<path fill=\"none\" stroke=\"black\" d=\"M335,-221.95C335,-221.95 414,-221.95 414,-221.95 420,-221.95 426,-227.95 426,-233.95 426,-233.95 426,-323.91 426,-323.91 426,-329.91 420,-335.91 414,-335.91 414,-335.91 335,-335.91 335,-335.91 329,-335.91 323,-329.91 323,-323.91 323,-323.91 323,-233.95 323,-233.95 323,-227.95 329,-221.95 335,-221.95\"/>\n<text text-anchor=\"middle\" x=\"374.5\" y=\"-229.75\" font-family=\"Times,serif\" font-size=\"14.00\">features_idx (9)</text>\n</g>\n<g id=\"clust5\" class=\"cluster\">\n<title>cluster211</title>\n<path fill=\"none\" stroke=\"black\" d=\"M569,-8C569,-8 665,-8 665,-8 671,-8 677,-14 677,-20 677,-20 677,-109.95 677,-109.95 677,-115.95 671,-121.95 665,-121.95 665,-121.95 569,-121.95 569,-121.95 563,-121.95 557,-115.95 557,-109.95 557,-109.95 557,-20 557,-20 557,-14 563,-8 569,-8\"/>\n<text text-anchor=\"middle\" x=\"658.5\" y=\"-15.8\" font-family=\"Times,serif\" font-size=\"14.00\">211</text>\n</g>\n<g id=\"clust6\" class=\"cluster\">\n<title>cluster173</title>\n<path fill=\"none\" stroke=\"black\" d=\"M433,-8C433,-8 537,-8 537,-8 543,-8 549,-14 549,-20 549,-20 549,-109.95 549,-109.95 549,-115.95 543,-121.95 537,-121.95 537,-121.95 433,-121.95 433,-121.95 427,-121.95 421,-115.95 421,-109.95 421,-109.95 421,-20 421,-20 421,-14 427,-8 433,-8\"/>\n<text text-anchor=\"middle\" x=\"530.5\" y=\"-15.8\" font-family=\"Times,serif\" font-size=\"14.00\">173</text>\n</g>\n<!-- mu -->\n<g id=\"node1\" class=\"node\">\n<title>mu</title>\n<polygon fill=\"none\" stroke=\"black\" points=\"533.5,-213.95 442.5,-213.95 442.5,-160.95 533.5,-160.95 533.5,-213.95\"/>\n<text text-anchor=\"middle\" x=\"488\" y=\"-198.75\" font-family=\"Times,serif\" font-size=\"14.00\">mu</text>\n<text text-anchor=\"middle\" x=\"488\" y=\"-183.75\" font-family=\"Times,serif\" font-size=\"14.00\">~</text>\n<text text-anchor=\"middle\" x=\"488\" y=\"-168.75\" font-family=\"Times,serif\" font-size=\"14.00\">Deterministic</text>\n</g>\n<!-- y_missing -->\n<g id=\"node7\" class=\"node\">\n<title>y_missing</title>\n<ellipse fill=\"none\" stroke=\"black\" cx=\"617\" cy=\"-76.48\" rx=\"51.74\" ry=\"37.45\"/>\n<text text-anchor=\"middle\" x=\"617\" y=\"-87.78\" font-family=\"Times,serif\" font-size=\"14.00\">y_missing</text>\n<text text-anchor=\"middle\" x=\"617\" y=\"-72.78\" font-family=\"Times,serif\" font-size=\"14.00\">~</text>\n<text text-anchor=\"middle\" x=\"617\" y=\"-57.78\" font-family=\"Times,serif\" font-size=\"14.00\">Poisson</text>\n</g>\n<!-- mu&#45;&gt;y_missing -->\n<g id=\"edge5\" class=\"edge\">\n<title>mu&#45;&gt;y_missing</title>\n<path fill=\"none\" stroke=\"black\" d=\"M518.57,-160.63C535.47,-146.35 556.72,-128.4 575.15,-112.83\"/>\n<polygon fill=\"black\" stroke=\"black\" points=\"577.4,-115.51 582.78,-106.38 572.88,-110.16 577.4,-115.51\"/>\n</g>\n<!-- y_observed -->\n<g id=\"node8\" class=\"node\">\n<title>y_observed</title>\n<ellipse fill=\"lightgrey\" stroke=\"black\" cx=\"485\" cy=\"-76.48\" rx=\"55.72\" ry=\"37.45\"/>\n<text text-anchor=\"middle\" x=\"485\" y=\"-87.78\" font-family=\"Times,serif\" font-size=\"14.00\">y_observed</text>\n<text text-anchor=\"middle\" x=\"485\" y=\"-72.78\" font-family=\"Times,serif\" font-size=\"14.00\">~</text>\n<text text-anchor=\"middle\" x=\"485\" y=\"-57.78\" font-family=\"Times,serif\" font-size=\"14.00\">Poisson</text>\n</g>\n<!-- mu&#45;&gt;y_observed -->\n<g id=\"edge6\" class=\"edge\">\n<title>mu&#45;&gt;y_observed</title>\n<path fill=\"none\" stroke=\"black\" d=\"M487.29,-160.63C487,-150.13 486.66,-137.66 486.32,-125.6\"/>\n<polygon fill=\"black\" stroke=\"black\" points=\"489.83,-125.67 486.05,-115.77 482.83,-125.86 489.83,-125.67\"/>\n</g>\n<!-- species_idx -->\n<g id=\"node2\" class=\"node\">\n<title>species_idx</title>\n<path fill=\"lightgrey\" stroke=\"black\" d=\"M520,-316.93C520,-316.93 454,-316.93 454,-316.93 448,-316.93 442,-310.93 442,-304.93 442,-304.93 442,-275.93 442,-275.93 442,-269.93 448,-263.93 454,-263.93 454,-263.93 520,-263.93 520,-263.93 526,-263.93 532,-269.93 532,-275.93 532,-275.93 532,-304.93 532,-304.93 532,-310.93 526,-316.93 520,-316.93\"/>\n<text text-anchor=\"middle\" x=\"487\" y=\"-301.73\" font-family=\"Times,serif\" font-size=\"14.00\">species_idx</text>\n<text text-anchor=\"middle\" x=\"487\" y=\"-286.73\" font-family=\"Times,serif\" font-size=\"14.00\">~</text>\n<text text-anchor=\"middle\" x=\"487\" y=\"-271.73\" font-family=\"Times,serif\" font-size=\"14.00\">ConstantData</text>\n</g>\n<!-- species_idx&#45;&gt;mu -->\n<g id=\"edge2\" class=\"edge\">\n<title>species_idx&#45;&gt;mu</title>\n<path fill=\"none\" stroke=\"black\" d=\"M487.25,-263.69C487.37,-252.06 487.51,-238.1 487.63,-225.38\"/>\n<polygon fill=\"black\" stroke=\"black\" points=\"491.13,-225.7 487.73,-215.66 484.13,-225.63 491.13,-225.7\"/>\n</g>\n<!-- y -->\n<g id=\"node3\" class=\"node\">\n<title>y</title>\n<polygon fill=\"none\" stroke=\"black\" points=\"641.5,-316.93 550.5,-316.93 550.5,-263.93 641.5,-263.93 641.5,-316.93\"/>\n<text text-anchor=\"middle\" x=\"596\" y=\"-301.73\" font-family=\"Times,serif\" font-size=\"14.00\">y</text>\n<text text-anchor=\"middle\" x=\"596\" y=\"-286.73\" font-family=\"Times,serif\" font-size=\"14.00\">~</text>\n<text text-anchor=\"middle\" x=\"596\" y=\"-271.73\" font-family=\"Times,serif\" font-size=\"14.00\">Deterministic</text>\n</g>\n<!-- X -->\n<g id=\"node4\" class=\"node\">\n<title>X</title>\n<path fill=\"lightgrey\" stroke=\"black\" d=\"M181,-316.93C181,-316.93 115,-316.93 115,-316.93 109,-316.93 103,-310.93 103,-304.93 103,-304.93 103,-275.93 103,-275.93 103,-269.93 109,-263.93 115,-263.93 115,-263.93 181,-263.93 181,-263.93 187,-263.93 193,-269.93 193,-275.93 193,-275.93 193,-304.93 193,-304.93 193,-310.93 187,-316.93 181,-316.93\"/>\n<text text-anchor=\"middle\" x=\"148\" y=\"-301.73\" font-family=\"Times,serif\" font-size=\"14.00\">X</text>\n<text text-anchor=\"middle\" x=\"148\" y=\"-286.73\" font-family=\"Times,serif\" font-size=\"14.00\">~</text>\n<text text-anchor=\"middle\" x=\"148\" y=\"-271.73\" font-family=\"Times,serif\" font-size=\"14.00\">ConstantData</text>\n</g>\n<!-- X&#45;&gt;mu -->\n<g id=\"edge1\" class=\"edge\">\n<title>X&#45;&gt;mu</title>\n<path fill=\"none\" stroke=\"black\" d=\"M162.84,-263.69C172.8,-248.92 187.31,-231.47 205,-221.95 242.82,-201.61 359.47,-193.45 430.65,-190.31\"/>\n<polygon fill=\"black\" stroke=\"black\" points=\"430.74,-193.81 440.59,-189.89 430.45,-186.81 430.74,-193.81\"/>\n</g>\n<!-- intercept -->\n<g id=\"node5\" class=\"node\">\n<title>intercept</title>\n<ellipse fill=\"none\" stroke=\"black\" cx=\"262\" cy=\"-290.43\" rx=\"45.01\" ry=\"37.45\"/>\n<text text-anchor=\"middle\" x=\"262\" y=\"-301.73\" font-family=\"Times,serif\" font-size=\"14.00\">intercept</text>\n<text text-anchor=\"middle\" x=\"262\" y=\"-286.73\" font-family=\"Times,serif\" font-size=\"14.00\">~</text>\n<text text-anchor=\"middle\" x=\"262\" y=\"-271.73\" font-family=\"Times,serif\" font-size=\"14.00\">Normal</text>\n</g>\n<!-- intercept&#45;&gt;mu -->\n<g id=\"edge3\" class=\"edge\">\n<title>intercept&#45;&gt;mu</title>\n<path fill=\"none\" stroke=\"black\" d=\"M282.55,-256.63C292.13,-243.93 304.6,-230.44 319,-221.95 352.8,-202.03 396.33,-193.73 430.75,-190.37\"/>\n<polygon fill=\"black\" stroke=\"black\" points=\"430.87,-193.87 440.54,-189.54 430.28,-186.9 430.87,-193.87\"/>\n</g>\n<!-- betas -->\n<g id=\"node6\" class=\"node\">\n<title>betas</title>\n<ellipse fill=\"none\" stroke=\"black\" cx=\"376\" cy=\"-290.43\" rx=\"41.94\" ry=\"37.45\"/>\n<text text-anchor=\"middle\" x=\"376\" y=\"-301.73\" font-family=\"Times,serif\" font-size=\"14.00\">betas</text>\n<text text-anchor=\"middle\" x=\"376\" y=\"-286.73\" font-family=\"Times,serif\" font-size=\"14.00\">~</text>\n<text text-anchor=\"middle\" x=\"376\" y=\"-271.73\" font-family=\"Times,serif\" font-size=\"14.00\">Normal</text>\n</g>\n<!-- betas&#45;&gt;mu -->\n<g id=\"edge4\" class=\"edge\">\n<title>betas&#45;&gt;mu</title>\n<path fill=\"none\" stroke=\"black\" d=\"M397.47,-257.75C406.61,-245.67 417.94,-232.32 430,-221.95 431.07,-221.04 432.16,-220.13 433.28,-219.24\"/>\n<polygon fill=\"black\" stroke=\"black\" points=\"435.02,-222.3 441.02,-213.56 430.88,-216.66 435.02,-222.3\"/>\n</g>\n<!-- y_missing&#45;&gt;y -->\n<g id=\"edge7\" class=\"edge\">\n<title>y_missing&#45;&gt;y</title>\n<path fill=\"none\" stroke=\"black\" d=\"M613.38,-113.99C609.56,-152.6 603.55,-213.19 599.7,-252.11\"/>\n<polygon fill=\"black\" stroke=\"black\" points=\"596.23,-251.64 598.72,-261.93 603.19,-252.33 596.23,-251.64\"/>\n</g>\n<!-- y_observed&#45;&gt;y -->\n<g id=\"edge8\" class=\"edge\">\n<title>y_observed&#45;&gt;y</title>\n<path fill=\"none\" stroke=\"black\" d=\"M521.43,-105.16C529.37,-112.53 537.14,-120.97 543,-129.95 567.74,-167.88 581.97,-218.43 589.33,-252.36\"/>\n<polygon fill=\"black\" stroke=\"black\" points=\"585.9,-253.06 591.35,-262.14 592.75,-251.64 585.9,-253.06\"/>\n</g>\n</g>\n</svg>\n",
      "text/plain": [
       "<graphviz.graphs.Digraph at 0x13fba0a30>"
      ]
     },
     "metadata": {},
     "output_type": "display_data"
    },
    {
     "name": "stdout",
     "output_type": "stream",
     "text": [
      "random_intercept_random_covariate_model\n"
     ]
    },
    {
     "data": {
      "image/svg+xml": "<?xml version=\"1.0\" encoding=\"UTF-8\" standalone=\"no\"?>\n<!DOCTYPE svg PUBLIC \"-//W3C//DTD SVG 1.1//EN\"\n \"http://www.w3.org/Graphics/SVG/1.1/DTD/svg11.dtd\">\n<!-- Generated by graphviz version 7.0.2 (20221119.0110)\n -->\n<!-- Pages: 1 -->\n<svg width=\"790pt\" height=\"352pt\"\n viewBox=\"0.00 0.00 790.00 351.91\" xmlns=\"http://www.w3.org/2000/svg\" xmlns:xlink=\"http://www.w3.org/1999/xlink\">\n<g id=\"graph0\" class=\"graph\" transform=\"scale(1 1) rotate(0) translate(4 347.91)\">\n<polygon fill=\"white\" stroke=\"none\" points=\"-4,4 -4,-347.91 786,-347.91 786,4 -4,4\"/>\n<g id=\"clust1\" class=\"cluster\">\n<title>clusterobs_idx (384)</title>\n<path fill=\"none\" stroke=\"black\" d=\"M543,-129.95C543,-129.95 735,-129.95 735,-129.95 741,-129.95 747,-135.95 747,-141.95 747,-141.95 747,-312.93 747,-312.93 747,-318.93 741,-324.93 735,-324.93 735,-324.93 543,-324.93 543,-324.93 537,-324.93 531,-318.93 531,-312.93 531,-312.93 531,-141.95 531,-141.95 531,-135.95 537,-129.95 543,-129.95\"/>\n<text text-anchor=\"middle\" x=\"701\" y=\"-137.75\" font-family=\"Times,serif\" font-size=\"14.00\">obs_idx (384)</text>\n</g>\n<g id=\"clust2\" class=\"cluster\">\n<title>clusterobs_idx (384) x features_idx (9)</title>\n<path fill=\"none\" stroke=\"black\" d=\"M20,-232.93C20,-232.93 189,-232.93 189,-232.93 195,-232.93 201,-238.93 201,-244.93 201,-244.93 201,-312.93 201,-312.93 201,-318.93 195,-324.93 189,-324.93 189,-324.93 20,-324.93 20,-324.93 14,-324.93 8,-318.93 8,-312.93 8,-312.93 8,-244.93 8,-244.93 8,-238.93 14,-232.93 20,-232.93\"/>\n<text text-anchor=\"middle\" x=\"104.5\" y=\"-240.73\" font-family=\"Times,serif\" font-size=\"14.00\">obs_idx (384) x features_idx (9)</text>\n</g>\n<g id=\"clust3\" class=\"cluster\">\n<title>clusterspecies_idx (4)</title>\n<path fill=\"none\" stroke=\"black\" d=\"M221,-221.95C221,-221.95 303,-221.95 303,-221.95 309,-221.95 315,-227.95 315,-233.95 315,-233.95 315,-323.91 315,-323.91 315,-329.91 309,-335.91 303,-335.91 303,-335.91 221,-335.91 221,-335.91 215,-335.91 209,-329.91 209,-323.91 209,-323.91 209,-233.95 209,-233.95 209,-227.95 215,-221.95 221,-221.95\"/>\n<text text-anchor=\"middle\" x=\"265.5\" y=\"-229.75\" font-family=\"Times,serif\" font-size=\"14.00\">species_idx (4)</text>\n</g>\n<g id=\"clust4\" class=\"cluster\">\n<title>clusterspecies_idx (4) x features_idx (9)</title>\n<path fill=\"none\" stroke=\"black\" d=\"M335,-221.95C335,-221.95 511,-221.95 511,-221.95 517,-221.95 523,-227.95 523,-233.95 523,-233.95 523,-323.91 523,-323.91 523,-329.91 517,-335.91 511,-335.91 511,-335.91 335,-335.91 335,-335.91 329,-335.91 323,-329.91 323,-323.91 323,-323.91 323,-233.95 323,-233.95 323,-227.95 329,-221.95 335,-221.95\"/>\n<text text-anchor=\"middle\" x=\"423\" y=\"-229.75\" font-family=\"Times,serif\" font-size=\"14.00\">species_idx (4) x features_idx (9)</text>\n</g>\n<g id=\"clust5\" class=\"cluster\">\n<title>cluster211</title>\n<path fill=\"none\" stroke=\"black\" d=\"M666,-8C666,-8 762,-8 762,-8 768,-8 774,-14 774,-20 774,-20 774,-109.95 774,-109.95 774,-115.95 768,-121.95 762,-121.95 762,-121.95 666,-121.95 666,-121.95 660,-121.95 654,-115.95 654,-109.95 654,-109.95 654,-20 654,-20 654,-14 660,-8 666,-8\"/>\n<text text-anchor=\"middle\" x=\"755.5\" y=\"-15.8\" font-family=\"Times,serif\" font-size=\"14.00\">211</text>\n</g>\n<g id=\"clust6\" class=\"cluster\">\n<title>cluster173</title>\n<path fill=\"none\" stroke=\"black\" d=\"M530,-8C530,-8 634,-8 634,-8 640,-8 646,-14 646,-20 646,-20 646,-109.95 646,-109.95 646,-115.95 640,-121.95 634,-121.95 634,-121.95 530,-121.95 530,-121.95 524,-121.95 518,-115.95 518,-109.95 518,-109.95 518,-20 518,-20 518,-14 524,-8 530,-8\"/>\n<text text-anchor=\"middle\" x=\"627.5\" y=\"-15.8\" font-family=\"Times,serif\" font-size=\"14.00\">173</text>\n</g>\n<!-- mu -->\n<g id=\"node1\" class=\"node\">\n<title>mu</title>\n<polygon fill=\"none\" stroke=\"black\" points=\"630.5,-213.95 539.5,-213.95 539.5,-160.95 630.5,-160.95 630.5,-213.95\"/>\n<text text-anchor=\"middle\" x=\"585\" y=\"-198.75\" font-family=\"Times,serif\" font-size=\"14.00\">mu</text>\n<text text-anchor=\"middle\" x=\"585\" y=\"-183.75\" font-family=\"Times,serif\" font-size=\"14.00\">~</text>\n<text text-anchor=\"middle\" x=\"585\" y=\"-168.75\" font-family=\"Times,serif\" font-size=\"14.00\">Deterministic</text>\n</g>\n<!-- y_missing -->\n<g id=\"node7\" class=\"node\">\n<title>y_missing</title>\n<ellipse fill=\"none\" stroke=\"black\" cx=\"714\" cy=\"-76.48\" rx=\"51.74\" ry=\"37.45\"/>\n<text text-anchor=\"middle\" x=\"714\" y=\"-87.78\" font-family=\"Times,serif\" font-size=\"14.00\">y_missing</text>\n<text text-anchor=\"middle\" x=\"714\" y=\"-72.78\" font-family=\"Times,serif\" font-size=\"14.00\">~</text>\n<text text-anchor=\"middle\" x=\"714\" y=\"-57.78\" font-family=\"Times,serif\" font-size=\"14.00\">Poisson</text>\n</g>\n<!-- mu&#45;&gt;y_missing -->\n<g id=\"edge5\" class=\"edge\">\n<title>mu&#45;&gt;y_missing</title>\n<path fill=\"none\" stroke=\"black\" d=\"M615.57,-160.63C632.47,-146.35 653.72,-128.4 672.15,-112.83\"/>\n<polygon fill=\"black\" stroke=\"black\" points=\"674.4,-115.51 679.78,-106.38 669.88,-110.16 674.4,-115.51\"/>\n</g>\n<!-- y_observed -->\n<g id=\"node8\" class=\"node\">\n<title>y_observed</title>\n<ellipse fill=\"lightgrey\" stroke=\"black\" cx=\"582\" cy=\"-76.48\" rx=\"55.72\" ry=\"37.45\"/>\n<text text-anchor=\"middle\" x=\"582\" y=\"-87.78\" font-family=\"Times,serif\" font-size=\"14.00\">y_observed</text>\n<text text-anchor=\"middle\" x=\"582\" y=\"-72.78\" font-family=\"Times,serif\" font-size=\"14.00\">~</text>\n<text text-anchor=\"middle\" x=\"582\" y=\"-57.78\" font-family=\"Times,serif\" font-size=\"14.00\">Poisson</text>\n</g>\n<!-- mu&#45;&gt;y_observed -->\n<g id=\"edge6\" class=\"edge\">\n<title>mu&#45;&gt;y_observed</title>\n<path fill=\"none\" stroke=\"black\" d=\"M584.29,-160.63C584,-150.13 583.66,-137.66 583.32,-125.6\"/>\n<polygon fill=\"black\" stroke=\"black\" points=\"586.83,-125.67 583.05,-115.77 579.83,-125.86 586.83,-125.67\"/>\n</g>\n<!-- species_idx -->\n<g id=\"node2\" class=\"node\">\n<title>species_idx</title>\n<path fill=\"lightgrey\" stroke=\"black\" d=\"M617,-316.93C617,-316.93 551,-316.93 551,-316.93 545,-316.93 539,-310.93 539,-304.93 539,-304.93 539,-275.93 539,-275.93 539,-269.93 545,-263.93 551,-263.93 551,-263.93 617,-263.93 617,-263.93 623,-263.93 629,-269.93 629,-275.93 629,-275.93 629,-304.93 629,-304.93 629,-310.93 623,-316.93 617,-316.93\"/>\n<text text-anchor=\"middle\" x=\"584\" y=\"-301.73\" font-family=\"Times,serif\" font-size=\"14.00\">species_idx</text>\n<text text-anchor=\"middle\" x=\"584\" y=\"-286.73\" font-family=\"Times,serif\" font-size=\"14.00\">~</text>\n<text text-anchor=\"middle\" x=\"584\" y=\"-271.73\" font-family=\"Times,serif\" font-size=\"14.00\">ConstantData</text>\n</g>\n<!-- species_idx&#45;&gt;mu -->\n<g id=\"edge2\" class=\"edge\">\n<title>species_idx&#45;&gt;mu</title>\n<path fill=\"none\" stroke=\"black\" d=\"M584.25,-263.69C584.37,-252.06 584.51,-238.1 584.63,-225.38\"/>\n<polygon fill=\"black\" stroke=\"black\" points=\"588.13,-225.7 584.73,-215.66 581.13,-225.63 588.13,-225.7\"/>\n</g>\n<!-- y -->\n<g id=\"node3\" class=\"node\">\n<title>y</title>\n<polygon fill=\"none\" stroke=\"black\" points=\"738.5,-316.93 647.5,-316.93 647.5,-263.93 738.5,-263.93 738.5,-316.93\"/>\n<text text-anchor=\"middle\" x=\"693\" y=\"-301.73\" font-family=\"Times,serif\" font-size=\"14.00\">y</text>\n<text text-anchor=\"middle\" x=\"693\" y=\"-286.73\" font-family=\"Times,serif\" font-size=\"14.00\">~</text>\n<text text-anchor=\"middle\" x=\"693\" y=\"-271.73\" font-family=\"Times,serif\" font-size=\"14.00\">Deterministic</text>\n</g>\n<!-- X -->\n<g id=\"node4\" class=\"node\">\n<title>X</title>\n<path fill=\"lightgrey\" stroke=\"black\" d=\"M181,-316.93C181,-316.93 115,-316.93 115,-316.93 109,-316.93 103,-310.93 103,-304.93 103,-304.93 103,-275.93 103,-275.93 103,-269.93 109,-263.93 115,-263.93 115,-263.93 181,-263.93 181,-263.93 187,-263.93 193,-269.93 193,-275.93 193,-275.93 193,-304.93 193,-304.93 193,-310.93 187,-316.93 181,-316.93\"/>\n<text text-anchor=\"middle\" x=\"148\" y=\"-301.73\" font-family=\"Times,serif\" font-size=\"14.00\">X</text>\n<text text-anchor=\"middle\" x=\"148\" y=\"-286.73\" font-family=\"Times,serif\" font-size=\"14.00\">~</text>\n<text text-anchor=\"middle\" x=\"148\" y=\"-271.73\" font-family=\"Times,serif\" font-size=\"14.00\">ConstantData</text>\n</g>\n<!-- X&#45;&gt;mu -->\n<g id=\"edge1\" class=\"edge\">\n<title>X&#45;&gt;mu</title>\n<path fill=\"none\" stroke=\"black\" d=\"M162.74,-263.5C172.66,-248.66 187.17,-231.21 205,-221.95 259.75,-193.54 436.03,-188.74 527.98,-188.23\"/>\n<polygon fill=\"black\" stroke=\"black\" points=\"527.8,-191.73 537.79,-188.19 527.78,-184.73 527.8,-191.73\"/>\n</g>\n<!-- intercept -->\n<g id=\"node5\" class=\"node\">\n<title>intercept</title>\n<ellipse fill=\"none\" stroke=\"black\" cx=\"262\" cy=\"-290.43\" rx=\"45.01\" ry=\"37.45\"/>\n<text text-anchor=\"middle\" x=\"262\" y=\"-301.73\" font-family=\"Times,serif\" font-size=\"14.00\">intercept</text>\n<text text-anchor=\"middle\" x=\"262\" y=\"-286.73\" font-family=\"Times,serif\" font-size=\"14.00\">~</text>\n<text text-anchor=\"middle\" x=\"262\" y=\"-271.73\" font-family=\"Times,serif\" font-size=\"14.00\">Normal</text>\n</g>\n<!-- intercept&#45;&gt;mu -->\n<g id=\"edge3\" class=\"edge\">\n<title>intercept&#45;&gt;mu</title>\n<path fill=\"none\" stroke=\"black\" d=\"M282.01,-256.47C291.57,-243.59 304.17,-230 319,-221.95 353.95,-202.98 460.74,-194.41 527.91,-190.81\"/>\n<polygon fill=\"black\" stroke=\"black\" points=\"527.83,-194.32 537.63,-190.31 527.47,-187.33 527.83,-194.32\"/>\n</g>\n<!-- betas -->\n<g id=\"node6\" class=\"node\">\n<title>betas</title>\n<ellipse fill=\"none\" stroke=\"black\" cx=\"473\" cy=\"-290.43\" rx=\"41.94\" ry=\"37.45\"/>\n<text text-anchor=\"middle\" x=\"473\" y=\"-301.73\" font-family=\"Times,serif\" font-size=\"14.00\">betas</text>\n<text text-anchor=\"middle\" x=\"473\" y=\"-286.73\" font-family=\"Times,serif\" font-size=\"14.00\">~</text>\n<text text-anchor=\"middle\" x=\"473\" y=\"-271.73\" font-family=\"Times,serif\" font-size=\"14.00\">Normal</text>\n</g>\n<!-- betas&#45;&gt;mu -->\n<g id=\"edge4\" class=\"edge\">\n<title>betas&#45;&gt;mu</title>\n<path fill=\"none\" stroke=\"black\" d=\"M494.47,-257.75C503.61,-245.67 514.94,-232.32 527,-221.95 528.07,-221.04 529.16,-220.13 530.28,-219.24\"/>\n<polygon fill=\"black\" stroke=\"black\" points=\"532.02,-222.3 538.02,-213.56 527.88,-216.66 532.02,-222.3\"/>\n</g>\n<!-- y_missing&#45;&gt;y -->\n<g id=\"edge7\" class=\"edge\">\n<title>y_missing&#45;&gt;y</title>\n<path fill=\"none\" stroke=\"black\" d=\"M710.38,-113.99C706.56,-152.6 700.55,-213.19 696.7,-252.11\"/>\n<polygon fill=\"black\" stroke=\"black\" points=\"693.23,-251.64 695.72,-261.93 700.19,-252.33 693.23,-251.64\"/>\n</g>\n<!-- y_observed&#45;&gt;y -->\n<g id=\"edge8\" class=\"edge\">\n<title>y_observed&#45;&gt;y</title>\n<path fill=\"none\" stroke=\"black\" d=\"M618.43,-105.16C626.37,-112.53 634.14,-120.97 640,-129.95 664.74,-167.88 678.97,-218.43 686.33,-252.36\"/>\n<polygon fill=\"black\" stroke=\"black\" points=\"682.9,-253.06 688.35,-262.14 689.75,-251.64 682.9,-253.06\"/>\n</g>\n</g>\n</svg>\n",
      "text/plain": [
       "<graphviz.graphs.Digraph at 0x149d74b50>"
      ]
     },
     "metadata": {},
     "output_type": "display_data"
    },
    {
     "name": "stdout",
     "output_type": "stream",
     "text": [
      "random_intercept_car_model\n"
     ]
    },
    {
     "data": {
      "image/svg+xml": "<?xml version=\"1.0\" encoding=\"UTF-8\" standalone=\"no\"?>\n<!DOCTYPE svg PUBLIC \"-//W3C//DTD SVG 1.1//EN\"\n \"http://www.w3.org/Graphics/SVG/1.1/DTD/svg11.dtd\">\n<!-- Generated by graphviz version 7.0.2 (20221119.0110)\n -->\n<!-- Pages: 1 -->\n<svg width=\"604pt\" height=\"447pt\"\n viewBox=\"0.00 0.00 604.33 446.86\" xmlns=\"http://www.w3.org/2000/svg\" xmlns:xlink=\"http://www.w3.org/1999/xlink\">\n<g id=\"graph0\" class=\"graph\" transform=\"scale(1 1) rotate(0) translate(4 442.86)\">\n<polygon fill=\"white\" stroke=\"none\" points=\"-4,4 -4,-442.86 600.33,-442.86 600.33,4 -4,4\"/>\n<g id=\"clust1\" class=\"cluster\">\n<title>clusterobs_idx (384)</title>\n<path fill=\"none\" stroke=\"black\" d=\"M276.33,-129.95C276.33,-129.95 576.33,-129.95 576.33,-129.95 582.33,-129.95 588.33,-135.95 588.33,-141.95 588.33,-141.95 588.33,-312.93 588.33,-312.93 588.33,-318.93 582.33,-324.93 576.33,-324.93 576.33,-324.93 276.33,-324.93 276.33,-324.93 270.33,-324.93 264.33,-318.93 264.33,-312.93 264.33,-312.93 264.33,-141.95 264.33,-141.95 264.33,-135.95 270.33,-129.95 276.33,-129.95\"/>\n<text text-anchor=\"middle\" x=\"542.33\" y=\"-137.75\" font-family=\"Times,serif\" font-size=\"14.00\">obs_idx (384)</text>\n</g>\n<g id=\"clust2\" class=\"cluster\">\n<title>clusteradj_idx (96)</title>\n<path fill=\"none\" stroke=\"black\" d=\"M71.33,-221.95C71.33,-221.95 130.33,-221.95 130.33,-221.95 136.33,-221.95 142.33,-227.95 142.33,-233.95 142.33,-233.95 142.33,-323.91 142.33,-323.91 142.33,-329.91 136.33,-335.91 130.33,-335.91 130.33,-335.91 71.33,-335.91 71.33,-335.91 65.33,-335.91 59.33,-329.91 59.33,-323.91 59.33,-323.91 59.33,-233.95 59.33,-233.95 59.33,-227.95 65.33,-221.95 71.33,-221.95\"/>\n<text text-anchor=\"middle\" x=\"100.83\" y=\"-229.75\" font-family=\"Times,serif\" font-size=\"14.00\">adj_idx (96)</text>\n</g>\n<g id=\"clust3\" class=\"cluster\">\n<title>clusterspecies_idx (4)</title>\n<path fill=\"none\" stroke=\"black\" d=\"M162.33,-221.95C162.33,-221.95 244.33,-221.95 244.33,-221.95 250.33,-221.95 256.33,-227.95 256.33,-233.95 256.33,-233.95 256.33,-323.91 256.33,-323.91 256.33,-329.91 250.33,-335.91 244.33,-335.91 244.33,-335.91 162.33,-335.91 162.33,-335.91 156.33,-335.91 150.33,-329.91 150.33,-323.91 150.33,-323.91 150.33,-233.95 150.33,-233.95 150.33,-227.95 156.33,-221.95 162.33,-221.95\"/>\n<text text-anchor=\"middle\" x=\"206.83\" y=\"-229.75\" font-family=\"Times,serif\" font-size=\"14.00\">species_idx (4)</text>\n</g>\n<g id=\"clust4\" class=\"cluster\">\n<title>cluster211</title>\n<path fill=\"none\" stroke=\"black\" d=\"M297.33,-8C297.33,-8 393.33,-8 393.33,-8 399.33,-8 405.33,-14 405.33,-20 405.33,-20 405.33,-109.95 405.33,-109.95 405.33,-115.95 399.33,-121.95 393.33,-121.95 393.33,-121.95 297.33,-121.95 297.33,-121.95 291.33,-121.95 285.33,-115.95 285.33,-109.95 285.33,-109.95 285.33,-20 285.33,-20 285.33,-14 291.33,-8 297.33,-8\"/>\n<text text-anchor=\"middle\" x=\"386.83\" y=\"-15.8\" font-family=\"Times,serif\" font-size=\"14.00\">211</text>\n</g>\n<g id=\"clust5\" class=\"cluster\">\n<title>cluster173</title>\n<path fill=\"none\" stroke=\"black\" d=\"M462.33,-8C462.33,-8 566.33,-8 566.33,-8 572.33,-8 578.33,-14 578.33,-20 578.33,-20 578.33,-109.95 578.33,-109.95 578.33,-115.95 572.33,-121.95 566.33,-121.95 566.33,-121.95 462.33,-121.95 462.33,-121.95 456.33,-121.95 450.33,-115.95 450.33,-109.95 450.33,-109.95 450.33,-20 450.33,-20 450.33,-14 456.33,-8 462.33,-8\"/>\n<text text-anchor=\"middle\" x=\"559.83\" y=\"-15.8\" font-family=\"Times,serif\" font-size=\"14.00\">173</text>\n</g>\n<!-- mu -->\n<g id=\"node1\" class=\"node\">\n<title>mu</title>\n<polygon fill=\"none\" stroke=\"black\" points=\"381.83,-213.95 290.83,-213.95 290.83,-160.95 381.83,-160.95 381.83,-213.95\"/>\n<text text-anchor=\"middle\" x=\"336.33\" y=\"-198.75\" font-family=\"Times,serif\" font-size=\"14.00\">mu</text>\n<text text-anchor=\"middle\" x=\"336.33\" y=\"-183.75\" font-family=\"Times,serif\" font-size=\"14.00\">~</text>\n<text text-anchor=\"middle\" x=\"336.33\" y=\"-168.75\" font-family=\"Times,serif\" font-size=\"14.00\">Deterministic</text>\n</g>\n<!-- y_missing -->\n<g id=\"node9\" class=\"node\">\n<title>y_missing</title>\n<ellipse fill=\"none\" stroke=\"black\" cx=\"345.33\" cy=\"-76.48\" rx=\"51.74\" ry=\"37.45\"/>\n<text text-anchor=\"middle\" x=\"345.33\" y=\"-87.78\" font-family=\"Times,serif\" font-size=\"14.00\">y_missing</text>\n<text text-anchor=\"middle\" x=\"345.33\" y=\"-72.78\" font-family=\"Times,serif\" font-size=\"14.00\">~</text>\n<text text-anchor=\"middle\" x=\"345.33\" y=\"-57.78\" font-family=\"Times,serif\" font-size=\"14.00\">Poisson</text>\n</g>\n<!-- mu&#45;&gt;y_missing -->\n<g id=\"edge7\" class=\"edge\">\n<title>mu&#45;&gt;y_missing</title>\n<path fill=\"none\" stroke=\"black\" d=\"M338.46,-160.63C339.33,-150.13 340.36,-137.66 341.35,-125.6\"/>\n<polygon fill=\"black\" stroke=\"black\" points=\"344.83,-126.02 342.16,-115.76 337.85,-125.44 344.83,-126.02\"/>\n</g>\n<!-- y_observed -->\n<g id=\"node10\" class=\"node\">\n<title>y_observed</title>\n<ellipse fill=\"lightgrey\" stroke=\"black\" cx=\"514.33\" cy=\"-76.48\" rx=\"55.72\" ry=\"37.45\"/>\n<text text-anchor=\"middle\" x=\"514.33\" y=\"-87.78\" font-family=\"Times,serif\" font-size=\"14.00\">y_observed</text>\n<text text-anchor=\"middle\" x=\"514.33\" y=\"-72.78\" font-family=\"Times,serif\" font-size=\"14.00\">~</text>\n<text text-anchor=\"middle\" x=\"514.33\" y=\"-57.78\" font-family=\"Times,serif\" font-size=\"14.00\">Poisson</text>\n</g>\n<!-- mu&#45;&gt;y_observed -->\n<g id=\"edge8\" class=\"edge\">\n<title>mu&#45;&gt;y_observed</title>\n<path fill=\"none\" stroke=\"black\" d=\"M378.51,-160.63C404.15,-144.93 437.03,-124.8 464.02,-108.28\"/>\n<polygon fill=\"black\" stroke=\"black\" points=\"465.68,-111.36 472.38,-103.16 462.02,-105.39 465.68,-111.36\"/>\n</g>\n<!-- species_idx -->\n<g id=\"node2\" class=\"node\">\n<title>species_idx</title>\n<path fill=\"lightgrey\" stroke=\"black\" d=\"M458.33,-316.93C458.33,-316.93 392.33,-316.93 392.33,-316.93 386.33,-316.93 380.33,-310.93 380.33,-304.93 380.33,-304.93 380.33,-275.93 380.33,-275.93 380.33,-269.93 386.33,-263.93 392.33,-263.93 392.33,-263.93 458.33,-263.93 458.33,-263.93 464.33,-263.93 470.33,-269.93 470.33,-275.93 470.33,-275.93 470.33,-304.93 470.33,-304.93 470.33,-310.93 464.33,-316.93 458.33,-316.93\"/>\n<text text-anchor=\"middle\" x=\"425.33\" y=\"-301.73\" font-family=\"Times,serif\" font-size=\"14.00\">species_idx</text>\n<text text-anchor=\"middle\" x=\"425.33\" y=\"-286.73\" font-family=\"Times,serif\" font-size=\"14.00\">~</text>\n<text text-anchor=\"middle\" x=\"425.33\" y=\"-271.73\" font-family=\"Times,serif\" font-size=\"14.00\">ConstantData</text>\n</g>\n<!-- species_idx&#45;&gt;mu -->\n<g id=\"edge4\" class=\"edge\">\n<title>species_idx&#45;&gt;mu</title>\n<path fill=\"none\" stroke=\"black\" d=\"M405.84,-263.46C397.22,-252.34 386.66,-239.2 371.24,-222.18\"/>\n<polygon fill=\"black\" stroke=\"black\" points=\"374.17,-220.2 364.83,-215.2 369.02,-224.93 374.17,-220.2\"/>\n</g>\n<!-- adj_idx -->\n<g id=\"node3\" class=\"node\">\n<title>adj_idx</title>\n<path fill=\"lightgrey\" stroke=\"black\" d=\"M350.33,-316.93C350.33,-316.93 284.33,-316.93 284.33,-316.93 278.33,-316.93 272.33,-310.93 272.33,-304.93 272.33,-304.93 272.33,-275.93 272.33,-275.93 272.33,-269.93 278.33,-263.93 284.33,-263.93 284.33,-263.93 350.33,-263.93 350.33,-263.93 356.33,-263.93 362.33,-269.93 362.33,-275.93 362.33,-275.93 362.33,-304.93 362.33,-304.93 362.33,-310.93 356.33,-316.93 350.33,-316.93\"/>\n<text text-anchor=\"middle\" x=\"317.33\" y=\"-301.73\" font-family=\"Times,serif\" font-size=\"14.00\">adj_idx</text>\n<text text-anchor=\"middle\" x=\"317.33\" y=\"-286.73\" font-family=\"Times,serif\" font-size=\"14.00\">~</text>\n<text text-anchor=\"middle\" x=\"317.33\" y=\"-271.73\" font-family=\"Times,serif\" font-size=\"14.00\">ConstantData</text>\n</g>\n<!-- adj_idx&#45;&gt;mu -->\n<g id=\"edge6\" class=\"edge\">\n<title>adj_idx&#45;&gt;mu</title>\n<path fill=\"none\" stroke=\"black\" d=\"M322.17,-263.69C324.36,-252.06 326.98,-238.1 329.38,-225.38\"/>\n<polygon fill=\"black\" stroke=\"black\" points=\"332.8,-226.11 331.21,-215.64 325.92,-224.82 332.8,-226.11\"/>\n</g>\n<!-- y -->\n<g id=\"node4\" class=\"node\">\n<title>y</title>\n<polygon fill=\"none\" stroke=\"black\" points=\"579.83,-316.93 488.83,-316.93 488.83,-263.93 579.83,-263.93 579.83,-316.93\"/>\n<text text-anchor=\"middle\" x=\"534.33\" y=\"-301.73\" font-family=\"Times,serif\" font-size=\"14.00\">y</text>\n<text text-anchor=\"middle\" x=\"534.33\" y=\"-286.73\" font-family=\"Times,serif\" font-size=\"14.00\">~</text>\n<text text-anchor=\"middle\" x=\"534.33\" y=\"-271.73\" font-family=\"Times,serif\" font-size=\"14.00\">Deterministic</text>\n</g>\n<!-- sigma_phi -->\n<g id=\"node5\" class=\"node\">\n<title>sigma_phi</title>\n<ellipse fill=\"none\" stroke=\"black\" cx=\"52.33\" cy=\"-401.38\" rx=\"52.15\" ry=\"37.45\"/>\n<text text-anchor=\"middle\" x=\"52.33\" y=\"-412.68\" font-family=\"Times,serif\" font-size=\"14.00\">sigma_phi</text>\n<text text-anchor=\"middle\" x=\"52.33\" y=\"-397.68\" font-family=\"Times,serif\" font-size=\"14.00\">~</text>\n<text text-anchor=\"middle\" x=\"52.33\" y=\"-382.68\" font-family=\"Times,serif\" font-size=\"14.00\">Uniform</text>\n</g>\n<!-- phi -->\n<g id=\"node7\" class=\"node\">\n<title>phi</title>\n<ellipse fill=\"none\" stroke=\"black\" cx=\"103.33\" cy=\"-290.43\" rx=\"31.23\" ry=\"37.45\"/>\n<text text-anchor=\"middle\" x=\"103.33\" y=\"-301.73\" font-family=\"Times,serif\" font-size=\"14.00\">phi</text>\n<text text-anchor=\"middle\" x=\"103.33\" y=\"-286.73\" font-family=\"Times,serif\" font-size=\"14.00\">~</text>\n<text text-anchor=\"middle\" x=\"103.33\" y=\"-271.73\" font-family=\"Times,serif\" font-size=\"14.00\">CAR</text>\n</g>\n<!-- sigma_phi&#45;&gt;phi -->\n<g id=\"edge1\" class=\"edge\">\n<title>sigma_phi&#45;&gt;phi</title>\n<path fill=\"none\" stroke=\"black\" d=\"M68.6,-365.61C73.33,-355.52 78.54,-344.39 83.45,-333.89\"/>\n<polygon fill=\"black\" stroke=\"black\" points=\"86.53,-335.57 87.6,-325.03 80.19,-332.6 86.53,-335.57\"/>\n</g>\n<!-- alpha -->\n<g id=\"node6\" class=\"node\">\n<title>alpha</title>\n<ellipse fill=\"none\" stroke=\"black\" cx=\"155.33\" cy=\"-401.38\" rx=\"32.55\" ry=\"37.45\"/>\n<text text-anchor=\"middle\" x=\"155.33\" y=\"-412.68\" font-family=\"Times,serif\" font-size=\"14.00\">alpha</text>\n<text text-anchor=\"middle\" x=\"155.33\" y=\"-397.68\" font-family=\"Times,serif\" font-size=\"14.00\">~</text>\n<text text-anchor=\"middle\" x=\"155.33\" y=\"-382.68\" font-family=\"Times,serif\" font-size=\"14.00\">Beta</text>\n</g>\n<!-- alpha&#45;&gt;phi -->\n<g id=\"edge2\" class=\"edge\">\n<title>alpha&#45;&gt;phi</title>\n<path fill=\"none\" stroke=\"black\" d=\"M139.86,-367.99C134.73,-357.23 128.94,-345.09 123.5,-333.7\"/>\n<polygon fill=\"black\" stroke=\"black\" points=\"126.76,-332.4 119.29,-324.88 120.44,-335.41 126.76,-332.4\"/>\n</g>\n<!-- phi&#45;&gt;mu -->\n<g id=\"edge5\" class=\"edge\">\n<title>phi&#45;&gt;mu</title>\n<path fill=\"none\" stroke=\"black\" d=\"M117.12,-256.55C124.07,-243.85 133.74,-230.36 146.33,-221.95 167.66,-207.7 231.52,-198.51 279.35,-193.42\"/>\n<polygon fill=\"black\" stroke=\"black\" points=\"279.42,-196.94 289.01,-192.43 278.71,-189.97 279.42,-196.94\"/>\n</g>\n<!-- intercept -->\n<g id=\"node8\" class=\"node\">\n<title>intercept</title>\n<ellipse fill=\"none\" stroke=\"black\" cx=\"203.33\" cy=\"-290.43\" rx=\"45.01\" ry=\"37.45\"/>\n<text text-anchor=\"middle\" x=\"203.33\" y=\"-301.73\" font-family=\"Times,serif\" font-size=\"14.00\">intercept</text>\n<text text-anchor=\"middle\" x=\"203.33\" y=\"-286.73\" font-family=\"Times,serif\" font-size=\"14.00\">~</text>\n<text text-anchor=\"middle\" x=\"203.33\" y=\"-271.73\" font-family=\"Times,serif\" font-size=\"14.00\">Normal</text>\n</g>\n<!-- intercept&#45;&gt;mu -->\n<g id=\"edge3\" class=\"edge\">\n<title>intercept&#45;&gt;mu</title>\n<path fill=\"none\" stroke=\"black\" d=\"M225.42,-257.45C235.07,-245.18 247.19,-231.78 260.33,-221.95 266.45,-217.37 273.31,-213.25 280.32,-209.59\"/>\n<polygon fill=\"black\" stroke=\"black\" points=\"281.83,-212.75 289.29,-205.23 278.77,-206.45 281.83,-212.75\"/>\n</g>\n<!-- y_missing&#45;&gt;y -->\n<g id=\"edge9\" class=\"edge\">\n<title>y_missing&#45;&gt;y</title>\n<path fill=\"none\" stroke=\"black\" d=\"M374.4,-107.68C401.94,-136.56 444.19,-181.56 479.33,-221.95 488.47,-232.47 498.16,-244.16 506.82,-254.82\"/>\n<polygon fill=\"black\" stroke=\"black\" points=\"503.86,-256.72 512.86,-262.3 509.3,-252.32 503.86,-256.72\"/>\n</g>\n<!-- y_observed&#45;&gt;y -->\n<g id=\"edge10\" class=\"edge\">\n<title>y_observed&#45;&gt;y</title>\n<path fill=\"none\" stroke=\"black\" d=\"M517.77,-113.99C521.41,-152.6 527.13,-213.19 530.8,-252.11\"/>\n<polygon fill=\"black\" stroke=\"black\" points=\"527.31,-252.31 531.73,-261.93 534.28,-251.65 527.31,-252.31\"/>\n</g>\n</g>\n</svg>\n",
      "text/plain": [
       "<graphviz.graphs.Digraph at 0x140902d40>"
      ]
     },
     "metadata": {},
     "output_type": "display_data"
    },
    {
     "name": "stdout",
     "output_type": "stream",
     "text": [
      "pooled_intercept_car_model\n"
     ]
    },
    {
     "data": {
      "image/svg+xml": "<?xml version=\"1.0\" encoding=\"UTF-8\" standalone=\"no\"?>\n<!DOCTYPE svg PUBLIC \"-//W3C//DTD SVG 1.1//EN\"\n \"http://www.w3.org/Graphics/SVG/1.1/DTD/svg11.dtd\">\n<!-- Generated by graphviz version 7.0.2 (20221119.0110)\n -->\n<!-- Pages: 1 -->\n<svg width=\"452pt\" height=\"447pt\"\n viewBox=\"0.00 0.00 452.25 446.86\" xmlns=\"http://www.w3.org/2000/svg\" xmlns:xlink=\"http://www.w3.org/1999/xlink\">\n<g id=\"graph0\" class=\"graph\" transform=\"scale(1 1) rotate(0) translate(4 442.86)\">\n<polygon fill=\"white\" stroke=\"none\" points=\"-4,4 -4,-442.86 448.25,-442.86 448.25,4 -4,4\"/>\n<g id=\"clust1\" class=\"cluster\">\n<title>clusterobs_idx (384)</title>\n<path fill=\"none\" stroke=\"black\" d=\"M201.25,-129.95C201.25,-129.95 393.25,-129.95 393.25,-129.95 399.25,-129.95 405.25,-135.95 405.25,-141.95 405.25,-141.95 405.25,-312.93 405.25,-312.93 405.25,-318.93 399.25,-324.93 393.25,-324.93 393.25,-324.93 201.25,-324.93 201.25,-324.93 195.25,-324.93 189.25,-318.93 189.25,-312.93 189.25,-312.93 189.25,-141.95 189.25,-141.95 189.25,-135.95 195.25,-129.95 201.25,-129.95\"/>\n<text text-anchor=\"middle\" x=\"359.25\" y=\"-137.75\" font-family=\"Times,serif\" font-size=\"14.00\">obs_idx (384)</text>\n</g>\n<g id=\"clust2\" class=\"cluster\">\n<title>clusteradj_idx (96)</title>\n<path fill=\"none\" stroke=\"black\" d=\"M110.25,-221.95C110.25,-221.95 169.25,-221.95 169.25,-221.95 175.25,-221.95 181.25,-227.95 181.25,-233.95 181.25,-233.95 181.25,-323.91 181.25,-323.91 181.25,-329.91 175.25,-335.91 169.25,-335.91 169.25,-335.91 110.25,-335.91 110.25,-335.91 104.25,-335.91 98.25,-329.91 98.25,-323.91 98.25,-323.91 98.25,-233.95 98.25,-233.95 98.25,-227.95 104.25,-221.95 110.25,-221.95\"/>\n<text text-anchor=\"middle\" x=\"139.75\" y=\"-229.75\" font-family=\"Times,serif\" font-size=\"14.00\">adj_idx (96)</text>\n</g>\n<g id=\"clust3\" class=\"cluster\">\n<title>cluster211</title>\n<path fill=\"none\" stroke=\"black\" d=\"M192.25,-8C192.25,-8 288.25,-8 288.25,-8 294.25,-8 300.25,-14 300.25,-20 300.25,-20 300.25,-109.95 300.25,-109.95 300.25,-115.95 294.25,-121.95 288.25,-121.95 288.25,-121.95 192.25,-121.95 192.25,-121.95 186.25,-121.95 180.25,-115.95 180.25,-109.95 180.25,-109.95 180.25,-20 180.25,-20 180.25,-14 186.25,-8 192.25,-8\"/>\n<text text-anchor=\"middle\" x=\"281.75\" y=\"-15.8\" font-family=\"Times,serif\" font-size=\"14.00\">211</text>\n</g>\n<g id=\"clust4\" class=\"cluster\">\n<title>cluster173</title>\n<path fill=\"none\" stroke=\"black\" d=\"M320.25,-8C320.25,-8 424.25,-8 424.25,-8 430.25,-8 436.25,-14 436.25,-20 436.25,-20 436.25,-109.95 436.25,-109.95 436.25,-115.95 430.25,-121.95 424.25,-121.95 424.25,-121.95 320.25,-121.95 320.25,-121.95 314.25,-121.95 308.25,-115.95 308.25,-109.95 308.25,-109.95 308.25,-20 308.25,-20 308.25,-14 314.25,-8 320.25,-8\"/>\n<text text-anchor=\"middle\" x=\"417.75\" y=\"-15.8\" font-family=\"Times,serif\" font-size=\"14.00\">173</text>\n</g>\n<!-- mu -->\n<g id=\"node1\" class=\"node\">\n<title>mu</title>\n<polygon fill=\"none\" stroke=\"black\" points=\"288.75,-213.95 197.75,-213.95 197.75,-160.95 288.75,-160.95 288.75,-213.95\"/>\n<text text-anchor=\"middle\" x=\"243.25\" y=\"-198.75\" font-family=\"Times,serif\" font-size=\"14.00\">mu</text>\n<text text-anchor=\"middle\" x=\"243.25\" y=\"-183.75\" font-family=\"Times,serif\" font-size=\"14.00\">~</text>\n<text text-anchor=\"middle\" x=\"243.25\" y=\"-168.75\" font-family=\"Times,serif\" font-size=\"14.00\">Deterministic</text>\n</g>\n<!-- y_missing -->\n<g id=\"node8\" class=\"node\">\n<title>y_missing</title>\n<ellipse fill=\"none\" stroke=\"black\" cx=\"240.25\" cy=\"-76.48\" rx=\"51.74\" ry=\"37.45\"/>\n<text text-anchor=\"middle\" x=\"240.25\" y=\"-87.78\" font-family=\"Times,serif\" font-size=\"14.00\">y_missing</text>\n<text text-anchor=\"middle\" x=\"240.25\" y=\"-72.78\" font-family=\"Times,serif\" font-size=\"14.00\">~</text>\n<text text-anchor=\"middle\" x=\"240.25\" y=\"-57.78\" font-family=\"Times,serif\" font-size=\"14.00\">Poisson</text>\n</g>\n<!-- mu&#45;&gt;y_missing -->\n<g id=\"edge6\" class=\"edge\">\n<title>mu&#45;&gt;y_missing</title>\n<path fill=\"none\" stroke=\"black\" d=\"M242.54,-160.63C242.26,-150.13 241.91,-137.66 241.58,-125.6\"/>\n<polygon fill=\"black\" stroke=\"black\" points=\"245.08,-125.67 241.31,-115.77 238.09,-125.86 245.08,-125.67\"/>\n</g>\n<!-- y_observed -->\n<g id=\"node9\" class=\"node\">\n<title>y_observed</title>\n<ellipse fill=\"lightgrey\" stroke=\"black\" cx=\"372.25\" cy=\"-76.48\" rx=\"55.72\" ry=\"37.45\"/>\n<text text-anchor=\"middle\" x=\"372.25\" y=\"-87.78\" font-family=\"Times,serif\" font-size=\"14.00\">y_observed</text>\n<text text-anchor=\"middle\" x=\"372.25\" y=\"-72.78\" font-family=\"Times,serif\" font-size=\"14.00\">~</text>\n<text text-anchor=\"middle\" x=\"372.25\" y=\"-57.78\" font-family=\"Times,serif\" font-size=\"14.00\">Poisson</text>\n</g>\n<!-- mu&#45;&gt;y_observed -->\n<g id=\"edge7\" class=\"edge\">\n<title>mu&#45;&gt;y_observed</title>\n<path fill=\"none\" stroke=\"black\" d=\"M273.83,-160.63C290.47,-146.56 311.34,-128.94 329.57,-113.54\"/>\n<polygon fill=\"black\" stroke=\"black\" points=\"331.74,-116.29 337.12,-107.16 327.22,-110.94 331.74,-116.29\"/>\n</g>\n<!-- adj_idx -->\n<g id=\"node2\" class=\"node\">\n<title>adj_idx</title>\n<path fill=\"lightgrey\" stroke=\"black\" d=\"M275.25,-316.93C275.25,-316.93 209.25,-316.93 209.25,-316.93 203.25,-316.93 197.25,-310.93 197.25,-304.93 197.25,-304.93 197.25,-275.93 197.25,-275.93 197.25,-269.93 203.25,-263.93 209.25,-263.93 209.25,-263.93 275.25,-263.93 275.25,-263.93 281.25,-263.93 287.25,-269.93 287.25,-275.93 287.25,-275.93 287.25,-304.93 287.25,-304.93 287.25,-310.93 281.25,-316.93 275.25,-316.93\"/>\n<text text-anchor=\"middle\" x=\"242.25\" y=\"-301.73\" font-family=\"Times,serif\" font-size=\"14.00\">adj_idx</text>\n<text text-anchor=\"middle\" x=\"242.25\" y=\"-286.73\" font-family=\"Times,serif\" font-size=\"14.00\">~</text>\n<text text-anchor=\"middle\" x=\"242.25\" y=\"-271.73\" font-family=\"Times,serif\" font-size=\"14.00\">ConstantData</text>\n</g>\n<!-- adj_idx&#45;&gt;mu -->\n<g id=\"edge5\" class=\"edge\">\n<title>adj_idx&#45;&gt;mu</title>\n<path fill=\"none\" stroke=\"black\" d=\"M242.51,-263.69C242.62,-252.06 242.76,-238.1 242.89,-225.38\"/>\n<polygon fill=\"black\" stroke=\"black\" points=\"246.39,-225.7 242.99,-215.66 239.39,-225.63 246.39,-225.7\"/>\n</g>\n<!-- y -->\n<g id=\"node3\" class=\"node\">\n<title>y</title>\n<polygon fill=\"none\" stroke=\"black\" points=\"396.75,-316.93 305.75,-316.93 305.75,-263.93 396.75,-263.93 396.75,-316.93\"/>\n<text text-anchor=\"middle\" x=\"351.25\" y=\"-301.73\" font-family=\"Times,serif\" font-size=\"14.00\">y</text>\n<text text-anchor=\"middle\" x=\"351.25\" y=\"-286.73\" font-family=\"Times,serif\" font-size=\"14.00\">~</text>\n<text text-anchor=\"middle\" x=\"351.25\" y=\"-271.73\" font-family=\"Times,serif\" font-size=\"14.00\">Deterministic</text>\n</g>\n<!-- intercept -->\n<g id=\"node4\" class=\"node\">\n<title>intercept</title>\n<ellipse fill=\"none\" stroke=\"black\" cx=\"45.25\" cy=\"-290.43\" rx=\"45.01\" ry=\"37.45\"/>\n<text text-anchor=\"middle\" x=\"45.25\" y=\"-301.73\" font-family=\"Times,serif\" font-size=\"14.00\">intercept</text>\n<text text-anchor=\"middle\" x=\"45.25\" y=\"-286.73\" font-family=\"Times,serif\" font-size=\"14.00\">~</text>\n<text text-anchor=\"middle\" x=\"45.25\" y=\"-271.73\" font-family=\"Times,serif\" font-size=\"14.00\">Normal</text>\n</g>\n<!-- intercept&#45;&gt;mu -->\n<g id=\"edge3\" class=\"edge\">\n<title>intercept&#45;&gt;mu</title>\n<path fill=\"none\" stroke=\"black\" d=\"M62.8,-255.77C70.83,-243.41 81.43,-230.39 94.25,-221.95 121.34,-204.13 156.54,-195.7 185.93,-191.74\"/>\n<polygon fill=\"black\" stroke=\"black\" points=\"186.27,-195.22 195.79,-190.57 185.44,-188.27 186.27,-195.22\"/>\n</g>\n<!-- sigma_phi -->\n<g id=\"node5\" class=\"node\">\n<title>sigma_phi</title>\n<ellipse fill=\"none\" stroke=\"black\" cx=\"91.25\" cy=\"-401.38\" rx=\"52.15\" ry=\"37.45\"/>\n<text text-anchor=\"middle\" x=\"91.25\" y=\"-412.68\" font-family=\"Times,serif\" font-size=\"14.00\">sigma_phi</text>\n<text text-anchor=\"middle\" x=\"91.25\" y=\"-397.68\" font-family=\"Times,serif\" font-size=\"14.00\">~</text>\n<text text-anchor=\"middle\" x=\"91.25\" y=\"-382.68\" font-family=\"Times,serif\" font-size=\"14.00\">Uniform</text>\n</g>\n<!-- phi -->\n<g id=\"node7\" class=\"node\">\n<title>phi</title>\n<ellipse fill=\"none\" stroke=\"black\" cx=\"142.25\" cy=\"-290.43\" rx=\"31.23\" ry=\"37.45\"/>\n<text text-anchor=\"middle\" x=\"142.25\" y=\"-301.73\" font-family=\"Times,serif\" font-size=\"14.00\">phi</text>\n<text text-anchor=\"middle\" x=\"142.25\" y=\"-286.73\" font-family=\"Times,serif\" font-size=\"14.00\">~</text>\n<text text-anchor=\"middle\" x=\"142.25\" y=\"-271.73\" font-family=\"Times,serif\" font-size=\"14.00\">CAR</text>\n</g>\n<!-- sigma_phi&#45;&gt;phi -->\n<g id=\"edge1\" class=\"edge\">\n<title>sigma_phi&#45;&gt;phi</title>\n<path fill=\"none\" stroke=\"black\" d=\"M107.53,-365.61C112.25,-355.52 117.46,-344.39 122.38,-333.89\"/>\n<polygon fill=\"black\" stroke=\"black\" points=\"125.46,-335.57 126.53,-325.03 119.12,-332.6 125.46,-335.57\"/>\n</g>\n<!-- alpha -->\n<g id=\"node6\" class=\"node\">\n<title>alpha</title>\n<ellipse fill=\"none\" stroke=\"black\" cx=\"194.25\" cy=\"-401.38\" rx=\"32.55\" ry=\"37.45\"/>\n<text text-anchor=\"middle\" x=\"194.25\" y=\"-412.68\" font-family=\"Times,serif\" font-size=\"14.00\">alpha</text>\n<text text-anchor=\"middle\" x=\"194.25\" y=\"-397.68\" font-family=\"Times,serif\" font-size=\"14.00\">~</text>\n<text text-anchor=\"middle\" x=\"194.25\" y=\"-382.68\" font-family=\"Times,serif\" font-size=\"14.00\">Beta</text>\n</g>\n<!-- alpha&#45;&gt;phi -->\n<g id=\"edge2\" class=\"edge\">\n<title>alpha&#45;&gt;phi</title>\n<path fill=\"none\" stroke=\"black\" d=\"M178.79,-367.99C173.66,-357.23 167.87,-345.09 162.43,-333.7\"/>\n<polygon fill=\"black\" stroke=\"black\" points=\"165.68,-332.4 158.22,-324.88 159.37,-335.41 165.68,-332.4\"/>\n</g>\n<!-- phi&#45;&gt;mu -->\n<g id=\"edge4\" class=\"edge\">\n<title>phi&#45;&gt;mu</title>\n<path fill=\"none\" stroke=\"black\" d=\"M158.09,-257.91C165.24,-245.71 174.52,-232.23 185.25,-221.95 186.29,-220.96 187.37,-219.98 188.47,-219.02\"/>\n<polygon fill=\"black\" stroke=\"black\" points=\"190.49,-221.89 196.22,-212.98 186.18,-216.37 190.49,-221.89\"/>\n</g>\n<!-- y_missing&#45;&gt;y -->\n<g id=\"edge8\" class=\"edge\">\n<title>y_missing&#45;&gt;y</title>\n<path fill=\"none\" stroke=\"black\" d=\"M275.12,-104.44C283.23,-112 291.24,-120.71 297.25,-129.95 321.99,-167.99 336.58,-218.52 344.24,-252.42\"/>\n<polygon fill=\"black\" stroke=\"black\" points=\"340.81,-253.15 346.34,-262.18 347.66,-251.67 340.81,-253.15\"/>\n</g>\n<!-- y_observed&#45;&gt;y -->\n<g id=\"edge9\" class=\"edge\">\n<title>y_observed&#45;&gt;y</title>\n<path fill=\"none\" stroke=\"black\" d=\"M368.64,-113.99C364.81,-152.6 358.81,-213.19 354.95,-252.11\"/>\n<polygon fill=\"black\" stroke=\"black\" points=\"351.48,-251.64 353.98,-261.93 358.45,-252.33 351.48,-251.64\"/>\n</g>\n</g>\n</svg>\n",
      "text/plain": [
       "<graphviz.graphs.Digraph at 0x1420211e0>"
      ]
     },
     "metadata": {},
     "output_type": "display_data"
    },
    {
     "name": "stdout",
     "output_type": "stream",
     "text": [
      "pooled_intercept_random_covariate_car_model\n"
     ]
    },
    {
     "data": {
      "image/svg+xml": "<?xml version=\"1.0\" encoding=\"UTF-8\" standalone=\"no\"?>\n<!DOCTYPE svg PUBLIC \"-//W3C//DTD SVG 1.1//EN\"\n \"http://www.w3.org/Graphics/SVG/1.1/DTD/svg11.dtd\">\n<!-- Generated by graphviz version 7.0.2 (20221119.0110)\n -->\n<!-- Pages: 1 -->\n<svg width=\"947pt\" height=\"447pt\"\n viewBox=\"0.00 0.00 947.00 446.86\" xmlns=\"http://www.w3.org/2000/svg\" xmlns:xlink=\"http://www.w3.org/1999/xlink\">\n<g id=\"graph0\" class=\"graph\" transform=\"scale(1 1) rotate(0) translate(4 442.86)\">\n<polygon fill=\"white\" stroke=\"none\" points=\"-4,4 -4,-442.86 943,-442.86 943,4 -4,4\"/>\n<g id=\"clust1\" class=\"cluster\">\n<title>clusterobs_idx (384)</title>\n<path fill=\"none\" stroke=\"black\" d=\"M619,-129.95C619,-129.95 919,-129.95 919,-129.95 925,-129.95 931,-135.95 931,-141.95 931,-141.95 931,-312.93 931,-312.93 931,-318.93 925,-324.93 919,-324.93 919,-324.93 619,-324.93 619,-324.93 613,-324.93 607,-318.93 607,-312.93 607,-312.93 607,-141.95 607,-141.95 607,-135.95 613,-129.95 619,-129.95\"/>\n<text text-anchor=\"middle\" x=\"885\" y=\"-137.75\" font-family=\"Times,serif\" font-size=\"14.00\">obs_idx (384)</text>\n</g>\n<g id=\"clust2\" class=\"cluster\">\n<title>clusterobs_idx (384) x features_idx (9)</title>\n<path fill=\"none\" stroke=\"black\" d=\"M20,-232.93C20,-232.93 189,-232.93 189,-232.93 195,-232.93 201,-238.93 201,-244.93 201,-244.93 201,-312.93 201,-312.93 201,-318.93 195,-324.93 189,-324.93 189,-324.93 20,-324.93 20,-324.93 14,-324.93 8,-318.93 8,-312.93 8,-312.93 8,-244.93 8,-244.93 8,-238.93 14,-232.93 20,-232.93\"/>\n<text text-anchor=\"middle\" x=\"104.5\" y=\"-240.73\" font-family=\"Times,serif\" font-size=\"14.00\">obs_idx (384) x features_idx (9)</text>\n</g>\n<g id=\"clust3\" class=\"cluster\">\n<title>clusteradj_idx (96)</title>\n<path fill=\"none\" stroke=\"black\" d=\"M320,-221.95C320,-221.95 379,-221.95 379,-221.95 385,-221.95 391,-227.95 391,-233.95 391,-233.95 391,-323.91 391,-323.91 391,-329.91 385,-335.91 379,-335.91 379,-335.91 320,-335.91 320,-335.91 314,-335.91 308,-329.91 308,-323.91 308,-323.91 308,-233.95 308,-233.95 308,-227.95 314,-221.95 320,-221.95\"/>\n<text text-anchor=\"middle\" x=\"349.5\" y=\"-229.75\" font-family=\"Times,serif\" font-size=\"14.00\">adj_idx (96)</text>\n</g>\n<g id=\"clust4\" class=\"cluster\">\n<title>clusterspecies_idx (4) x features_idx (9)</title>\n<path fill=\"none\" stroke=\"black\" d=\"M411,-221.95C411,-221.95 587,-221.95 587,-221.95 593,-221.95 599,-227.95 599,-233.95 599,-233.95 599,-323.91 599,-323.91 599,-329.91 593,-335.91 587,-335.91 587,-335.91 411,-335.91 411,-335.91 405,-335.91 399,-329.91 399,-323.91 399,-323.91 399,-233.95 399,-233.95 399,-227.95 405,-221.95 411,-221.95\"/>\n<text text-anchor=\"middle\" x=\"499\" y=\"-229.75\" font-family=\"Times,serif\" font-size=\"14.00\">species_idx (4) x features_idx (9)</text>\n</g>\n<g id=\"clust5\" class=\"cluster\">\n<title>cluster211</title>\n<path fill=\"none\" stroke=\"black\" d=\"M803,-8C803,-8 899,-8 899,-8 905,-8 911,-14 911,-20 911,-20 911,-109.95 911,-109.95 911,-115.95 905,-121.95 899,-121.95 899,-121.95 803,-121.95 803,-121.95 797,-121.95 791,-115.95 791,-109.95 791,-109.95 791,-20 791,-20 791,-14 797,-8 803,-8\"/>\n<text text-anchor=\"middle\" x=\"892.5\" y=\"-15.8\" font-family=\"Times,serif\" font-size=\"14.00\">211</text>\n</g>\n<g id=\"clust6\" class=\"cluster\">\n<title>cluster173</title>\n<path fill=\"none\" stroke=\"black\" d=\"M628,-8C628,-8 732,-8 732,-8 738,-8 744,-14 744,-20 744,-20 744,-109.95 744,-109.95 744,-115.95 738,-121.95 732,-121.95 732,-121.95 628,-121.95 628,-121.95 622,-121.95 616,-115.95 616,-109.95 616,-109.95 616,-20 616,-20 616,-14 622,-8 628,-8\"/>\n<text text-anchor=\"middle\" x=\"725.5\" y=\"-15.8\" font-family=\"Times,serif\" font-size=\"14.00\">173</text>\n</g>\n<!-- mu -->\n<g id=\"node1\" class=\"node\">\n<title>mu</title>\n<polygon fill=\"none\" stroke=\"black\" points=\"706.5,-213.95 615.5,-213.95 615.5,-160.95 706.5,-160.95 706.5,-213.95\"/>\n<text text-anchor=\"middle\" x=\"661\" y=\"-198.75\" font-family=\"Times,serif\" font-size=\"14.00\">mu</text>\n<text text-anchor=\"middle\" x=\"661\" y=\"-183.75\" font-family=\"Times,serif\" font-size=\"14.00\">~</text>\n<text text-anchor=\"middle\" x=\"661\" y=\"-168.75\" font-family=\"Times,serif\" font-size=\"14.00\">Deterministic</text>\n</g>\n<!-- y_missing -->\n<g id=\"node11\" class=\"node\">\n<title>y_missing</title>\n<ellipse fill=\"none\" stroke=\"black\" cx=\"851\" cy=\"-76.48\" rx=\"51.74\" ry=\"37.45\"/>\n<text text-anchor=\"middle\" x=\"851\" y=\"-87.78\" font-family=\"Times,serif\" font-size=\"14.00\">y_missing</text>\n<text text-anchor=\"middle\" x=\"851\" y=\"-72.78\" font-family=\"Times,serif\" font-size=\"14.00\">~</text>\n<text text-anchor=\"middle\" x=\"851\" y=\"-57.78\" font-family=\"Times,serif\" font-size=\"14.00\">Poisson</text>\n</g>\n<!-- mu&#45;&gt;y_missing -->\n<g id=\"edge9\" class=\"edge\">\n<title>mu&#45;&gt;y_missing</title>\n<path fill=\"none\" stroke=\"black\" d=\"M706.03,-160.63C734.62,-144.23 771.65,-122.99 801.13,-106.08\"/>\n<polygon fill=\"black\" stroke=\"black\" points=\"802.57,-109.29 809.51,-101.28 799.09,-103.22 802.57,-109.29\"/>\n</g>\n<!-- y_observed -->\n<g id=\"node12\" class=\"node\">\n<title>y_observed</title>\n<ellipse fill=\"lightgrey\" stroke=\"black\" cx=\"680\" cy=\"-76.48\" rx=\"55.72\" ry=\"37.45\"/>\n<text text-anchor=\"middle\" x=\"680\" y=\"-87.78\" font-family=\"Times,serif\" font-size=\"14.00\">y_observed</text>\n<text text-anchor=\"middle\" x=\"680\" y=\"-72.78\" font-family=\"Times,serif\" font-size=\"14.00\">~</text>\n<text text-anchor=\"middle\" x=\"680\" y=\"-57.78\" font-family=\"Times,serif\" font-size=\"14.00\">Poisson</text>\n</g>\n<!-- mu&#45;&gt;y_observed -->\n<g id=\"edge10\" class=\"edge\">\n<title>mu&#45;&gt;y_observed</title>\n<path fill=\"none\" stroke=\"black\" d=\"M665.5,-160.63C667.37,-149.93 669.59,-137.17 671.73,-124.9\"/>\n<polygon fill=\"black\" stroke=\"black\" points=\"675.13,-125.78 673.4,-115.33 668.23,-124.58 675.13,-125.78\"/>\n</g>\n<!-- species_idx -->\n<g id=\"node2\" class=\"node\">\n<title>species_idx</title>\n<path fill=\"lightgrey\" stroke=\"black\" d=\"M801,-316.93C801,-316.93 735,-316.93 735,-316.93 729,-316.93 723,-310.93 723,-304.93 723,-304.93 723,-275.93 723,-275.93 723,-269.93 729,-263.93 735,-263.93 735,-263.93 801,-263.93 801,-263.93 807,-263.93 813,-269.93 813,-275.93 813,-275.93 813,-304.93 813,-304.93 813,-310.93 807,-316.93 801,-316.93\"/>\n<text text-anchor=\"middle\" x=\"768\" y=\"-301.73\" font-family=\"Times,serif\" font-size=\"14.00\">species_idx</text>\n<text text-anchor=\"middle\" x=\"768\" y=\"-286.73\" font-family=\"Times,serif\" font-size=\"14.00\">~</text>\n<text text-anchor=\"middle\" x=\"768\" y=\"-271.73\" font-family=\"Times,serif\" font-size=\"14.00\">ConstantData</text>\n</g>\n<!-- species_idx&#45;&gt;mu -->\n<g id=\"edge6\" class=\"edge\">\n<title>species_idx&#45;&gt;mu</title>\n<path fill=\"none\" stroke=\"black\" d=\"M750.56,-263.68C740.76,-250.32 727.75,-234.26 714,-221.95 713.82,-221.79 713.63,-221.63 713.45,-221.46\"/>\n<polygon fill=\"black\" stroke=\"black\" points=\"715.83,-218.89 705.86,-215.32 711.43,-224.33 715.83,-218.89\"/>\n</g>\n<!-- adj_idx -->\n<g id=\"node3\" class=\"node\">\n<title>adj_idx</title>\n<path fill=\"lightgrey\" stroke=\"black\" d=\"M693,-316.93C693,-316.93 627,-316.93 627,-316.93 621,-316.93 615,-310.93 615,-304.93 615,-304.93 615,-275.93 615,-275.93 615,-269.93 621,-263.93 627,-263.93 627,-263.93 693,-263.93 693,-263.93 699,-263.93 705,-269.93 705,-275.93 705,-275.93 705,-304.93 705,-304.93 705,-310.93 699,-316.93 693,-316.93\"/>\n<text text-anchor=\"middle\" x=\"660\" y=\"-301.73\" font-family=\"Times,serif\" font-size=\"14.00\">adj_idx</text>\n<text text-anchor=\"middle\" x=\"660\" y=\"-286.73\" font-family=\"Times,serif\" font-size=\"14.00\">~</text>\n<text text-anchor=\"middle\" x=\"660\" y=\"-271.73\" font-family=\"Times,serif\" font-size=\"14.00\">ConstantData</text>\n</g>\n<!-- adj_idx&#45;&gt;mu -->\n<g id=\"edge8\" class=\"edge\">\n<title>adj_idx&#45;&gt;mu</title>\n<path fill=\"none\" stroke=\"black\" d=\"M660.25,-263.69C660.37,-252.06 660.51,-238.1 660.63,-225.38\"/>\n<polygon fill=\"black\" stroke=\"black\" points=\"664.13,-225.7 660.73,-215.66 657.13,-225.63 664.13,-225.7\"/>\n</g>\n<!-- y -->\n<g id=\"node4\" class=\"node\">\n<title>y</title>\n<polygon fill=\"none\" stroke=\"black\" points=\"922.5,-316.93 831.5,-316.93 831.5,-263.93 922.5,-263.93 922.5,-316.93\"/>\n<text text-anchor=\"middle\" x=\"877\" y=\"-301.73\" font-family=\"Times,serif\" font-size=\"14.00\">y</text>\n<text text-anchor=\"middle\" x=\"877\" y=\"-286.73\" font-family=\"Times,serif\" font-size=\"14.00\">~</text>\n<text text-anchor=\"middle\" x=\"877\" y=\"-271.73\" font-family=\"Times,serif\" font-size=\"14.00\">Deterministic</text>\n</g>\n<!-- X -->\n<g id=\"node5\" class=\"node\">\n<title>X</title>\n<path fill=\"lightgrey\" stroke=\"black\" d=\"M180,-316.93C180,-316.93 114,-316.93 114,-316.93 108,-316.93 102,-310.93 102,-304.93 102,-304.93 102,-275.93 102,-275.93 102,-269.93 108,-263.93 114,-263.93 114,-263.93 180,-263.93 180,-263.93 186,-263.93 192,-269.93 192,-275.93 192,-275.93 192,-304.93 192,-304.93 192,-310.93 186,-316.93 180,-316.93\"/>\n<text text-anchor=\"middle\" x=\"147\" y=\"-301.73\" font-family=\"Times,serif\" font-size=\"14.00\">X</text>\n<text text-anchor=\"middle\" x=\"147\" y=\"-286.73\" font-family=\"Times,serif\" font-size=\"14.00\">~</text>\n<text text-anchor=\"middle\" x=\"147\" y=\"-271.73\" font-family=\"Times,serif\" font-size=\"14.00\">ConstantData</text>\n</g>\n<!-- X&#45;&gt;mu -->\n<g id=\"edge4\" class=\"edge\">\n<title>X&#45;&gt;mu</title>\n<path fill=\"none\" stroke=\"black\" d=\"M160.4,-263.76C169.66,-248.83 183.47,-231.17 201,-221.95 235.81,-203.64 488.21,-193.7 603.65,-190.07\"/>\n<polygon fill=\"black\" stroke=\"black\" points=\"603.64,-193.57 613.53,-189.77 603.43,-186.58 603.64,-193.57\"/>\n</g>\n<!-- intercept -->\n<g id=\"node6\" class=\"node\">\n<title>intercept</title>\n<ellipse fill=\"none\" stroke=\"black\" cx=\"255\" cy=\"-290.43\" rx=\"45.01\" ry=\"37.45\"/>\n<text text-anchor=\"middle\" x=\"255\" y=\"-301.73\" font-family=\"Times,serif\" font-size=\"14.00\">intercept</text>\n<text text-anchor=\"middle\" x=\"255\" y=\"-286.73\" font-family=\"Times,serif\" font-size=\"14.00\">~</text>\n<text text-anchor=\"middle\" x=\"255\" y=\"-271.73\" font-family=\"Times,serif\" font-size=\"14.00\">Normal</text>\n</g>\n<!-- intercept&#45;&gt;mu -->\n<g id=\"edge5\" class=\"edge\">\n<title>intercept&#45;&gt;mu</title>\n<path fill=\"none\" stroke=\"black\" d=\"M271.8,-255.26C279.77,-242.67 290.54,-229.63 304,-221.95 353.75,-193.59 516.39,-188.69 603.96,-188.18\"/>\n<polygon fill=\"black\" stroke=\"black\" points=\"603.78,-191.68 613.77,-188.14 603.75,-184.68 603.78,-191.68\"/>\n</g>\n<!-- sigma_phi -->\n<g id=\"node7\" class=\"node\">\n<title>sigma_phi</title>\n<ellipse fill=\"none\" stroke=\"black\" cx=\"301\" cy=\"-401.38\" rx=\"52.15\" ry=\"37.45\"/>\n<text text-anchor=\"middle\" x=\"301\" y=\"-412.68\" font-family=\"Times,serif\" font-size=\"14.00\">sigma_phi</text>\n<text text-anchor=\"middle\" x=\"301\" y=\"-397.68\" font-family=\"Times,serif\" font-size=\"14.00\">~</text>\n<text text-anchor=\"middle\" x=\"301\" y=\"-382.68\" font-family=\"Times,serif\" font-size=\"14.00\">Uniform</text>\n</g>\n<!-- phi -->\n<g id=\"node9\" class=\"node\">\n<title>phi</title>\n<ellipse fill=\"none\" stroke=\"black\" cx=\"352\" cy=\"-290.43\" rx=\"31.23\" ry=\"37.45\"/>\n<text text-anchor=\"middle\" x=\"352\" y=\"-301.73\" font-family=\"Times,serif\" font-size=\"14.00\">phi</text>\n<text text-anchor=\"middle\" x=\"352\" y=\"-286.73\" font-family=\"Times,serif\" font-size=\"14.00\">~</text>\n<text text-anchor=\"middle\" x=\"352\" y=\"-271.73\" font-family=\"Times,serif\" font-size=\"14.00\">CAR</text>\n</g>\n<!-- sigma_phi&#45;&gt;phi -->\n<g id=\"edge1\" class=\"edge\">\n<title>sigma_phi&#45;&gt;phi</title>\n<path fill=\"none\" stroke=\"black\" d=\"M317.28,-365.61C322,-355.52 327.21,-344.39 332.13,-333.89\"/>\n<polygon fill=\"black\" stroke=\"black\" points=\"335.2,-335.57 336.27,-325.03 328.87,-332.6 335.2,-335.57\"/>\n</g>\n<!-- alpha -->\n<g id=\"node8\" class=\"node\">\n<title>alpha</title>\n<ellipse fill=\"none\" stroke=\"black\" cx=\"404\" cy=\"-401.38\" rx=\"32.55\" ry=\"37.45\"/>\n<text text-anchor=\"middle\" x=\"404\" y=\"-412.68\" font-family=\"Times,serif\" font-size=\"14.00\">alpha</text>\n<text text-anchor=\"middle\" x=\"404\" y=\"-397.68\" font-family=\"Times,serif\" font-size=\"14.00\">~</text>\n<text text-anchor=\"middle\" x=\"404\" y=\"-382.68\" font-family=\"Times,serif\" font-size=\"14.00\">Beta</text>\n</g>\n<!-- alpha&#45;&gt;phi -->\n<g id=\"edge2\" class=\"edge\">\n<title>alpha&#45;&gt;phi</title>\n<path fill=\"none\" stroke=\"black\" d=\"M388.54,-367.99C383.4,-357.23 377.61,-345.09 372.17,-333.7\"/>\n<polygon fill=\"black\" stroke=\"black\" points=\"375.43,-332.4 367.96,-324.88 369.11,-335.41 375.43,-332.4\"/>\n</g>\n<!-- phi&#45;&gt;mu -->\n<g id=\"edge7\" class=\"edge\">\n<title>phi&#45;&gt;mu</title>\n<path fill=\"none\" stroke=\"black\" d=\"M365.6,-256.25C372.51,-243.49 382.21,-230.05 395,-221.95 428.65,-200.65 536.14,-192.86 603.74,-190.04\"/>\n<polygon fill=\"black\" stroke=\"black\" points=\"603.68,-193.54 613.54,-189.65 603.41,-186.55 603.68,-193.54\"/>\n</g>\n<!-- betas -->\n<g id=\"node10\" class=\"node\">\n<title>betas</title>\n<ellipse fill=\"none\" stroke=\"black\" cx=\"549\" cy=\"-290.43\" rx=\"41.94\" ry=\"37.45\"/>\n<text text-anchor=\"middle\" x=\"549\" y=\"-301.73\" font-family=\"Times,serif\" font-size=\"14.00\">betas</text>\n<text text-anchor=\"middle\" x=\"549\" y=\"-286.73\" font-family=\"Times,serif\" font-size=\"14.00\">~</text>\n<text text-anchor=\"middle\" x=\"549\" y=\"-271.73\" font-family=\"Times,serif\" font-size=\"14.00\">Normal</text>\n</g>\n<!-- betas&#45;&gt;mu -->\n<g id=\"edge3\" class=\"edge\">\n<title>betas&#45;&gt;mu</title>\n<path fill=\"none\" stroke=\"black\" d=\"M570.47,-257.75C579.61,-245.67 590.94,-232.32 603,-221.95 604.07,-221.04 605.16,-220.13 606.28,-219.24\"/>\n<polygon fill=\"black\" stroke=\"black\" points=\"608.02,-222.3 614.02,-213.56 603.88,-216.66 608.02,-222.3\"/>\n</g>\n<!-- y_missing&#45;&gt;y -->\n<g id=\"edge11\" class=\"edge\">\n<title>y_missing&#45;&gt;y</title>\n<path fill=\"none\" stroke=\"black\" d=\"M855.48,-113.99C860.21,-152.6 867.65,-213.19 872.42,-252.11\"/>\n<polygon fill=\"black\" stroke=\"black\" points=\"868.94,-252.44 873.63,-261.94 875.88,-251.59 868.94,-252.44\"/>\n</g>\n<!-- y_observed&#45;&gt;y -->\n<g id=\"edge12\" class=\"edge\">\n<title>y_observed&#45;&gt;y</title>\n<path fill=\"none\" stroke=\"black\" d=\"M711.32,-107.68C740.68,-136.37 785.4,-181.08 822,-221.95 831.37,-232.42 841.19,-244.18 849.9,-254.92\"/>\n<polygon fill=\"black\" stroke=\"black\" points=\"846.97,-256.87 855.96,-262.47 852.43,-252.48 846.97,-256.87\"/>\n</g>\n</g>\n</svg>\n",
      "text/plain": [
       "<graphviz.graphs.Digraph at 0x142021420>"
      ]
     },
     "metadata": {},
     "output_type": "display_data"
    },
    {
     "name": "stdout",
     "output_type": "stream",
     "text": [
      "random_intercept_pooled_covariate_car_model\n"
     ]
    },
    {
     "data": {
      "image/svg+xml": "<?xml version=\"1.0\" encoding=\"UTF-8\" standalone=\"no\"?>\n<!DOCTYPE svg PUBLIC \"-//W3C//DTD SVG 1.1//EN\"\n \"http://www.w3.org/Graphics/SVG/1.1/DTD/svg11.dtd\">\n<!-- Generated by graphviz version 7.0.2 (20221119.0110)\n -->\n<!-- Pages: 1 -->\n<svg width=\"865pt\" height=\"447pt\"\n viewBox=\"0.00 0.00 865.00 446.86\" xmlns=\"http://www.w3.org/2000/svg\" xmlns:xlink=\"http://www.w3.org/1999/xlink\">\n<g id=\"graph0\" class=\"graph\" transform=\"scale(1 1) rotate(0) translate(4 442.86)\">\n<polygon fill=\"white\" stroke=\"none\" points=\"-4,4 -4,-442.86 861,-442.86 861,4 -4,4\"/>\n<g id=\"clust1\" class=\"cluster\">\n<title>clusterobs_idx (384)</title>\n<path fill=\"none\" stroke=\"black\" d=\"M537,-129.95C537,-129.95 837,-129.95 837,-129.95 843,-129.95 849,-135.95 849,-141.95 849,-141.95 849,-312.93 849,-312.93 849,-318.93 843,-324.93 837,-324.93 837,-324.93 537,-324.93 537,-324.93 531,-324.93 525,-318.93 525,-312.93 525,-312.93 525,-141.95 525,-141.95 525,-135.95 531,-129.95 537,-129.95\"/>\n<text text-anchor=\"middle\" x=\"803\" y=\"-137.75\" font-family=\"Times,serif\" font-size=\"14.00\">obs_idx (384)</text>\n</g>\n<g id=\"clust2\" class=\"cluster\">\n<title>clusterobs_idx (384) x features_idx (9)</title>\n<path fill=\"none\" stroke=\"black\" d=\"M20,-232.93C20,-232.93 189,-232.93 189,-232.93 195,-232.93 201,-238.93 201,-244.93 201,-244.93 201,-312.93 201,-312.93 201,-318.93 195,-324.93 189,-324.93 189,-324.93 20,-324.93 20,-324.93 14,-324.93 8,-318.93 8,-312.93 8,-312.93 8,-244.93 8,-244.93 8,-238.93 14,-232.93 20,-232.93\"/>\n<text text-anchor=\"middle\" x=\"104.5\" y=\"-240.73\" font-family=\"Times,serif\" font-size=\"14.00\">obs_idx (384) x features_idx (9)</text>\n</g>\n<g id=\"clust3\" class=\"cluster\">\n<title>clusteradj_idx (96)</title>\n<path fill=\"none\" stroke=\"black\" d=\"M221,-221.95C221,-221.95 280,-221.95 280,-221.95 286,-221.95 292,-227.95 292,-233.95 292,-233.95 292,-323.91 292,-323.91 292,-329.91 286,-335.91 280,-335.91 280,-335.91 221,-335.91 221,-335.91 215,-335.91 209,-329.91 209,-323.91 209,-323.91 209,-233.95 209,-233.95 209,-227.95 215,-221.95 221,-221.95\"/>\n<text text-anchor=\"middle\" x=\"250.5\" y=\"-229.75\" font-family=\"Times,serif\" font-size=\"14.00\">adj_idx (96)</text>\n</g>\n<g id=\"clust4\" class=\"cluster\">\n<title>clusterspecies_idx (4)</title>\n<path fill=\"none\" stroke=\"black\" d=\"M312,-221.95C312,-221.95 394,-221.95 394,-221.95 400,-221.95 406,-227.95 406,-233.95 406,-233.95 406,-323.91 406,-323.91 406,-329.91 400,-335.91 394,-335.91 394,-335.91 312,-335.91 312,-335.91 306,-335.91 300,-329.91 300,-323.91 300,-323.91 300,-233.95 300,-233.95 300,-227.95 306,-221.95 312,-221.95\"/>\n<text text-anchor=\"middle\" x=\"356.5\" y=\"-229.75\" font-family=\"Times,serif\" font-size=\"14.00\">species_idx (4)</text>\n</g>\n<g id=\"clust5\" class=\"cluster\">\n<title>clusterfeatures_idx (9)</title>\n<path fill=\"none\" stroke=\"black\" d=\"M426,-221.95C426,-221.95 505,-221.95 505,-221.95 511,-221.95 517,-227.95 517,-233.95 517,-233.95 517,-323.91 517,-323.91 517,-329.91 511,-335.91 505,-335.91 505,-335.91 426,-335.91 426,-335.91 420,-335.91 414,-329.91 414,-323.91 414,-323.91 414,-233.95 414,-233.95 414,-227.95 420,-221.95 426,-221.95\"/>\n<text text-anchor=\"middle\" x=\"465.5\" y=\"-229.75\" font-family=\"Times,serif\" font-size=\"14.00\">features_idx (9)</text>\n</g>\n<g id=\"clust6\" class=\"cluster\">\n<title>cluster211</title>\n<path fill=\"none\" stroke=\"black\" d=\"M721,-8C721,-8 817,-8 817,-8 823,-8 829,-14 829,-20 829,-20 829,-109.95 829,-109.95 829,-115.95 823,-121.95 817,-121.95 817,-121.95 721,-121.95 721,-121.95 715,-121.95 709,-115.95 709,-109.95 709,-109.95 709,-20 709,-20 709,-14 715,-8 721,-8\"/>\n<text text-anchor=\"middle\" x=\"810.5\" y=\"-15.8\" font-family=\"Times,serif\" font-size=\"14.00\">211</text>\n</g>\n<g id=\"clust7\" class=\"cluster\">\n<title>cluster173</title>\n<path fill=\"none\" stroke=\"black\" d=\"M546,-8C546,-8 650,-8 650,-8 656,-8 662,-14 662,-20 662,-20 662,-109.95 662,-109.95 662,-115.95 656,-121.95 650,-121.95 650,-121.95 546,-121.95 546,-121.95 540,-121.95 534,-115.95 534,-109.95 534,-109.95 534,-20 534,-20 534,-14 540,-8 546,-8\"/>\n<text text-anchor=\"middle\" x=\"643.5\" y=\"-15.8\" font-family=\"Times,serif\" font-size=\"14.00\">173</text>\n</g>\n<!-- mu -->\n<g id=\"node1\" class=\"node\">\n<title>mu</title>\n<polygon fill=\"none\" stroke=\"black\" points=\"624.5,-213.95 533.5,-213.95 533.5,-160.95 624.5,-160.95 624.5,-213.95\"/>\n<text text-anchor=\"middle\" x=\"579\" y=\"-198.75\" font-family=\"Times,serif\" font-size=\"14.00\">mu</text>\n<text text-anchor=\"middle\" x=\"579\" y=\"-183.75\" font-family=\"Times,serif\" font-size=\"14.00\">~</text>\n<text text-anchor=\"middle\" x=\"579\" y=\"-168.75\" font-family=\"Times,serif\" font-size=\"14.00\">Deterministic</text>\n</g>\n<!-- y_missing -->\n<g id=\"node11\" class=\"node\">\n<title>y_missing</title>\n<ellipse fill=\"none\" stroke=\"black\" cx=\"769\" cy=\"-76.48\" rx=\"51.74\" ry=\"37.45\"/>\n<text text-anchor=\"middle\" x=\"769\" y=\"-87.78\" font-family=\"Times,serif\" font-size=\"14.00\">y_missing</text>\n<text text-anchor=\"middle\" x=\"769\" y=\"-72.78\" font-family=\"Times,serif\" font-size=\"14.00\">~</text>\n<text text-anchor=\"middle\" x=\"769\" y=\"-57.78\" font-family=\"Times,serif\" font-size=\"14.00\">Poisson</text>\n</g>\n<!-- mu&#45;&gt;y_missing -->\n<g id=\"edge9\" class=\"edge\">\n<title>mu&#45;&gt;y_missing</title>\n<path fill=\"none\" stroke=\"black\" d=\"M624.03,-160.63C652.62,-144.23 689.65,-122.99 719.13,-106.08\"/>\n<polygon fill=\"black\" stroke=\"black\" points=\"720.57,-109.29 727.51,-101.28 717.09,-103.22 720.57,-109.29\"/>\n</g>\n<!-- y_observed -->\n<g id=\"node12\" class=\"node\">\n<title>y_observed</title>\n<ellipse fill=\"lightgrey\" stroke=\"black\" cx=\"598\" cy=\"-76.48\" rx=\"55.72\" ry=\"37.45\"/>\n<text text-anchor=\"middle\" x=\"598\" y=\"-87.78\" font-family=\"Times,serif\" font-size=\"14.00\">y_observed</text>\n<text text-anchor=\"middle\" x=\"598\" y=\"-72.78\" font-family=\"Times,serif\" font-size=\"14.00\">~</text>\n<text text-anchor=\"middle\" x=\"598\" y=\"-57.78\" font-family=\"Times,serif\" font-size=\"14.00\">Poisson</text>\n</g>\n<!-- mu&#45;&gt;y_observed -->\n<g id=\"edge10\" class=\"edge\">\n<title>mu&#45;&gt;y_observed</title>\n<path fill=\"none\" stroke=\"black\" d=\"M583.5,-160.63C585.37,-149.93 587.59,-137.17 589.73,-124.9\"/>\n<polygon fill=\"black\" stroke=\"black\" points=\"593.13,-125.78 591.4,-115.33 586.23,-124.58 593.13,-125.78\"/>\n</g>\n<!-- species_idx -->\n<g id=\"node2\" class=\"node\">\n<title>species_idx</title>\n<path fill=\"lightgrey\" stroke=\"black\" d=\"M719,-316.93C719,-316.93 653,-316.93 653,-316.93 647,-316.93 641,-310.93 641,-304.93 641,-304.93 641,-275.93 641,-275.93 641,-269.93 647,-263.93 653,-263.93 653,-263.93 719,-263.93 719,-263.93 725,-263.93 731,-269.93 731,-275.93 731,-275.93 731,-304.93 731,-304.93 731,-310.93 725,-316.93 719,-316.93\"/>\n<text text-anchor=\"middle\" x=\"686\" y=\"-301.73\" font-family=\"Times,serif\" font-size=\"14.00\">species_idx</text>\n<text text-anchor=\"middle\" x=\"686\" y=\"-286.73\" font-family=\"Times,serif\" font-size=\"14.00\">~</text>\n<text text-anchor=\"middle\" x=\"686\" y=\"-271.73\" font-family=\"Times,serif\" font-size=\"14.00\">ConstantData</text>\n</g>\n<!-- species_idx&#45;&gt;mu -->\n<g id=\"edge6\" class=\"edge\">\n<title>species_idx&#45;&gt;mu</title>\n<path fill=\"none\" stroke=\"black\" d=\"M668.56,-263.68C658.76,-250.32 645.75,-234.26 632,-221.95 631.82,-221.79 631.63,-221.63 631.45,-221.46\"/>\n<polygon fill=\"black\" stroke=\"black\" points=\"633.83,-218.89 623.86,-215.32 629.43,-224.33 633.83,-218.89\"/>\n</g>\n<!-- adj_idx -->\n<g id=\"node3\" class=\"node\">\n<title>adj_idx</title>\n<path fill=\"lightgrey\" stroke=\"black\" d=\"M611,-316.93C611,-316.93 545,-316.93 545,-316.93 539,-316.93 533,-310.93 533,-304.93 533,-304.93 533,-275.93 533,-275.93 533,-269.93 539,-263.93 545,-263.93 545,-263.93 611,-263.93 611,-263.93 617,-263.93 623,-269.93 623,-275.93 623,-275.93 623,-304.93 623,-304.93 623,-310.93 617,-316.93 611,-316.93\"/>\n<text text-anchor=\"middle\" x=\"578\" y=\"-301.73\" font-family=\"Times,serif\" font-size=\"14.00\">adj_idx</text>\n<text text-anchor=\"middle\" x=\"578\" y=\"-286.73\" font-family=\"Times,serif\" font-size=\"14.00\">~</text>\n<text text-anchor=\"middle\" x=\"578\" y=\"-271.73\" font-family=\"Times,serif\" font-size=\"14.00\">ConstantData</text>\n</g>\n<!-- adj_idx&#45;&gt;mu -->\n<g id=\"edge8\" class=\"edge\">\n<title>adj_idx&#45;&gt;mu</title>\n<path fill=\"none\" stroke=\"black\" d=\"M578.25,-263.69C578.37,-252.06 578.51,-238.1 578.63,-225.38\"/>\n<polygon fill=\"black\" stroke=\"black\" points=\"582.13,-225.7 578.73,-215.66 575.13,-225.63 582.13,-225.7\"/>\n</g>\n<!-- y -->\n<g id=\"node4\" class=\"node\">\n<title>y</title>\n<polygon fill=\"none\" stroke=\"black\" points=\"840.5,-316.93 749.5,-316.93 749.5,-263.93 840.5,-263.93 840.5,-316.93\"/>\n<text text-anchor=\"middle\" x=\"795\" y=\"-301.73\" font-family=\"Times,serif\" font-size=\"14.00\">y</text>\n<text text-anchor=\"middle\" x=\"795\" y=\"-286.73\" font-family=\"Times,serif\" font-size=\"14.00\">~</text>\n<text text-anchor=\"middle\" x=\"795\" y=\"-271.73\" font-family=\"Times,serif\" font-size=\"14.00\">Deterministic</text>\n</g>\n<!-- X -->\n<g id=\"node5\" class=\"node\">\n<title>X</title>\n<path fill=\"lightgrey\" stroke=\"black\" d=\"M181,-316.93C181,-316.93 115,-316.93 115,-316.93 109,-316.93 103,-310.93 103,-304.93 103,-304.93 103,-275.93 103,-275.93 103,-269.93 109,-263.93 115,-263.93 115,-263.93 181,-263.93 181,-263.93 187,-263.93 193,-269.93 193,-275.93 193,-275.93 193,-304.93 193,-304.93 193,-310.93 187,-316.93 181,-316.93\"/>\n<text text-anchor=\"middle\" x=\"148\" y=\"-301.73\" font-family=\"Times,serif\" font-size=\"14.00\">X</text>\n<text text-anchor=\"middle\" x=\"148\" y=\"-286.73\" font-family=\"Times,serif\" font-size=\"14.00\">~</text>\n<text text-anchor=\"middle\" x=\"148\" y=\"-271.73\" font-family=\"Times,serif\" font-size=\"14.00\">ConstantData</text>\n</g>\n<!-- X&#45;&gt;mu -->\n<g id=\"edge4\" class=\"edge\">\n<title>X&#45;&gt;mu</title>\n<path fill=\"none\" stroke=\"black\" d=\"M162.75,-263.5C172.67,-248.67 187.18,-231.22 205,-221.95 258.61,-194.09 430.69,-189.01 521.55,-188.33\"/>\n<polygon fill=\"black\" stroke=\"black\" points=\"521.52,-191.83 531.5,-188.28 521.48,-184.83 521.52,-191.83\"/>\n</g>\n<!-- sigma_phi -->\n<g id=\"node6\" class=\"node\">\n<title>sigma_phi</title>\n<ellipse fill=\"none\" stroke=\"black\" cx=\"202\" cy=\"-401.38\" rx=\"52.15\" ry=\"37.45\"/>\n<text text-anchor=\"middle\" x=\"202\" y=\"-412.68\" font-family=\"Times,serif\" font-size=\"14.00\">sigma_phi</text>\n<text text-anchor=\"middle\" x=\"202\" y=\"-397.68\" font-family=\"Times,serif\" font-size=\"14.00\">~</text>\n<text text-anchor=\"middle\" x=\"202\" y=\"-382.68\" font-family=\"Times,serif\" font-size=\"14.00\">Uniform</text>\n</g>\n<!-- phi -->\n<g id=\"node8\" class=\"node\">\n<title>phi</title>\n<ellipse fill=\"none\" stroke=\"black\" cx=\"253\" cy=\"-290.43\" rx=\"31.23\" ry=\"37.45\"/>\n<text text-anchor=\"middle\" x=\"253\" y=\"-301.73\" font-family=\"Times,serif\" font-size=\"14.00\">phi</text>\n<text text-anchor=\"middle\" x=\"253\" y=\"-286.73\" font-family=\"Times,serif\" font-size=\"14.00\">~</text>\n<text text-anchor=\"middle\" x=\"253\" y=\"-271.73\" font-family=\"Times,serif\" font-size=\"14.00\">CAR</text>\n</g>\n<!-- sigma_phi&#45;&gt;phi -->\n<g id=\"edge1\" class=\"edge\">\n<title>sigma_phi&#45;&gt;phi</title>\n<path fill=\"none\" stroke=\"black\" d=\"M218.28,-365.61C223,-355.52 228.21,-344.39 233.13,-333.89\"/>\n<polygon fill=\"black\" stroke=\"black\" points=\"236.2,-335.57 237.27,-325.03 229.87,-332.6 236.2,-335.57\"/>\n</g>\n<!-- alpha -->\n<g id=\"node7\" class=\"node\">\n<title>alpha</title>\n<ellipse fill=\"none\" stroke=\"black\" cx=\"305\" cy=\"-401.38\" rx=\"32.55\" ry=\"37.45\"/>\n<text text-anchor=\"middle\" x=\"305\" y=\"-412.68\" font-family=\"Times,serif\" font-size=\"14.00\">alpha</text>\n<text text-anchor=\"middle\" x=\"305\" y=\"-397.68\" font-family=\"Times,serif\" font-size=\"14.00\">~</text>\n<text text-anchor=\"middle\" x=\"305\" y=\"-382.68\" font-family=\"Times,serif\" font-size=\"14.00\">Beta</text>\n</g>\n<!-- alpha&#45;&gt;phi -->\n<g id=\"edge2\" class=\"edge\">\n<title>alpha&#45;&gt;phi</title>\n<path fill=\"none\" stroke=\"black\" d=\"M289.54,-367.99C284.4,-357.23 278.61,-345.09 273.17,-333.7\"/>\n<polygon fill=\"black\" stroke=\"black\" points=\"276.43,-332.4 268.96,-324.88 270.11,-335.41 276.43,-332.4\"/>\n</g>\n<!-- phi&#45;&gt;mu -->\n<g id=\"edge7\" class=\"edge\">\n<title>phi&#45;&gt;mu</title>\n<path fill=\"none\" stroke=\"black\" d=\"M266.57,-256.2C273.48,-243.43 283.18,-230 296,-221.95 332.49,-199.04 450.34,-191.8 521.94,-189.51\"/>\n<polygon fill=\"black\" stroke=\"black\" points=\"521.61,-193.02 531.5,-189.23 521.4,-186.03 521.61,-193.02\"/>\n</g>\n<!-- intercept -->\n<g id=\"node9\" class=\"node\">\n<title>intercept</title>\n<ellipse fill=\"none\" stroke=\"black\" cx=\"353\" cy=\"-290.43\" rx=\"45.01\" ry=\"37.45\"/>\n<text text-anchor=\"middle\" x=\"353\" y=\"-301.73\" font-family=\"Times,serif\" font-size=\"14.00\">intercept</text>\n<text text-anchor=\"middle\" x=\"353\" y=\"-286.73\" font-family=\"Times,serif\" font-size=\"14.00\">~</text>\n<text text-anchor=\"middle\" x=\"353\" y=\"-271.73\" font-family=\"Times,serif\" font-size=\"14.00\">Normal</text>\n</g>\n<!-- intercept&#45;&gt;mu -->\n<g id=\"edge5\" class=\"edge\">\n<title>intercept&#45;&gt;mu</title>\n<path fill=\"none\" stroke=\"black\" d=\"M373.55,-256.63C383.13,-243.93 395.6,-230.44 410,-221.95 443.8,-202.03 487.33,-193.73 521.75,-190.37\"/>\n<polygon fill=\"black\" stroke=\"black\" points=\"521.87,-193.87 531.54,-189.54 521.28,-186.9 521.87,-193.87\"/>\n</g>\n<!-- betas -->\n<g id=\"node10\" class=\"node\">\n<title>betas</title>\n<ellipse fill=\"none\" stroke=\"black\" cx=\"467\" cy=\"-290.43\" rx=\"41.94\" ry=\"37.45\"/>\n<text text-anchor=\"middle\" x=\"467\" y=\"-301.73\" font-family=\"Times,serif\" font-size=\"14.00\">betas</text>\n<text text-anchor=\"middle\" x=\"467\" y=\"-286.73\" font-family=\"Times,serif\" font-size=\"14.00\">~</text>\n<text text-anchor=\"middle\" x=\"467\" y=\"-271.73\" font-family=\"Times,serif\" font-size=\"14.00\">Normal</text>\n</g>\n<!-- betas&#45;&gt;mu -->\n<g id=\"edge3\" class=\"edge\">\n<title>betas&#45;&gt;mu</title>\n<path fill=\"none\" stroke=\"black\" d=\"M488.47,-257.75C497.61,-245.67 508.94,-232.32 521,-221.95 522.07,-221.04 523.16,-220.13 524.28,-219.24\"/>\n<polygon fill=\"black\" stroke=\"black\" points=\"526.02,-222.3 532.02,-213.56 521.88,-216.66 526.02,-222.3\"/>\n</g>\n<!-- y_missing&#45;&gt;y -->\n<g id=\"edge11\" class=\"edge\">\n<title>y_missing&#45;&gt;y</title>\n<path fill=\"none\" stroke=\"black\" d=\"M773.48,-113.99C778.21,-152.6 785.65,-213.19 790.42,-252.11\"/>\n<polygon fill=\"black\" stroke=\"black\" points=\"786.94,-252.44 791.63,-261.94 793.88,-251.59 786.94,-252.44\"/>\n</g>\n<!-- y_observed&#45;&gt;y -->\n<g id=\"edge12\" class=\"edge\">\n<title>y_observed&#45;&gt;y</title>\n<path fill=\"none\" stroke=\"black\" d=\"M629.32,-107.68C658.68,-136.37 703.4,-181.08 740,-221.95 749.37,-232.42 759.19,-244.18 767.9,-254.92\"/>\n<polygon fill=\"black\" stroke=\"black\" points=\"764.97,-256.87 773.96,-262.47 770.43,-252.48 764.97,-256.87\"/>\n</g>\n</g>\n</svg>\n",
      "text/plain": [
       "<graphviz.graphs.Digraph at 0x149cfabf0>"
      ]
     },
     "metadata": {},
     "output_type": "display_data"
    }
   ],
   "source": [
    "from birdcall_distribution import model\n",
    "import pymc as pm\n",
    "import arviz as az\n",
    "\n",
    "# display function\n",
    "from IPython.display import display\n",
    "\n",
    "models = {\n",
    "    \"random_intercept_model\": model.make_random_intercept_model,\n",
    "    \"pooled_intercept_pooled_covariate_model\": model.make_pooled_intercept_pooled_covariate_model,\n",
    "    \"pooled_intercept_random_covariate_model\": model.make_pooled_intercept_random_covariate_model,\n",
    "    \"random_intercept_pooled_covariate_model\": model.make_random_intercept_pooled_covariate_model,\n",
    "    \"random_intercept_random_covariate_model\": model.make_random_intercept_random_covariate_model,\n",
    "    \"random_intercept_car_model\": model.make_random_intercept_car_model,\n",
    "    \"pooled_intercept_car_model\": model.make_pooled_intercept_car_model,\n",
    "    \"pooled_intercept_random_covariate_car_model\": model.make_pooled_intercept_random_covariate_car_model,\n",
    "    \"random_intercept_pooled_covariate_car_model\": model.make_random_intercept_pooled_covariate_car_model,\n",
    "}\n",
    "\n",
    "# test that all the models are dimensionally correct\n",
    "for name, func in models.items():\n",
    "    print(name)\n",
    "    m = func(prep_df, W)\n",
    "    # graphviz\n",
    "    display(pm.model_to_graphviz(m))"
   ]
  },
  {
   "cell_type": "code",
   "execution_count": 86,
   "metadata": {},
   "outputs": [
    {
     "name": "stderr",
     "output_type": "stream",
     "text": [
      "Only 10 samples in chain.\n"
     ]
    },
    {
     "name": "stdout",
     "output_type": "stream",
     "text": [
      "random_intercept_model\n"
     ]
    },
    {
     "name": "stderr",
     "output_type": "stream",
     "text": [
      "Sequential sampling (1 chains in 1 job)\n",
      "CompoundStep\n",
      ">NUTS: [intercept]\n",
      ">Metropolis: [y_missing]\n"
     ]
    },
    {
     "data": {
      "text/html": [
       "\n",
       "<style>\n",
       "    /* Turns off some styling */\n",
       "    progress {\n",
       "        /* gets rid of default border in Firefox and Opera. */\n",
       "        border: none;\n",
       "        /* Needs to be in here for Safari polyfill so background images work as expected. */\n",
       "        background-size: auto;\n",
       "    }\n",
       "    progress:not([value]), progress:not([value])::-webkit-progress-bar {\n",
       "        background: repeating-linear-gradient(45deg, #7e7e7e, #7e7e7e 10px, #5c5c5c 10px, #5c5c5c 20px);\n",
       "    }\n",
       "    .progress-bar-interrupted, .progress-bar-interrupted::-webkit-progress-bar {\n",
       "        background: #F44336;\n",
       "    }\n",
       "</style>\n"
      ],
      "text/plain": [
       "<IPython.core.display.HTML object>"
      ]
     },
     "metadata": {},
     "output_type": "display_data"
    },
    {
     "data": {
      "text/html": [
       "\n",
       "    <div>\n",
       "      <progress value='10' class='' max='10' style='width:300px; height:20px; vertical-align: middle;'></progress>\n",
       "      100.00% [10/10 00:00&lt;00:00 Sampling chain 0, 9 divergences]\n",
       "    </div>\n",
       "    "
      ],
      "text/plain": [
       "<IPython.core.display.HTML object>"
      ]
     },
     "metadata": {},
     "output_type": "display_data"
    },
    {
     "name": "stderr",
     "output_type": "stream",
     "text": [
      "Sampling 1 chain for 0 tune and 10 draw iterations (0 + 10 draws total) took 0 seconds.\n",
      "Only 10 samples in chain.\n"
     ]
    },
    {
     "name": "stdout",
     "output_type": "stream",
     "text": [
      "pooled_intercept_pooled_covariate_model\n"
     ]
    },
    {
     "name": "stderr",
     "output_type": "stream",
     "text": [
      "Sequential sampling (1 chains in 1 job)\n",
      "CompoundStep\n",
      ">NUTS: [intercept, betas]\n",
      ">Metropolis: [y_missing]\n"
     ]
    },
    {
     "data": {
      "text/html": [
       "\n",
       "<style>\n",
       "    /* Turns off some styling */\n",
       "    progress {\n",
       "        /* gets rid of default border in Firefox and Opera. */\n",
       "        border: none;\n",
       "        /* Needs to be in here for Safari polyfill so background images work as expected. */\n",
       "        background-size: auto;\n",
       "    }\n",
       "    progress:not([value]), progress:not([value])::-webkit-progress-bar {\n",
       "        background: repeating-linear-gradient(45deg, #7e7e7e, #7e7e7e 10px, #5c5c5c 10px, #5c5c5c 20px);\n",
       "    }\n",
       "    .progress-bar-interrupted, .progress-bar-interrupted::-webkit-progress-bar {\n",
       "        background: #F44336;\n",
       "    }\n",
       "</style>\n"
      ],
      "text/plain": [
       "<IPython.core.display.HTML object>"
      ]
     },
     "metadata": {},
     "output_type": "display_data"
    },
    {
     "data": {
      "text/html": [
       "\n",
       "    <div>\n",
       "      <progress value='10' class='' max='10' style='width:300px; height:20px; vertical-align: middle;'></progress>\n",
       "      100.00% [10/10 00:00&lt;00:00 Sampling chain 0, 9 divergences]\n",
       "    </div>\n",
       "    "
      ],
      "text/plain": [
       "<IPython.core.display.HTML object>"
      ]
     },
     "metadata": {},
     "output_type": "display_data"
    },
    {
     "name": "stderr",
     "output_type": "stream",
     "text": [
      "Sampling 1 chain for 0 tune and 10 draw iterations (0 + 10 draws total) took 1 seconds.\n",
      "Only 10 samples in chain.\n"
     ]
    },
    {
     "name": "stdout",
     "output_type": "stream",
     "text": [
      "pooled_intercept_random_covariate_model\n"
     ]
    },
    {
     "name": "stderr",
     "output_type": "stream",
     "text": [
      "Sequential sampling (1 chains in 1 job)\n",
      "CompoundStep\n",
      ">NUTS: [intercept, betas]\n",
      ">Metropolis: [y_missing]\n"
     ]
    },
    {
     "data": {
      "text/html": [
       "\n",
       "<style>\n",
       "    /* Turns off some styling */\n",
       "    progress {\n",
       "        /* gets rid of default border in Firefox and Opera. */\n",
       "        border: none;\n",
       "        /* Needs to be in here for Safari polyfill so background images work as expected. */\n",
       "        background-size: auto;\n",
       "    }\n",
       "    progress:not([value]), progress:not([value])::-webkit-progress-bar {\n",
       "        background: repeating-linear-gradient(45deg, #7e7e7e, #7e7e7e 10px, #5c5c5c 10px, #5c5c5c 20px);\n",
       "    }\n",
       "    .progress-bar-interrupted, .progress-bar-interrupted::-webkit-progress-bar {\n",
       "        background: #F44336;\n",
       "    }\n",
       "</style>\n"
      ],
      "text/plain": [
       "<IPython.core.display.HTML object>"
      ]
     },
     "metadata": {},
     "output_type": "display_data"
    },
    {
     "data": {
      "text/html": [
       "\n",
       "    <div>\n",
       "      <progress value='10' class='' max='10' style='width:300px; height:20px; vertical-align: middle;'></progress>\n",
       "      100.00% [10/10 00:00&lt;00:00 Sampling chain 0, 9 divergences]\n",
       "    </div>\n",
       "    "
      ],
      "text/plain": [
       "<IPython.core.display.HTML object>"
      ]
     },
     "metadata": {},
     "output_type": "display_data"
    },
    {
     "name": "stderr",
     "output_type": "stream",
     "text": [
      "Sampling 1 chain for 0 tune and 10 draw iterations (0 + 10 draws total) took 0 seconds.\n",
      "Only 10 samples in chain.\n"
     ]
    },
    {
     "name": "stdout",
     "output_type": "stream",
     "text": [
      "random_intercept_pooled_covariate_model\n"
     ]
    },
    {
     "name": "stderr",
     "output_type": "stream",
     "text": [
      "Sequential sampling (1 chains in 1 job)\n",
      "CompoundStep\n",
      ">NUTS: [intercept, betas]\n",
      ">Metropolis: [y_missing]\n"
     ]
    },
    {
     "data": {
      "text/html": [
       "\n",
       "<style>\n",
       "    /* Turns off some styling */\n",
       "    progress {\n",
       "        /* gets rid of default border in Firefox and Opera. */\n",
       "        border: none;\n",
       "        /* Needs to be in here for Safari polyfill so background images work as expected. */\n",
       "        background-size: auto;\n",
       "    }\n",
       "    progress:not([value]), progress:not([value])::-webkit-progress-bar {\n",
       "        background: repeating-linear-gradient(45deg, #7e7e7e, #7e7e7e 10px, #5c5c5c 10px, #5c5c5c 20px);\n",
       "    }\n",
       "    .progress-bar-interrupted, .progress-bar-interrupted::-webkit-progress-bar {\n",
       "        background: #F44336;\n",
       "    }\n",
       "</style>\n"
      ],
      "text/plain": [
       "<IPython.core.display.HTML object>"
      ]
     },
     "metadata": {},
     "output_type": "display_data"
    },
    {
     "data": {
      "text/html": [
       "\n",
       "    <div>\n",
       "      <progress value='10' class='' max='10' style='width:300px; height:20px; vertical-align: middle;'></progress>\n",
       "      100.00% [10/10 00:00&lt;00:00 Sampling chain 0, 9 divergences]\n",
       "    </div>\n",
       "    "
      ],
      "text/plain": [
       "<IPython.core.display.HTML object>"
      ]
     },
     "metadata": {},
     "output_type": "display_data"
    },
    {
     "name": "stderr",
     "output_type": "stream",
     "text": [
      "Sampling 1 chain for 0 tune and 10 draw iterations (0 + 10 draws total) took 1 seconds.\n",
      "Only 10 samples in chain.\n"
     ]
    },
    {
     "name": "stdout",
     "output_type": "stream",
     "text": [
      "random_intercept_random_covariate_model\n"
     ]
    },
    {
     "name": "stderr",
     "output_type": "stream",
     "text": [
      "Sequential sampling (1 chains in 1 job)\n",
      "CompoundStep\n",
      ">NUTS: [intercept, betas]\n",
      ">Metropolis: [y_missing]\n"
     ]
    },
    {
     "data": {
      "text/html": [
       "\n",
       "<style>\n",
       "    /* Turns off some styling */\n",
       "    progress {\n",
       "        /* gets rid of default border in Firefox and Opera. */\n",
       "        border: none;\n",
       "        /* Needs to be in here for Safari polyfill so background images work as expected. */\n",
       "        background-size: auto;\n",
       "    }\n",
       "    progress:not([value]), progress:not([value])::-webkit-progress-bar {\n",
       "        background: repeating-linear-gradient(45deg, #7e7e7e, #7e7e7e 10px, #5c5c5c 10px, #5c5c5c 20px);\n",
       "    }\n",
       "    .progress-bar-interrupted, .progress-bar-interrupted::-webkit-progress-bar {\n",
       "        background: #F44336;\n",
       "    }\n",
       "</style>\n"
      ],
      "text/plain": [
       "<IPython.core.display.HTML object>"
      ]
     },
     "metadata": {},
     "output_type": "display_data"
    },
    {
     "data": {
      "text/html": [
       "\n",
       "    <div>\n",
       "      <progress value='10' class='' max='10' style='width:300px; height:20px; vertical-align: middle;'></progress>\n",
       "      100.00% [10/10 00:00&lt;00:00 Sampling chain 0, 9 divergences]\n",
       "    </div>\n",
       "    "
      ],
      "text/plain": [
       "<IPython.core.display.HTML object>"
      ]
     },
     "metadata": {},
     "output_type": "display_data"
    },
    {
     "name": "stderr",
     "output_type": "stream",
     "text": [
      "Sampling 1 chain for 0 tune and 10 draw iterations (0 + 10 draws total) took 0 seconds.\n",
      "Only 10 samples in chain.\n"
     ]
    },
    {
     "name": "stdout",
     "output_type": "stream",
     "text": [
      "random_intercept_car_model\n"
     ]
    },
    {
     "name": "stderr",
     "output_type": "stream",
     "text": [
      "Sequential sampling (1 chains in 1 job)\n",
      "CompoundStep\n",
      ">NUTS: [alpha, sigma_phi, phi, intercept]\n",
      ">Metropolis: [y_missing]\n"
     ]
    },
    {
     "data": {
      "text/html": [
       "\n",
       "<style>\n",
       "    /* Turns off some styling */\n",
       "    progress {\n",
       "        /* gets rid of default border in Firefox and Opera. */\n",
       "        border: none;\n",
       "        /* Needs to be in here for Safari polyfill so background images work as expected. */\n",
       "        background-size: auto;\n",
       "    }\n",
       "    progress:not([value]), progress:not([value])::-webkit-progress-bar {\n",
       "        background: repeating-linear-gradient(45deg, #7e7e7e, #7e7e7e 10px, #5c5c5c 10px, #5c5c5c 20px);\n",
       "    }\n",
       "    .progress-bar-interrupted, .progress-bar-interrupted::-webkit-progress-bar {\n",
       "        background: #F44336;\n",
       "    }\n",
       "</style>\n"
      ],
      "text/plain": [
       "<IPython.core.display.HTML object>"
      ]
     },
     "metadata": {},
     "output_type": "display_data"
    },
    {
     "data": {
      "text/html": [
       "\n",
       "    <div>\n",
       "      <progress value='10' class='' max='10' style='width:300px; height:20px; vertical-align: middle;'></progress>\n",
       "      100.00% [10/10 00:00&lt;00:00 Sampling chain 0, 9 divergences]\n",
       "    </div>\n",
       "    "
      ],
      "text/plain": [
       "<IPython.core.display.HTML object>"
      ]
     },
     "metadata": {},
     "output_type": "display_data"
    },
    {
     "name": "stderr",
     "output_type": "stream",
     "text": [
      "Sampling 1 chain for 0 tune and 10 draw iterations (0 + 10 draws total) took 1 seconds.\n",
      "Only 10 samples in chain.\n"
     ]
    },
    {
     "name": "stdout",
     "output_type": "stream",
     "text": [
      "pooled_intercept_car_model\n"
     ]
    },
    {
     "name": "stderr",
     "output_type": "stream",
     "text": [
      "Sequential sampling (1 chains in 1 job)\n",
      "CompoundStep\n",
      ">NUTS: [alpha, sigma_phi, phi, intercept]\n",
      ">Metropolis: [y_missing]\n"
     ]
    },
    {
     "data": {
      "text/html": [
       "\n",
       "<style>\n",
       "    /* Turns off some styling */\n",
       "    progress {\n",
       "        /* gets rid of default border in Firefox and Opera. */\n",
       "        border: none;\n",
       "        /* Needs to be in here for Safari polyfill so background images work as expected. */\n",
       "        background-size: auto;\n",
       "    }\n",
       "    progress:not([value]), progress:not([value])::-webkit-progress-bar {\n",
       "        background: repeating-linear-gradient(45deg, #7e7e7e, #7e7e7e 10px, #5c5c5c 10px, #5c5c5c 20px);\n",
       "    }\n",
       "    .progress-bar-interrupted, .progress-bar-interrupted::-webkit-progress-bar {\n",
       "        background: #F44336;\n",
       "    }\n",
       "</style>\n"
      ],
      "text/plain": [
       "<IPython.core.display.HTML object>"
      ]
     },
     "metadata": {},
     "output_type": "display_data"
    },
    {
     "data": {
      "text/html": [
       "\n",
       "    <div>\n",
       "      <progress value='10' class='' max='10' style='width:300px; height:20px; vertical-align: middle;'></progress>\n",
       "      100.00% [10/10 00:00&lt;00:00 Sampling chain 0, 9 divergences]\n",
       "    </div>\n",
       "    "
      ],
      "text/plain": [
       "<IPython.core.display.HTML object>"
      ]
     },
     "metadata": {},
     "output_type": "display_data"
    },
    {
     "name": "stderr",
     "output_type": "stream",
     "text": [
      "Sampling 1 chain for 0 tune and 10 draw iterations (0 + 10 draws total) took 1 seconds.\n",
      "Only 10 samples in chain.\n"
     ]
    },
    {
     "name": "stdout",
     "output_type": "stream",
     "text": [
      "pooled_intercept_random_covariate_car_model\n"
     ]
    },
    {
     "name": "stderr",
     "output_type": "stream",
     "text": [
      "Sequential sampling (1 chains in 1 job)\n",
      "CompoundStep\n",
      ">NUTS: [alpha, sigma_phi, phi, intercept, betas]\n",
      ">Metropolis: [y_missing]\n"
     ]
    },
    {
     "data": {
      "text/html": [
       "\n",
       "<style>\n",
       "    /* Turns off some styling */\n",
       "    progress {\n",
       "        /* gets rid of default border in Firefox and Opera. */\n",
       "        border: none;\n",
       "        /* Needs to be in here for Safari polyfill so background images work as expected. */\n",
       "        background-size: auto;\n",
       "    }\n",
       "    progress:not([value]), progress:not([value])::-webkit-progress-bar {\n",
       "        background: repeating-linear-gradient(45deg, #7e7e7e, #7e7e7e 10px, #5c5c5c 10px, #5c5c5c 20px);\n",
       "    }\n",
       "    .progress-bar-interrupted, .progress-bar-interrupted::-webkit-progress-bar {\n",
       "        background: #F44336;\n",
       "    }\n",
       "</style>\n"
      ],
      "text/plain": [
       "<IPython.core.display.HTML object>"
      ]
     },
     "metadata": {},
     "output_type": "display_data"
    },
    {
     "data": {
      "text/html": [
       "\n",
       "    <div>\n",
       "      <progress value='10' class='' max='10' style='width:300px; height:20px; vertical-align: middle;'></progress>\n",
       "      100.00% [10/10 00:00&lt;00:00 Sampling chain 0, 9 divergences]\n",
       "    </div>\n",
       "    "
      ],
      "text/plain": [
       "<IPython.core.display.HTML object>"
      ]
     },
     "metadata": {},
     "output_type": "display_data"
    },
    {
     "name": "stderr",
     "output_type": "stream",
     "text": [
      "Sampling 1 chain for 0 tune and 10 draw iterations (0 + 10 draws total) took 1 seconds.\n"
     ]
    },
    {
     "name": "stdout",
     "output_type": "stream",
     "text": [
      "random_intercept_pooled_covariate_car_model\n"
     ]
    },
    {
     "name": "stderr",
     "output_type": "stream",
     "text": [
      "Only 10 samples in chain.\n",
      "Sequential sampling (1 chains in 1 job)\n",
      "CompoundStep\n",
      ">NUTS: [alpha, sigma_phi, phi, intercept, betas]\n",
      ">Metropolis: [y_missing]\n"
     ]
    },
    {
     "data": {
      "text/html": [
       "\n",
       "<style>\n",
       "    /* Turns off some styling */\n",
       "    progress {\n",
       "        /* gets rid of default border in Firefox and Opera. */\n",
       "        border: none;\n",
       "        /* Needs to be in here for Safari polyfill so background images work as expected. */\n",
       "        background-size: auto;\n",
       "    }\n",
       "    progress:not([value]), progress:not([value])::-webkit-progress-bar {\n",
       "        background: repeating-linear-gradient(45deg, #7e7e7e, #7e7e7e 10px, #5c5c5c 10px, #5c5c5c 20px);\n",
       "    }\n",
       "    .progress-bar-interrupted, .progress-bar-interrupted::-webkit-progress-bar {\n",
       "        background: #F44336;\n",
       "    }\n",
       "</style>\n"
      ],
      "text/plain": [
       "<IPython.core.display.HTML object>"
      ]
     },
     "metadata": {},
     "output_type": "display_data"
    },
    {
     "data": {
      "text/html": [
       "\n",
       "    <div>\n",
       "      <progress value='10' class='' max='10' style='width:300px; height:20px; vertical-align: middle;'></progress>\n",
       "      100.00% [10/10 00:00&lt;00:00 Sampling chain 0, 9 divergences]\n",
       "    </div>\n",
       "    "
      ],
      "text/plain": [
       "<IPython.core.display.HTML object>"
      ]
     },
     "metadata": {},
     "output_type": "display_data"
    },
    {
     "name": "stderr",
     "output_type": "stream",
     "text": [
      "Sampling 1 chain for 0 tune and 10 draw iterations (0 + 10 draws total) took 1 seconds.\n"
     ]
    }
   ],
   "source": [
    "# test that all the models can be sampled correctly\n",
    "for name, func in models.items():\n",
    "    print(name)\n",
    "    model = func(prep_df, W)\n",
    "    with model:\n",
    "        trace = pm.sample(10, tune=0, cores=1, chains=1)"
   ]
  },
  {
   "cell_type": "code",
   "execution_count": 87,
   "metadata": {},
   "outputs": [
    {
     "name": "stdout",
     "output_type": "stream",
     "text": [
      "random_intercept_model\n"
     ]
    },
    {
     "name": "stderr",
     "output_type": "stream",
     "text": [
      "Multiprocess sampling (8 chains in 8 jobs)\n",
      "CompoundStep\n",
      ">NUTS: [intercept]\n",
      ">Metropolis: [y_missing]\n"
     ]
    },
    {
     "data": {
      "text/html": [
       "\n",
       "<style>\n",
       "    /* Turns off some styling */\n",
       "    progress {\n",
       "        /* gets rid of default border in Firefox and Opera. */\n",
       "        border: none;\n",
       "        /* Needs to be in here for Safari polyfill so background images work as expected. */\n",
       "        background-size: auto;\n",
       "    }\n",
       "    progress:not([value]), progress:not([value])::-webkit-progress-bar {\n",
       "        background: repeating-linear-gradient(45deg, #7e7e7e, #7e7e7e 10px, #5c5c5c 10px, #5c5c5c 20px);\n",
       "    }\n",
       "    .progress-bar-interrupted, .progress-bar-interrupted::-webkit-progress-bar {\n",
       "        background: #F44336;\n",
       "    }\n",
       "</style>\n"
      ],
      "text/plain": [
       "<IPython.core.display.HTML object>"
      ]
     },
     "metadata": {},
     "output_type": "display_data"
    },
    {
     "data": {
      "text/html": [
       "\n",
       "    <div>\n",
       "      <progress value='24000' class='' max='24000' style='width:300px; height:20px; vertical-align: middle;'></progress>\n",
       "      100.00% [24000/24000 01:14&lt;00:00 Sampling 8 chains, 0 divergences]\n",
       "    </div>\n",
       "    "
      ],
      "text/plain": [
       "<IPython.core.display.HTML object>"
      ]
     },
     "metadata": {},
     "output_type": "display_data"
    },
    {
     "name": "stderr",
     "output_type": "stream",
     "text": [
      "Sampling 8 chains for 1_000 tune and 2_000 draw iterations (8_000 + 16_000 draws total) took 103 seconds.\n"
     ]
    },
    {
     "name": "stdout",
     "output_type": "stream",
     "text": [
      "pooled_intercept_pooled_covariate_model\n"
     ]
    },
    {
     "name": "stderr",
     "output_type": "stream",
     "text": [
      "Multiprocess sampling (8 chains in 8 jobs)\n",
      "CompoundStep\n",
      ">NUTS: [intercept, betas]\n",
      ">Metropolis: [y_missing]\n"
     ]
    },
    {
     "data": {
      "text/html": [
       "\n",
       "<style>\n",
       "    /* Turns off some styling */\n",
       "    progress {\n",
       "        /* gets rid of default border in Firefox and Opera. */\n",
       "        border: none;\n",
       "        /* Needs to be in here for Safari polyfill so background images work as expected. */\n",
       "        background-size: auto;\n",
       "    }\n",
       "    progress:not([value]), progress:not([value])::-webkit-progress-bar {\n",
       "        background: repeating-linear-gradient(45deg, #7e7e7e, #7e7e7e 10px, #5c5c5c 10px, #5c5c5c 20px);\n",
       "    }\n",
       "    .progress-bar-interrupted, .progress-bar-interrupted::-webkit-progress-bar {\n",
       "        background: #F44336;\n",
       "    }\n",
       "</style>\n"
      ],
      "text/plain": [
       "<IPython.core.display.HTML object>"
      ]
     },
     "metadata": {},
     "output_type": "display_data"
    },
    {
     "data": {
      "text/html": [
       "\n",
       "    <div>\n",
       "      <progress value='24000' class='' max='24000' style='width:300px; height:20px; vertical-align: middle;'></progress>\n",
       "      100.00% [24000/24000 01:36&lt;00:00 Sampling 8 chains, 0 divergences]\n",
       "    </div>\n",
       "    "
      ],
      "text/plain": [
       "<IPython.core.display.HTML object>"
      ]
     },
     "metadata": {},
     "output_type": "display_data"
    },
    {
     "name": "stderr",
     "output_type": "stream",
     "text": [
      "Sampling 8 chains for 1_000 tune and 2_000 draw iterations (8_000 + 16_000 draws total) took 124 seconds.\n"
     ]
    },
    {
     "name": "stdout",
     "output_type": "stream",
     "text": [
      "pooled_intercept_random_covariate_model\n"
     ]
    },
    {
     "name": "stderr",
     "output_type": "stream",
     "text": [
      "Multiprocess sampling (8 chains in 8 jobs)\n",
      "CompoundStep\n",
      ">NUTS: [intercept, betas]\n",
      ">Metropolis: [y_missing]\n"
     ]
    },
    {
     "data": {
      "text/html": [
       "\n",
       "<style>\n",
       "    /* Turns off some styling */\n",
       "    progress {\n",
       "        /* gets rid of default border in Firefox and Opera. */\n",
       "        border: none;\n",
       "        /* Needs to be in here for Safari polyfill so background images work as expected. */\n",
       "        background-size: auto;\n",
       "    }\n",
       "    progress:not([value]), progress:not([value])::-webkit-progress-bar {\n",
       "        background: repeating-linear-gradient(45deg, #7e7e7e, #7e7e7e 10px, #5c5c5c 10px, #5c5c5c 20px);\n",
       "    }\n",
       "    .progress-bar-interrupted, .progress-bar-interrupted::-webkit-progress-bar {\n",
       "        background: #F44336;\n",
       "    }\n",
       "</style>\n"
      ],
      "text/plain": [
       "<IPython.core.display.HTML object>"
      ]
     },
     "metadata": {},
     "output_type": "display_data"
    },
    {
     "data": {
      "text/html": [
       "\n",
       "    <div>\n",
       "      <progress value='24000' class='' max='24000' style='width:300px; height:20px; vertical-align: middle;'></progress>\n",
       "      100.00% [24000/24000 01:56&lt;00:00 Sampling 8 chains, 0 divergences]\n",
       "    </div>\n",
       "    "
      ],
      "text/plain": [
       "<IPython.core.display.HTML object>"
      ]
     },
     "metadata": {},
     "output_type": "display_data"
    },
    {
     "name": "stderr",
     "output_type": "stream",
     "text": [
      "Sampling 8 chains for 1_000 tune and 2_000 draw iterations (8_000 + 16_000 draws total) took 145 seconds.\n"
     ]
    },
    {
     "name": "stdout",
     "output_type": "stream",
     "text": [
      "random_intercept_pooled_covariate_model\n"
     ]
    },
    {
     "name": "stderr",
     "output_type": "stream",
     "text": [
      "Multiprocess sampling (8 chains in 8 jobs)\n",
      "CompoundStep\n",
      ">NUTS: [intercept, betas]\n",
      ">Metropolis: [y_missing]\n"
     ]
    },
    {
     "data": {
      "text/html": [
       "\n",
       "<style>\n",
       "    /* Turns off some styling */\n",
       "    progress {\n",
       "        /* gets rid of default border in Firefox and Opera. */\n",
       "        border: none;\n",
       "        /* Needs to be in here for Safari polyfill so background images work as expected. */\n",
       "        background-size: auto;\n",
       "    }\n",
       "    progress:not([value]), progress:not([value])::-webkit-progress-bar {\n",
       "        background: repeating-linear-gradient(45deg, #7e7e7e, #7e7e7e 10px, #5c5c5c 10px, #5c5c5c 20px);\n",
       "    }\n",
       "    .progress-bar-interrupted, .progress-bar-interrupted::-webkit-progress-bar {\n",
       "        background: #F44336;\n",
       "    }\n",
       "</style>\n"
      ],
      "text/plain": [
       "<IPython.core.display.HTML object>"
      ]
     },
     "metadata": {},
     "output_type": "display_data"
    },
    {
     "data": {
      "text/html": [
       "\n",
       "    <div>\n",
       "      <progress value='24000' class='' max='24000' style='width:300px; height:20px; vertical-align: middle;'></progress>\n",
       "      100.00% [24000/24000 01:35&lt;00:00 Sampling 8 chains, 0 divergences]\n",
       "    </div>\n",
       "    "
      ],
      "text/plain": [
       "<IPython.core.display.HTML object>"
      ]
     },
     "metadata": {},
     "output_type": "display_data"
    },
    {
     "name": "stderr",
     "output_type": "stream",
     "text": [
      "Sampling 8 chains for 1_000 tune and 2_000 draw iterations (8_000 + 16_000 draws total) took 118 seconds.\n"
     ]
    },
    {
     "name": "stdout",
     "output_type": "stream",
     "text": [
      "random_intercept_random_covariate_model\n"
     ]
    },
    {
     "name": "stderr",
     "output_type": "stream",
     "text": [
      "Multiprocess sampling (8 chains in 8 jobs)\n",
      "CompoundStep\n",
      ">NUTS: [intercept, betas]\n",
      ">Metropolis: [y_missing]\n"
     ]
    },
    {
     "data": {
      "text/html": [
       "\n",
       "<style>\n",
       "    /* Turns off some styling */\n",
       "    progress {\n",
       "        /* gets rid of default border in Firefox and Opera. */\n",
       "        border: none;\n",
       "        /* Needs to be in here for Safari polyfill so background images work as expected. */\n",
       "        background-size: auto;\n",
       "    }\n",
       "    progress:not([value]), progress:not([value])::-webkit-progress-bar {\n",
       "        background: repeating-linear-gradient(45deg, #7e7e7e, #7e7e7e 10px, #5c5c5c 10px, #5c5c5c 20px);\n",
       "    }\n",
       "    .progress-bar-interrupted, .progress-bar-interrupted::-webkit-progress-bar {\n",
       "        background: #F44336;\n",
       "    }\n",
       "</style>\n"
      ],
      "text/plain": [
       "<IPython.core.display.HTML object>"
      ]
     },
     "metadata": {},
     "output_type": "display_data"
    },
    {
     "data": {
      "text/html": [
       "\n",
       "    <div>\n",
       "      <progress value='24000' class='' max='24000' style='width:300px; height:20px; vertical-align: middle;'></progress>\n",
       "      100.00% [24000/24000 02:09&lt;00:00 Sampling 8 chains, 0 divergences]\n",
       "    </div>\n",
       "    "
      ],
      "text/plain": [
       "<IPython.core.display.HTML object>"
      ]
     },
     "metadata": {},
     "output_type": "display_data"
    },
    {
     "name": "stderr",
     "output_type": "stream",
     "text": [
      "Sampling 8 chains for 1_000 tune and 2_000 draw iterations (8_000 + 16_000 draws total) took 155 seconds.\n"
     ]
    },
    {
     "name": "stdout",
     "output_type": "stream",
     "text": [
      "random_intercept_car_model\n"
     ]
    },
    {
     "name": "stderr",
     "output_type": "stream",
     "text": [
      "Multiprocess sampling (8 chains in 8 jobs)\n",
      "CompoundStep\n",
      ">NUTS: [alpha, sigma_phi, phi, intercept]\n",
      ">Metropolis: [y_missing]\n"
     ]
    },
    {
     "data": {
      "text/html": [
       "\n",
       "<style>\n",
       "    /* Turns off some styling */\n",
       "    progress {\n",
       "        /* gets rid of default border in Firefox and Opera. */\n",
       "        border: none;\n",
       "        /* Needs to be in here for Safari polyfill so background images work as expected. */\n",
       "        background-size: auto;\n",
       "    }\n",
       "    progress:not([value]), progress:not([value])::-webkit-progress-bar {\n",
       "        background: repeating-linear-gradient(45deg, #7e7e7e, #7e7e7e 10px, #5c5c5c 10px, #5c5c5c 20px);\n",
       "    }\n",
       "    .progress-bar-interrupted, .progress-bar-interrupted::-webkit-progress-bar {\n",
       "        background: #F44336;\n",
       "    }\n",
       "</style>\n"
      ],
      "text/plain": [
       "<IPython.core.display.HTML object>"
      ]
     },
     "metadata": {},
     "output_type": "display_data"
    },
    {
     "data": {
      "text/html": [
       "\n",
       "    <div>\n",
       "      <progress value='24000' class='' max='24000' style='width:300px; height:20px; vertical-align: middle;'></progress>\n",
       "      100.00% [24000/24000 02:13&lt;00:00 Sampling 8 chains, 22 divergences]\n",
       "    </div>\n",
       "    "
      ],
      "text/plain": [
       "<IPython.core.display.HTML object>"
      ]
     },
     "metadata": {},
     "output_type": "display_data"
    },
    {
     "name": "stderr",
     "output_type": "stream",
     "text": [
      "Sampling 8 chains for 1_000 tune and 2_000 draw iterations (8_000 + 16_000 draws total) took 160 seconds.\n"
     ]
    },
    {
     "name": "stdout",
     "output_type": "stream",
     "text": [
      "pooled_intercept_car_model\n"
     ]
    },
    {
     "name": "stderr",
     "output_type": "stream",
     "text": [
      "Multiprocess sampling (8 chains in 8 jobs)\n",
      "CompoundStep\n",
      ">NUTS: [alpha, sigma_phi, phi, intercept]\n",
      ">Metropolis: [y_missing]\n"
     ]
    },
    {
     "data": {
      "text/html": [
       "\n",
       "<style>\n",
       "    /* Turns off some styling */\n",
       "    progress {\n",
       "        /* gets rid of default border in Firefox and Opera. */\n",
       "        border: none;\n",
       "        /* Needs to be in here for Safari polyfill so background images work as expected. */\n",
       "        background-size: auto;\n",
       "    }\n",
       "    progress:not([value]), progress:not([value])::-webkit-progress-bar {\n",
       "        background: repeating-linear-gradient(45deg, #7e7e7e, #7e7e7e 10px, #5c5c5c 10px, #5c5c5c 20px);\n",
       "    }\n",
       "    .progress-bar-interrupted, .progress-bar-interrupted::-webkit-progress-bar {\n",
       "        background: #F44336;\n",
       "    }\n",
       "</style>\n"
      ],
      "text/plain": [
       "<IPython.core.display.HTML object>"
      ]
     },
     "metadata": {},
     "output_type": "display_data"
    },
    {
     "data": {
      "text/html": [
       "\n",
       "    <div>\n",
       "      <progress value='24000' class='' max='24000' style='width:300px; height:20px; vertical-align: middle;'></progress>\n",
       "      100.00% [24000/24000 02:20&lt;00:00 Sampling 8 chains, 2 divergences]\n",
       "    </div>\n",
       "    "
      ],
      "text/plain": [
       "<IPython.core.display.HTML object>"
      ]
     },
     "metadata": {},
     "output_type": "display_data"
    },
    {
     "name": "stderr",
     "output_type": "stream",
     "text": [
      "Sampling 8 chains for 1_000 tune and 2_000 draw iterations (8_000 + 16_000 draws total) took 167 seconds.\n"
     ]
    },
    {
     "name": "stdout",
     "output_type": "stream",
     "text": [
      "pooled_intercept_random_covariate_car_model\n"
     ]
    },
    {
     "name": "stderr",
     "output_type": "stream",
     "text": [
      "Multiprocess sampling (8 chains in 8 jobs)\n",
      "CompoundStep\n",
      ">NUTS: [alpha, sigma_phi, phi, intercept, betas]\n",
      ">Metropolis: [y_missing]\n"
     ]
    },
    {
     "data": {
      "text/html": [
       "\n",
       "<style>\n",
       "    /* Turns off some styling */\n",
       "    progress {\n",
       "        /* gets rid of default border in Firefox and Opera. */\n",
       "        border: none;\n",
       "        /* Needs to be in here for Safari polyfill so background images work as expected. */\n",
       "        background-size: auto;\n",
       "    }\n",
       "    progress:not([value]), progress:not([value])::-webkit-progress-bar {\n",
       "        background: repeating-linear-gradient(45deg, #7e7e7e, #7e7e7e 10px, #5c5c5c 10px, #5c5c5c 20px);\n",
       "    }\n",
       "    .progress-bar-interrupted, .progress-bar-interrupted::-webkit-progress-bar {\n",
       "        background: #F44336;\n",
       "    }\n",
       "</style>\n"
      ],
      "text/plain": [
       "<IPython.core.display.HTML object>"
      ]
     },
     "metadata": {},
     "output_type": "display_data"
    },
    {
     "data": {
      "text/html": [
       "\n",
       "    <div>\n",
       "      <progress value='24000' class='' max='24000' style='width:300px; height:20px; vertical-align: middle;'></progress>\n",
       "      100.00% [24000/24000 07:29&lt;00:00 Sampling 8 chains, 0 divergences]\n",
       "    </div>\n",
       "    "
      ],
      "text/plain": [
       "<IPython.core.display.HTML object>"
      ]
     },
     "metadata": {},
     "output_type": "display_data"
    },
    {
     "name": "stderr",
     "output_type": "stream",
     "text": [
      "Sampling 8 chains for 1_000 tune and 2_000 draw iterations (8_000 + 16_000 draws total) took 480 seconds.\n"
     ]
    },
    {
     "name": "stdout",
     "output_type": "stream",
     "text": [
      "random_intercept_pooled_covariate_car_model\n"
     ]
    },
    {
     "name": "stderr",
     "output_type": "stream",
     "text": [
      "Multiprocess sampling (8 chains in 8 jobs)\n",
      "CompoundStep\n",
      ">NUTS: [alpha, sigma_phi, phi, intercept, betas]\n",
      ">Metropolis: [y_missing]\n"
     ]
    },
    {
     "data": {
      "text/html": [
       "\n",
       "<style>\n",
       "    /* Turns off some styling */\n",
       "    progress {\n",
       "        /* gets rid of default border in Firefox and Opera. */\n",
       "        border: none;\n",
       "        /* Needs to be in here for Safari polyfill so background images work as expected. */\n",
       "        background-size: auto;\n",
       "    }\n",
       "    progress:not([value]), progress:not([value])::-webkit-progress-bar {\n",
       "        background: repeating-linear-gradient(45deg, #7e7e7e, #7e7e7e 10px, #5c5c5c 10px, #5c5c5c 20px);\n",
       "    }\n",
       "    .progress-bar-interrupted, .progress-bar-interrupted::-webkit-progress-bar {\n",
       "        background: #F44336;\n",
       "    }\n",
       "</style>\n"
      ],
      "text/plain": [
       "<IPython.core.display.HTML object>"
      ]
     },
     "metadata": {},
     "output_type": "display_data"
    },
    {
     "data": {
      "text/html": [
       "\n",
       "    <div>\n",
       "      <progress value='24000' class='' max='24000' style='width:300px; height:20px; vertical-align: middle;'></progress>\n",
       "      100.00% [24000/24000 06:57&lt;00:00 Sampling 8 chains, 0 divergences]\n",
       "    </div>\n",
       "    "
      ],
      "text/plain": [
       "<IPython.core.display.HTML object>"
      ]
     },
     "metadata": {},
     "output_type": "display_data"
    },
    {
     "name": "stderr",
     "output_type": "stream",
     "text": [
      "Sampling 8 chains for 1_000 tune and 2_000 draw iterations (8_000 + 16_000 draws total) took 448 seconds.\n"
     ]
    }
   ],
   "source": [
    "# now sample everything for real, and store the traces\n",
    "traces = {}\n",
    "for name, func in models.items():\n",
    "    print(name)\n",
    "    model = func(prep_df, W)\n",
    "    with model:\n",
    "        trace = pm.sample(2000, tune=1000, cores=8, target_accept=0.9)\n",
    "    traces[name] = trace"
   ]
  },
  {
   "cell_type": "code",
   "execution_count": 89,
   "metadata": {},
   "outputs": [
    {
     "data": {
      "text/html": [
       "<div>\n",
       "<style scoped>\n",
       "    .dataframe tbody tr th:only-of-type {\n",
       "        vertical-align: middle;\n",
       "    }\n",
       "\n",
       "    .dataframe tbody tr th {\n",
       "        vertical-align: top;\n",
       "    }\n",
       "\n",
       "    .dataframe thead th {\n",
       "        text-align: right;\n",
       "    }\n",
       "</style>\n",
       "<table border=\"1\" class=\"dataframe\">\n",
       "  <thead>\n",
       "    <tr style=\"text-align: right;\">\n",
       "      <th></th>\n",
       "      <th>rank</th>\n",
       "      <th>elpd_waic</th>\n",
       "      <th>p_waic</th>\n",
       "      <th>elpd_diff</th>\n",
       "      <th>weight</th>\n",
       "      <th>se</th>\n",
       "      <th>dse</th>\n",
       "      <th>warning</th>\n",
       "      <th>scale</th>\n",
       "    </tr>\n",
       "  </thead>\n",
       "  <tbody>\n",
       "    <tr>\n",
       "      <th>random_intercept_pooled_covariate_car_model</th>\n",
       "      <td>0</td>\n",
       "      <td>1301.223555</td>\n",
       "      <td>164.080768</td>\n",
       "      <td>0.000000</td>\n",
       "      <td>0.598904</td>\n",
       "      <td>133.146099</td>\n",
       "      <td>0.000000</td>\n",
       "      <td>True</td>\n",
       "      <td>deviance</td>\n",
       "    </tr>\n",
       "    <tr>\n",
       "      <th>random_intercept_car_model</th>\n",
       "      <td>1</td>\n",
       "      <td>1302.449792</td>\n",
       "      <td>164.792534</td>\n",
       "      <td>1.226237</td>\n",
       "      <td>0.000000</td>\n",
       "      <td>132.169953</td>\n",
       "      <td>4.403288</td>\n",
       "      <td>True</td>\n",
       "      <td>deviance</td>\n",
       "    </tr>\n",
       "    <tr>\n",
       "      <th>pooled_intercept_random_covariate_car_model</th>\n",
       "      <td>2</td>\n",
       "      <td>1553.906498</td>\n",
       "      <td>274.055872</td>\n",
       "      <td>252.682943</td>\n",
       "      <td>0.198594</td>\n",
       "      <td>96.438563</td>\n",
       "      <td>152.156156</td>\n",
       "      <td>True</td>\n",
       "      <td>deviance</td>\n",
       "    </tr>\n",
       "    <tr>\n",
       "      <th>random_intercept_random_covariate_model</th>\n",
       "      <td>3</td>\n",
       "      <td>2935.657154</td>\n",
       "      <td>483.686288</td>\n",
       "      <td>1634.433599</td>\n",
       "      <td>0.038178</td>\n",
       "      <td>435.722502</td>\n",
       "      <td>395.025362</td>\n",
       "      <td>True</td>\n",
       "      <td>deviance</td>\n",
       "    </tr>\n",
       "    <tr>\n",
       "      <th>random_intercept_pooled_covariate_model</th>\n",
       "      <td>4</td>\n",
       "      <td>2998.386443</td>\n",
       "      <td>338.588814</td>\n",
       "      <td>1697.162889</td>\n",
       "      <td>0.120906</td>\n",
       "      <td>502.051810</td>\n",
       "      <td>439.856704</td>\n",
       "      <td>True</td>\n",
       "      <td>deviance</td>\n",
       "    </tr>\n",
       "    <tr>\n",
       "      <th>pooled_intercept_random_covariate_model</th>\n",
       "      <td>5</td>\n",
       "      <td>3239.516725</td>\n",
       "      <td>535.182783</td>\n",
       "      <td>1938.293171</td>\n",
       "      <td>0.000000</td>\n",
       "      <td>459.685414</td>\n",
       "      <td>427.871996</td>\n",
       "      <td>True</td>\n",
       "      <td>deviance</td>\n",
       "    </tr>\n",
       "    <tr>\n",
       "      <th>pooled_intercept_car_model</th>\n",
       "      <td>6</td>\n",
       "      <td>3397.204054</td>\n",
       "      <td>634.414688</td>\n",
       "      <td>2095.980499</td>\n",
       "      <td>0.035638</td>\n",
       "      <td>435.864497</td>\n",
       "      <td>423.375066</td>\n",
       "      <td>True</td>\n",
       "      <td>deviance</td>\n",
       "    </tr>\n",
       "    <tr>\n",
       "      <th>random_intercept_model</th>\n",
       "      <td>7</td>\n",
       "      <td>4024.336778</td>\n",
       "      <td>116.218967</td>\n",
       "      <td>2723.113223</td>\n",
       "      <td>0.005425</td>\n",
       "      <td>804.397824</td>\n",
       "      <td>779.214340</td>\n",
       "      <td>True</td>\n",
       "      <td>deviance</td>\n",
       "    </tr>\n",
       "    <tr>\n",
       "      <th>pooled_intercept_pooled_covariate_model</th>\n",
       "      <td>8</td>\n",
       "      <td>4309.323300</td>\n",
       "      <td>441.178422</td>\n",
       "      <td>3008.099745</td>\n",
       "      <td>0.002355</td>\n",
       "      <td>850.830214</td>\n",
       "      <td>824.687312</td>\n",
       "      <td>True</td>\n",
       "      <td>deviance</td>\n",
       "    </tr>\n",
       "  </tbody>\n",
       "</table>\n",
       "</div>"
      ],
      "text/plain": [
       "                                             rank    elpd_waic      p_waic  \\\n",
       "random_intercept_pooled_covariate_car_model     0  1301.223555  164.080768   \n",
       "random_intercept_car_model                      1  1302.449792  164.792534   \n",
       "pooled_intercept_random_covariate_car_model     2  1553.906498  274.055872   \n",
       "random_intercept_random_covariate_model         3  2935.657154  483.686288   \n",
       "random_intercept_pooled_covariate_model         4  2998.386443  338.588814   \n",
       "pooled_intercept_random_covariate_model         5  3239.516725  535.182783   \n",
       "pooled_intercept_car_model                      6  3397.204054  634.414688   \n",
       "random_intercept_model                          7  4024.336778  116.218967   \n",
       "pooled_intercept_pooled_covariate_model         8  4309.323300  441.178422   \n",
       "\n",
       "                                               elpd_diff    weight  \\\n",
       "random_intercept_pooled_covariate_car_model     0.000000  0.598904   \n",
       "random_intercept_car_model                      1.226237  0.000000   \n",
       "pooled_intercept_random_covariate_car_model   252.682943  0.198594   \n",
       "random_intercept_random_covariate_model      1634.433599  0.038178   \n",
       "random_intercept_pooled_covariate_model      1697.162889  0.120906   \n",
       "pooled_intercept_random_covariate_model      1938.293171  0.000000   \n",
       "pooled_intercept_car_model                   2095.980499  0.035638   \n",
       "random_intercept_model                       2723.113223  0.005425   \n",
       "pooled_intercept_pooled_covariate_model      3008.099745  0.002355   \n",
       "\n",
       "                                                     se         dse  warning  \\\n",
       "random_intercept_pooled_covariate_car_model  133.146099    0.000000     True   \n",
       "random_intercept_car_model                   132.169953    4.403288     True   \n",
       "pooled_intercept_random_covariate_car_model   96.438563  152.156156     True   \n",
       "random_intercept_random_covariate_model      435.722502  395.025362     True   \n",
       "random_intercept_pooled_covariate_model      502.051810  439.856704     True   \n",
       "pooled_intercept_random_covariate_model      459.685414  427.871996     True   \n",
       "pooled_intercept_car_model                   435.864497  423.375066     True   \n",
       "random_intercept_model                       804.397824  779.214340     True   \n",
       "pooled_intercept_pooled_covariate_model      850.830214  824.687312     True   \n",
       "\n",
       "                                                scale  \n",
       "random_intercept_pooled_covariate_car_model  deviance  \n",
       "random_intercept_car_model                   deviance  \n",
       "pooled_intercept_random_covariate_car_model  deviance  \n",
       "random_intercept_random_covariate_model      deviance  \n",
       "random_intercept_pooled_covariate_model      deviance  \n",
       "pooled_intercept_random_covariate_model      deviance  \n",
       "pooled_intercept_car_model                   deviance  \n",
       "random_intercept_model                       deviance  \n",
       "pooled_intercept_pooled_covariate_model      deviance  "
      ]
     },
     "execution_count": 89,
     "metadata": {},
     "output_type": "execute_result"
    }
   ],
   "source": [
    "az.compare(traces, ic=\"waic\", scale=\"deviance\")"
   ]
  }
 ],
 "metadata": {
  "kernelspec": {
   "display_name": "Python 3.10.8 ('birdcall-distribution-rSEegjyg-py3.10')",
   "language": "python",
   "name": "python3"
  },
  "language_info": {
   "codemirror_mode": {
    "name": "ipython",
    "version": 3
   },
   "file_extension": ".py",
   "mimetype": "text/x-python",
   "name": "python",
   "nbconvert_exporter": "python",
   "pygments_lexer": "ipython3",
   "version": "3.10.8"
  },
  "orig_nbformat": 4,
  "vscode": {
   "interpreter": {
    "hash": "77a072d5f948313f31a1cb11e373df37bcae2cba243ff4598301a07fc14ffd26"
   }
  }
 },
 "nbformat": 4,
 "nbformat_minor": 2
}
