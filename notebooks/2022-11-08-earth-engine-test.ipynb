{
 "cells": [
  {
   "cell_type": "markdown",
   "metadata": {},
   "source": [
    "* https://developers.google.com/earth-engine/tutorials/community/intro-to-python-api\n",
    "* https://developers.google.com/earth-engine/datasets/catalog/CIESIN_GPWv411_GPW_Population_Density#bands\n",
    "* https://developers.google.com/earth-engine/datasets/catalog/CIESIN_GPWv411_GPW_UNWPP-Adjusted_Population_Density#description"
   ]
  },
  {
   "cell_type": "code",
   "execution_count": 1,
   "metadata": {},
   "outputs": [],
   "source": [
    "%load_ext autoreload\n",
    "%autoreload 2"
   ]
  },
  {
   "cell_type": "code",
   "execution_count": 2,
   "metadata": {},
   "outputs": [
    {
     "data": {
      "text/html": [
       "<p>To authorize access needed by Earth Engine, open the following\n",
       "        URL in a web browser and follow the instructions:</p>\n",
       "        <p><a href=https://code.earthengine.google.com/client-auth?scopes=https%3A//www.googleapis.com/auth/earthengine%20https%3A//www.googleapis.com/auth/devstorage.full_control&request_id=aU_Yo-ejxKielP2d67tKY21U75VIZ81jgPDfTScCGvU&tc=pyANxAtJd4--VwxF_rS9VRUzUXgAa_qiUXSwIDVExxk&cc=kQhjBlz1xj8lRhF_XQ8NVuKPYil7ldbK_ocTKD0xyj4>https://code.earthengine.google.com/client-auth?scopes=https%3A//www.googleapis.com/auth/earthengine%20https%3A//www.googleapis.com/auth/devstorage.full_control&request_id=aU_Yo-ejxKielP2d67tKY21U75VIZ81jgPDfTScCGvU&tc=pyANxAtJd4--VwxF_rS9VRUzUXgAa_qiUXSwIDVExxk&cc=kQhjBlz1xj8lRhF_XQ8NVuKPYil7ldbK_ocTKD0xyj4</a></p>\n",
       "        <p>The authorization workflow will generate a code, which you should paste in the box below.</p>\n",
       "        "
      ],
      "text/plain": [
       "<IPython.core.display.HTML object>"
      ]
     },
     "metadata": {},
     "output_type": "display_data"
    },
    {
     "name": "stdout",
     "output_type": "stream",
     "text": [
      "\n",
      "Successfully saved authorization token.\n"
     ]
    }
   ],
   "source": [
    "import ee\n",
    "\n",
    "# only necessary on first run or if the token expires\n",
    "ee.Authenticate()\n",
    "ee.Initialize()"
   ]
  },
  {
   "cell_type": "code",
   "execution_count": 3,
   "metadata": {},
   "outputs": [],
   "source": [
    "from birdcall_distribution import geo\n",
    "import json\n",
    "from shapely.geometry import mapping\n",
    "\n",
    "geometry = geo.get_california_geometry()\n",
    "grid = geo.generate_grid(geometry, geo.CA_EXTENT, (0.5, 0.5))"
   ]
  },
  {
   "cell_type": "markdown",
   "metadata": {},
   "source": [
    "## get stats for a single polygon"
   ]
  },
  {
   "cell_type": "code",
   "execution_count": 4,
   "metadata": {},
   "outputs": [],
   "source": [
    "polygons = [ee.Geometry.Polygon(mapping(p)[\"coordinates\"]) for p in grid.values()]\n",
    "polygon = polygons[0]\n",
    "\n",
    "# scale in meters\n",
    "scale = 1000"
   ]
  },
  {
   "cell_type": "markdown",
   "metadata": {},
   "source": [
    "### ground elevation"
   ]
  },
  {
   "cell_type": "code",
   "execution_count": 5,
   "metadata": {},
   "outputs": [
    {
     "data": {
      "text/plain": [
       "{'max': 488,\n",
       " 'mean': 0.29496173469387754,\n",
       " 'min': 0,\n",
       " 'sample_sd': 10.152240823903936,\n",
       " 'sample_var': 103.06799374654167,\n",
       " 'sum': 925,\n",
       " 'sum_sq': 323391,\n",
       " 'total_count': 3136,\n",
       " 'total_sd': 10.15062203399906,\n",
       " 'total_var': 103.0351276771072,\n",
       " 'valid_count': 3136,\n",
       " 'weight_sum': 3136,\n",
       " 'weighted_sum': 925}"
      ]
     },
     "execution_count": 5,
     "metadata": {},
     "output_type": "execute_result"
    }
   ],
   "source": [
    "# Import the USGS ground elevation image.\n",
    "elv = ee.Image(\"USGS/SRTMGL1_003\")\n",
    "\n",
    "# elevation data\n",
    "elv.sample(polygon, scale).aggregate_stats(\"elevation\").getInfo()"
   ]
  },
  {
   "cell_type": "code",
   "execution_count": 6,
   "metadata": {},
   "outputs": [
    {
     "data": {
      "text/plain": [
       "{'elevation_p5': 0, 'elevation_p50': 0, 'elevation_p95': 0}"
      ]
     },
     "execution_count": 6,
     "metadata": {},
     "output_type": "execute_result"
    }
   ],
   "source": [
    "elv.reduceRegion(ee.Reducer.percentile([5, 50, 95]), polygon, scale).getInfo()"
   ]
  },
  {
   "cell_type": "markdown",
   "metadata": {},
   "source": [
    "### modis land surface temperature"
   ]
  },
  {
   "cell_type": "code",
   "execution_count": 7,
   "metadata": {},
   "outputs": [
    {
     "name": "stdout",
     "output_type": "stream",
     "text": [
      "LST_Day_1km 14455.84179004736\n",
      "LST_Night_1km 14215.800091424046\n"
     ]
    }
   ],
   "source": [
    "# Initial date of interest (inclusive).\n",
    "# Final date of interest (exclusive).\n",
    "i_date = \"2017-01-01\"\n",
    "f_date = \"2020-01-01\"\n",
    "\n",
    "# Import the MODIS land surface temperature collection.\n",
    "# temperature day and night, with quality control bands\n",
    "lst = (\n",
    "    ee.ImageCollection(\"MODIS/006/MOD11A1\")\n",
    "    .select(\"LST_Day_1km\", \"LST_Night_1km\", \"QC_Day\", \"QC_Night\")\n",
    "    .filterDate(i_date, f_date)\n",
    ")\n",
    "\n",
    "# LST collection (land surface temperature)\n",
    "for property in [\"LST_Day_1km\", \"LST_Night_1km\"]:\n",
    "    temp = lst.mean().sample(polygon, scale).aggregate_mean(property).getInfo()\n",
    "    print(property, temp)"
   ]
  },
  {
   "cell_type": "code",
   "execution_count": 8,
   "metadata": {},
   "outputs": [
    {
     "data": {
      "text/plain": [
       "{'LST_Day_1km_p5': 14394.446153846155,\n",
       " 'LST_Day_1km_p50': 14454.060240963856,\n",
       " 'LST_Day_1km_p95': 14519.018975332068,\n",
       " 'LST_Night_1km_p5': 14203.2578125,\n",
       " 'LST_Night_1km_p50': 14213.458515283843,\n",
       " 'LST_Night_1km_p95': 14235.069868995633,\n",
       " 'QC_Day_p5': 3,\n",
       " 'QC_Day_p50': 3,\n",
       " 'QC_Day_p95': 3,\n",
       " 'QC_Night_p5': 3,\n",
       " 'QC_Night_p50': 3,\n",
       " 'QC_Night_p95': 3}"
      ]
     },
     "execution_count": 8,
     "metadata": {},
     "output_type": "execute_result"
    }
   ],
   "source": [
    "# get percentiles\n",
    "lst.mean().reduceRegion(ee.Reducer.percentile([5, 50, 95]), polygon, scale).getInfo()"
   ]
  },
  {
   "cell_type": "markdown",
   "metadata": {},
   "source": [
    "### modis landcover"
   ]
  },
  {
   "cell_type": "code",
   "execution_count": 9,
   "metadata": {},
   "outputs": [
    {
     "data": {
      "text/plain": [
       "{'type': 'Feature',\n",
       " 'geometry': None,\n",
       " 'id': '0',\n",
       " 'properties': {'LC_Prop1': 3,\n",
       "  'LC_Prop1_Assessment': 99,\n",
       "  'LC_Prop2': 3,\n",
       "  'LC_Prop2_Assessment': 99,\n",
       "  'LC_Prop3': 3,\n",
       "  'LC_Prop3_Assessment': 99,\n",
       "  'LC_Type1': 17,\n",
       "  'LC_Type2': 0,\n",
       "  'LC_Type3': 0,\n",
       "  'LC_Type4': 0,\n",
       "  'LC_Type5': 0,\n",
       "  'LW': 1,\n",
       "  'QC': 2}}"
      ]
     },
     "execution_count": 9,
     "metadata": {},
     "output_type": "execute_result"
    }
   ],
   "source": [
    "# Import the MODIS land cover collection.\n",
    "lc = ee.ImageCollection(\"MODIS/006/MCD12Q1\")\n",
    "\n",
    "lc_point = lc.first().sample(polygon, scale).first().getInfo()\n",
    "lc_point"
   ]
  },
  {
   "cell_type": "code",
   "execution_count": 10,
   "metadata": {},
   "outputs": [
    {
     "data": {
      "text/plain": [
       "{'1': 1, '17': 2348}"
      ]
     },
     "execution_count": 10,
     "metadata": {},
     "output_type": "execute_result"
    }
   ],
   "source": [
    "lc.select(\"LC_Type1\").first().sample(polygon, scale).aggregate_histogram(\n",
    "    \"LC_Type1\"\n",
    ").getInfo()"
   ]
  },
  {
   "cell_type": "markdown",
   "metadata": {},
   "source": [
    "### population density"
   ]
  },
  {
   "cell_type": "code",
   "execution_count": 11,
   "metadata": {},
   "outputs": [
    {
     "data": {
      "text/plain": [
       "{'type': 'Image',\n",
       " 'bands': [{'id': 'unwpp-adjusted_population_density',\n",
       "   'data_type': {'type': 'PixelType', 'precision': 'float'},\n",
       "   'dimensions': [43200, 21600],\n",
       "   'crs': 'EPSG:4326',\n",
       "   'crs_transform': [0.00833333333333387,\n",
       "    0,\n",
       "    -180,\n",
       "    0,\n",
       "    -0.00833333333333387,\n",
       "    90.00000000001157]}],\n",
       " 'id': 'CIESIN/GPWv411/GPW_UNWPP-Adjusted_Population_Density/gpw_v4_population_density_adjusted_to_2015_unwpp_country_totals_rev11_2020_30_sec',\n",
       " 'version': 1564785062864242,\n",
       " 'properties': {'Max_Scale': 0,\n",
       "  'HasZ': 'false',\n",
       "  'Description': 'The GPWv4 UN WPP-Adjusted Population Density, v4.11_2020 map layer is part of the Gridded Population of the World, Version 4 (GPWv4): Population Density Adjusted to Match 2015 Revision of UN WPP (United Nations World Population Prospects) Country Totals, Revision 11 data set. It displays human population estimates represented by number of persons per square kilometer in each grid cell for the year 2020, derived by dividing the UN adjusted population count grids by land area grids. See more information at: https://doi.org/10.7927/H4F47M65.',\n",
       "  'Extent': 'XMin: -180 YMin: -90 XMax: 180.00000000002314 YMax: 90.00000000001157 Spatial Reference: 4326  (4326)',\n",
       "  'Copyright_Text': 'NASA SEDAC',\n",
       "  'Supports_Statistics': 'false',\n",
       "  'system:footprint': {'type': 'LinearRing',\n",
       "   'coordinates': [[-180, -90],\n",
       "    [180, -90],\n",
       "    [180, 90],\n",
       "    [-180, 90],\n",
       "    [-180, -90]]},\n",
       "  'system:title': 'GPWv4.11: UN-Adjusted Population Density - 2020',\n",
       "  'MaxRecordCount': 0,\n",
       "  'DOI': '10.7927/H4F47M65',\n",
       "  'Can_Modify_Layer': 'false',\n",
       "  'Has_Labels': 'false',\n",
       "  'Min_Scale': 0,\n",
       "  'system:time_end': 1609372800000,\n",
       "  'Supports_Advanced_Queries': 'false',\n",
       "  'Can_Scale_Symbols': 'false',\n",
       "  'Supported_Query_Formats': 'JSON, AMF, geoJSON',\n",
       "  'Advanced_Query_Capabilities': 'Supports Statistics: false; Supports OrderBy: false; Supports Distinct: false; Supports Pagination: false; Supports TrueCurve: false; Supports Returning Query Extent: true; Supports Query With Distance: true; Supports Sql Expression: false',\n",
       "  'system:time_start': 1577836800000,\n",
       "  'HasM': 'false',\n",
       "  'Type': 'Raster Layer',\n",
       "  'system:description': 'Service Description: Gridded Population of the World, Version 4 (GPWv4) Population Density Adjusted to Match 2015 UN WPP Country Totals, Revision 11 consists of estimates of human population density based on counts consistent with national censuses and population registers with respect to relative spatial distribution, but adjusted to match the 2015 Revision of UN World Population Prospects country totals for the years 2000, 2005, 2010, 2015, and 2020. A proportional allocation gridding algorithm, utilizing approximately 13.5 million national and sub-national administrative units, was used to assign population counts to 30 arc-second grid cells. The data files were produced as global rasters at 30 arc-second (~1 km at the equator) resolution. To enable faster global processing, and in support of research communities, the 30 arc-second data were aggregated to 2.5 arc-minute, 15 arc-minute, 30 arc-minute and 1 degree resolutions. ',\n",
       "  'Use_Standardized_Queries': 'true',\n",
       "  'system:asset_size': 230763987,\n",
       "  'system:index': 'gpw_v4_population_density_adjusted_to_2015_unwpp_country_totals_rev11_2020_30_sec'}}"
      ]
     },
     "execution_count": 11,
     "metadata": {},
     "output_type": "execute_result"
    }
   ],
   "source": [
    "gpw = ee.ImageCollection(\"CIESIN/GPWv411/GPW_UNWPP-Adjusted_Population_Density\")\n",
    "\n",
    "gpw.limit(1, \"system:time_start\", False).first().getInfo()"
   ]
  },
  {
   "cell_type": "code",
   "execution_count": 12,
   "metadata": {},
   "outputs": [
    {
     "data": {
      "text/plain": [
       "{'unwpp-adjusted_population_density': 2438.476318359375}"
      ]
     },
     "execution_count": 12,
     "metadata": {},
     "output_type": "execute_result"
    }
   ],
   "source": [
    "(\n",
    "    gpw.select(\"unwpp-adjusted_population_density\")\n",
    "    .limit(1, \"system:time_start\", False)\n",
    "    .first()\n",
    "    .reduceRegion(ee.Reducer.max(), polygons[40], scale)\n",
    "    .getInfo()\n",
    ")"
   ]
  },
  {
   "cell_type": "code",
   "execution_count": 13,
   "metadata": {},
   "outputs": [
    {
     "data": {
      "text/plain": [
       "{'unwpp-adjusted_population_density': 112557.76442598837}"
      ]
     },
     "execution_count": 13,
     "metadata": {},
     "output_type": "execute_result"
    }
   ],
   "source": [
    "(\n",
    "    gpw.select(\"unwpp-adjusted_population_density\")\n",
    "    .limit(1, \"system:time_start\", False)\n",
    "    .first()\n",
    "    .reduceRegion(ee.Reducer.sum(), polygons[40], scale)\n",
    "    .getInfo()\n",
    ")"
   ]
  },
  {
   "cell_type": "markdown",
   "metadata": {},
   "source": [
    "### alternative"
   ]
  },
  {
   "cell_type": "code",
   "execution_count": 14,
   "metadata": {},
   "outputs": [
    {
     "data": {
      "text/plain": [
       "{'population_density': 2511.423828125}"
      ]
     },
     "execution_count": 14,
     "metadata": {},
     "output_type": "execute_result"
    }
   ],
   "source": [
    "gpw = ee.ImageCollection(\"CIESIN/GPWv411/GPW_Population_Density\")\n",
    "(\n",
    "    gpw.select(\"population_density\")\n",
    "    .limit(1, \"system:time_start\", False)\n",
    "    .first()\n",
    "    .reduceRegion(ee.Reducer.max(), polygons[40], scale)\n",
    "    .getInfo()\n",
    ")"
   ]
  },
  {
   "cell_type": "code",
   "execution_count": 15,
   "metadata": {},
   "outputs": [
    {
     "data": {
      "text/plain": [
       "{'population_density': 115924.94831829822}"
      ]
     },
     "execution_count": 15,
     "metadata": {},
     "output_type": "execute_result"
    }
   ],
   "source": [
    "(\n",
    "    gpw.select(\"population_density\")\n",
    "    .limit(1, \"system:time_start\", False)\n",
    "    .first()\n",
    "    .reduceRegion(ee.Reducer.sum(), polygons[40], scale)\n",
    "    .getInfo()\n",
    ")"
   ]
  }
 ],
 "metadata": {
  "kernelspec": {
   "display_name": "Python 3.10.5 ('.venv': poetry)",
   "language": "python",
   "name": "python3"
  },
  "language_info": {
   "codemirror_mode": {
    "name": "ipython",
    "version": 3
   },
   "file_extension": ".py",
   "mimetype": "text/x-python",
   "name": "python",
   "nbconvert_exporter": "python",
   "pygments_lexer": "ipython3",
   "version": "3.10.5"
  },
  "orig_nbformat": 4,
  "vscode": {
   "interpreter": {
    "hash": "1e3f4cc7afa41f62524600cad2bf1c6f097926341060aea3d2038353a3356c41"
   }
  }
 },
 "nbformat": 4,
 "nbformat_minor": 2
}
