{
 "cells": [
  {
   "cell_type": "markdown",
   "metadata": {},
   "source": [
    "https://developers.google.com/earth-engine/tutorials/community/intro-to-python-api"
   ]
  },
  {
   "cell_type": "code",
   "execution_count": 1,
   "metadata": {},
   "outputs": [],
   "source": [
    "%load_ext autoreload\n",
    "%autoreload 2"
   ]
  },
  {
   "cell_type": "code",
   "execution_count": 3,
   "metadata": {},
   "outputs": [],
   "source": [
    "import ee\n",
    "\n",
    "ee.Initialize()"
   ]
  },
  {
   "cell_type": "code",
   "execution_count": 4,
   "metadata": {},
   "outputs": [],
   "source": [
    "from birdcall_distribution import geo\n",
    "import json\n",
    "from shapely.geometry import mapping\n",
    "\n",
    "ca_shape = geo.get_shape_us_state(\"California\")\n",
    "grid = geo.generate_grid(ca_shape, (-124, -114, 32, 42), (0.25, 0.25))"
   ]
  },
  {
   "cell_type": "code",
   "execution_count": 5,
   "metadata": {},
   "outputs": [],
   "source": [
    "# Import the MODIS land cover collection.\n",
    "lc = ee.ImageCollection(\"MODIS/006/MCD12Q1\")\n",
    "\n",
    "# Import the MODIS land surface temperature collection.\n",
    "lst = ee.ImageCollection(\"MODIS/006/MOD11A1\")\n",
    "\n",
    "# Import the USGS ground elevation image.\n",
    "elv = ee.Image(\"USGS/SRTMGL1_003\")\n",
    "\n",
    "# Initial date of interest (inclusive).\n",
    "# Final date of interest (exclusive).\n",
    "i_date = \"2017-01-01\"\n",
    "f_date = \"2020-01-01\"\n",
    "\n",
    "# temperature day and night, with quality control bands\n",
    "lst = lst.select(\"LST_Day_1km\", \"LST_Night_1km\", \"QC_Day\", \"QC_Night\").filterDate(\n",
    "    i_date, f_date\n",
    ")"
   ]
  },
  {
   "cell_type": "markdown",
   "metadata": {},
   "source": [
    "## get stats for a single polygon"
   ]
  },
  {
   "cell_type": "code",
   "execution_count": 20,
   "metadata": {},
   "outputs": [],
   "source": [
    "polygons = [ee.Geometry.Polygon(mapping(p)[\"coordinates\"]) for p in grid.values()]\n",
    "polygon = polygons[0]"
   ]
  },
  {
   "cell_type": "code",
   "execution_count": 21,
   "metadata": {},
   "outputs": [
    {
     "data": {
      "text/plain": [
       "{'max': 122,\n",
       " 'mean': 1.6581632653061225,\n",
       " 'min': 0,\n",
       " 'sample_sd': 11.88140565983313,\n",
       " 'sample_var': 141.16780045351473,\n",
       " 'sum': 1300,\n",
       " 'sum_sq': 112690,\n",
       " 'total_count': 784,\n",
       " 'total_sd': 11.873825814940545,\n",
       " 'total_var': 140.98773948354852,\n",
       " 'valid_count': 784,\n",
       " 'weight_sum': 784,\n",
       " 'weighted_sum': 1300}"
      ]
     },
     "execution_count": 21,
     "metadata": {},
     "output_type": "execute_result"
    }
   ],
   "source": [
    "# scale in meters\n",
    "scale = 1000\n",
    "\n",
    "# elevation data\n",
    "elv.sample(polygon, scale).aggregate_stats(\"elevation\").getInfo()"
   ]
  },
  {
   "cell_type": "code",
   "execution_count": 34,
   "metadata": {},
   "outputs": [
    {
     "data": {
      "text/plain": [
       "{'elevation_p5': 0, 'elevation_p50': 0, 'elevation_p95': 0}"
      ]
     },
     "execution_count": 34,
     "metadata": {},
     "output_type": "execute_result"
    }
   ],
   "source": [
    "elv.reduceRegion(ee.Reducer.percentile([5, 50, 95]), polygon, scale).getInfo()"
   ]
  },
  {
   "cell_type": "code",
   "execution_count": 23,
   "metadata": {},
   "outputs": [
    {
     "name": "stdout",
     "output_type": "stream",
     "text": [
      "LST_Day_1km 14386.504953502432\n",
      "LST_Night_1km 14071.905977195267\n"
     ]
    }
   ],
   "source": [
    "# LST collection (land surface temperature)\n",
    "for property in [\"LST_Day_1km\", \"LST_Night_1km\"]:\n",
    "    temp = lst.mean().sample(polygon, scale).aggregate_mean(property).getInfo()\n",
    "    print(property, temp)"
   ]
  },
  {
   "cell_type": "code",
   "execution_count": 33,
   "metadata": {},
   "outputs": [
    {
     "data": {
      "text/plain": [
       "{'LST_Day_1km_p5': 14303.942307692309,\n",
       " 'LST_Day_1km_p50': 14377.311504424779,\n",
       " 'LST_Day_1km_p95': 14464.238185255199,\n",
       " 'LST_Night_1km_p5': 14040.665254237289,\n",
       " 'LST_Night_1km_p50': 14072.679207920792,\n",
       " 'LST_Night_1km_p95': 14104.058219178081,\n",
       " 'QC_Day_p5': 3,\n",
       " 'QC_Day_p50': 3,\n",
       " 'QC_Day_p95': 3,\n",
       " 'QC_Night_p5': 3,\n",
       " 'QC_Night_p50': 3,\n",
       " 'QC_Night_p95': 3}"
      ]
     },
     "execution_count": 33,
     "metadata": {},
     "output_type": "execute_result"
    }
   ],
   "source": [
    "# get percentiles\n",
    "lst.mean().reduceRegion(ee.Reducer.percentile([5, 50, 95]), polygon, scale).getInfo()"
   ]
  },
  {
   "cell_type": "code",
   "execution_count": 9,
   "metadata": {},
   "outputs": [
    {
     "data": {
      "text/plain": [
       "{'type': 'Feature',\n",
       " 'geometry': None,\n",
       " 'id': '0',\n",
       " 'properties': {'LC_Prop1': 3,\n",
       "  'LC_Prop1_Assessment': 99,\n",
       "  'LC_Prop2': 3,\n",
       "  'LC_Prop2_Assessment': 99,\n",
       "  'LC_Prop3': 3,\n",
       "  'LC_Prop3_Assessment': 99,\n",
       "  'LC_Type1': 17,\n",
       "  'LC_Type2': 0,\n",
       "  'LC_Type3': 0,\n",
       "  'LC_Type4': 0,\n",
       "  'LC_Type5': 0,\n",
       "  'LW': 1,\n",
       "  'QC': 3}}"
      ]
     },
     "execution_count": 9,
     "metadata": {},
     "output_type": "execute_result"
    }
   ],
   "source": [
    "lc_point = lc.first().sample(polygon, scale).first().getInfo()\n",
    "lc_point"
   ]
  },
  {
   "cell_type": "code",
   "execution_count": 10,
   "metadata": {},
   "outputs": [
    {
     "data": {
      "text/plain": [
       "{'1': 7, '11': 2, '17': 591, '2': 3, '5': 1, '7': 1}"
      ]
     },
     "execution_count": 10,
     "metadata": {},
     "output_type": "execute_result"
    }
   ],
   "source": [
    "lc.select(\"LC_Type1\").first().sample(polygon, scale).aggregate_histogram(\n",
    "    \"LC_Type1\"\n",
    ").getInfo()"
   ]
  }
 ],
 "metadata": {
  "kernelspec": {
   "display_name": "Python 3.10.8 ('.venv': poetry)",
   "language": "python",
   "name": "python3"
  },
  "language_info": {
   "codemirror_mode": {
    "name": "ipython",
    "version": 3
   },
   "file_extension": ".py",
   "mimetype": "text/x-python",
   "name": "python",
   "nbconvert_exporter": "python",
   "pygments_lexer": "ipython3",
   "version": "3.10.8"
  },
  "orig_nbformat": 4,
  "vscode": {
   "interpreter": {
    "hash": "220f1f163d31a38f44399eaf47123a41a478afed8c2949cd6a3fed49215ef8de"
   }
  }
 },
 "nbformat": 4,
 "nbformat_minor": 2
}
