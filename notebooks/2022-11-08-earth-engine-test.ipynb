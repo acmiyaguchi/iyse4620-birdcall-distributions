{
 "cells": [
  {
   "cell_type": "markdown",
   "metadata": {},
   "source": [
    "https://developers.google.com/earth-engine/tutorials/community/intro-to-python-api"
   ]
  },
  {
   "cell_type": "code",
   "execution_count": 1,
   "metadata": {},
   "outputs": [],
   "source": [
    "%load_ext autoreload\n",
    "%autoreload 2"
   ]
  },
  {
   "cell_type": "code",
   "execution_count": 2,
   "metadata": {},
   "outputs": [
    {
     "data": {
      "text/html": [
       "<p>To authorize access needed by Earth Engine, open the following\n",
       "        URL in a web browser and follow the instructions:</p>\n",
       "        <p><a href=https://code.earthengine.google.com/client-auth?scopes=https%3A//www.googleapis.com/auth/earthengine%20https%3A//www.googleapis.com/auth/devstorage.full_control&request_id=L7gSo6aKcmala8ZAzA5FvP-7wpiBfQ1V470n4svg5AI&tc=BoVYo-GnQrENI3di7rAFG5ZQEKF6-uhEXWv4ktxam2M&cc=iEAIEptkiHZz9D2e9jWgqdI4oztEkDJ22cvgmq3G9sc>https://code.earthengine.google.com/client-auth?scopes=https%3A//www.googleapis.com/auth/earthengine%20https%3A//www.googleapis.com/auth/devstorage.full_control&request_id=L7gSo6aKcmala8ZAzA5FvP-7wpiBfQ1V470n4svg5AI&tc=BoVYo-GnQrENI3di7rAFG5ZQEKF6-uhEXWv4ktxam2M&cc=iEAIEptkiHZz9D2e9jWgqdI4oztEkDJ22cvgmq3G9sc</a></p>\n",
       "        <p>The authorization workflow will generate a code, which you should paste in the box below.</p>\n",
       "        "
      ],
      "text/plain": [
       "<IPython.core.display.HTML object>"
      ]
     },
     "metadata": {},
     "output_type": "display_data"
    },
    {
     "name": "stdout",
     "output_type": "stream",
     "text": [
      "\n",
      "Successfully saved authorization token.\n"
     ]
    }
   ],
   "source": [
    "import ee\n",
    "\n",
    "ee.Authenticate()\n",
    "ee.Initialize()"
   ]
  },
  {
   "cell_type": "code",
   "execution_count": 64,
   "metadata": {},
   "outputs": [],
   "source": [
    "from birdcall_distribution import geo\n",
    "import json\n",
    "from shapely.geometry import mapping\n",
    "\n",
    "ca_shape = geo.get_shape_us_state(\"California\")\n",
    "grid = geo.generate_grid(ca_shape, (-124, -114, 32, 42), (0.25, 0.25))"
   ]
  },
  {
   "cell_type": "code",
   "execution_count": 65,
   "metadata": {},
   "outputs": [],
   "source": [
    "# Import the MODIS land cover collection.\n",
    "lc = ee.ImageCollection(\"MODIS/006/MCD12Q1\")\n",
    "\n",
    "# Import the MODIS land surface temperature collection.\n",
    "lst = ee.ImageCollection(\"MODIS/006/MOD11A1\")\n",
    "\n",
    "# Import the USGS ground elevation image.\n",
    "elv = ee.Image(\"USGS/SRTMGL1_003\")\n",
    "\n",
    "# Initial date of interest (inclusive).\n",
    "# Final date of interest (exclusive).\n",
    "i_date = \"2017-01-01\"\n",
    "f_date = \"2020-01-01\"\n",
    "\n",
    "# temperature day and night, with quality control bands\n",
    "lst = lst.select(\"LST_Day_1km\", \"LST_Night_1km\", \"QC_Day\", \"QC_Night\").filterDate(\n",
    "    i_date, f_date\n",
    ")"
   ]
  },
  {
   "cell_type": "markdown",
   "metadata": {},
   "source": [
    "## get stats for a single polygon"
   ]
  },
  {
   "cell_type": "code",
   "execution_count": 83,
   "metadata": {},
   "outputs": [],
   "source": [
    "polygons = [ee.Geometry.Polygon(mapping(p)[\"coordinates\"]) for p in grid.values()]\n",
    "polygon = polygons[0]"
   ]
  },
  {
   "cell_type": "code",
   "execution_count": 90,
   "metadata": {},
   "outputs": [
    {
     "data": {
      "text/plain": [
       "{'max': 122,\n",
       " 'mean': 1.6581632653061225,\n",
       " 'min': 0,\n",
       " 'sample_sd': 11.88140565983313,\n",
       " 'sample_var': 141.16780045351473,\n",
       " 'sum': 1300,\n",
       " 'sum_sq': 112690,\n",
       " 'total_count': 784,\n",
       " 'total_sd': 11.873825814940545,\n",
       " 'total_var': 140.98773948354852,\n",
       " 'valid_count': 784,\n",
       " 'weight_sum': 784,\n",
       " 'weighted_sum': 1300}"
      ]
     },
     "execution_count": 90,
     "metadata": {},
     "output_type": "execute_result"
    }
   ],
   "source": [
    "# scale in meters\n",
    "scale = 1000\n",
    "\n",
    "# elevation data\n",
    "elv.sample(polygon, scale).aggregate_stats(\"elevation\").getInfo()"
   ]
  },
  {
   "cell_type": "code",
   "execution_count": 99,
   "metadata": {},
   "outputs": [
    {
     "name": "stdout",
     "output_type": "stream",
     "text": [
      "LST_Day_1km 14386.504953502432\n",
      "LST_Night_1km 14071.905977195267\n"
     ]
    }
   ],
   "source": [
    "# LST collection (land surface temperature)\n",
    "for property in [\"LST_Day_1km\", \"LST_Night_1km\"]:\n",
    "    temp = lst.mean().sample(polygon, scale).aggregate_mean(property).getInfo()\n",
    "    print(property, temp)"
   ]
  },
  {
   "cell_type": "code",
   "execution_count": 69,
   "metadata": {},
   "outputs": [
    {
     "data": {
      "text/plain": [
       "{'type': 'Feature',\n",
       " 'geometry': None,\n",
       " 'id': '0',\n",
       " 'properties': {'LC_Prop1': 43,\n",
       "  'LC_Prop1_Assessment': 93,\n",
       "  'LC_Prop2': 40,\n",
       "  'LC_Prop2_Assessment': 93,\n",
       "  'LC_Prop3': 40,\n",
       "  'LC_Prop3_Assessment': 93,\n",
       "  'LC_Type1': 7,\n",
       "  'LC_Type2': 7,\n",
       "  'LC_Type3': 2,\n",
       "  'LC_Type4': 1,\n",
       "  'LC_Type5': 5,\n",
       "  'LW': 2,\n",
       "  'QC': 0}}"
      ]
     },
     "execution_count": 69,
     "metadata": {},
     "output_type": "execute_result"
    }
   ],
   "source": [
    "lc_point = lc.first().sample(polygon, scale).first().getInfo()\n",
    "lc_point"
   ]
  },
  {
   "cell_type": "code",
   "execution_count": 100,
   "metadata": {},
   "outputs": [
    {
     "data": {
      "text/plain": [
       "{'1': 7, '11': 2, '17': 591, '2': 3, '5': 1, '7': 1}"
      ]
     },
     "execution_count": 100,
     "metadata": {},
     "output_type": "execute_result"
    }
   ],
   "source": [
    "lc.select(\"LC_Type1\").first().sample(polygon, scale).aggregate_histogram(\n",
    "    \"LC_Type1\"\n",
    ").getInfo()"
   ]
  }
 ],
 "metadata": {
  "kernelspec": {
   "display_name": "Python 3.10.8 ('.venv': poetry)",
   "language": "python",
   "name": "python3"
  },
  "language_info": {
   "codemirror_mode": {
    "name": "ipython",
    "version": 3
   },
   "file_extension": ".py",
   "mimetype": "text/x-python",
   "name": "python",
   "nbconvert_exporter": "python",
   "pygments_lexer": "ipython3",
   "version": "3.10.8"
  },
  "orig_nbformat": 4,
  "vscode": {
   "interpreter": {
    "hash": "220f1f163d31a38f44399eaf47123a41a478afed8c2949cd6a3fed49215ef8de"
   }
  }
 },
 "nbformat": 4,
 "nbformat_minor": 2
}
